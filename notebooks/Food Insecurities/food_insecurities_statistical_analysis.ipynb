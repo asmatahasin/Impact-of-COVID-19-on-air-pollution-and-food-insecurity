{
 "cells": [
  {
   "cell_type": "code",
   "execution_count": 1,
   "metadata": {
    "id": "rRNSzymN7JZz"
   },
   "outputs": [],
   "source": [
    "import pandas as pd\n",
    "import numpy as np\n",
    "import matplotlib.pyplot as plt\n",
    "from scipy import stats\n",
    "#importing necessary libraries\n",
    "import scipy.stats as stats\n",
    "import pylab"
   ]
  },
  {
   "cell_type": "code",
   "execution_count": 3,
   "metadata": {
    "colab": {
     "base_uri": "https://localhost:8080/"
    },
    "id": "vZsKcuKT7TfI",
    "outputId": "1db2f59a-6fab-4bd3-ccd7-5edd7b2e15f3"
   },
   "outputs": [
    {
     "name": "stderr",
     "output_type": "stream",
     "text": [
      "/tmp/ipykernel_915514/3826051243.py:1: DtypeWarning: Columns (9,13,15,20,21,22,23) have mixed types. Specify dtype option on import or set low_memory=False.\n",
      "  food_covid_df=pd.read_csv('food_covid_cleaned.csv')\n"
     ]
    }
   ],
   "source": [
    "food_covid_df=pd.read_csv('food_covid_cleaned.csv')"
   ]
  },
  {
   "cell_type": "code",
   "execution_count": 8,
   "metadata": {
    "colab": {
     "base_uri": "https://localhost:8080/",
     "height": 490
    },
    "id": "JMvjyiUy7cPg",
    "outputId": "17311e69-a264-4cf0-f79c-f2570c1d652a"
   },
   "outputs": [
    {
     "data": {
      "text/html": [
       "<div>\n",
       "<style scoped>\n",
       "    .dataframe tbody tr th:only-of-type {\n",
       "        vertical-align: middle;\n",
       "    }\n",
       "\n",
       "    .dataframe tbody tr th {\n",
       "        vertical-align: top;\n",
       "    }\n",
       "\n",
       "    .dataframe thead th {\n",
       "        text-align: right;\n",
       "    }\n",
       "</style>\n",
       "<table border=\"1\" class=\"dataframe\">\n",
       "  <thead>\n",
       "    <tr style=\"text-align: right;\">\n",
       "      <th></th>\n",
       "      <th>Enough of the kinds of food wanted</th>\n",
       "      <th>Enough Food, but not always the kinds wanted</th>\n",
       "      <th>Sometimes not enough to eat</th>\n",
       "      <th>Often not enough to eat</th>\n",
       "      <th>Age</th>\n",
       "      <th>Sex_At_Birth</th>\n",
       "      <th>Race</th>\n",
       "      <th>Education</th>\n",
       "      <th>Marital_Status</th>\n",
       "      <th>Children_Present</th>\n",
       "      <th>...</th>\n",
       "      <th>Active_Duty</th>\n",
       "      <th>House_Receives_SNAP</th>\n",
       "      <th>Used_To_Meet_Needs</th>\n",
       "      <th>Provider_Of_Free_Groceries</th>\n",
       "      <th>Freq_Feel_Depressed</th>\n",
       "      <th>Freq_Feel_Anxious</th>\n",
       "      <th>Year</th>\n",
       "      <th>week_name</th>\n",
       "      <th>Week</th>\n",
       "      <th>New Covid Cases</th>\n",
       "    </tr>\n",
       "  </thead>\n",
       "  <tbody>\n",
       "    <tr>\n",
       "      <th>0</th>\n",
       "      <td>121151.0</td>\n",
       "      <td>88797.0</td>\n",
       "      <td>2389.0</td>\n",
       "      <td>0.0</td>\n",
       "      <td>18 - 24</td>\n",
       "      <td>NaN</td>\n",
       "      <td>NaN</td>\n",
       "      <td>NaN</td>\n",
       "      <td>NaN</td>\n",
       "      <td>NaN</td>\n",
       "      <td>...</td>\n",
       "      <td>NaN</td>\n",
       "      <td>NaN</td>\n",
       "      <td>NaN</td>\n",
       "      <td>NaN</td>\n",
       "      <td>NaN</td>\n",
       "      <td>NaN</td>\n",
       "      <td>2020</td>\n",
       "      <td>April 23 - May 5</td>\n",
       "      <td>week1</td>\n",
       "      <td>22694.0</td>\n",
       "    </tr>\n",
       "    <tr>\n",
       "      <th>1</th>\n",
       "      <td>493462.0</td>\n",
       "      <td>413244.0</td>\n",
       "      <td>164615.0</td>\n",
       "      <td>46441.0</td>\n",
       "      <td>25 - 39</td>\n",
       "      <td>NaN</td>\n",
       "      <td>NaN</td>\n",
       "      <td>NaN</td>\n",
       "      <td>NaN</td>\n",
       "      <td>NaN</td>\n",
       "      <td>...</td>\n",
       "      <td>NaN</td>\n",
       "      <td>NaN</td>\n",
       "      <td>NaN</td>\n",
       "      <td>NaN</td>\n",
       "      <td>NaN</td>\n",
       "      <td>NaN</td>\n",
       "      <td>2020</td>\n",
       "      <td>April 23 - May 5</td>\n",
       "      <td>week1</td>\n",
       "      <td>22694.0</td>\n",
       "    </tr>\n",
       "    <tr>\n",
       "      <th>2</th>\n",
       "      <td>501828.0</td>\n",
       "      <td>282464.0</td>\n",
       "      <td>93254.0</td>\n",
       "      <td>36167.0</td>\n",
       "      <td>40 - 54</td>\n",
       "      <td>NaN</td>\n",
       "      <td>NaN</td>\n",
       "      <td>NaN</td>\n",
       "      <td>NaN</td>\n",
       "      <td>NaN</td>\n",
       "      <td>...</td>\n",
       "      <td>NaN</td>\n",
       "      <td>NaN</td>\n",
       "      <td>NaN</td>\n",
       "      <td>NaN</td>\n",
       "      <td>NaN</td>\n",
       "      <td>NaN</td>\n",
       "      <td>2020</td>\n",
       "      <td>April 23 - May 5</td>\n",
       "      <td>week1</td>\n",
       "      <td>22694.0</td>\n",
       "    </tr>\n",
       "    <tr>\n",
       "      <th>3</th>\n",
       "      <td>484964.0</td>\n",
       "      <td>179435.0</td>\n",
       "      <td>36182.0</td>\n",
       "      <td>2111.0</td>\n",
       "      <td>55 - 64</td>\n",
       "      <td>NaN</td>\n",
       "      <td>NaN</td>\n",
       "      <td>NaN</td>\n",
       "      <td>NaN</td>\n",
       "      <td>NaN</td>\n",
       "      <td>...</td>\n",
       "      <td>NaN</td>\n",
       "      <td>NaN</td>\n",
       "      <td>NaN</td>\n",
       "      <td>NaN</td>\n",
       "      <td>NaN</td>\n",
       "      <td>NaN</td>\n",
       "      <td>2020</td>\n",
       "      <td>April 23 - May 5</td>\n",
       "      <td>week1</td>\n",
       "      <td>22694.0</td>\n",
       "    </tr>\n",
       "    <tr>\n",
       "      <th>4</th>\n",
       "      <td>544074.0</td>\n",
       "      <td>190534.0</td>\n",
       "      <td>2312.0</td>\n",
       "      <td>0.0</td>\n",
       "      <td>65 and above</td>\n",
       "      <td>NaN</td>\n",
       "      <td>NaN</td>\n",
       "      <td>NaN</td>\n",
       "      <td>NaN</td>\n",
       "      <td>NaN</td>\n",
       "      <td>...</td>\n",
       "      <td>NaN</td>\n",
       "      <td>NaN</td>\n",
       "      <td>NaN</td>\n",
       "      <td>NaN</td>\n",
       "      <td>NaN</td>\n",
       "      <td>NaN</td>\n",
       "      <td>2020</td>\n",
       "      <td>April 23 - May 5</td>\n",
       "      <td>week1</td>\n",
       "      <td>22694.0</td>\n",
       "    </tr>\n",
       "  </tbody>\n",
       "</table>\n",
       "<p>5 rows × 30 columns</p>\n",
       "</div>"
      ],
      "text/plain": [
       "   Enough of the kinds of food wanted  \\\n",
       "0                            121151.0   \n",
       "1                            493462.0   \n",
       "2                            501828.0   \n",
       "3                            484964.0   \n",
       "4                            544074.0   \n",
       "\n",
       "   Enough Food, but not always the kinds wanted  Sometimes not enough to eat  \\\n",
       "0                                       88797.0                       2389.0   \n",
       "1                                      413244.0                     164615.0   \n",
       "2                                      282464.0                      93254.0   \n",
       "3                                      179435.0                      36182.0   \n",
       "4                                      190534.0                       2312.0   \n",
       "\n",
       "   Often not enough to eat           Age Sex_At_Birth Race Education  \\\n",
       "0                      0.0       18 - 24          NaN  NaN       NaN   \n",
       "1                  46441.0       25 - 39          NaN  NaN       NaN   \n",
       "2                  36167.0       40 - 54          NaN  NaN       NaN   \n",
       "3                   2111.0       55 - 64          NaN  NaN       NaN   \n",
       "4                      0.0  65 and above          NaN  NaN       NaN   \n",
       "\n",
       "  Marital_Status Children_Present  ... Active_Duty House_Receives_SNAP  \\\n",
       "0            NaN              NaN  ...         NaN                 NaN   \n",
       "1            NaN              NaN  ...         NaN                 NaN   \n",
       "2            NaN              NaN  ...         NaN                 NaN   \n",
       "3            NaN              NaN  ...         NaN                 NaN   \n",
       "4            NaN              NaN  ...         NaN                 NaN   \n",
       "\n",
       "  Used_To_Meet_Needs Provider_Of_Free_Groceries Freq_Feel_Depressed  \\\n",
       "0                NaN                        NaN                 NaN   \n",
       "1                NaN                        NaN                 NaN   \n",
       "2                NaN                        NaN                 NaN   \n",
       "3                NaN                        NaN                 NaN   \n",
       "4                NaN                        NaN                 NaN   \n",
       "\n",
       "  Freq_Feel_Anxious  Year         week_name   Week New Covid Cases  \n",
       "0               NaN  2020  April 23 - May 5  week1         22694.0  \n",
       "1               NaN  2020  April 23 - May 5  week1         22694.0  \n",
       "2               NaN  2020  April 23 - May 5  week1         22694.0  \n",
       "3               NaN  2020  April 23 - May 5  week1         22694.0  \n",
       "4               NaN  2020  April 23 - May 5  week1         22694.0  \n",
       "\n",
       "[5 rows x 30 columns]"
      ]
     },
     "execution_count": 8,
     "metadata": {},
     "output_type": "execute_result"
    }
   ],
   "source": [
    "food_covid_df.head()"
   ]
  },
  {
   "cell_type": "code",
   "execution_count": 11,
   "metadata": {
    "colab": {
     "base_uri": "https://localhost:8080/"
    },
    "id": "atasg2av8Ayg",
    "outputId": "81ec7799-eeca-4834-8d34-490a3f65753b"
   },
   "outputs": [
    {
     "data": {
      "text/plain": [
       "Index(['Enough of the kinds of food wanted',\n",
       "       'Enough Food, but not always the kinds wanted',\n",
       "       'Sometimes not enough to eat', 'Often not enough to eat', 'Age',\n",
       "       'Sex_At_Birth', 'Race', 'Education', 'Marital_Status',\n",
       "       'Children_Present', 'Unemployed_Last_4', 'Employed_Last_7',\n",
       "       'Reason_Not_Working', 'Receiving_Pay_No_Work', 'Income',\n",
       "       'Health_Status', 'Covered_By_Insurance', 'Caught_Up_On_Mortgage',\n",
       "       'Location', 'Household_Size', 'Active_Duty', 'House_Receives_SNAP',\n",
       "       'Used_To_Meet_Needs', 'Provider_Of_Free_Groceries',\n",
       "       'Freq_Feel_Depressed', 'Freq_Feel_Anxious', 'Year', 'week_name', 'Week',\n",
       "       'New Covid Cases'],\n",
       "      dtype='object')"
      ]
     },
     "execution_count": 11,
     "metadata": {},
     "output_type": "execute_result"
    }
   ],
   "source": [
    "food_covid_df.columns"
   ]
  },
  {
   "cell_type": "code",
   "execution_count": 12,
   "metadata": {
    "colab": {
     "base_uri": "https://localhost:8080/"
    },
    "id": "mGC0GmM5-CqI",
    "outputId": "334ae10c-6493-4702-b721-b35cc9bf9d7a"
   },
   "outputs": [
    {
     "data": {
      "text/plain": [
       "array(['Alabama', 'Alaska', 'Arizona', 'Arkansas', 'California',\n",
       "       'Colorado', 'Connecticut', 'Delaware', 'District of Columbia',\n",
       "       'Florida', 'Georgia', 'Hawaii', 'Idaho', 'Illinois', 'Indiana',\n",
       "       'Iowa', 'Kansas', 'Kentucky', 'Louisiana', 'Maine', 'Maryland',\n",
       "       'Massachusetts', 'Michigan', 'Minnesota', 'Mississippi',\n",
       "       'Missouri', 'Montana', 'Nebraska', 'Nevada', 'New Hampshire',\n",
       "       'New Jersey', 'New Mexico', 'New York', 'North Carolina',\n",
       "       'North Dakota', 'Ohio', 'Oklahoma', 'Oregon', 'Pennsylvania',\n",
       "       'Rhode Island', 'South Carolina', 'South Dakota', 'Tennessee',\n",
       "       'Texas', 'Utah', 'Vermont', 'Virginia', 'Washington',\n",
       "       'West Virginia', 'Wisconsin', 'Wyoming'], dtype=object)"
      ]
     },
     "execution_count": 12,
     "metadata": {},
     "output_type": "execute_result"
    }
   ],
   "source": [
    "food_covid_df['Location'].unique()"
   ]
  },
  {
   "cell_type": "code",
   "execution_count": 13,
   "metadata": {
    "colab": {
     "base_uri": "https://localhost:8080/"
    },
    "id": "78Oc6Ma7Btpw",
    "outputId": "9e49dda5-2ae8-45d2-ffdc-a4ec2855d488"
   },
   "outputs": [
    {
     "data": {
      "text/plain": [
       "Enough of the kinds of food wanted                   0\n",
       "Enough Food, but not always the kinds wanted         0\n",
       "Sometimes not enough to eat                          0\n",
       "Often not enough to eat                              0\n",
       "Age                                             169513\n",
       "Sex_At_Birth                                    175087\n",
       "Race                                            172319\n",
       "Education                                       173245\n",
       "Marital_Status                                  172323\n",
       "Children_Present                                175497\n",
       "Unemployed_Last_4                               174167\n",
       "Employed_Last_7                                 174167\n",
       "Reason_Not_Working                              156889\n",
       "Receiving_Pay_No_Work                           172853\n",
       "Income                                          168635\n",
       "Health_Status                                   172037\n",
       "Covered_By_Insurance                            173249\n",
       "Caught_Up_On_Mortgage                           172633\n",
       "Location                                             0\n",
       "Household_Size                                  170479\n",
       "Active_Duty                                     176297\n",
       "House_Receives_SNAP                             175085\n",
       "Used_To_Meet_Needs                              171589\n",
       "Provider_Of_Free_Groceries                      165917\n",
       "Freq_Feel_Depressed                             172323\n",
       "Freq_Feel_Anxious                               171048\n",
       "Year                                                 0\n",
       "week_name                                            0\n",
       "Week                                                 0\n",
       "New Covid Cases                                      0\n",
       "dtype: int64"
      ]
     },
     "execution_count": 13,
     "metadata": {},
     "output_type": "execute_result"
    }
   ],
   "source": [
    "food_covid_df.isna().sum()"
   ]
  },
  {
   "cell_type": "code",
   "execution_count": 14,
   "metadata": {
    "colab": {
     "base_uri": "https://localhost:8080/"
    },
    "id": "rbohrk4efDfd",
    "outputId": "e4545e07-28a3-449b-8fa2-95cf3a28f3fb"
   },
   "outputs": [
    {
     "data": {
      "text/plain": [
       "2020    127830\n",
       "2021     49103\n",
       "Name: Year, dtype: int64"
      ]
     },
     "execution_count": 14,
     "metadata": {},
     "output_type": "execute_result"
    }
   ],
   "source": [
    "food_covid_df['Year'].value_counts()"
   ]
  },
  {
   "cell_type": "code",
   "execution_count": 15,
   "metadata": {
    "colab": {
     "base_uri": "https://localhost:8080/"
    },
    "id": "OaStD_0CCFVU",
    "outputId": "98e33aaa-2a92-4ffc-8eac-008a07f0dc15"
   },
   "outputs": [
    {
     "name": "stdout",
     "output_type": "stream",
     "text": [
      "<class 'pandas.core.frame.DataFrame'>\n",
      "RangeIndex: 176933 entries, 0 to 176932\n",
      "Data columns (total 30 columns):\n",
      " #   Column                                        Non-Null Count   Dtype  \n",
      "---  ------                                        --------------   -----  \n",
      " 0   Enough of the kinds of food wanted            176933 non-null  float64\n",
      " 1   Enough Food, but not always the kinds wanted  176933 non-null  float64\n",
      " 2   Sometimes not enough to eat                   176933 non-null  float64\n",
      " 3   Often not enough to eat                       176933 non-null  float64\n",
      " 4   Age                                           7420 non-null    object \n",
      " 5   Sex_At_Birth                                  1846 non-null    object \n",
      " 6   Race                                          4614 non-null    object \n",
      " 7   Education                                     3688 non-null    object \n",
      " 8   Marital_Status                                4610 non-null    object \n",
      " 9   Children_Present                              1436 non-null    object \n",
      " 10  Unemployed_Last_4                             2766 non-null    object \n",
      " 11  Employed_Last_7                               2766 non-null    object \n",
      " 12  Reason_Not_Working                            20044 non-null   object \n",
      " 13  Receiving_Pay_No_Work                         4080 non-null    object \n",
      " 14  Income                                        8298 non-null    object \n",
      " 15  Health_Status                                 4896 non-null    object \n",
      " 16  Covered_By_Insurance                          3684 non-null    object \n",
      " 17  Caught_Up_On_Mortgage                         4300 non-null    object \n",
      " 18  Location                                      176933 non-null  object \n",
      " 19  Household_Size                                6454 non-null    object \n",
      " 20  Active_Duty                                   636 non-null     object \n",
      " 21  House_Receives_SNAP                           1848 non-null    object \n",
      " 22  Used_To_Meet_Needs                            5344 non-null    object \n",
      " 23  Provider_Of_Free_Groceries                    11016 non-null   object \n",
      " 24  Freq_Feel_Depressed                           4610 non-null    object \n",
      " 25  Freq_Feel_Anxious                             5885 non-null    object \n",
      " 26  Year                                          176933 non-null  int64  \n",
      " 27  week_name                                     176933 non-null  object \n",
      " 28  Week                                          176933 non-null  object \n",
      " 29  New Covid Cases                               176933 non-null  float64\n",
      "dtypes: float64(5), int64(1), object(24)\n",
      "memory usage: 40.5+ MB\n"
     ]
    }
   ],
   "source": [
    "food_covid_df.info()"
   ]
  },
  {
   "cell_type": "code",
   "execution_count": 22,
   "metadata": {},
   "outputs": [
    {
     "data": {
      "text/html": [
       "<div>\n",
       "<style scoped>\n",
       "    .dataframe tbody tr th:only-of-type {\n",
       "        vertical-align: middle;\n",
       "    }\n",
       "\n",
       "    .dataframe tbody tr th {\n",
       "        vertical-align: top;\n",
       "    }\n",
       "\n",
       "    .dataframe thead th {\n",
       "        text-align: right;\n",
       "    }\n",
       "</style>\n",
       "<table border=\"1\" class=\"dataframe\">\n",
       "  <thead>\n",
       "    <tr style=\"text-align: right;\">\n",
       "      <th></th>\n",
       "      <th>Enough of the kinds of food wanted</th>\n",
       "      <th>Enough Food, but not always the kinds wanted</th>\n",
       "      <th>Sometimes not enough to eat</th>\n",
       "      <th>Often not enough to eat</th>\n",
       "      <th>Year</th>\n",
       "      <th>New Covid Cases</th>\n",
       "    </tr>\n",
       "  </thead>\n",
       "  <tbody>\n",
       "    <tr>\n",
       "      <th>count</th>\n",
       "      <td>1.769330e+05</td>\n",
       "      <td>1.769330e+05</td>\n",
       "      <td>1.769330e+05</td>\n",
       "      <td>176933.000000</td>\n",
       "      <td>176933.000000</td>\n",
       "      <td>176933.000000</td>\n",
       "    </tr>\n",
       "    <tr>\n",
       "      <th>mean</th>\n",
       "      <td>5.209172e+05</td>\n",
       "      <td>2.591335e+05</td>\n",
       "      <td>7.485346e+04</td>\n",
       "      <td>19713.762206</td>\n",
       "      <td>2020.277523</td>\n",
       "      <td>17180.913425</td>\n",
       "    </tr>\n",
       "    <tr>\n",
       "      <th>std</th>\n",
       "      <td>1.053233e+06</td>\n",
       "      <td>5.084715e+05</td>\n",
       "      <td>1.512571e+05</td>\n",
       "      <td>44235.010100</td>\n",
       "      <td>0.447778</td>\n",
       "      <td>14007.420753</td>\n",
       "    </tr>\n",
       "    <tr>\n",
       "      <th>min</th>\n",
       "      <td>0.000000e+00</td>\n",
       "      <td>0.000000e+00</td>\n",
       "      <td>0.000000e+00</td>\n",
       "      <td>0.000000</td>\n",
       "      <td>2020.000000</td>\n",
       "      <td>2168.000000</td>\n",
       "    </tr>\n",
       "    <tr>\n",
       "      <th>25%</th>\n",
       "      <td>3.166200e+04</td>\n",
       "      <td>2.206700e+04</td>\n",
       "      <td>5.088000e+03</td>\n",
       "      <td>152.000000</td>\n",
       "      <td>2020.000000</td>\n",
       "      <td>5927.000000</td>\n",
       "    </tr>\n",
       "    <tr>\n",
       "      <th>50%</th>\n",
       "      <td>1.467090e+05</td>\n",
       "      <td>8.882200e+04</td>\n",
       "      <td>2.376900e+04</td>\n",
       "      <td>4513.000000</td>\n",
       "      <td>2020.000000</td>\n",
       "      <td>9400.000000</td>\n",
       "    </tr>\n",
       "    <tr>\n",
       "      <th>75%</th>\n",
       "      <td>5.227020e+05</td>\n",
       "      <td>2.756890e+05</td>\n",
       "      <td>7.977200e+04</td>\n",
       "      <td>19431.000000</td>\n",
       "      <td>2021.000000</td>\n",
       "      <td>32975.000000</td>\n",
       "    </tr>\n",
       "    <tr>\n",
       "      <th>max</th>\n",
       "      <td>1.652626e+07</td>\n",
       "      <td>8.952958e+06</td>\n",
       "      <td>2.761232e+06</td>\n",
       "      <td>938747.000000</td>\n",
       "      <td>2021.000000</td>\n",
       "      <td>43612.000000</td>\n",
       "    </tr>\n",
       "  </tbody>\n",
       "</table>\n",
       "</div>"
      ],
      "text/plain": [
       "       Enough of the kinds of food wanted  \\\n",
       "count                        1.769330e+05   \n",
       "mean                         5.209172e+05   \n",
       "std                          1.053233e+06   \n",
       "min                          0.000000e+00   \n",
       "25%                          3.166200e+04   \n",
       "50%                          1.467090e+05   \n",
       "75%                          5.227020e+05   \n",
       "max                          1.652626e+07   \n",
       "\n",
       "       Enough Food, but not always the kinds wanted  \\\n",
       "count                                  1.769330e+05   \n",
       "mean                                   2.591335e+05   \n",
       "std                                    5.084715e+05   \n",
       "min                                    0.000000e+00   \n",
       "25%                                    2.206700e+04   \n",
       "50%                                    8.882200e+04   \n",
       "75%                                    2.756890e+05   \n",
       "max                                    8.952958e+06   \n",
       "\n",
       "       Sometimes not enough to eat  Often not enough to eat           Year  \\\n",
       "count                 1.769330e+05            176933.000000  176933.000000   \n",
       "mean                  7.485346e+04             19713.762206    2020.277523   \n",
       "std                   1.512571e+05             44235.010100       0.447778   \n",
       "min                   0.000000e+00                 0.000000    2020.000000   \n",
       "25%                   5.088000e+03               152.000000    2020.000000   \n",
       "50%                   2.376900e+04              4513.000000    2020.000000   \n",
       "75%                   7.977200e+04             19431.000000    2021.000000   \n",
       "max                   2.761232e+06            938747.000000    2021.000000   \n",
       "\n",
       "       New Covid Cases  \n",
       "count    176933.000000  \n",
       "mean      17180.913425  \n",
       "std       14007.420753  \n",
       "min        2168.000000  \n",
       "25%        5927.000000  \n",
       "50%        9400.000000  \n",
       "75%       32975.000000  \n",
       "max       43612.000000  "
      ]
     },
     "execution_count": 22,
     "metadata": {},
     "output_type": "execute_result"
    }
   ],
   "source": [
    "food_covid_df.describe()"
   ]
  },
  {
   "cell_type": "markdown",
   "metadata": {},
   "source": [
    "## Hypothesis testing\n",
    "\n",
    "    H0: The factors we have examined from the “Covid-19 Food Insecurity” dataset, show that Covid-19 doesn’t \n",
    "        have an impact on the US food insecurities for different demographics of people."
   ]
  },
  {
   "cell_type": "markdown",
   "metadata": {},
   "source": [
    "Out of four dependent variables - (\"Enough of the kinds of food wanted\", \"Enough Food, but not always the kinds wanted\", \"Sometimes not enough to eat\", \"Often not enough to eat\"), we considered \"Often not enough to eat\" because it indicates the huge impact of covid on food Insecurity. "
   ]
  },
  {
   "cell_type": "code",
   "execution_count": 39,
   "metadata": {},
   "outputs": [],
   "source": [
    "df=food_covid_df[['Often not enough to eat','New Covid Cases','Location']]"
   ]
  },
  {
   "cell_type": "markdown",
   "metadata": {},
   "source": [
    "#### Skew Test"
   ]
  },
  {
   "cell_type": "code",
   "execution_count": 47,
   "metadata": {
    "scrolled": true
   },
   "outputs": [
    {
     "data": {
      "text/plain": [
       "5.789010878488539"
      ]
     },
     "execution_count": 47,
     "metadata": {},
     "output_type": "execute_result"
    }
   ],
   "source": [
    "df['Often not enough to eat'].skew()"
   ]
  },
  {
   "cell_type": "code",
   "execution_count": 48,
   "metadata": {},
   "outputs": [
    {
     "data": {
      "text/plain": [
       "0.7466381955432775"
      ]
     },
     "execution_count": 48,
     "metadata": {},
     "output_type": "execute_result"
    }
   ],
   "source": [
    "df['New Covid Cases'].skew()"
   ]
  },
  {
   "cell_type": "markdown",
   "metadata": {},
   "source": [
    "#### Droping Null Values"
   ]
  },
  {
   "cell_type": "code",
   "execution_count": 40,
   "metadata": {},
   "outputs": [
    {
     "data": {
      "text/plain": [
       "(176933, 3)"
      ]
     },
     "execution_count": 40,
     "metadata": {},
     "output_type": "execute_result"
    }
   ],
   "source": [
    "df.shape"
   ]
  },
  {
   "cell_type": "code",
   "execution_count": 41,
   "metadata": {},
   "outputs": [
    {
     "name": "stderr",
     "output_type": "stream",
     "text": [
      "/tmp/ipykernel_915514/1791587065.py:1: SettingWithCopyWarning: \n",
      "A value is trying to be set on a copy of a slice from a DataFrame\n",
      "\n",
      "See the caveats in the documentation: https://pandas.pydata.org/pandas-docs/stable/user_guide/indexing.html#returning-a-view-versus-a-copy\n",
      "  df.dropna(inplace = True)\n"
     ]
    }
   ],
   "source": [
    "df.dropna(inplace = True)"
   ]
  },
  {
   "cell_type": "code",
   "execution_count": 42,
   "metadata": {},
   "outputs": [
    {
     "data": {
      "text/plain": [
       "(176933, 3)"
      ]
     },
     "execution_count": 42,
     "metadata": {},
     "output_type": "execute_result"
    }
   ],
   "source": [
    "df.shape"
   ]
  },
  {
   "cell_type": "markdown",
   "metadata": {},
   "source": [
    "#### Normality test"
   ]
  },
  {
   "cell_type": "code",
   "execution_count": 43,
   "metadata": {},
   "outputs": [
    {
     "name": "stdout",
     "output_type": "stream",
     "text": [
      "197807.13141159006 0.0\n",
      "yes reject\n"
     ]
    }
   ],
   "source": [
    "a,b = stats.normaltest(age_df['Often not enough to eat'])\n",
    "print(a,b) \n",
    "if b < 0.05:\n",
    "  print(\"yes reject\")\n",
    "else:\n",
    "  print(\"not reject\")"
   ]
  },
  {
   "cell_type": "markdown",
   "metadata": {},
   "source": [
    "Not normally distributed"
   ]
  },
  {
   "cell_type": "markdown",
   "metadata": {},
   "source": [
    "#### Levene Test - Homogenity test"
   ]
  },
  {
   "cell_type": "code",
   "execution_count": 44,
   "metadata": {},
   "outputs": [
    {
     "name": "stderr",
     "output_type": "stream",
     "text": [
      "/tmp/ipykernel_915514/303819918.py:2: SettingWithCopyWarning: \n",
      "A value is trying to be set on a copy of a slice from a DataFrame.\n",
      "Try using .loc[row_indexer,col_indexer] = value instead\n",
      "\n",
      "See the caveats in the documentation: https://pandas.pydata.org/pandas-docs/stable/user_guide/indexing.html#returning-a-view-versus-a-copy\n",
      "  df['New Covid Cases Category'] = df['New Covid Cases'].apply(lambda x: 'Less Than Mean' if x>=covid_mean else \"Greater Than Mean\")\n"
     ]
    }
   ],
   "source": [
    "covid_mean = df['New Covid Cases'].mean()\n",
    "df['New Covid Cases Category'] = df['New Covid Cases'].apply(lambda x: 'Less Than Mean' if x>=covid_mean else \"Greater Than Mean\")"
   ]
  },
  {
   "cell_type": "code",
   "execution_count": 49,
   "metadata": {},
   "outputs": [
    {
     "name": "stdout",
     "output_type": "stream",
     "text": [
      "Not Homogenity\n"
     ]
    }
   ],
   "source": [
    "from scipy.stats import levene\n",
    "alpha=0.05\n",
    "\n",
    "# Create three arrays for each sample:\n",
    "ctrl = df[df['New Covid Cases Category']=='Less Than Mean'][\"Often not enough to eat\"]\n",
    "trt1 = df[df['New Covid Cases Category']=='Greater Than Mean'][\"Often not enough to eat\"]\n",
    "stat, p = levene(ctrl, trt1)\n",
    "if p<alpha:\n",
    "    print('Not Homogenity')\n",
    "else:\n",
    "    print('Homogentiy')\n",
    "    print(stat,p)"
   ]
  },
  {
   "cell_type": "markdown",
   "metadata": {},
   "source": [
    "#### Kruskal-Wallis Test\n",
    "\n",
    "Since 'Often not enough to eat' for Covid cases category column is not normally distributed and not Homogenity. So we use non parametric test. \n",
    "\n",
    "We include all states of USA in the test to get overall impact of Covid on the USA."
   ]
  },
  {
   "cell_type": "code",
   "execution_count": 51,
   "metadata": {},
   "outputs": [
    {
     "name": "stdout",
     "output_type": "stream",
     "text": [
      "stats value = 15.18 and p value is = 0.0000975527\n",
      "Reject Null Hypothesis (Significant difference between two samples)\n"
     ]
    }
   ],
   "source": [
    "from scipy.stats import mannwhitneyu\n",
    "from scipy import stats\n",
    "\n",
    "ctr1 = df[df['New Covid Cases Category']=='Less Than Mean'][\"Often not enough to eat\"]\n",
    "trt1 = df[df['New Covid Cases Category']=='Greater Than Mean'][\"Often not enough to eat\"]\n",
    "\n",
    "stat, p_value = stats.kruskal(ctr1,trt1)\n",
    "\n",
    "print('stats value = %.2f and p value is = %.10f' %(stat, p_value))\n",
    "# Level of significance\n",
    "alpha = 0.05\n",
    "\n",
    "if p_value < alpha:\n",
    "\tprint('Reject Null Hypothesis (Significant difference between two samples)')\n",
    "else:\n",
    "\tprint('Do not Reject Null Hypothesis (No significant difference between two samples)')"
   ]
  },
  {
   "cell_type": "markdown",
   "metadata": {},
   "source": [
    "#### POST HOC TESTS"
   ]
  },
  {
   "cell_type": "code",
   "execution_count": 53,
   "metadata": {},
   "outputs": [
    {
     "data": {
      "text/html": [
       "<div>\n",
       "<style scoped>\n",
       "    .dataframe tbody tr th:only-of-type {\n",
       "        vertical-align: middle;\n",
       "    }\n",
       "\n",
       "    .dataframe tbody tr th {\n",
       "        vertical-align: top;\n",
       "    }\n",
       "\n",
       "    .dataframe thead th {\n",
       "        text-align: right;\n",
       "    }\n",
       "</style>\n",
       "<table border=\"1\" class=\"dataframe\">\n",
       "  <thead>\n",
       "    <tr style=\"text-align: right;\">\n",
       "      <th></th>\n",
       "      <th>Less Than Mean</th>\n",
       "      <th>Greater Than Mean</th>\n",
       "    </tr>\n",
       "  </thead>\n",
       "  <tbody>\n",
       "    <tr>\n",
       "      <th>Less Than Mean</th>\n",
       "      <td>1.000000</td>\n",
       "      <td>0.000098</td>\n",
       "    </tr>\n",
       "    <tr>\n",
       "      <th>Greater Than Mean</th>\n",
       "      <td>0.000098</td>\n",
       "      <td>1.000000</td>\n",
       "    </tr>\n",
       "  </tbody>\n",
       "</table>\n",
       "</div>"
      ],
      "text/plain": [
       "                   Less Than Mean  Greater Than Mean\n",
       "Less Than Mean           1.000000           0.000098\n",
       "Greater Than Mean        0.000098           1.000000"
      ]
     },
     "execution_count": 53,
     "metadata": {},
     "output_type": "execute_result"
    }
   ],
   "source": [
    "import scikit_posthocs as sp\n",
    "data=[ctr1,trt1]\n",
    "dp = sp.posthoc_dunn(data, p_adjust = 'bonferroni') # Dunn's test. Shows individual pvalues between groups. Here pvalues btw gps<0.05, therefore is statistically significant. We reject H0\n",
    "dp.rename(columns={1:'Less Than Mean',2:'Greater Than Mean'},index={1:'Less Than Mean',2:'Greater Than Mean'}, inplace=True)\n",
    "dp"
   ]
  },
  {
   "cell_type": "markdown",
   "metadata": {},
   "source": []
  },
  {
   "cell_type": "markdown",
   "metadata": {},
   "source": [
    "## Statistical Analysis of Age column vs Dependent variables"
   ]
  },
  {
   "cell_type": "markdown",
   "metadata": {},
   "source": [
    "Out of four dependent variables - (\"Enough of the kinds of food wanted\", \"Enough Food, but not always the kinds wanted\", \"Sometimes not enough to eat\", \"Often not enough to eat\"), we considered \"Often not enough to eat\" because it indicates the huge impact of covid on food Insecurity.  "
   ]
  },
  {
   "cell_type": "code",
   "execution_count": 29,
   "metadata": {},
   "outputs": [],
   "source": [
    "age_df=food_covid_df[['Often not enough to eat','Age','Location']]"
   ]
  },
  {
   "cell_type": "code",
   "execution_count": 30,
   "metadata": {},
   "outputs": [
    {
     "data": {
      "text/plain": [
       "array(['18 - 24', '25 - 39', '40 - 54', '55 - 64', '65 and above', nan],\n",
       "      dtype=object)"
      ]
     },
     "execution_count": 30,
     "metadata": {},
     "output_type": "execute_result"
    }
   ],
   "source": [
    "age_df['Age'].unique()"
   ]
  },
  {
   "cell_type": "code",
   "execution_count": 31,
   "metadata": {},
   "outputs": [
    {
     "data": {
      "text/plain": [
       "array(['Alabama', 'Alaska', 'Arizona', 'Arkansas', 'California',\n",
       "       'Colorado', 'Connecticut', 'Delaware', 'District of Columbia',\n",
       "       'Florida', 'Georgia', 'Hawaii', 'Idaho', 'Illinois', 'Indiana',\n",
       "       'Iowa', 'Kansas', 'Kentucky', 'Louisiana', 'Maine', 'Maryland',\n",
       "       'Massachusetts', 'Michigan', 'Minnesota', 'Mississippi',\n",
       "       'Missouri', 'Montana', 'Nebraska', 'Nevada', 'New Hampshire',\n",
       "       'New Jersey', 'New Mexico', 'New York', 'North Carolina',\n",
       "       'North Dakota', 'Ohio', 'Oklahoma', 'Oregon', 'Pennsylvania',\n",
       "       'Rhode Island', 'South Carolina', 'South Dakota', 'Tennessee',\n",
       "       'Texas', 'Utah', 'Vermont', 'Virginia', 'Washington',\n",
       "       'West Virginia', 'Wisconsin', 'Wyoming'], dtype=object)"
      ]
     },
     "execution_count": 31,
     "metadata": {},
     "output_type": "execute_result"
    }
   ],
   "source": [
    "age_df['Location'].unique()"
   ]
  },
  {
   "cell_type": "markdown",
   "metadata": {},
   "source": [
    "#### Droping Null Values"
   ]
  },
  {
   "cell_type": "code",
   "execution_count": 19,
   "metadata": {},
   "outputs": [
    {
     "name": "stderr",
     "output_type": "stream",
     "text": [
      "/tmp/ipykernel_915514/3412740779.py:1: SettingWithCopyWarning: \n",
      "A value is trying to be set on a copy of a slice from a DataFrame\n",
      "\n",
      "See the caveats in the documentation: https://pandas.pydata.org/pandas-docs/stable/user_guide/indexing.html#returning-a-view-versus-a-copy\n",
      "  age_df.dropna(inplace = True)\n"
     ]
    }
   ],
   "source": [
    "age_df.dropna(inplace = True)"
   ]
  },
  {
   "cell_type": "code",
   "execution_count": 20,
   "metadata": {},
   "outputs": [
    {
     "data": {
      "text/plain": [
       "(7420, 9)"
      ]
     },
     "execution_count": 20,
     "metadata": {},
     "output_type": "execute_result"
    }
   ],
   "source": [
    "age_df.shape"
   ]
  },
  {
   "cell_type": "code",
   "execution_count": 21,
   "metadata": {
    "colab": {
     "base_uri": "https://localhost:8080/"
    },
    "id": "hsBoYkfxY50N",
    "outputId": "4d05ac70-2a2f-4fcb-a253-7eca7c88afaf"
   },
   "outputs": [
    {
     "data": {
      "text/plain": [
       "Enough of the kinds of food wanted              0\n",
       "Enough Food, but not always the kinds wanted    0\n",
       "Sometimes not enough to eat                     0\n",
       "Often not enough to eat                         0\n",
       "Age                                             0\n",
       "Location                                        0\n",
       "week_name                                       0\n",
       "Week                                            0\n",
       "New Covid Cases                                 0\n",
       "dtype: int64"
      ]
     },
     "execution_count": 21,
     "metadata": {},
     "output_type": "execute_result"
    }
   ],
   "source": [
    "age_df.isnull().sum()"
   ]
  },
  {
   "cell_type": "markdown",
   "metadata": {},
   "source": [
    "#### Normality test"
   ]
  },
  {
   "cell_type": "code",
   "execution_count": 24,
   "metadata": {},
   "outputs": [
    {
     "name": "stdout",
     "output_type": "stream",
     "text": [
      "7501.494975634127 0.0\n",
      "yes reject\n"
     ]
    }
   ],
   "source": [
    "a,b = stats.normaltest(age_df['Often not enough to eat'])\n",
    "print(a,b) \n",
    "if b < 0.05:\n",
    "  print(\"yes reject\")\n",
    "else:\n",
    "  print(\"not reject\") "
   ]
  },
  {
   "cell_type": "markdown",
   "metadata": {},
   "source": [
    "Not normally distributed"
   ]
  },
  {
   "cell_type": "markdown",
   "metadata": {},
   "source": [
    "#### Levene Test - Homogenity test"
   ]
  },
  {
   "cell_type": "code",
   "execution_count": 28,
   "metadata": {},
   "outputs": [
    {
     "name": "stdout",
     "output_type": "stream",
     "text": [
      "Not Homogenity\n"
     ]
    }
   ],
   "source": [
    "from scipy.stats import levene\n",
    "alpha=0.05\n",
    "# Create three arrays for each sample:\n",
    "for i in [\"Often not enough to eat\"]:\n",
    "    ctrl = age_df.query('Age==\"18 - 24\"')[i]\n",
    "    trt1 = age_df.query('Age == \"25 - 39\"')[i]\n",
    "    trt2 = age_df.query('Age == \"40 - 54\"')[i]\n",
    "    trt3= age_df.query('Age == \"55 - 64\"')[i]\n",
    "    trt4= age_df.query('Age == \"65 and above\"')[i]\n",
    "\n",
    "    stat, p = levene(ctrl, trt1, trt2,trt3)\n",
    "    if p<alpha:\n",
    "        print('Not Homogenity')\n",
    "    else:\n",
    "        print('Homogentiy')\n",
    "        print(stat,p)"
   ]
  },
  {
   "cell_type": "markdown",
   "metadata": {},
   "source": [
    "#### Kruskal-Wallis Test\n",
    "\n",
    "Since 'Often not enough to eat' for age column is not normally distributed and not Homogenity. So we use non parametric test. \n",
    "\n",
    "We include all states of USA in the test to get overall impact of Covid on the USA."
   ]
  },
  {
   "cell_type": "code",
   "execution_count": 32,
   "metadata": {},
   "outputs": [
    {
     "name": "stdout",
     "output_type": "stream",
     "text": [
      "stats value = 1518.06 and p value is = 0.0000000000\n",
      "Reject Null Hypothesis (Significant difference between two samples)\n"
     ]
    }
   ],
   "source": [
    "\n",
    "from scipy.stats import mannwhitneyu\n",
    "from scipy import stats\n",
    "\n",
    "\n",
    "batch_1 =list(age_df[(age_df['Age']=='18 - 24')]['Often not enough to eat'])\n",
    "batch_2 =list(age_df[(age_df['Age']=='25 - 39')]['Often not enough to eat'])\n",
    "batch_3=list(age_df[(age_df['Age']=='40 - 54')]['Often not enough to eat'])\n",
    "batch_4=list(age_df[(age_df['Age']=='55 - 64')]['Often not enough to eat'])\n",
    "batch_5=list(age_df[(age_df['Age']=='65 and above')]['Often not enough to eat'])\n",
    "\n",
    "\n",
    "stat, p_value = stats.kruskal(batch_1, batch_2, batch_3,batch_4,batch_5)\n",
    "#stat, p_value = mannwhitneyu(batch_1, batch_2,batch_3,batch_4,batch_5)\n",
    "print('stats value = %.2f and p value is = %.10f' %(stat, p_value))\n",
    "# Level of significance\n",
    "alpha = 0.05\n",
    "# conclusion\n",
    "if p_value < alpha:\n",
    "\tprint('Reject Null Hypothesis (Significant difference between two samples)')\n",
    "else:\n",
    "\tprint('Do not Reject Null Hypothesis (No significant difference between two samples)')\n"
   ]
  },
  {
   "cell_type": "markdown",
   "metadata": {},
   "source": [
    "#### POST HOC TESTS"
   ]
  },
  {
   "cell_type": "code",
   "execution_count": 33,
   "metadata": {},
   "outputs": [
    {
     "data": {
      "text/html": [
       "<div>\n",
       "<style scoped>\n",
       "    .dataframe tbody tr th:only-of-type {\n",
       "        vertical-align: middle;\n",
       "    }\n",
       "\n",
       "    .dataframe tbody tr th {\n",
       "        vertical-align: top;\n",
       "    }\n",
       "\n",
       "    .dataframe thead th {\n",
       "        text-align: right;\n",
       "    }\n",
       "</style>\n",
       "<table border=\"1\" class=\"dataframe\">\n",
       "  <thead>\n",
       "    <tr style=\"text-align: right;\">\n",
       "      <th></th>\n",
       "      <th>18 - 24</th>\n",
       "      <th>25 - 39</th>\n",
       "      <th>40 - 54</th>\n",
       "      <th>55 - 64</th>\n",
       "      <th>65 and above</th>\n",
       "    </tr>\n",
       "  </thead>\n",
       "  <tbody>\n",
       "    <tr>\n",
       "      <th>18 - 24</th>\n",
       "      <td>1.000000e+00</td>\n",
       "      <td>9.004975e-189</td>\n",
       "      <td>6.231462e-162</td>\n",
       "      <td>5.415374e-33</td>\n",
       "      <td>7.133579e-01</td>\n",
       "    </tr>\n",
       "    <tr>\n",
       "      <th>25 - 39</th>\n",
       "      <td>9.004975e-189</td>\n",
       "      <td>1.000000e+00</td>\n",
       "      <td>2.913367e-01</td>\n",
       "      <td>1.623525e-65</td>\n",
       "      <td>1.941000e-166</td>\n",
       "    </tr>\n",
       "    <tr>\n",
       "      <th>40 - 54</th>\n",
       "      <td>6.231462e-162</td>\n",
       "      <td>2.913367e-01</td>\n",
       "      <td>1.000000e+00</td>\n",
       "      <td>3.622858e-50</td>\n",
       "      <td>2.640950e-141</td>\n",
       "    </tr>\n",
       "    <tr>\n",
       "      <th>55 - 64</th>\n",
       "      <td>5.415374e-33</td>\n",
       "      <td>1.623525e-65</td>\n",
       "      <td>3.622858e-50</td>\n",
       "      <td>1.000000e+00</td>\n",
       "      <td>4.125143e-24</td>\n",
       "    </tr>\n",
       "    <tr>\n",
       "      <th>65 and above</th>\n",
       "      <td>7.133579e-01</td>\n",
       "      <td>1.941000e-166</td>\n",
       "      <td>2.640950e-141</td>\n",
       "      <td>4.125143e-24</td>\n",
       "      <td>1.000000e+00</td>\n",
       "    </tr>\n",
       "  </tbody>\n",
       "</table>\n",
       "</div>"
      ],
      "text/plain": [
       "                    18 - 24        25 - 39        40 - 54       55 - 64  \\\n",
       "18 - 24        1.000000e+00  9.004975e-189  6.231462e-162  5.415374e-33   \n",
       "25 - 39       9.004975e-189   1.000000e+00   2.913367e-01  1.623525e-65   \n",
       "40 - 54       6.231462e-162   2.913367e-01   1.000000e+00  3.622858e-50   \n",
       "55 - 64        5.415374e-33   1.623525e-65   3.622858e-50  1.000000e+00   \n",
       "65 and above   7.133579e-01  1.941000e-166  2.640950e-141  4.125143e-24   \n",
       "\n",
       "               65 and above  \n",
       "18 - 24        7.133579e-01  \n",
       "25 - 39       1.941000e-166  \n",
       "40 - 54       2.640950e-141  \n",
       "55 - 64        4.125143e-24  \n",
       "65 and above   1.000000e+00  "
      ]
     },
     "execution_count": 33,
     "metadata": {},
     "output_type": "execute_result"
    }
   ],
   "source": [
    "import scikit_posthocs as sp\n",
    "data=[batch_1, batch_2, batch_3,batch_4,batch_5]\n",
    "dp = sp.posthoc_dunn(data, p_adjust = 'bonferroni') # Dunn's test. Shows individual pvalues between groups. Here pvalues btw gps<0.05, therefore is statistically significant. We reject H0\n",
    "dp.rename(columns={1:'18 - 24',2:'25 - 39',3:'40 - 54',4:'55 - 64',5:'65 and above'},index={1:'18 - 24',2:'25 - 39',3:'40 - 54',4:'55 - 64',5:'65 and above'}, inplace=True)\n",
    "dp"
   ]
  },
  {
   "cell_type": "markdown",
   "metadata": {},
   "source": [
    "We can reject Null Hypothesis and states that Covid has huge impact on the Age"
   ]
  },
  {
   "cell_type": "markdown",
   "metadata": {},
   "source": [
    "### Statistical Analysis of Education column vs Dependent variables"
   ]
  },
  {
   "cell_type": "code",
   "execution_count": 58,
   "metadata": {},
   "outputs": [],
   "source": [
    "edu_df=food_covid_df[['Often not enough to eat','Education']]"
   ]
  },
  {
   "cell_type": "code",
   "execution_count": 61,
   "metadata": {},
   "outputs": [
    {
     "name": "stderr",
     "output_type": "stream",
     "text": [
      "/tmp/ipykernel_915514/989954913.py:1: SettingWithCopyWarning: \n",
      "A value is trying to be set on a copy of a slice from a DataFrame\n",
      "\n",
      "See the caveats in the documentation: https://pandas.pydata.org/pandas-docs/stable/user_guide/indexing.html#returning-a-view-versus-a-copy\n",
      "  edu_df.dropna(inplace = True)\n"
     ]
    }
   ],
   "source": [
    "edu_df.dropna(inplace = True)"
   ]
  },
  {
   "cell_type": "code",
   "execution_count": 62,
   "metadata": {},
   "outputs": [
    {
     "data": {
      "text/plain": [
       "Often not enough to eat    0\n",
       "Education                  0\n",
       "dtype: int64"
      ]
     },
     "execution_count": 62,
     "metadata": {},
     "output_type": "execute_result"
    }
   ],
   "source": [
    "edu_df.isna().sum()"
   ]
  },
  {
   "cell_type": "code",
   "execution_count": 60,
   "metadata": {},
   "outputs": [
    {
     "data": {
      "text/plain": [
       "array([nan, 'Less than high school', 'High school or GED',\n",
       "       'Some college/associate’s degree', 'Bachelor’s degree or higher'],\n",
       "      dtype=object)"
      ]
     },
     "execution_count": 60,
     "metadata": {},
     "output_type": "execute_result"
    }
   ],
   "source": [
    "edu_df['Education'].unique()"
   ]
  },
  {
   "cell_type": "markdown",
   "metadata": {},
   "source": [
    "#### Normality test"
   ]
  },
  {
   "cell_type": "code",
   "execution_count": 63,
   "metadata": {},
   "outputs": [
    {
     "name": "stdout",
     "output_type": "stream",
     "text": [
      "3418.1793339328897 0.0\n",
      "yes reject\n"
     ]
    }
   ],
   "source": [
    "a,b = stats.normaltest(edu_df['Often not enough to eat'])\n",
    "print(a,b) \n",
    "if b < 0.05:\n",
    "  print(\"yes reject\")\n",
    "else:\n",
    "  print(\"not reject\") "
   ]
  },
  {
   "cell_type": "markdown",
   "metadata": {},
   "source": [
    "Not normally distributed"
   ]
  },
  {
   "cell_type": "markdown",
   "metadata": {},
   "source": [
    "#### Levene Test - Homogenity test"
   ]
  },
  {
   "cell_type": "code",
   "execution_count": 64,
   "metadata": {},
   "outputs": [
    {
     "name": "stdout",
     "output_type": "stream",
     "text": [
      "Not Homogenity\n"
     ]
    }
   ],
   "source": [
    "from scipy.stats import levene\n",
    "alpha=0.05\n",
    "# Create three arrays for each sample:\n",
    "for i in [\"Often not enough to eat\"]:\n",
    "    ctrl = edu_df.query('Education==\"Less than high school\"')[i]\n",
    "    trt1 = edu_df.query('Education == \"High school or GED\"')[i]\n",
    "    trt2 = edu_df.query('Education == \"Some college/associate’s degree\"')[i]\n",
    "    trt3= edu_df.query('Education == \"Bachelor’s degree or higher\"')[i]\n",
    "    \n",
    "    stat, p = levene(ctrl, trt1, trt2,trt3)\n",
    "    if p<alpha:\n",
    "        print('Not Homogenity')\n",
    "    else:\n",
    "        print('Homogentiy')\n",
    "        print(stat,p)"
   ]
  },
  {
   "cell_type": "markdown",
   "metadata": {},
   "source": [
    "#### Kruskal-Wallis Test\n",
    "\n",
    "Since 'Often not enough to eat' for Education column is not normally distributed and not Homogenity. So we use non parametric test. \n",
    "\n",
    "We include all states of USA in the test to get overall impact of Covid on the USA."
   ]
  },
  {
   "cell_type": "code",
   "execution_count": 67,
   "metadata": {},
   "outputs": [
    {
     "name": "stdout",
     "output_type": "stream",
     "text": [
      "stats value = 606.36 and p value is = 0.0000000000\n",
      "Reject Null Hypothesis (Significant difference between two samples)\n"
     ]
    }
   ],
   "source": [
    "\n",
    "from scipy.stats import mannwhitneyu\n",
    "from scipy import stats\n",
    "\n",
    "\n",
    "batch_1 =list(edu_df[(edu_df['Education']=='Less than high school')]['Often not enough to eat'])\n",
    "batch_2 =list(edu_df[(edu_df['Education']=='High school or GED')]['Often not enough to eat'])\n",
    "batch_3=list(edu_df[(edu_df['Education']=='Some college/associate’s degree')]['Often not enough to eat'])\n",
    "batch_4=list(edu_df[(edu_df['Education']=='Bachelor’s degree or higher')]['Often not enough to eat'])\n",
    "\n",
    "\n",
    "stat, p_value = stats.kruskal(batch_1, batch_2, batch_3,batch_4)\n",
    "#stat, p_value = mannwhitneyu(batch_1, batch_2,batch_3,batch_4,batch_5)\n",
    "print('stats value = %.2f and p value is = %.10f' %(stat, p_value))\n",
    "# Level of significance\n",
    "alpha = 0.05\n",
    "# conclusion\n",
    "if p_value < alpha:\n",
    "\tprint('Reject Null Hypothesis (Significant difference between two samples)')\n",
    "else:\n",
    "\tprint('Do not Reject Null Hypothesis (No significant difference between two samples)')\n"
   ]
  },
  {
   "cell_type": "markdown",
   "metadata": {},
   "source": [
    "#### POST HOC TESTS"
   ]
  },
  {
   "cell_type": "code",
   "execution_count": 68,
   "metadata": {},
   "outputs": [
    {
     "data": {
      "text/html": [
       "<div>\n",
       "<style scoped>\n",
       "    .dataframe tbody tr th:only-of-type {\n",
       "        vertical-align: middle;\n",
       "    }\n",
       "\n",
       "    .dataframe tbody tr th {\n",
       "        vertical-align: top;\n",
       "    }\n",
       "\n",
       "    .dataframe thead th {\n",
       "        text-align: right;\n",
       "    }\n",
       "</style>\n",
       "<table border=\"1\" class=\"dataframe\">\n",
       "  <thead>\n",
       "    <tr style=\"text-align: right;\">\n",
       "      <th></th>\n",
       "      <th>Less than high school</th>\n",
       "      <th>High school or GED</th>\n",
       "      <th>Some college/associate’s degree</th>\n",
       "      <th>Bachelor’s degree or higher</th>\n",
       "    </tr>\n",
       "  </thead>\n",
       "  <tbody>\n",
       "    <tr>\n",
       "      <th>Less than high school</th>\n",
       "      <td>1.000000e+00</td>\n",
       "      <td>3.653850e-65</td>\n",
       "      <td>9.438986e-42</td>\n",
       "      <td>5.201844e-03</td>\n",
       "    </tr>\n",
       "    <tr>\n",
       "      <th>High school or GED</th>\n",
       "      <td>3.653850e-65</td>\n",
       "      <td>1.000000e+00</td>\n",
       "      <td>2.967499e-03</td>\n",
       "      <td>1.857616e-92</td>\n",
       "    </tr>\n",
       "    <tr>\n",
       "      <th>Some college/associate’s degree</th>\n",
       "      <td>9.438986e-42</td>\n",
       "      <td>2.967499e-03</td>\n",
       "      <td>1.000000e+00</td>\n",
       "      <td>5.042846e-64</td>\n",
       "    </tr>\n",
       "    <tr>\n",
       "      <th>Bachelor’s degree or higher</th>\n",
       "      <td>5.201844e-03</td>\n",
       "      <td>1.857616e-92</td>\n",
       "      <td>5.042846e-64</td>\n",
       "      <td>1.000000e+00</td>\n",
       "    </tr>\n",
       "  </tbody>\n",
       "</table>\n",
       "</div>"
      ],
      "text/plain": [
       "                                 Less than high school  High school or GED  \\\n",
       "Less than high school                     1.000000e+00        3.653850e-65   \n",
       "High school or GED                        3.653850e-65        1.000000e+00   \n",
       "Some college/associate’s degree           9.438986e-42        2.967499e-03   \n",
       "Bachelor’s degree or higher               5.201844e-03        1.857616e-92   \n",
       "\n",
       "                                 Some college/associate’s degree  \\\n",
       "Less than high school                               9.438986e-42   \n",
       "High school or GED                                  2.967499e-03   \n",
       "Some college/associate’s degree                     1.000000e+00   \n",
       "Bachelor’s degree or higher                         5.042846e-64   \n",
       "\n",
       "                                 Bachelor’s degree or higher  \n",
       "Less than high school                           5.201844e-03  \n",
       "High school or GED                              1.857616e-92  \n",
       "Some college/associate’s degree                 5.042846e-64  \n",
       "Bachelor’s degree or higher                     1.000000e+00  "
      ]
     },
     "execution_count": 68,
     "metadata": {},
     "output_type": "execute_result"
    }
   ],
   "source": [
    "import scikit_posthocs as sp\n",
    "data=[batch_1, batch_2, batch_3,batch_4]\n",
    "dp = sp.posthoc_dunn(data, p_adjust = 'bonferroni') # Dunn's test. Shows individual pvalues between groups. Here pvalues btw gps<0.05, therefore is statistically significant. We reject H0\n",
    "dp.rename(columns={1:'Less than high school',2:'High school or GED',3:'Some college/associate’s degree',4:'Bachelor’s degree or higher'},index={1:'Less than high school',2:'High school or GED',3:'Some college/associate’s degree',4:'Bachelor’s degree or higher'}, inplace=True)\n",
    "dp"
   ]
  },
  {
   "cell_type": "markdown",
   "metadata": {},
   "source": [
    "From the above results, we can infer that Covid cases has significance impact on Education of the people"
   ]
  },
  {
   "cell_type": "markdown",
   "metadata": {},
   "source": [
    "Similarly we can perform Non parametric tests for other independent variables like 'Marital_Status',\n",
    "       'Children_Present', 'Unemployed_Last_4', 'Employed_Last_7',\n",
    "       'Reason_Not_Working', 'Receiving_Pay_No_Work', 'Income',\n",
    "       'Health_Status', 'Covered_By_Insurance', 'Caught_Up_On_Mortgage'"
   ]
  },
  {
   "cell_type": "markdown",
   "metadata": {},
   "source": [
    "### Correlation"
   ]
  },
  {
   "cell_type": "code",
   "execution_count": 55,
   "metadata": {
    "colab": {
     "base_uri": "https://localhost:8080/",
     "height": 423
    },
    "id": "dTGHzdCFwJus",
    "outputId": "e54c6d12-8215-4682-cb71-d887b1b2585a"
   },
   "outputs": [
    {
     "data": {
      "text/html": [
       "<div>\n",
       "<style scoped>\n",
       "    .dataframe tbody tr th:only-of-type {\n",
       "        vertical-align: middle;\n",
       "    }\n",
       "\n",
       "    .dataframe tbody tr th {\n",
       "        vertical-align: top;\n",
       "    }\n",
       "\n",
       "    .dataframe thead th {\n",
       "        text-align: right;\n",
       "    }\n",
       "</style>\n",
       "<table border=\"1\" class=\"dataframe\">\n",
       "  <thead>\n",
       "    <tr style=\"text-align: right;\">\n",
       "      <th></th>\n",
       "      <th>Enough of the kinds of food wanted</th>\n",
       "      <th>Enough Food, but not always the kinds wanted</th>\n",
       "      <th>Sometimes not enough to eat</th>\n",
       "      <th>Often not enough to eat</th>\n",
       "      <th>New Covid Cases</th>\n",
       "    </tr>\n",
       "  </thead>\n",
       "  <tbody>\n",
       "    <tr>\n",
       "      <th>Enough of the kinds of food wanted</th>\n",
       "      <td>1.000000</td>\n",
       "      <td>0.747146</td>\n",
       "      <td>0.580648</td>\n",
       "      <td>0.465535</td>\n",
       "      <td>0.002451</td>\n",
       "    </tr>\n",
       "    <tr>\n",
       "      <th>Enough Food, but not always the kinds wanted</th>\n",
       "      <td>0.747146</td>\n",
       "      <td>1.000000</td>\n",
       "      <td>0.700280</td>\n",
       "      <td>0.552524</td>\n",
       "      <td>-0.003563</td>\n",
       "    </tr>\n",
       "    <tr>\n",
       "      <th>Sometimes not enough to eat</th>\n",
       "      <td>0.580648</td>\n",
       "      <td>0.700280</td>\n",
       "      <td>1.000000</td>\n",
       "      <td>0.587778</td>\n",
       "      <td>0.001520</td>\n",
       "    </tr>\n",
       "    <tr>\n",
       "      <th>Often not enough to eat</th>\n",
       "      <td>0.465535</td>\n",
       "      <td>0.552524</td>\n",
       "      <td>0.587778</td>\n",
       "      <td>1.000000</td>\n",
       "      <td>0.000075</td>\n",
       "    </tr>\n",
       "    <tr>\n",
       "      <th>New Covid Cases</th>\n",
       "      <td>0.002451</td>\n",
       "      <td>-0.003563</td>\n",
       "      <td>0.001520</td>\n",
       "      <td>0.000075</td>\n",
       "      <td>1.000000</td>\n",
       "    </tr>\n",
       "  </tbody>\n",
       "</table>\n",
       "</div>"
      ],
      "text/plain": [
       "                                              Enough of the kinds of food wanted  \\\n",
       "Enough of the kinds of food wanted                                      1.000000   \n",
       "Enough Food, but not always the kinds wanted                            0.747146   \n",
       "Sometimes not enough to eat                                             0.580648   \n",
       "Often not enough to eat                                                 0.465535   \n",
       "New Covid Cases                                                         0.002451   \n",
       "\n",
       "                                              Enough Food, but not always the kinds wanted  \\\n",
       "Enough of the kinds of food wanted                                                0.747146   \n",
       "Enough Food, but not always the kinds wanted                                      1.000000   \n",
       "Sometimes not enough to eat                                                       0.700280   \n",
       "Often not enough to eat                                                           0.552524   \n",
       "New Covid Cases                                                                  -0.003563   \n",
       "\n",
       "                                              Sometimes not enough to eat  \\\n",
       "Enough of the kinds of food wanted                               0.580648   \n",
       "Enough Food, but not always the kinds wanted                     0.700280   \n",
       "Sometimes not enough to eat                                      1.000000   \n",
       "Often not enough to eat                                          0.587778   \n",
       "New Covid Cases                                                  0.001520   \n",
       "\n",
       "                                              Often not enough to eat  \\\n",
       "Enough of the kinds of food wanted                           0.465535   \n",
       "Enough Food, but not always the kinds wanted                 0.552524   \n",
       "Sometimes not enough to eat                                  0.587778   \n",
       "Often not enough to eat                                      1.000000   \n",
       "New Covid Cases                                              0.000075   \n",
       "\n",
       "                                              New Covid Cases  \n",
       "Enough of the kinds of food wanted                   0.002451  \n",
       "Enough Food, but not always the kinds wanted        -0.003563  \n",
       "Sometimes not enough to eat                          0.001520  \n",
       "Often not enough to eat                              0.000075  \n",
       "New Covid Cases                                      1.000000  "
      ]
     },
     "execution_count": 55,
     "metadata": {},
     "output_type": "execute_result"
    }
   ],
   "source": [
    "correlation = food_covid_df[['Enough of the kinds of food wanted','Enough Food, but not always the kinds wanted',\n",
    "                             'Sometimes not enough to eat','Often not enough to eat','New Covid Cases']].corr(method = 'kendall')\n",
    "correlation"
   ]
  },
  {
   "cell_type": "code",
   "execution_count": 57,
   "metadata": {
    "colab": {
     "base_uri": "https://localhost:8080/",
     "height": 493
    },
    "id": "ZPJ3GtBDddCh",
    "outputId": "5e225b66-a4e4-408b-9231-f887cfe4f2e1"
   },
   "outputs": [
    {
     "data": {
      "image/png": "[encoded data removed]",
      "text/plain": [
       "<Figure size 640x480 with 2 Axes>"
      ]
     },
     "metadata": {},
     "output_type": "display_data"
    }
   ],
   "source": [
    "%matplotlib inline\n",
    "import seaborn as sns\n",
    "import matplotlib.pyplot as plt\n",
    "sns.heatmap(correlation,linewidth=0.5,annot = True)\n",
    "plt.show()"
   ]
  },
  {
   "cell_type": "code",
   "execution_count": null,
   "metadata": {},
   "outputs": [],
   "source": []
  }
 ],
 "metadata": {
  "colab": {
   "provenance": []
  },
  "kernelspec": {
   "display_name": "Python 3 (ipykernel)",
   "language": "python",
   "name": "python3"
  },
  "language_info": {
   "codemirror_mode": {
    "name": "ipython",
    "version": 3
   },
   "file_extension": ".py",
   "mimetype": "text/x-python",
   "name": "python",
   "nbconvert_exporter": "python",
   "pygments_lexer": "ipython3",
   "version": "3.10.6"
  }
 },
 "nbformat": 4,
 "nbformat_minor": 1
}
