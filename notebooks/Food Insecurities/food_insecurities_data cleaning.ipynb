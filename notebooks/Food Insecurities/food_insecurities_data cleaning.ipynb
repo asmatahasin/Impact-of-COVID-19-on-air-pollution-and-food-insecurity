{
 "cells": [
  {
   "cell_type": "code",
   "execution_count": 1,
   "id": "86fed48d",
   "metadata": {},
   "outputs": [],
   "source": [
    "import pandas as pd\n",
    "import numpy as np\n",
    "import matplotlib.pyplot as plt\n",
    "from scipy import stats\n",
    "#importing necessary libraries\n",
    "import scipy.stats as stats\n",
    "import pylab"
   ]
  },
  {
   "cell_type": "markdown",
   "id": "60462dfa",
   "metadata": {},
   "source": [
    "## Cleaning for food insecurity covid cases Dataset"
   ]
  },
  {
   "cell_type": "code",
   "execution_count": 2,
   "id": "d00bc66e",
   "metadata": {},
   "outputs": [
    {
     "name": "stderr",
     "output_type": "stream",
     "text": [
      "/tmp/ipykernel_1109556/2481311948.py:1: DtypeWarning: Columns (5,6,8,9,10,11,13,14,15,16,17,19,20,21,22,23,24) have mixed types. Specify dtype option on import or set low_memory=False.\n",
      "  food_covid_df=pd.read_csv('food_insecurity_covid_cases.csv')\n"
     ]
    }
   ],
   "source": [
    "food_covid_df=pd.read_csv('food_insecurity_covid_cases.csv')"
   ]
  },
  {
   "cell_type": "code",
   "execution_count": 3,
   "id": "800753e8",
   "metadata": {
    "scrolled": true
   },
   "outputs": [
    {
     "data": {
      "text/html": [
       "<div>\n",
       "<style scoped>\n",
       "    .dataframe tbody tr th:only-of-type {\n",
       "        vertical-align: middle;\n",
       "    }\n",
       "\n",
       "    .dataframe tbody tr th {\n",
       "        vertical-align: top;\n",
       "    }\n",
       "\n",
       "    .dataframe thead th {\n",
       "        text-align: right;\n",
       "    }\n",
       "</style>\n",
       "<table border=\"1\" class=\"dataframe\">\n",
       "  <thead>\n",
       "    <tr style=\"text-align: right;\">\n",
       "      <th></th>\n",
       "      <th>Enough of the kinds of food wanted</th>\n",
       "      <th>Enough Food, but not always the kinds wanted</th>\n",
       "      <th>Sometimes not enough to eat</th>\n",
       "      <th>Often not enough to eat</th>\n",
       "      <th>Age</th>\n",
       "      <th>Sex_At_Birth</th>\n",
       "      <th>Race</th>\n",
       "      <th>Education</th>\n",
       "      <th>Marital_Status</th>\n",
       "      <th>Children_Present</th>\n",
       "      <th>...</th>\n",
       "      <th>Active_Duty</th>\n",
       "      <th>House_Receives_SNAP</th>\n",
       "      <th>Used_To_Meet_Needs</th>\n",
       "      <th>Provider_Of_Free_Groceries</th>\n",
       "      <th>Freq_Feel_Depressed</th>\n",
       "      <th>Freq_Feel_Anxious</th>\n",
       "      <th>Year</th>\n",
       "      <th>week_name</th>\n",
       "      <th>Week</th>\n",
       "      <th>New Covid Cases</th>\n",
       "    </tr>\n",
       "  </thead>\n",
       "  <tbody>\n",
       "    <tr>\n",
       "      <th>0</th>\n",
       "      <td>121151.0</td>\n",
       "      <td>88797.0</td>\n",
       "      <td>2389.0</td>\n",
       "      <td>0.0</td>\n",
       "      <td>18 - 24</td>\n",
       "      <td>NaN</td>\n",
       "      <td>NaN</td>\n",
       "      <td>NaN</td>\n",
       "      <td>NaN</td>\n",
       "      <td>NaN</td>\n",
       "      <td>...</td>\n",
       "      <td>NaN</td>\n",
       "      <td>NaN</td>\n",
       "      <td>NaN</td>\n",
       "      <td>NaN</td>\n",
       "      <td>NaN</td>\n",
       "      <td>NaN</td>\n",
       "      <td>2020</td>\n",
       "      <td>April 23 - May 5</td>\n",
       "      <td>week1</td>\n",
       "      <td>22694.0</td>\n",
       "    </tr>\n",
       "    <tr>\n",
       "      <th>1</th>\n",
       "      <td>493462.0</td>\n",
       "      <td>413244.0</td>\n",
       "      <td>164615.0</td>\n",
       "      <td>46441.0</td>\n",
       "      <td>25 - 39</td>\n",
       "      <td>NaN</td>\n",
       "      <td>NaN</td>\n",
       "      <td>NaN</td>\n",
       "      <td>NaN</td>\n",
       "      <td>NaN</td>\n",
       "      <td>...</td>\n",
       "      <td>NaN</td>\n",
       "      <td>NaN</td>\n",
       "      <td>NaN</td>\n",
       "      <td>NaN</td>\n",
       "      <td>NaN</td>\n",
       "      <td>NaN</td>\n",
       "      <td>2020</td>\n",
       "      <td>April 23 - May 5</td>\n",
       "      <td>week1</td>\n",
       "      <td>22694.0</td>\n",
       "    </tr>\n",
       "    <tr>\n",
       "      <th>2</th>\n",
       "      <td>501828.0</td>\n",
       "      <td>282464.0</td>\n",
       "      <td>93254.0</td>\n",
       "      <td>36167.0</td>\n",
       "      <td>40 - 54</td>\n",
       "      <td>NaN</td>\n",
       "      <td>NaN</td>\n",
       "      <td>NaN</td>\n",
       "      <td>NaN</td>\n",
       "      <td>NaN</td>\n",
       "      <td>...</td>\n",
       "      <td>NaN</td>\n",
       "      <td>NaN</td>\n",
       "      <td>NaN</td>\n",
       "      <td>NaN</td>\n",
       "      <td>NaN</td>\n",
       "      <td>NaN</td>\n",
       "      <td>2020</td>\n",
       "      <td>April 23 - May 5</td>\n",
       "      <td>week1</td>\n",
       "      <td>22694.0</td>\n",
       "    </tr>\n",
       "    <tr>\n",
       "      <th>3</th>\n",
       "      <td>484964.0</td>\n",
       "      <td>179435.0</td>\n",
       "      <td>36182.0</td>\n",
       "      <td>2111.0</td>\n",
       "      <td>55 - 64</td>\n",
       "      <td>NaN</td>\n",
       "      <td>NaN</td>\n",
       "      <td>NaN</td>\n",
       "      <td>NaN</td>\n",
       "      <td>NaN</td>\n",
       "      <td>...</td>\n",
       "      <td>NaN</td>\n",
       "      <td>NaN</td>\n",
       "      <td>NaN</td>\n",
       "      <td>NaN</td>\n",
       "      <td>NaN</td>\n",
       "      <td>NaN</td>\n",
       "      <td>2020</td>\n",
       "      <td>April 23 - May 5</td>\n",
       "      <td>week1</td>\n",
       "      <td>22694.0</td>\n",
       "    </tr>\n",
       "    <tr>\n",
       "      <th>4</th>\n",
       "      <td>544074.0</td>\n",
       "      <td>190534.0</td>\n",
       "      <td>2312.0</td>\n",
       "      <td>0.0</td>\n",
       "      <td>65 and above</td>\n",
       "      <td>NaN</td>\n",
       "      <td>NaN</td>\n",
       "      <td>NaN</td>\n",
       "      <td>NaN</td>\n",
       "      <td>NaN</td>\n",
       "      <td>...</td>\n",
       "      <td>NaN</td>\n",
       "      <td>NaN</td>\n",
       "      <td>NaN</td>\n",
       "      <td>NaN</td>\n",
       "      <td>NaN</td>\n",
       "      <td>NaN</td>\n",
       "      <td>2020</td>\n",
       "      <td>April 23 - May 5</td>\n",
       "      <td>week1</td>\n",
       "      <td>22694.0</td>\n",
       "    </tr>\n",
       "  </tbody>\n",
       "</table>\n",
       "<p>5 rows × 30 columns</p>\n",
       "</div>"
      ],
      "text/plain": [
       "   Enough of the kinds of food wanted  \\\n",
       "0                            121151.0   \n",
       "1                            493462.0   \n",
       "2                            501828.0   \n",
       "3                            484964.0   \n",
       "4                            544074.0   \n",
       "\n",
       "   Enough Food, but not always the kinds wanted  Sometimes not enough to eat  \\\n",
       "0                                       88797.0                       2389.0   \n",
       "1                                      413244.0                     164615.0   \n",
       "2                                      282464.0                      93254.0   \n",
       "3                                      179435.0                      36182.0   \n",
       "4                                      190534.0                       2312.0   \n",
       "\n",
       "   Often not enough to eat           Age Sex_At_Birth Race Education  \\\n",
       "0                      0.0       18 - 24          NaN  NaN       NaN   \n",
       "1                  46441.0       25 - 39          NaN  NaN       NaN   \n",
       "2                  36167.0       40 - 54          NaN  NaN       NaN   \n",
       "3                   2111.0       55 - 64          NaN  NaN       NaN   \n",
       "4                      0.0  65 and above          NaN  NaN       NaN   \n",
       "\n",
       "  Marital_Status Children_Present  ... Active_Duty House_Receives_SNAP  \\\n",
       "0            NaN              NaN  ...         NaN                 NaN   \n",
       "1            NaN              NaN  ...         NaN                 NaN   \n",
       "2            NaN              NaN  ...         NaN                 NaN   \n",
       "3            NaN              NaN  ...         NaN                 NaN   \n",
       "4            NaN              NaN  ...         NaN                 NaN   \n",
       "\n",
       "  Used_To_Meet_Needs Provider_Of_Free_Groceries Freq_Feel_Depressed  \\\n",
       "0                NaN                        NaN                 NaN   \n",
       "1                NaN                        NaN                 NaN   \n",
       "2                NaN                        NaN                 NaN   \n",
       "3                NaN                        NaN                 NaN   \n",
       "4                NaN                        NaN                 NaN   \n",
       "\n",
       "  Freq_Feel_Anxious  Year         week_name   Week New Covid Cases  \n",
       "0               NaN  2020  April 23 - May 5  week1         22694.0  \n",
       "1               NaN  2020  April 23 - May 5  week1         22694.0  \n",
       "2               NaN  2020  April 23 - May 5  week1         22694.0  \n",
       "3               NaN  2020  April 23 - May 5  week1         22694.0  \n",
       "4               NaN  2020  April 23 - May 5  week1         22694.0  \n",
       "\n",
       "[5 rows x 30 columns]"
      ]
     },
     "execution_count": 3,
     "metadata": {},
     "output_type": "execute_result"
    }
   ],
   "source": [
    "food_covid_df.head()"
   ]
  },
  {
   "cell_type": "code",
   "execution_count": 4,
   "id": "e8e286dc",
   "metadata": {},
   "outputs": [
    {
     "data": {
      "text/plain": [
       "(232764, 30)"
      ]
     },
     "execution_count": 4,
     "metadata": {},
     "output_type": "execute_result"
    }
   ],
   "source": [
    "food_covid_df.shape"
   ]
  },
  {
   "cell_type": "code",
   "execution_count": 5,
   "id": "54c0c07e",
   "metadata": {},
   "outputs": [
    {
     "data": {
      "text/plain": [
       "Index(['Enough of the kinds of food wanted',\n",
       "       'Enough Food, but not always the kinds wanted',\n",
       "       'Sometimes not enough to eat', 'Often not enough to eat', 'Age',\n",
       "       'Sex_At_Birth', 'Race', 'Education', 'Marital_Status',\n",
       "       'Children_Present', 'Unemployed_Last_4', 'Employed_Last_7',\n",
       "       'Reason_Not_Working', 'Receiving_Pay_No_Work', 'Income',\n",
       "       'Health_Status', 'Covered_By_Insurance', 'Caught_Up_On_Mortgage',\n",
       "       'Location', 'Household_Size', 'Active_Duty', 'House_Receives_SNAP',\n",
       "       'Used_To_Meet_Needs', 'Provider_Of_Free_Groceries',\n",
       "       'Freq_Feel_Depressed', 'Freq_Feel_Anxious', 'Year', 'week_name', 'Week',\n",
       "       'New Covid Cases'],\n",
       "      dtype='object')"
      ]
     },
     "execution_count": 5,
     "metadata": {},
     "output_type": "execute_result"
    }
   ],
   "source": [
    "food_covid_df.columns"
   ]
  },
  {
   "cell_type": "markdown",
   "id": "d23eea11",
   "metadata": {},
   "source": [
    "#### Handling Missing Values"
   ]
  },
  {
   "cell_type": "code",
   "execution_count": 88,
   "id": "b1dad98b",
   "metadata": {},
   "outputs": [
    {
     "data": {
      "text/plain": [
       "Enough of the kinds of food wanted                   0\n",
       "Enough Food, but not always the kinds wanted         0\n",
       "Sometimes not enough to eat                          0\n",
       "Often not enough to eat                              0\n",
       "Age                                             223329\n",
       "Sex_At_Birth                                    230418\n",
       "Race                                            226899\n",
       "Education                                       227460\n",
       "Marital_Status                                  226899\n",
       "Children_Present                                230826\n",
       "Unemployed_Last_4                               229245\n",
       "Employed_Last_7                                 229245\n",
       "Reason_Not_Working                              207468\n",
       "Receiving_Pay_No_Work                           228684\n",
       "Income                                          222207\n",
       "Health_Status                                   227868\n",
       "Covered_By_Insurance                            228327\n",
       "Caught_Up_On_Mortgage                           227460\n",
       "Location                                             0\n",
       "Household_Size                                  224553\n",
       "Active_Duty                                     229704\n",
       "House_Receives_SNAP                             230163\n",
       "Used_To_Meet_Needs                              224910\n",
       "Provider_Of_Free_Groceries                      221748\n",
       "Freq_Feel_Depressed                             226899\n",
       "Freq_Feel_Anxious                               224859\n",
       "Year                                                 0\n",
       "week_name                                            0\n",
       "Week                                                 0\n",
       "New Covid Cases                                  55557\n",
       "dtype: int64"
      ]
     },
     "execution_count": 88,
     "metadata": {},
     "output_type": "execute_result"
    }
   ],
   "source": [
    "#To find the number of `Nan` objects within the given series\n",
    "food_covid_df.isna().sum()"
   ]
  },
  {
   "cell_type": "code",
   "execution_count": 89,
   "id": "9c647794",
   "metadata": {},
   "outputs": [
    {
     "data": {
      "text/plain": [
       "(232764, 30)"
      ]
     },
     "execution_count": 89,
     "metadata": {},
     "output_type": "execute_result"
    }
   ],
   "source": [
    "food_covid_df.shape"
   ]
  },
  {
   "cell_type": "code",
   "execution_count": 90,
   "id": "b4082879",
   "metadata": {},
   "outputs": [
    {
     "data": {
      "text/plain": [
       "(0, 30)"
      ]
     },
     "execution_count": 90,
     "metadata": {},
     "output_type": "execute_result"
    }
   ],
   "source": [
    "food_covid_df.dropna().shape"
   ]
  },
  {
   "cell_type": "code",
   "execution_count": 91,
   "id": "1df0d71b",
   "metadata": {},
   "outputs": [
    {
     "data": {
      "text/plain": [
       "(232764, 30)"
      ]
     },
     "execution_count": 91,
     "metadata": {},
     "output_type": "execute_result"
    }
   ],
   "source": [
    "food_covid_df.dropna(how = 'all').shape"
   ]
  },
  {
   "cell_type": "code",
   "execution_count": 92,
   "id": "f9de2952",
   "metadata": {},
   "outputs": [
    {
     "name": "stdout",
     "output_type": "stream",
     "text": [
      "The percentage of null values in the column Enough of the kinds of food wanted is :      0.0\n",
      "The percentage of null values in the column Enough Food, but not always the kinds wanted is :      0.0\n",
      "The percentage of null values in the column Sometimes not enough to eat is :      0.0\n",
      "The percentage of null values in the column Often not enough to eat is :      0.0\n",
      "The percentage of null values in the column Age is :      95.94653812445223\n",
      "The percentage of null values in the column Sex_At_Birth is :      98.99211218229624\n",
      "The percentage of null values in the column Race is :      97.48028045574057\n",
      "The percentage of null values in the column Education is :      97.72129710780018\n",
      "The percentage of null values in the column Marital_Status is :      97.48028045574057\n",
      "The percentage of null values in the column Children_Present is :      99.16739702015775\n",
      "The percentage of null values in the column Unemployed_Last_4 is :      98.48816827344434\n",
      "The percentage of null values in the column Employed_Last_7 is :      98.48816827344434\n",
      "The percentage of null values in the column Reason_Not_Working is :      89.13234005258545\n",
      "The percentage of null values in the column Receiving_Pay_No_Work is :      98.24715162138476\n",
      "The percentage of null values in the column Income is :      95.46450482033305\n",
      "The percentage of null values in the column Health_Status is :      97.8965819456617\n",
      "The percentage of null values in the column Covered_By_Insurance is :      98.09377738825592\n",
      "The percentage of null values in the column Caught_Up_On_Mortgage is :      97.72129710780018\n",
      "The percentage of null values in the column Location is :      0.0\n",
      "The percentage of null values in the column Household_Size is :      96.47239263803681\n",
      "The percentage of null values in the column Active_Duty is :      98.68536371603857\n",
      "The percentage of null values in the column House_Receives_SNAP is :      98.88255915863277\n",
      "The percentage of null values in the column Used_To_Meet_Needs is :      96.62576687116564\n",
      "The percentage of null values in the column Provider_Of_Free_Groceries is :      95.26730937773883\n",
      "The percentage of null values in the column Freq_Feel_Depressed is :      97.48028045574057\n",
      "The percentage of null values in the column Freq_Feel_Anxious is :      96.60385626643296\n",
      "The percentage of null values in the column Year is :      0.0\n",
      "The percentage of null values in the column week_name is :      0.0\n",
      "The percentage of null values in the column Week is :      0.0\n",
      "The percentage of null values in the column New Covid Cases is :      23.868381708511627\n"
     ]
    }
   ],
   "source": [
    "columns_list = list(food_covid_df.columns)\n",
    "for col_name in columns_list:\n",
    "    percent = (food_covid_df[col_name].isna().sum()/food_covid_df.shape[0])*100\n",
    "    print(f'The percentage of null values in the column {col_name} is :     ', percent)"
   ]
  },
  {
   "cell_type": "markdown",
   "id": "7990c3a9",
   "metadata": {},
   "source": [
    "The percentage of null values in each categorical columns except Location, week_name, week, Year is approximately greater than 90% and data in which it is aggregated cannot perform any kind of imputaions for categorical variables"
   ]
  },
  {
   "cell_type": "code",
   "execution_count": 93,
   "id": "a20e1bef",
   "metadata": {},
   "outputs": [
    {
     "data": {
      "text/plain": [
       "(232764, 30)"
      ]
     },
     "execution_count": 93,
     "metadata": {},
     "output_type": "execute_result"
    }
   ],
   "source": [
    "food_covid_df.shape"
   ]
  },
  {
   "cell_type": "markdown",
   "id": "51808467",
   "metadata": {},
   "source": [
    "### Droping Null Instances of Covid "
   ]
  },
  {
   "cell_type": "code",
   "execution_count": 94,
   "id": "377852b3",
   "metadata": {},
   "outputs": [],
   "source": [
    "food_covid_df.dropna(subset=['New Covid Cases'],inplace = True)"
   ]
  },
  {
   "cell_type": "code",
   "execution_count": 95,
   "id": "85ef210a",
   "metadata": {},
   "outputs": [
    {
     "data": {
      "text/plain": [
       "(177207, 30)"
      ]
     },
     "execution_count": 95,
     "metadata": {},
     "output_type": "execute_result"
    }
   ],
   "source": [
    "food_covid_df.shape"
   ]
  },
  {
   "cell_type": "markdown",
   "id": "9f377214",
   "metadata": {},
   "source": [
    "### Handling Duplicates"
   ]
  },
  {
   "cell_type": "code",
   "execution_count": 96,
   "id": "ac1bb38f",
   "metadata": {},
   "outputs": [
    {
     "data": {
      "text/plain": [
       "(177207, 30)"
      ]
     },
     "execution_count": 96,
     "metadata": {},
     "output_type": "execute_result"
    }
   ],
   "source": [
    "food_covid_df.shape"
   ]
  },
  {
   "cell_type": "code",
   "execution_count": 97,
   "id": "2eefe675",
   "metadata": {},
   "outputs": [
    {
     "data": {
      "text/plain": [
       "False    176933\n",
       "True        274\n",
       "dtype: int64"
      ]
     },
     "execution_count": 97,
     "metadata": {},
     "output_type": "execute_result"
    }
   ],
   "source": [
    "food_covid_df.duplicated().value_counts()"
   ]
  },
  {
   "cell_type": "code",
   "execution_count": 98,
   "id": "b4b5eef0",
   "metadata": {},
   "outputs": [],
   "source": [
    "food_covid_df.drop_duplicates(inplace = True)"
   ]
  },
  {
   "cell_type": "code",
   "execution_count": 99,
   "id": "a9ddc676",
   "metadata": {},
   "outputs": [
    {
     "data": {
      "text/plain": [
       "(176933, 30)"
      ]
     },
     "execution_count": 99,
     "metadata": {},
     "output_type": "execute_result"
    }
   ],
   "source": [
    "food_covid_df.shape"
   ]
  },
  {
   "cell_type": "markdown",
   "id": "2e3add58",
   "metadata": {},
   "source": [
    "Successfully handled duplicates instances present in the dataset"
   ]
  },
  {
   "cell_type": "markdown",
   "id": "464b896d",
   "metadata": {},
   "source": [
    "### Checking Datatypes"
   ]
  },
  {
   "cell_type": "code",
   "execution_count": 100,
   "id": "0fe3753d",
   "metadata": {},
   "outputs": [
    {
     "data": {
      "text/plain": [
       "Enough of the kinds of food wanted              float64\n",
       "Enough Food, but not always the kinds wanted    float64\n",
       "Sometimes not enough to eat                     float64\n",
       "Often not enough to eat                         float64\n",
       "Age                                              object\n",
       "Sex_At_Birth                                     object\n",
       "Race                                             object\n",
       "Education                                        object\n",
       "Marital_Status                                   object\n",
       "Children_Present                                 object\n",
       "Unemployed_Last_4                                object\n",
       "Employed_Last_7                                  object\n",
       "Reason_Not_Working                               object\n",
       "Receiving_Pay_No_Work                            object\n",
       "Income                                           object\n",
       "Health_Status                                    object\n",
       "Covered_By_Insurance                             object\n",
       "Caught_Up_On_Mortgage                            object\n",
       "Location                                         object\n",
       "Household_Size                                   object\n",
       "Active_Duty                                      object\n",
       "House_Receives_SNAP                              object\n",
       "Used_To_Meet_Needs                               object\n",
       "Provider_Of_Free_Groceries                       object\n",
       "Freq_Feel_Depressed                              object\n",
       "Freq_Feel_Anxious                                object\n",
       "Year                                              int64\n",
       "week_name                                        object\n",
       "Week                                             object\n",
       "New Covid Cases                                 float64\n",
       "dtype: object"
      ]
     },
     "execution_count": 100,
     "metadata": {},
     "output_type": "execute_result"
    }
   ],
   "source": [
    "food_covid_df.dtypes"
   ]
  },
  {
   "cell_type": "markdown",
   "id": "3b416d81",
   "metadata": {},
   "source": [
    "### Checking for Outliers"
   ]
  },
  {
   "cell_type": "markdown",
   "id": "e1060982",
   "metadata": {},
   "source": [
    "The way in which the Food Security Data was aggregated with different categorical variables and its dependent values, can perform outliers test between each category variable and its dependent variables(Enough of the kinds of food wanted,Enough Food, but not always the kinds wanted,Sometimes not enough to eat,Often not enough to eat), But we can perform for New Covid Cases column"
   ]
  },
  {
   "cell_type": "markdown",
   "id": "297e745f",
   "metadata": {},
   "source": [
    "#### Detecting outliers using Boxplot:"
   ]
  },
  {
   "cell_type": "code",
   "execution_count": 101,
   "id": "af44c4a9",
   "metadata": {},
   "outputs": [
    {
     "data": {
      "image/png": "[encoded data removed]",
      "text/plain": [
       "<Figure size 640x480 with 1 Axes>"
      ]
     },
     "metadata": {},
     "output_type": "display_data"
    }
   ],
   "source": [
    "import seaborn as sns\n",
    "import matplotlib.pyplot as plt\n",
    "\n",
    "plt.boxplot(food_covid_df[\"New Covid Cases\"])\n",
    "plt.title(\"Boxplot of New Covid Cases\")\n",
    "plt.xlabel('Sample')\n",
    "plt.show()\n"
   ]
  },
  {
   "cell_type": "markdown",
   "id": "a322245d",
   "metadata": {},
   "source": [
    "There are no outliers present in the new covid cases column"
   ]
  },
  {
   "cell_type": "code",
   "execution_count": 102,
   "id": "480d6999",
   "metadata": {},
   "outputs": [],
   "source": [
    "food_covid_df.to_csv('food_covid_cleaned.csv',index = False)"
   ]
  },
  {
   "cell_type": "code",
   "execution_count": 103,
   "id": "4bf03d4d",
   "metadata": {},
   "outputs": [
    {
     "name": "stderr",
     "output_type": "stream",
     "text": [
      "/tmp/ipykernel_904580/431774743.py:1: DtypeWarning: Columns (9,13,15,20,21,22,23) have mixed types. Specify dtype option on import or set low_memory=False.\n",
      "  pd.read_csv('food_covid_cleaned.csv').head()\n"
     ]
    },
    {
     "data": {
      "text/html": [
       "<div>\n",
       "<style scoped>\n",
       "    .dataframe tbody tr th:only-of-type {\n",
       "        vertical-align: middle;\n",
       "    }\n",
       "\n",
       "    .dataframe tbody tr th {\n",
       "        vertical-align: top;\n",
       "    }\n",
       "\n",
       "    .dataframe thead th {\n",
       "        text-align: right;\n",
       "    }\n",
       "</style>\n",
       "<table border=\"1\" class=\"dataframe\">\n",
       "  <thead>\n",
       "    <tr style=\"text-align: right;\">\n",
       "      <th></th>\n",
       "      <th>Enough of the kinds of food wanted</th>\n",
       "      <th>Enough Food, but not always the kinds wanted</th>\n",
       "      <th>Sometimes not enough to eat</th>\n",
       "      <th>Often not enough to eat</th>\n",
       "      <th>Age</th>\n",
       "      <th>Sex_At_Birth</th>\n",
       "      <th>Race</th>\n",
       "      <th>Education</th>\n",
       "      <th>Marital_Status</th>\n",
       "      <th>Children_Present</th>\n",
       "      <th>...</th>\n",
       "      <th>Active_Duty</th>\n",
       "      <th>House_Receives_SNAP</th>\n",
       "      <th>Used_To_Meet_Needs</th>\n",
       "      <th>Provider_Of_Free_Groceries</th>\n",
       "      <th>Freq_Feel_Depressed</th>\n",
       "      <th>Freq_Feel_Anxious</th>\n",
       "      <th>Year</th>\n",
       "      <th>week_name</th>\n",
       "      <th>Week</th>\n",
       "      <th>New Covid Cases</th>\n",
       "    </tr>\n",
       "  </thead>\n",
       "  <tbody>\n",
       "    <tr>\n",
       "      <th>0</th>\n",
       "      <td>121151.0</td>\n",
       "      <td>88797.0</td>\n",
       "      <td>2389.0</td>\n",
       "      <td>0.0</td>\n",
       "      <td>18 - 24</td>\n",
       "      <td>NaN</td>\n",
       "      <td>NaN</td>\n",
       "      <td>NaN</td>\n",
       "      <td>NaN</td>\n",
       "      <td>NaN</td>\n",
       "      <td>...</td>\n",
       "      <td>NaN</td>\n",
       "      <td>NaN</td>\n",
       "      <td>NaN</td>\n",
       "      <td>NaN</td>\n",
       "      <td>NaN</td>\n",
       "      <td>NaN</td>\n",
       "      <td>2020</td>\n",
       "      <td>April 23 - May 5</td>\n",
       "      <td>week1</td>\n",
       "      <td>22694.0</td>\n",
       "    </tr>\n",
       "    <tr>\n",
       "      <th>1</th>\n",
       "      <td>493462.0</td>\n",
       "      <td>413244.0</td>\n",
       "      <td>164615.0</td>\n",
       "      <td>46441.0</td>\n",
       "      <td>25 - 39</td>\n",
       "      <td>NaN</td>\n",
       "      <td>NaN</td>\n",
       "      <td>NaN</td>\n",
       "      <td>NaN</td>\n",
       "      <td>NaN</td>\n",
       "      <td>...</td>\n",
       "      <td>NaN</td>\n",
       "      <td>NaN</td>\n",
       "      <td>NaN</td>\n",
       "      <td>NaN</td>\n",
       "      <td>NaN</td>\n",
       "      <td>NaN</td>\n",
       "      <td>2020</td>\n",
       "      <td>April 23 - May 5</td>\n",
       "      <td>week1</td>\n",
       "      <td>22694.0</td>\n",
       "    </tr>\n",
       "    <tr>\n",
       "      <th>2</th>\n",
       "      <td>501828.0</td>\n",
       "      <td>282464.0</td>\n",
       "      <td>93254.0</td>\n",
       "      <td>36167.0</td>\n",
       "      <td>40 - 54</td>\n",
       "      <td>NaN</td>\n",
       "      <td>NaN</td>\n",
       "      <td>NaN</td>\n",
       "      <td>NaN</td>\n",
       "      <td>NaN</td>\n",
       "      <td>...</td>\n",
       "      <td>NaN</td>\n",
       "      <td>NaN</td>\n",
       "      <td>NaN</td>\n",
       "      <td>NaN</td>\n",
       "      <td>NaN</td>\n",
       "      <td>NaN</td>\n",
       "      <td>2020</td>\n",
       "      <td>April 23 - May 5</td>\n",
       "      <td>week1</td>\n",
       "      <td>22694.0</td>\n",
       "    </tr>\n",
       "    <tr>\n",
       "      <th>3</th>\n",
       "      <td>484964.0</td>\n",
       "      <td>179435.0</td>\n",
       "      <td>36182.0</td>\n",
       "      <td>2111.0</td>\n",
       "      <td>55 - 64</td>\n",
       "      <td>NaN</td>\n",
       "      <td>NaN</td>\n",
       "      <td>NaN</td>\n",
       "      <td>NaN</td>\n",
       "      <td>NaN</td>\n",
       "      <td>...</td>\n",
       "      <td>NaN</td>\n",
       "      <td>NaN</td>\n",
       "      <td>NaN</td>\n",
       "      <td>NaN</td>\n",
       "      <td>NaN</td>\n",
       "      <td>NaN</td>\n",
       "      <td>2020</td>\n",
       "      <td>April 23 - May 5</td>\n",
       "      <td>week1</td>\n",
       "      <td>22694.0</td>\n",
       "    </tr>\n",
       "    <tr>\n",
       "      <th>4</th>\n",
       "      <td>544074.0</td>\n",
       "      <td>190534.0</td>\n",
       "      <td>2312.0</td>\n",
       "      <td>0.0</td>\n",
       "      <td>65 and above</td>\n",
       "      <td>NaN</td>\n",
       "      <td>NaN</td>\n",
       "      <td>NaN</td>\n",
       "      <td>NaN</td>\n",
       "      <td>NaN</td>\n",
       "      <td>...</td>\n",
       "      <td>NaN</td>\n",
       "      <td>NaN</td>\n",
       "      <td>NaN</td>\n",
       "      <td>NaN</td>\n",
       "      <td>NaN</td>\n",
       "      <td>NaN</td>\n",
       "      <td>2020</td>\n",
       "      <td>April 23 - May 5</td>\n",
       "      <td>week1</td>\n",
       "      <td>22694.0</td>\n",
       "    </tr>\n",
       "  </tbody>\n",
       "</table>\n",
       "<p>5 rows × 30 columns</p>\n",
       "</div>"
      ],
      "text/plain": [
       "   Enough of the kinds of food wanted  \\\n",
       "0                            121151.0   \n",
       "1                            493462.0   \n",
       "2                            501828.0   \n",
       "3                            484964.0   \n",
       "4                            544074.0   \n",
       "\n",
       "   Enough Food, but not always the kinds wanted  Sometimes not enough to eat  \\\n",
       "0                                       88797.0                       2389.0   \n",
       "1                                      413244.0                     164615.0   \n",
       "2                                      282464.0                      93254.0   \n",
       "3                                      179435.0                      36182.0   \n",
       "4                                      190534.0                       2312.0   \n",
       "\n",
       "   Often not enough to eat           Age Sex_At_Birth Race Education  \\\n",
       "0                      0.0       18 - 24          NaN  NaN       NaN   \n",
       "1                  46441.0       25 - 39          NaN  NaN       NaN   \n",
       "2                  36167.0       40 - 54          NaN  NaN       NaN   \n",
       "3                   2111.0       55 - 64          NaN  NaN       NaN   \n",
       "4                      0.0  65 and above          NaN  NaN       NaN   \n",
       "\n",
       "  Marital_Status Children_Present  ... Active_Duty House_Receives_SNAP  \\\n",
       "0            NaN              NaN  ...         NaN                 NaN   \n",
       "1            NaN              NaN  ...         NaN                 NaN   \n",
       "2            NaN              NaN  ...         NaN                 NaN   \n",
       "3            NaN              NaN  ...         NaN                 NaN   \n",
       "4            NaN              NaN  ...         NaN                 NaN   \n",
       "\n",
       "  Used_To_Meet_Needs Provider_Of_Free_Groceries Freq_Feel_Depressed  \\\n",
       "0                NaN                        NaN                 NaN   \n",
       "1                NaN                        NaN                 NaN   \n",
       "2                NaN                        NaN                 NaN   \n",
       "3                NaN                        NaN                 NaN   \n",
       "4                NaN                        NaN                 NaN   \n",
       "\n",
       "  Freq_Feel_Anxious  Year         week_name   Week New Covid Cases  \n",
       "0               NaN  2020  April 23 - May 5  week1         22694.0  \n",
       "1               NaN  2020  April 23 - May 5  week1         22694.0  \n",
       "2               NaN  2020  April 23 - May 5  week1         22694.0  \n",
       "3               NaN  2020  April 23 - May 5  week1         22694.0  \n",
       "4               NaN  2020  April 23 - May 5  week1         22694.0  \n",
       "\n",
       "[5 rows x 30 columns]"
      ]
     },
     "execution_count": 103,
     "metadata": {},
     "output_type": "execute_result"
    }
   ],
   "source": [
    "pd.read_csv('food_covid_cleaned.csv').head()"
   ]
  }
 ],
 "metadata": {
  "kernelspec": {
   "display_name": "Python 3 (ipykernel)",
   "language": "python",
   "name": "python3"
  },
  "language_info": {
   "codemirror_mode": {
    "name": "ipython",
    "version": 3
   },
   "file_extension": ".py",
   "mimetype": "text/x-python",
   "name": "python",
   "nbconvert_exporter": "python",
   "pygments_lexer": "ipython3",
   "version": "3.10.6"
  }
 },
 "nbformat": 4,
 "nbformat_minor": 5
}
