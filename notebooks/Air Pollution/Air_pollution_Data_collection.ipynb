{
 "cells": [
  {
   "cell_type": "code",
   "execution_count": 1513,
   "metadata": {
    "colab": {
     "base_uri": "https://localhost:8080/"
    },
    "executionInfo": {
     "elapsed": 20671,
     "status": "ok",
     "timestamp": 1668997051175,
     "user": {
      "displayName": "Dinesh Vennapoosa",
      "userId": "05727529709798008373"
     },
     "user_tz": 300
    },
    "id": "NIO01Um7J9XE",
    "outputId": "ab69dbbc-3ce1-40f9-b535-029a8612cd7f"
   },
   "outputs": [],
   "source": [
    "# from google.colab import drive\n",
    "# drive.mount('/content/drive')"
   ]
  },
  {
   "cell_type": "code",
   "execution_count": 1514,
   "metadata": {},
   "outputs": [],
   "source": [
    "# from zipfile import ZipFile\n",
    "# zf = ZipFile('Datasets.zip')\n",
    "# zf.extractall()\n",
    "# zf.close()"
   ]
  },
  {
   "cell_type": "markdown",
   "metadata": {},
   "source": [
    "## Gathering Data\n",
    "\n",
    "We have collected the Data from various resources that includes\n",
    "1. Data collected from official website of `United States Environmental Protection Agency` which contains pre-generated data of 'Criteria gases, Particulates(Air pollutants), Meteorological' on Daily basis. Link: https://aqs.epa.gov/aqsweb/airdata/download_files.html\n",
    "2. Trips by Distance data gathered from the webiste of `U.S. Department of Transportation` (https://data.bts.gov/Research-and-Statistics/Trips-by-Distance/w96p-f2qv)\n",
    "3. US State COVID 19 dataset obtained from the `GitHub` : https://github.com/nytimes/covid-19-data/tree/master/live \n"
   ]
  },
  {
   "cell_type": "markdown",
   "metadata": {},
   "source": [
    "## Data Preparation"
   ]
  },
  {
   "cell_type": "markdown",
   "metadata": {
    "id": "-9h2yyB9P3jQ"
   },
   "source": [
    "### Airquality Index Datasets(AQI) - Criteria gases,  Cleaning and Merging"
   ]
  },
  {
   "cell_type": "code",
   "execution_count": 2,
   "metadata": {
    "colab": {
     "base_uri": "https://localhost:8080/"
    },
    "executionInfo": {
     "elapsed": 699,
     "status": "ok",
     "timestamp": 1668980213251,
     "user": {
      "displayName": "Dinesh Vennapoosa",
      "userId": "05727529709798008373"
     },
     "user_tz": 300
    },
    "id": "6EAR5e71k9y3",
    "outputId": "26a43357-4d1d-4bd6-dad8-bd0dc4d37824"
   },
   "outputs": [],
   "source": [
    "#%cd /content/drive/MyDrive/Info-I project/Datasets"
   ]
  },
  {
   "cell_type": "markdown",
   "metadata": {},
   "source": [
    "#### Reading CSV files using Pandas"
   ]
  },
  {
   "cell_type": "code",
   "execution_count": 20,
   "metadata": {
    "id": "vMk9lS3opgc9"
   },
   "outputs": [],
   "source": [
    "import pandas as pd\n",
    "aqi_df_2020 = pd.read_csv('AQI/daily_aqi_by_county_2020.csv')\n",
    "aqi_df_2021 = pd.read_csv('AQI/daily_aqi_by_county_2021.csv')\n",
    "aqi_df_2022 = pd.read_csv('AQI/daily_aqi_by_county_2022.csv')"
   ]
  },
  {
   "cell_type": "code",
   "execution_count": 21,
   "metadata": {
    "colab": {
     "base_uri": "https://localhost:8080/",
     "height": 354
    },
    "executionInfo": {
     "elapsed": 205,
     "status": "ok",
     "timestamp": 1668811141036,
     "user": {
      "displayName": "Dinesh Vennapoosa",
      "userId": "05727529709798008373"
     },
     "user_tz": 300
    },
    "id": "c87-bZhDm5gK",
    "outputId": "b71fc2de-5549-4d75-83aa-407c2b8c76cb"
   },
   "outputs": [
    {
     "data": {
      "text/html": [
       "<div>\n",
       "<style scoped>\n",
       "    .dataframe tbody tr th:only-of-type {\n",
       "        vertical-align: middle;\n",
       "    }\n",
       "\n",
       "    .dataframe tbody tr th {\n",
       "        vertical-align: top;\n",
       "    }\n",
       "\n",
       "    .dataframe thead th {\n",
       "        text-align: right;\n",
       "    }\n",
       "</style>\n",
       "<table border=\"1\" class=\"dataframe\">\n",
       "  <thead>\n",
       "    <tr style=\"text-align: right;\">\n",
       "      <th></th>\n",
       "      <th>State Name</th>\n",
       "      <th>county Name</th>\n",
       "      <th>State Code</th>\n",
       "      <th>County Code</th>\n",
       "      <th>Date</th>\n",
       "      <th>AQI</th>\n",
       "      <th>Category</th>\n",
       "      <th>Defining Parameter</th>\n",
       "      <th>Defining Site</th>\n",
       "      <th>Number of Sites Reporting</th>\n",
       "    </tr>\n",
       "  </thead>\n",
       "  <tbody>\n",
       "    <tr>\n",
       "      <th>0</th>\n",
       "      <td>Alabama</td>\n",
       "      <td>Baldwin</td>\n",
       "      <td>1</td>\n",
       "      <td>3</td>\n",
       "      <td>2022-01-02</td>\n",
       "      <td>22</td>\n",
       "      <td>Good</td>\n",
       "      <td>PM2.5</td>\n",
       "      <td>01-003-0010</td>\n",
       "      <td>1</td>\n",
       "    </tr>\n",
       "    <tr>\n",
       "      <th>1</th>\n",
       "      <td>Alabama</td>\n",
       "      <td>Baldwin</td>\n",
       "      <td>1</td>\n",
       "      <td>3</td>\n",
       "      <td>2022-01-05</td>\n",
       "      <td>36</td>\n",
       "      <td>Good</td>\n",
       "      <td>PM2.5</td>\n",
       "      <td>01-003-0010</td>\n",
       "      <td>1</td>\n",
       "    </tr>\n",
       "    <tr>\n",
       "      <th>2</th>\n",
       "      <td>Alabama</td>\n",
       "      <td>Baldwin</td>\n",
       "      <td>1</td>\n",
       "      <td>3</td>\n",
       "      <td>2022-01-08</td>\n",
       "      <td>35</td>\n",
       "      <td>Good</td>\n",
       "      <td>PM2.5</td>\n",
       "      <td>01-003-0010</td>\n",
       "      <td>1</td>\n",
       "    </tr>\n",
       "    <tr>\n",
       "      <th>3</th>\n",
       "      <td>Alabama</td>\n",
       "      <td>Baldwin</td>\n",
       "      <td>1</td>\n",
       "      <td>3</td>\n",
       "      <td>2022-01-11</td>\n",
       "      <td>15</td>\n",
       "      <td>Good</td>\n",
       "      <td>PM2.5</td>\n",
       "      <td>01-003-0010</td>\n",
       "      <td>1</td>\n",
       "    </tr>\n",
       "    <tr>\n",
       "      <th>4</th>\n",
       "      <td>Alabama</td>\n",
       "      <td>Baldwin</td>\n",
       "      <td>1</td>\n",
       "      <td>3</td>\n",
       "      <td>2022-01-14</td>\n",
       "      <td>48</td>\n",
       "      <td>Good</td>\n",
       "      <td>PM2.5</td>\n",
       "      <td>01-003-0010</td>\n",
       "      <td>1</td>\n",
       "    </tr>\n",
       "  </tbody>\n",
       "</table>\n",
       "</div>"
      ],
      "text/plain": [
       "  State Name county Name  State Code  County Code        Date  AQI Category  \\\n",
       "0    Alabama     Baldwin           1            3  2022-01-02   22     Good   \n",
       "1    Alabama     Baldwin           1            3  2022-01-05   36     Good   \n",
       "2    Alabama     Baldwin           1            3  2022-01-08   35     Good   \n",
       "3    Alabama     Baldwin           1            3  2022-01-11   15     Good   \n",
       "4    Alabama     Baldwin           1            3  2022-01-14   48     Good   \n",
       "\n",
       "  Defining Parameter Defining Site  Number of Sites Reporting  \n",
       "0              PM2.5   01-003-0010                          1  \n",
       "1              PM2.5   01-003-0010                          1  \n",
       "2              PM2.5   01-003-0010                          1  \n",
       "3              PM2.5   01-003-0010                          1  \n",
       "4              PM2.5   01-003-0010                          1  "
      ]
     },
     "execution_count": 21,
     "metadata": {},
     "output_type": "execute_result"
    }
   ],
   "source": [
    "aqi_df_2022.head()"
   ]
  },
  {
   "cell_type": "code",
   "execution_count": 22,
   "metadata": {
    "colab": {
     "base_uri": "https://localhost:8080/"
    },
    "executionInfo": {
     "elapsed": 213,
     "status": "ok",
     "timestamp": 1668811143438,
     "user": {
      "displayName": "Dinesh Vennapoosa",
      "userId": "05727529709798008373"
     },
     "user_tz": 300
    },
    "id": "di0BFvYwnUqU",
    "outputId": "99296da0-6792-4610-a2c8-3786125d0717"
   },
   "outputs": [
    {
     "data": {
      "text/plain": [
       "Index(['State Name', 'county Name', 'State Code', 'County Code', 'Date', 'AQI',\n",
       "       'Category', 'Defining Parameter', 'Defining Site',\n",
       "       'Number of Sites Reporting'],\n",
       "      dtype='object')"
      ]
     },
     "execution_count": 22,
     "metadata": {},
     "output_type": "execute_result"
    }
   ],
   "source": [
    "aqi_df_2022.columns"
   ]
  },
  {
   "cell_type": "markdown",
   "metadata": {},
   "source": [
    "#### Feature selection or Removing irrelevant Data"
   ]
  },
  {
   "cell_type": "code",
   "execution_count": 23,
   "metadata": {
    "id": "2YRER51opeLd"
   },
   "outputs": [],
   "source": [
    "aqi_2020 = aqi_df_2020[['Date','State Name', 'AQI']]\n",
    "aqi_2021 = aqi_df_2021[['Date','State Name', 'AQI']]\n",
    "aqi_2022 = aqi_df_2022[['Date','State Name', 'AQI']]"
   ]
  },
  {
   "cell_type": "markdown",
   "metadata": {},
   "source": [
    "#### Concatenating Datasets along axis =0 (row)"
   ]
  },
  {
   "cell_type": "code",
   "execution_count": 24,
   "metadata": {
    "colab": {
     "base_uri": "https://localhost:8080/",
     "height": 206
    },
    "executionInfo": {
     "elapsed": 192,
     "status": "ok",
     "timestamp": 1668811149310,
     "user": {
      "displayName": "Dinesh Vennapoosa",
      "userId": "05727529709798008373"
     },
     "user_tz": 300
    },
    "id": "-sSMEl65q3gz",
    "outputId": "d6dcadde-4372-4e3f-93fd-588a4cb6c38f",
    "scrolled": true
   },
   "outputs": [
    {
     "data": {
      "text/html": [
       "<div>\n",
       "<style scoped>\n",
       "    .dataframe tbody tr th:only-of-type {\n",
       "        vertical-align: middle;\n",
       "    }\n",
       "\n",
       "    .dataframe tbody tr th {\n",
       "        vertical-align: top;\n",
       "    }\n",
       "\n",
       "    .dataframe thead th {\n",
       "        text-align: right;\n",
       "    }\n",
       "</style>\n",
       "<table border=\"1\" class=\"dataframe\">\n",
       "  <thead>\n",
       "    <tr style=\"text-align: right;\">\n",
       "      <th></th>\n",
       "      <th>Date</th>\n",
       "      <th>State Name</th>\n",
       "      <th>AQI</th>\n",
       "    </tr>\n",
       "  </thead>\n",
       "  <tbody>\n",
       "    <tr>\n",
       "      <th>0</th>\n",
       "      <td>2020-01-01</td>\n",
       "      <td>Alabama</td>\n",
       "      <td>48</td>\n",
       "    </tr>\n",
       "    <tr>\n",
       "      <th>1</th>\n",
       "      <td>2020-01-04</td>\n",
       "      <td>Alabama</td>\n",
       "      <td>13</td>\n",
       "    </tr>\n",
       "    <tr>\n",
       "      <th>2</th>\n",
       "      <td>2020-01-07</td>\n",
       "      <td>Alabama</td>\n",
       "      <td>14</td>\n",
       "    </tr>\n",
       "    <tr>\n",
       "      <th>3</th>\n",
       "      <td>2020-01-10</td>\n",
       "      <td>Alabama</td>\n",
       "      <td>39</td>\n",
       "    </tr>\n",
       "    <tr>\n",
       "      <th>4</th>\n",
       "      <td>2020-01-13</td>\n",
       "      <td>Alabama</td>\n",
       "      <td>29</td>\n",
       "    </tr>\n",
       "  </tbody>\n",
       "</table>\n",
       "</div>"
      ],
      "text/plain": [
       "         Date State Name  AQI\n",
       "0  2020-01-01    Alabama   48\n",
       "1  2020-01-04    Alabama   13\n",
       "2  2020-01-07    Alabama   14\n",
       "3  2020-01-10    Alabama   39\n",
       "4  2020-01-13    Alabama   29"
      ]
     },
     "execution_count": 24,
     "metadata": {},
     "output_type": "execute_result"
    }
   ],
   "source": [
    "aqi_df = pd.concat([aqi_2020,aqi_2021,aqi_2022],axis = 0, ignore_index = True)\n",
    "aqi_df.head()"
   ]
  },
  {
   "cell_type": "code",
   "execution_count": 25,
   "metadata": {},
   "outputs": [
    {
     "data": {
      "text/plain": [
       "('2020-01-01', '2022-11-02')"
      ]
     },
     "execution_count": 25,
     "metadata": {},
     "output_type": "execute_result"
    }
   ],
   "source": [
    "aqi_df['Date'].min(),aqi_df['Date'].max()"
   ]
  },
  {
   "cell_type": "markdown",
   "metadata": {},
   "source": [
    "#### Renaming Columns of a Dataframe"
   ]
  },
  {
   "cell_type": "code",
   "execution_count": 26,
   "metadata": {
    "colab": {
     "base_uri": "https://localhost:8080/"
    },
    "executionInfo": {
     "elapsed": 221,
     "status": "ok",
     "timestamp": 1668811155309,
     "user": {
      "displayName": "Dinesh Vennapoosa",
      "userId": "05727529709798008373"
     },
     "user_tz": 300
    },
    "id": "I-RFl8yfXue2",
    "outputId": "57837f8f-60d8-4dd4-d83b-26ddac72501f",
    "scrolled": false
   },
   "outputs": [],
   "source": [
    "# aqi_df.rename(columns={'county Name':'County Name'},inplace= True)"
   ]
  },
  {
   "cell_type": "code",
   "execution_count": 27,
   "metadata": {},
   "outputs": [],
   "source": [
    "# Removing spaces begining and end of the string and coverting it to title.\n",
    "# aqi_df['County Name'] = aqi_df['County Name'].apply(lambda x : x.strip().title())\n",
    "aqi_df['State Name'] = aqi_df['State Name'].apply(lambda x : x.strip().title())\n",
    "aqi_df['Date'] = aqi_df['Date'].apply(lambda x : x.strip())"
   ]
  },
  {
   "cell_type": "markdown",
   "metadata": {},
   "source": [
    "#### Checking and handling Outliers"
   ]
  },
  {
   "cell_type": "code",
   "execution_count": 28,
   "metadata": {},
   "outputs": [
    {
     "data": {
      "text/html": [
       "<div>\n",
       "<style scoped>\n",
       "    .dataframe tbody tr th:only-of-type {\n",
       "        vertical-align: middle;\n",
       "    }\n",
       "\n",
       "    .dataframe tbody tr th {\n",
       "        vertical-align: top;\n",
       "    }\n",
       "\n",
       "    .dataframe thead th {\n",
       "        text-align: right;\n",
       "    }\n",
       "</style>\n",
       "<table border=\"1\" class=\"dataframe\">\n",
       "  <thead>\n",
       "    <tr style=\"text-align: right;\">\n",
       "      <th></th>\n",
       "      <th>AQI</th>\n",
       "    </tr>\n",
       "  </thead>\n",
       "  <tbody>\n",
       "    <tr>\n",
       "      <th>count</th>\n",
       "      <td>853012.000000</td>\n",
       "    </tr>\n",
       "    <tr>\n",
       "      <th>mean</th>\n",
       "      <td>39.046880</td>\n",
       "    </tr>\n",
       "    <tr>\n",
       "      <th>std</th>\n",
       "      <td>25.021704</td>\n",
       "    </tr>\n",
       "    <tr>\n",
       "      <th>min</th>\n",
       "      <td>0.000000</td>\n",
       "    </tr>\n",
       "    <tr>\n",
       "      <th>25%</th>\n",
       "      <td>28.000000</td>\n",
       "    </tr>\n",
       "    <tr>\n",
       "      <th>50%</th>\n",
       "      <td>37.000000</td>\n",
       "    </tr>\n",
       "    <tr>\n",
       "      <th>75%</th>\n",
       "      <td>46.000000</td>\n",
       "    </tr>\n",
       "    <tr>\n",
       "      <th>max</th>\n",
       "      <td>7577.000000</td>\n",
       "    </tr>\n",
       "  </tbody>\n",
       "</table>\n",
       "</div>"
      ],
      "text/plain": [
       "                 AQI\n",
       "count  853012.000000\n",
       "mean       39.046880\n",
       "std        25.021704\n",
       "min         0.000000\n",
       "25%        28.000000\n",
       "50%        37.000000\n",
       "75%        46.000000\n",
       "max      7577.000000"
      ]
     },
     "execution_count": 28,
     "metadata": {},
     "output_type": "execute_result"
    }
   ],
   "source": [
    "aqi_df.describe()"
   ]
  },
  {
   "cell_type": "markdown",
   "metadata": {},
   "source": [
    "Here we can observe that mean value of AQI is 39.046 and std is 25.02 and maximum value it could be mean+st = 39.046+25.0217 = 64.06, but from the descriptive statistics the max value is 7,577 which is far more greater than the 64.06. So, from this we observed that there are outliers that needs to be handled."
   ]
  },
  {
   "cell_type": "markdown",
   "metadata": {},
   "source": [
    "#### Outlier detection through box plot"
   ]
  },
  {
   "cell_type": "code",
   "execution_count": 29,
   "metadata": {},
   "outputs": [
    {
     "data": {
      "image/png": "[encoded data removed]",
      "text/plain": [
       "<Figure size 640x480 with 1 Axes>"
      ]
     },
     "metadata": {},
     "output_type": "display_data"
    }
   ],
   "source": [
    "import numpy as np\n",
    "import seaborn as sns\n",
    "import matplotlib.pyplot as plt\n",
    "\n",
    "plt.boxplot(aqi_df['AQI'], vert=False)\n",
    "plt.title(\"Detecting outliers for AQI using Boxplot\")\n",
    "plt.xlabel('Sample')\n",
    "plt.show()"
   ]
  },
  {
   "cell_type": "markdown",
   "metadata": {},
   "source": [
    "From this visualization, we can see the outliers"
   ]
  },
  {
   "cell_type": "markdown",
   "metadata": {},
   "source": [
    "#### Outlier detection using Inter Quantile Range(IQR)"
   ]
  },
  {
   "cell_type": "code",
   "execution_count": 30,
   "metadata": {},
   "outputs": [
    {
     "name": "stdout",
     "output_type": "stream",
     "text": [
      "Outliers from IQR method in percentage:  4.685631620657154\n"
     ]
    }
   ],
   "source": [
    "outliers = []\n",
    "def detect_outliers_iqr(data):\n",
    "    data = sorted(data)\n",
    "    q1 = np.percentile(data, 25)\n",
    "    q3 = np.percentile(data, 75)\n",
    "    # print(q1, q3)\n",
    "    IQR = q3-q1\n",
    "    lwr_bound = q1-(1.5*IQR)\n",
    "    upr_bound = q3+(1.5*IQR)\n",
    "    # print(lwr_bound, upr_bound)\n",
    "    for i in data: \n",
    "        if (i<lwr_bound or i>upr_bound):\n",
    "            outliers.append(i)\n",
    "    return outliers\n",
    "\n",
    "sample_outliers = detect_outliers_iqr(aqi_df['AQI'])\n",
    "print(\"Outliers from IQR method in percentage: \", (len(sample_outliers)/aqi_df.shape[0])*100)"
   ]
  },
  {
   "cell_type": "markdown",
   "metadata": {},
   "source": [
    "#### Handling Outliers"
   ]
  },
  {
   "cell_type": "markdown",
   "metadata": {},
   "source": [
    "##### Handling outliers through Quantile based flooring and capping"
   ]
  },
  {
   "cell_type": "code",
   "execution_count": 31,
   "metadata": {},
   "outputs": [
    {
     "name": "stdout",
     "output_type": "stream",
     "text": [
      "1.0 73.0\n"
     ]
    }
   ],
   "source": [
    "import pandas as pd\n",
    "def flooring_capping(series):\n",
    "    original_data = series\n",
    "    sorted_data = sorted(series)\n",
    "    q1 = np.percentile(sorted_data, 25)\n",
    "    q3 = np.percentile(sorted_data, 75)\n",
    "    # print(q1, q3)\n",
    "    IQR = q3-q1\n",
    "    lwr_bound = q1-(1.5*IQR)\n",
    "    upr_bound = q3+(1.5*IQR)\n",
    "    print(lwr_bound, upr_bound)\n",
    "    corrected_list = []\n",
    "    for i in original_data: \n",
    "        if i<lwr_bound:\n",
    "            corrected_list.append(lwr_bound)\n",
    "        elif i>upr_bound:\n",
    "            corrected_list.append(upr_bound)\n",
    "        else:\n",
    "            corrected_list.append(i)\n",
    "    return pd.Series(corrected_list)\n",
    "\n",
    "aqi_df['AQI'] = flooring_capping(aqi_df['AQI'])\n"
   ]
  },
  {
   "cell_type": "markdown",
   "metadata": {},
   "source": [
    "#### checking outliers after handling it"
   ]
  },
  {
   "cell_type": "code",
   "execution_count": 32,
   "metadata": {},
   "outputs": [
    {
     "data": {
      "image/png": "[encoded data removed]",
      "text/plain": [
       "<Figure size 640x480 with 1 Axes>"
      ]
     },
     "metadata": {},
     "output_type": "display_data"
    }
   ],
   "source": [
    "plt.boxplot(aqi_df['AQI'], vert=False)\n",
    "plt.title(\"Detecting outliers for AQI using Boxplot\")\n",
    "plt.xlabel('Sample')\n",
    "plt.show()"
   ]
  },
  {
   "cell_type": "code",
   "execution_count": 33,
   "metadata": {},
   "outputs": [
    {
     "data": {
      "text/html": [
       "<div>\n",
       "<style scoped>\n",
       "    .dataframe tbody tr th:only-of-type {\n",
       "        vertical-align: middle;\n",
       "    }\n",
       "\n",
       "    .dataframe tbody tr th {\n",
       "        vertical-align: top;\n",
       "    }\n",
       "\n",
       "    .dataframe thead th {\n",
       "        text-align: right;\n",
       "    }\n",
       "</style>\n",
       "<table border=\"1\" class=\"dataframe\">\n",
       "  <thead>\n",
       "    <tr style=\"text-align: right;\">\n",
       "      <th></th>\n",
       "      <th>Date</th>\n",
       "      <th>State Name</th>\n",
       "      <th>AQI</th>\n",
       "    </tr>\n",
       "  </thead>\n",
       "  <tbody>\n",
       "    <tr>\n",
       "      <th>0</th>\n",
       "      <td>2020-01-01</td>\n",
       "      <td>Alabama</td>\n",
       "      <td>48.0</td>\n",
       "    </tr>\n",
       "    <tr>\n",
       "      <th>1</th>\n",
       "      <td>2020-01-04</td>\n",
       "      <td>Alabama</td>\n",
       "      <td>13.0</td>\n",
       "    </tr>\n",
       "    <tr>\n",
       "      <th>2</th>\n",
       "      <td>2020-01-07</td>\n",
       "      <td>Alabama</td>\n",
       "      <td>14.0</td>\n",
       "    </tr>\n",
       "    <tr>\n",
       "      <th>3</th>\n",
       "      <td>2020-01-10</td>\n",
       "      <td>Alabama</td>\n",
       "      <td>39.0</td>\n",
       "    </tr>\n",
       "    <tr>\n",
       "      <th>4</th>\n",
       "      <td>2020-01-13</td>\n",
       "      <td>Alabama</td>\n",
       "      <td>29.0</td>\n",
       "    </tr>\n",
       "  </tbody>\n",
       "</table>\n",
       "</div>"
      ],
      "text/plain": [
       "         Date State Name   AQI\n",
       "0  2020-01-01    Alabama  48.0\n",
       "1  2020-01-04    Alabama  13.0\n",
       "2  2020-01-07    Alabama  14.0\n",
       "3  2020-01-10    Alabama  39.0\n",
       "4  2020-01-13    Alabama  29.0"
      ]
     },
     "execution_count": 33,
     "metadata": {},
     "output_type": "execute_result"
    }
   ],
   "source": [
    "aqi_df.head()"
   ]
  },
  {
   "cell_type": "code",
   "execution_count": 34,
   "metadata": {},
   "outputs": [],
   "source": [
    "# aqi_states_list = list(aqi_df['State Name'].unique())"
   ]
  },
  {
   "cell_type": "code",
   "execution_count": 37,
   "metadata": {},
   "outputs": [
    {
     "data": {
      "text/html": [
       "<div>\n",
       "<style scoped>\n",
       "    .dataframe tbody tr th:only-of-type {\n",
       "        vertical-align: middle;\n",
       "    }\n",
       "\n",
       "    .dataframe tbody tr th {\n",
       "        vertical-align: top;\n",
       "    }\n",
       "\n",
       "    .dataframe thead th {\n",
       "        text-align: right;\n",
       "    }\n",
       "</style>\n",
       "<table border=\"1\" class=\"dataframe\">\n",
       "  <thead>\n",
       "    <tr style=\"text-align: right;\">\n",
       "      <th></th>\n",
       "      <th>Date</th>\n",
       "      <th>State Name</th>\n",
       "      <th>AQI</th>\n",
       "    </tr>\n",
       "  </thead>\n",
       "  <tbody>\n",
       "    <tr>\n",
       "      <th>0</th>\n",
       "      <td>2020-01-01</td>\n",
       "      <td>Alabama</td>\n",
       "      <td>48.0</td>\n",
       "    </tr>\n",
       "    <tr>\n",
       "      <th>377</th>\n",
       "      <td>2020-01-01</td>\n",
       "      <td>Alabama</td>\n",
       "      <td>38.0</td>\n",
       "    </tr>\n",
       "    <tr>\n",
       "      <th>938</th>\n",
       "      <td>2020-01-01</td>\n",
       "      <td>Alabama</td>\n",
       "      <td>28.0</td>\n",
       "    </tr>\n",
       "    <tr>\n",
       "      <th>1216</th>\n",
       "      <td>2020-01-01</td>\n",
       "      <td>Alabama</td>\n",
       "      <td>49.0</td>\n",
       "    </tr>\n",
       "    <tr>\n",
       "      <th>1582</th>\n",
       "      <td>2020-01-01</td>\n",
       "      <td>Alabama</td>\n",
       "      <td>8.0</td>\n",
       "    </tr>\n",
       "    <tr>\n",
       "      <th>1672</th>\n",
       "      <td>2020-01-01</td>\n",
       "      <td>Alabama</td>\n",
       "      <td>37.0</td>\n",
       "    </tr>\n",
       "    <tr>\n",
       "      <th>2036</th>\n",
       "      <td>2020-01-01</td>\n",
       "      <td>Alabama</td>\n",
       "      <td>54.0</td>\n",
       "    </tr>\n",
       "    <tr>\n",
       "      <th>2384</th>\n",
       "      <td>2020-01-01</td>\n",
       "      <td>Alabama</td>\n",
       "      <td>57.0</td>\n",
       "    </tr>\n",
       "    <tr>\n",
       "      <th>2745</th>\n",
       "      <td>2020-01-01</td>\n",
       "      <td>Alabama</td>\n",
       "      <td>20.0</td>\n",
       "    </tr>\n",
       "    <tr>\n",
       "      <th>3100</th>\n",
       "      <td>2020-01-01</td>\n",
       "      <td>Alabama</td>\n",
       "      <td>57.0</td>\n",
       "    </tr>\n",
       "    <tr>\n",
       "      <th>3706</th>\n",
       "      <td>2020-01-01</td>\n",
       "      <td>Alabama</td>\n",
       "      <td>21.0</td>\n",
       "    </tr>\n",
       "    <tr>\n",
       "      <th>4061</th>\n",
       "      <td>2020-01-01</td>\n",
       "      <td>Alabama</td>\n",
       "      <td>23.0</td>\n",
       "    </tr>\n",
       "  </tbody>\n",
       "</table>\n",
       "</div>"
      ],
      "text/plain": [
       "            Date State Name   AQI\n",
       "0     2020-01-01    Alabama  48.0\n",
       "377   2020-01-01    Alabama  38.0\n",
       "938   2020-01-01    Alabama  28.0\n",
       "1216  2020-01-01    Alabama  49.0\n",
       "1582  2020-01-01    Alabama   8.0\n",
       "1672  2020-01-01    Alabama  37.0\n",
       "2036  2020-01-01    Alabama  54.0\n",
       "2384  2020-01-01    Alabama  57.0\n",
       "2745  2020-01-01    Alabama  20.0\n",
       "3100  2020-01-01    Alabama  57.0\n",
       "3706  2020-01-01    Alabama  21.0\n",
       "4061  2020-01-01    Alabama  23.0"
      ]
     },
     "execution_count": 37,
     "metadata": {},
     "output_type": "execute_result"
    }
   ],
   "source": [
    "aqi_df[(aqi_df['Date']=='2020-01-01')&(aqi_df['State Name']=='Alabama')]"
   ]
  },
  {
   "cell_type": "code",
   "execution_count": null,
   "metadata": {},
   "outputs": [],
   "source": []
  },
  {
   "cell_type": "code",
   "execution_count": null,
   "metadata": {},
   "outputs": [],
   "source": []
  },
  {
   "cell_type": "code",
   "execution_count": 38,
   "metadata": {},
   "outputs": [
    {
     "data": {
      "text/html": [
       "<div>\n",
       "<style scoped>\n",
       "    .dataframe tbody tr th:only-of-type {\n",
       "        vertical-align: middle;\n",
       "    }\n",
       "\n",
       "    .dataframe tbody tr th {\n",
       "        vertical-align: top;\n",
       "    }\n",
       "\n",
       "    .dataframe thead th {\n",
       "        text-align: right;\n",
       "    }\n",
       "</style>\n",
       "<table border=\"1\" class=\"dataframe\">\n",
       "  <thead>\n",
       "    <tr style=\"text-align: right;\">\n",
       "      <th></th>\n",
       "      <th>Date</th>\n",
       "      <th>State Name</th>\n",
       "      <th>AQI</th>\n",
       "    </tr>\n",
       "  </thead>\n",
       "  <tbody>\n",
       "    <tr>\n",
       "      <th>0</th>\n",
       "      <td>2020-01-01</td>\n",
       "      <td>Alabama</td>\n",
       "      <td>36.666667</td>\n",
       "    </tr>\n",
       "    <tr>\n",
       "      <th>1</th>\n",
       "      <td>2020-01-01</td>\n",
       "      <td>Alaska</td>\n",
       "      <td>27.250000</td>\n",
       "    </tr>\n",
       "    <tr>\n",
       "      <th>2</th>\n",
       "      <td>2020-01-01</td>\n",
       "      <td>Arizona</td>\n",
       "      <td>43.307692</td>\n",
       "    </tr>\n",
       "    <tr>\n",
       "      <th>3</th>\n",
       "      <td>2020-01-01</td>\n",
       "      <td>Arkansas</td>\n",
       "      <td>35.454545</td>\n",
       "    </tr>\n",
       "    <tr>\n",
       "      <th>4</th>\n",
       "      <td>2020-01-01</td>\n",
       "      <td>California</td>\n",
       "      <td>55.358491</td>\n",
       "    </tr>\n",
       "  </tbody>\n",
       "</table>\n",
       "</div>"
      ],
      "text/plain": [
       "         Date  State Name        AQI\n",
       "0  2020-01-01     Alabama  36.666667\n",
       "1  2020-01-01      Alaska  27.250000\n",
       "2  2020-01-01     Arizona  43.307692\n",
       "3  2020-01-01    Arkansas  35.454545\n",
       "4  2020-01-01  California  55.358491"
      ]
     },
     "execution_count": 38,
     "metadata": {},
     "output_type": "execute_result"
    }
   ],
   "source": [
    "aqi_df = aqi_df.groupby(['Date','State Name']).mean().reset_index()\n",
    "aqi_df.head()"
   ]
  },
  {
   "cell_type": "markdown",
   "metadata": {},
   "source": [
    "#### Checking and Removing duplicate values in a dataframe"
   ]
  },
  {
   "cell_type": "code",
   "execution_count": 39,
   "metadata": {},
   "outputs": [
    {
     "data": {
      "text/plain": [
       "False    52157\n",
       "dtype: int64"
      ]
     },
     "execution_count": 39,
     "metadata": {},
     "output_type": "execute_result"
    }
   ],
   "source": [
    "aqi_df.duplicated(subset=['Date','State Name']).value_counts()"
   ]
  },
  {
   "cell_type": "markdown",
   "metadata": {},
   "source": [
    "There are no duplicated values present in the dataframe, not required to handle duplicate values"
   ]
  },
  {
   "cell_type": "code",
   "execution_count": 40,
   "metadata": {},
   "outputs": [
    {
     "data": {
      "text/plain": [
       "(52157, 3)"
      ]
     },
     "execution_count": 40,
     "metadata": {},
     "output_type": "execute_result"
    }
   ],
   "source": [
    "aqi_df.shape"
   ]
  },
  {
   "cell_type": "markdown",
   "metadata": {},
   "source": [
    "#### Checking for null Values"
   ]
  },
  {
   "cell_type": "code",
   "execution_count": 41,
   "metadata": {},
   "outputs": [
    {
     "data": {
      "text/plain": [
       "Date   State Name  AQI  \n",
       "False  False       False    52157\n",
       "dtype: int64"
      ]
     },
     "execution_count": 41,
     "metadata": {},
     "output_type": "execute_result"
    }
   ],
   "source": [
    "aqi_df.isna().value_counts()"
   ]
  },
  {
   "cell_type": "markdown",
   "metadata": {},
   "source": [
    "No null values are present in the AQI dataset after concatenation"
   ]
  },
  {
   "cell_type": "code",
   "execution_count": 112,
   "metadata": {
    "colab": {
     "base_uri": "https://localhost:8080/"
    },
    "executionInfo": {
     "elapsed": 2772,
     "status": "ok",
     "timestamp": 1668811163399,
     "user": {
      "displayName": "Dinesh Vennapoosa",
      "userId": "05727529709798008373"
     },
     "user_tz": 300
    },
    "id": "Cea4bcjLu2_D",
    "outputId": "6a7080dc-8c40-4638-8a01-6e3d99fba0cb",
    "scrolled": true
   },
   "outputs": [],
   "source": [
    "# %cd /home/students/divenna/info_project/Datasets/AQI/\n",
    "\n",
    "# aqi_df.to_csv('aqi_df.csv',index=False) # Saving the dataframe to CSV file"
   ]
  },
  {
   "cell_type": "code",
   "execution_count": 113,
   "metadata": {
    "scrolled": true
   },
   "outputs": [],
   "source": [
    "# aqi_df = pd.read_csv('aqi_df.csv')\n",
    "# aqi_df.head()"
   ]
  },
  {
   "cell_type": "markdown",
   "metadata": {
    "id": "6yfI_Nprv2cA"
   },
   "source": [
    "### Air Pollutants Merging and Cleaning"
   ]
  },
  {
   "cell_type": "code",
   "execution_count": 114,
   "metadata": {
    "colab": {
     "base_uri": "https://localhost:8080/"
    },
    "executionInfo": {
     "elapsed": 219,
     "status": "ok",
     "timestamp": 1668980244203,
     "user": {
      "displayName": "Dinesh Vennapoosa",
      "userId": "05727529709798008373"
     },
     "user_tz": 300
    },
    "id": "NJnT954rxtZX",
    "outputId": "7aee03b2-bf89-4e7b-8d23-cd838a8063a0"
   },
   "outputs": [
    {
     "name": "stdout",
     "output_type": "stream",
     "text": [
      "/home/students/divenna/info_project/Datasets\n"
     ]
    }
   ],
   "source": [
    "%cd /home/students/divenna/info_project/Datasets"
   ]
  },
  {
   "cell_type": "markdown",
   "metadata": {},
   "source": [
    "#### Reading CSV files using Pandas"
   ]
  },
  {
   "cell_type": "code",
   "execution_count": 1,
   "metadata": {},
   "outputs": [],
   "source": [
    "import pandas as pd\n"
   ]
  },
  {
   "cell_type": "code",
   "execution_count": 2,
   "metadata": {
    "id": "pPtF9jurvVtR"
   },
   "outputs": [],
   "source": [
    "pm10_2020_df = pd.read_csv('airpollutants/daily_pm10_2020.csv')\n",
    "pm10_2021_df = pd.read_csv('airpollutants/daily_pm10_2021.csv')\n",
    "pm10_2022_df = pd.read_csv('airpollutants/daily_pm10_2022.csv')"
   ]
  },
  {
   "cell_type": "code",
   "execution_count": 3,
   "metadata": {
    "id": "QGwDH9Z-8WeU"
   },
   "outputs": [
    {
     "name": "stderr",
     "output_type": "stream",
     "text": [
      "/tmp/ipykernel_725301/344075545.py:2: DtypeWarning: Columns (27) have mixed types. Specify dtype option on import or set low_memory=False.\n",
      "  pm2_2021_df = pd.read_csv('airpollutants/daily_pm2.5_2021.csv')\n",
      "/tmp/ipykernel_725301/344075545.py:3: DtypeWarning: Columns (27) have mixed types. Specify dtype option on import or set low_memory=False.\n",
      "  pm2_2022_df = pd.read_csv('airpollutants/daily_pm2.5_2022.csv')\n"
     ]
    }
   ],
   "source": [
    "pm2_2020_df = pd.read_csv('airpollutants/daily_pm2.5_2020.csv')\n",
    "pm2_2021_df = pd.read_csv('airpollutants/daily_pm2.5_2021.csv')\n",
    "pm2_2022_df = pd.read_csv('airpollutants/daily_pm2.5_2022.csv')"
   ]
  },
  {
   "cell_type": "code",
   "execution_count": 4,
   "metadata": {
    "id": "BcjoSzVE8kKK"
   },
   "outputs": [],
   "source": [
    "co_2020_df = pd.read_csv('airpollutants/daily_co_2020.csv')\n",
    "co_2021_df = pd.read_csv('airpollutants/daily_co_2021.csv')\n",
    "co_2022_df = pd.read_csv('airpollutants/daily_co_2022.csv')"
   ]
  },
  {
   "cell_type": "code",
   "execution_count": 5,
   "metadata": {
    "id": "7gHVuz3o8sGY"
   },
   "outputs": [],
   "source": [
    "no2_2020_df = pd.read_csv('airpollutants/daily_no2_2020.csv')\n",
    "no2_2021_df = pd.read_csv('airpollutants/daily_no2_2021.csv')\n",
    "no2_2022_df = pd.read_csv('airpollutants/daily_no2_2022.csv')"
   ]
  },
  {
   "cell_type": "code",
   "execution_count": 6,
   "metadata": {
    "id": "967Sdzvt813L"
   },
   "outputs": [],
   "source": [
    "ozone_2020_df = pd.read_csv('airpollutants/daily_ozone_2020.csv')\n",
    "ozone_2021_df = pd.read_csv('airpollutants/daily_ozone_2021.csv')\n",
    "ozone_2022_df = pd.read_csv('airpollutants/daily_ozone_2022.csv')"
   ]
  },
  {
   "cell_type": "code",
   "execution_count": 7,
   "metadata": {
    "id": "4owrA2c-9gqx"
   },
   "outputs": [],
   "source": [
    "so2_2020_df = pd.read_csv('airpollutants/daily_so2_2020.csv')\n",
    "so2_2021_df = pd.read_csv('airpollutants/daily_so2_2021.csv')\n",
    "so2_2022_df = pd.read_csv('airpollutants/daily_so2_2022.csv')"
   ]
  },
  {
   "cell_type": "markdown",
   "metadata": {},
   "source": [
    "#### Feature selection or Removing irrelevant Data"
   ]
  },
  {
   "cell_type": "code",
   "execution_count": 8,
   "metadata": {
    "id": "ZTSexodz190J"
   },
   "outputs": [],
   "source": [
    "pm10_2020 = pm10_2020_df[['Date Local','State Name','Arithmetic Mean']]\n",
    "pm10_2021 = pm10_2021_df[['Date Local','State Name','Arithmetic Mean']]\n",
    "pm10_2022 = pm10_2022_df[['Date Local','State Name','Arithmetic Mean']]\n",
    "\n",
    "pm2_2020 = pm2_2020_df[['Date Local','State Name','Arithmetic Mean']]\n",
    "pm2_2021 = pm2_2021_df[['Date Local','State Name','Arithmetic Mean']]\n",
    "pm2_2022 = pm2_2022_df[['Date Local','State Name','Arithmetic Mean']]\n",
    "\n",
    "co_2020 = co_2020_df[['Date Local','State Name','Arithmetic Mean']]\n",
    "co_2021 = co_2021_df[['Date Local','State Name','Arithmetic Mean']]\n",
    "co_2022 = co_2022_df[['Date Local','State Name','Arithmetic Mean']]\n",
    "\n",
    "no2_2020 = no2_2020_df[['Date Local','State Name','Arithmetic Mean']]\n",
    "no2_2021 = no2_2021_df[['Date Local','State Name','Arithmetic Mean']]\n",
    "no2_2022 = no2_2022_df[['Date Local','State Name','Arithmetic Mean']]\n",
    "\n",
    "ozone_2020 = ozone_2020_df[['Date Local','State Name','Arithmetic Mean']]\n",
    "ozone_2021 = ozone_2021_df[['Date Local','State Name','Arithmetic Mean']]\n",
    "ozone_2022 = ozone_2022_df[['Date Local','State Name','Arithmetic Mean']]\n",
    "\n",
    "so2_2020 = so2_2020_df[['Date Local','State Name','Arithmetic Mean']]\n",
    "so2_2021 = so2_2021_df[['Date Local','State Name','Arithmetic Mean']]\n",
    "so2_2022 = so2_2022_df[['Date Local','State Name','Arithmetic Mean']]"
   ]
  },
  {
   "cell_type": "markdown",
   "metadata": {},
   "source": [
    "#### Concatenating the Dataframes along axis =0 (row)"
   ]
  },
  {
   "cell_type": "code",
   "execution_count": 9,
   "metadata": {
    "id": "M075qqM4Ai0U"
   },
   "outputs": [],
   "source": [
    "pm10_df = pd.concat([pm10_2020,pm10_2021,pm10_2022],axis = 0, ignore_index = True)\n",
    "pm2_df = pd.concat([pm2_2020,pm2_2021,pm2_2022],axis = 0, ignore_index = True)\n",
    "co_df = pd.concat([co_2020,co_2021,co_2022],axis = 0, ignore_index = True)\n",
    "no2_df = pd.concat([no2_2020,no2_2021,no2_2022],axis = 0, ignore_index = True)\n",
    "ozone_df = pd.concat([ozone_2020,ozone_2021,ozone_2022],axis = 0, ignore_index = True)\n",
    "so2_df = pd.concat([so2_2020,so2_2021,so2_2022],axis = 0, ignore_index = True)"
   ]
  },
  {
   "cell_type": "code",
   "execution_count": 10,
   "metadata": {},
   "outputs": [
    {
     "data": {
      "text/plain": [
       "(436218, 1507227, 453393, 409327, 1016008, 805837)"
      ]
     },
     "execution_count": 10,
     "metadata": {},
     "output_type": "execute_result"
    }
   ],
   "source": [
    "pm10_df.shape[0],pm2_df.shape[0],co_df.shape[0],no2_df.shape[0],ozone_df.shape[0],so2_df.shape[0]"
   ]
  },
  {
   "cell_type": "markdown",
   "metadata": {},
   "source": [
    "#### Renaming columns"
   ]
  },
  {
   "cell_type": "code",
   "execution_count": 11,
   "metadata": {
    "id": "EtWpTkw0C_jA"
   },
   "outputs": [],
   "source": [
    "pm10_df.rename(columns = {'Arithmetic Mean':'pm10_mean','Date Local':'Date'}, inplace = True)\n",
    "pm2_df.rename(columns = {'Arithmetic Mean':'pm25_mean','Date Local':'Date'}, inplace = True)\n",
    "co_df.rename(columns = {'Arithmetic Mean':'co_mean','Date Local':'Date'}, inplace = True)\n",
    "no2_df.rename(columns = {'Arithmetic Mean':'no2_mean','Date Local':'Date'}, inplace = True)\n",
    "ozone_df.rename(columns = {'Arithmetic Mean':'o3_mean','Date Local':'Date'}, inplace = True)\n",
    "so2_df.rename(columns = {'Arithmetic Mean':'so2_mean','Date Local':'Date'}, inplace = True)"
   ]
  },
  {
   "cell_type": "markdown",
   "metadata": {},
   "source": [
    "### Checking and handling Outliers"
   ]
  },
  {
   "cell_type": "markdown",
   "metadata": {},
   "source": [
    "#### Outlier detection through box plot"
   ]
  },
  {
   "cell_type": "code",
   "execution_count": 12,
   "metadata": {},
   "outputs": [
    {
     "data": {
      "image/png": "[encoded data removed]",
      "text/plain": [
       "<Figure size 1500x1000 with 6 Axes>"
      ]
     },
     "metadata": {},
     "output_type": "display_data"
    }
   ],
   "source": [
    "import seaborn as sns\n",
    "import matplotlib.pyplot as plt\n",
    "\n",
    "fig = plt.figure(figsize = (15, 10))\n",
    "\n",
    "plt.subplot(2,3, 1)\n",
    "plt.boxplot(pm10_df['pm10_mean'], vert=False)\n",
    "plt.title(\"Detecting outliers for pm10 using Boxplot\")\n",
    "plt.xlabel('Sample')\n",
    "\n",
    "\n",
    "plt.subplot(2,3,2)\n",
    "plt.boxplot(pm2_df['pm25_mean'], vert=False)\n",
    "plt.title(\"Detecting outliers for pm2.5 using Boxplot\")\n",
    "plt.xlabel('Sample')\n",
    "\n",
    "\n",
    "\n",
    "plt.subplot(2,3,3)\n",
    "plt.boxplot(co_df['co_mean'], vert=False)\n",
    "plt.title(\"Detecting outliers for co using Boxplot\")\n",
    "plt.xlabel('Sample')\n",
    "\n",
    "\n",
    "plt.subplot(2,3,4)\n",
    "plt.boxplot(no2_df['no2_mean'], vert=False)\n",
    "plt.title(\"Detecting outliers for no2 using Boxplot\")\n",
    "plt.xlabel('Sample')\n",
    "\n",
    "\n",
    "plt.subplot(2,3,5)\n",
    "plt.boxplot(ozone_df['o3_mean'], vert=False)\n",
    "plt.title(\"Detecting outliers for o3 using Boxplot\")\n",
    "plt.xlabel('Sample')\n",
    "\n",
    "\n",
    "plt.subplot(2,3,6)\n",
    "plt.boxplot(so2_df['so2_mean'], vert=False)\n",
    "plt.title(\"Detecting outliers for so2 using Boxplot\")\n",
    "plt.xlabel('Sample')\n",
    "plt.show()\n"
   ]
  },
  {
   "cell_type": "markdown",
   "metadata": {},
   "source": [
    "From above box plots we can observe that each pollutant has some outliers and needs to be handled."
   ]
  },
  {
   "cell_type": "markdown",
   "metadata": {},
   "source": [
    "#### Outlier detection using Inter Quantile Range(IQR)"
   ]
  },
  {
   "cell_type": "code",
   "execution_count": 14,
   "metadata": {},
   "outputs": [],
   "source": [
    "import numpy as np"
   ]
  },
  {
   "cell_type": "code",
   "execution_count": 15,
   "metadata": {},
   "outputs": [
    {
     "name": "stdout",
     "output_type": "stream",
     "text": [
      "Outliers for pm10 from IQR method in percentage:  6.063023534104508\n",
      "Outliers for pm2.5 from IQR method in percentage:  5.039254206566098\n",
      "Outliers for co from IQR method in percentage:  4.350530334610371\n",
      "Outliers for no2 from IQR method in percentage:  4.224983937047886\n",
      "Outliers for ozone from IQR method in percentage:  0.5919244730356454\n",
      "Outliers for so2 from IQR method in percentage:  6.730145178243243\n"
     ]
    }
   ],
   "source": [
    "def detect_outliers_iqr(data):\n",
    "    outliers = []\n",
    "    data = sorted(data)\n",
    "    q1 = np.percentile(data, 25)\n",
    "    q3 = np.percentile(data, 75)\n",
    "    # print(q1, q3)\n",
    "    IQR = q3-q1\n",
    "    lwr_bound = q1-(1.5*IQR)\n",
    "    upr_bound = q3+(1.5*IQR)\n",
    "    # print(lwr_bound, upr_bound)\n",
    "    for i in data: \n",
    "        if (i<lwr_bound or i>upr_bound):\n",
    "            outliers.append(i)\n",
    "    return outliers\n",
    "    \n",
    "sample_outliers = detect_outliers_iqr(pm10_df['pm10_mean'])\n",
    "print(f\"Outliers for pm10 from IQR method in percentage: \", (len(sample_outliers)/pm10_df.shape[0])*100)\n",
    "\n",
    "sample_outliers = detect_outliers_iqr(pm2_df['pm25_mean'])\n",
    "print(f\"Outliers for pm2.5 from IQR method in percentage: \", (len(sample_outliers)/pm2_df.shape[0])*100)\n",
    "\n",
    "sample_outliers = detect_outliers_iqr(co_df['co_mean'])\n",
    "print(f\"Outliers for co from IQR method in percentage: \", (len(sample_outliers)/co_df.shape[0])*100)\n",
    "\n",
    "sample_outliers = detect_outliers_iqr(no2_df['no2_mean'])\n",
    "print(f\"Outliers for no2 from IQR method in percentage: \", (len(sample_outliers)/no2_df.shape[0])*100)\n",
    "\n",
    "sample_outliers = detect_outliers_iqr(ozone_df['o3_mean'])\n",
    "print(f\"Outliers for ozone from IQR method in percentage: \", (len(sample_outliers)/ozone_df.shape[0])*100)\n",
    "\n",
    "sample_outliers = detect_outliers_iqr(so2_df['so2_mean'])\n",
    "print(f\"Outliers for so2 from IQR method in percentage: \", (len(sample_outliers)/so2_df.shape[0])*100)"
   ]
  },
  {
   "cell_type": "markdown",
   "metadata": {},
   "source": [
    "From above IQR method we observe that every pollutant has outliers which is small portion of the overall data (6.6%, 5%,4%)"
   ]
  },
  {
   "cell_type": "markdown",
   "metadata": {},
   "source": [
    "#### Handling Outliers\n",
    "\n",
    "##### Handling outliers through Quantile based flooring and capping"
   ]
  },
  {
   "cell_type": "code",
   "execution_count": 16,
   "metadata": {},
   "outputs": [
    {
     "name": "stdout",
     "output_type": "stream",
     "text": [
      "-15.5 52.5\n",
      "-3.6000000000000014 18.0\n",
      "-0.12968700000000002 0.6511450000000001\n",
      "-9.480434999999998 22.745652999999997\n",
      "0.0022364999999999954 0.06152850000000001\n",
      "-1.1652174999999998 2.1391305\n"
     ]
    }
   ],
   "source": [
    "import pandas as pd\n",
    "def flooring_capping(series):\n",
    "    original_data = series\n",
    "    sorted_data = sorted(series)\n",
    "    q1 = np.percentile(sorted_data, 25)\n",
    "    q3 = np.percentile(sorted_data, 75)\n",
    "    # print(q1, q3)\n",
    "    IQR = q3-q1\n",
    "    lwr_bound = q1-(1.5*IQR)\n",
    "    upr_bound = q3+(1.5*IQR)\n",
    "    print(lwr_bound, upr_bound)\n",
    "    corrected_list = []\n",
    "    for i in original_data: \n",
    "        if i<lwr_bound:\n",
    "            corrected_list.append(lwr_bound)\n",
    "        elif i>upr_bound:\n",
    "            corrected_list.append(upr_bound)\n",
    "        else:\n",
    "            corrected_list.append(i)\n",
    "    return pd.Series(corrected_list)\n",
    "\n",
    "pm10_df['pm10_mean'] = flooring_capping(pm10_df['pm10_mean'])\n",
    "pm2_df['pm25_mean'] = flooring_capping(pm2_df['pm25_mean'])\n",
    "co_df['co_mean'] = flooring_capping(co_df['co_mean'])\n",
    "no2_df['no2_mean'] = flooring_capping(no2_df['no2_mean'])\n",
    "ozone_df['o3_mean'] = flooring_capping(ozone_df['o3_mean'])\n",
    "so2_df['so2_mean'] = flooring_capping(so2_df['so2_mean'])"
   ]
  },
  {
   "cell_type": "markdown",
   "metadata": {},
   "source": [
    "#### checking outliers after handling it"
   ]
  },
  {
   "cell_type": "code",
   "execution_count": 17,
   "metadata": {},
   "outputs": [
    {
     "data": {
      "image/png": "[encoded data removed]",
      "text/plain": [
       "<Figure size 1500x1000 with 6 Axes>"
      ]
     },
     "metadata": {},
     "output_type": "display_data"
    }
   ],
   "source": [
    "fig = plt.figure(figsize = (15, 10))\n",
    "\n",
    "plt.subplot(2,3, 1)\n",
    "plt.boxplot(pm10_df['pm10_mean'], vert=False)\n",
    "plt.title(\"Detecting outliers for pm10 using Boxplot\")\n",
    "plt.xlabel('Sample')\n",
    "\n",
    "\n",
    "plt.subplot(2,3,2)\n",
    "plt.boxplot(pm2_df['pm25_mean'], vert=False)\n",
    "plt.title(\"Detecting outliers for pm2.5 using Boxplot\")\n",
    "plt.xlabel('Sample')\n",
    "\n",
    "\n",
    "\n",
    "plt.subplot(2,3,3)\n",
    "plt.boxplot(co_df['co_mean'], vert=False)\n",
    "plt.title(\"Detecting outliers for co using Boxplot\")\n",
    "plt.xlabel('Sample')\n",
    "\n",
    "\n",
    "plt.subplot(2,3,4)\n",
    "plt.boxplot(no2_df['no2_mean'], vert=False)\n",
    "plt.title(\"Detecting outliers for no2 using Boxplot\")\n",
    "plt.xlabel('Sample')\n",
    "\n",
    "\n",
    "plt.subplot(2,3,5)\n",
    "plt.boxplot(ozone_df['o3_mean'], vert=False)\n",
    "plt.title(\"Detecting outliers for o3 using Boxplot\")\n",
    "plt.xlabel('Sample')\n",
    "\n",
    "\n",
    "plt.subplot(2,3,6)\n",
    "plt.boxplot(so2_df['so2_mean'], vert=False)\n",
    "plt.title(\"Detecting outliers for so2 using Boxplot\")\n",
    "plt.xlabel('Sample')\n",
    "plt.show()"
   ]
  },
  {
   "cell_type": "markdown",
   "metadata": {},
   "source": [
    "#### Grouping the data by Date and State wise to get the state wise results"
   ]
  },
  {
   "cell_type": "code",
   "execution_count": 18,
   "metadata": {},
   "outputs": [],
   "source": [
    "pm10_df = pm10_df.groupby(['Date','State Name']).mean().reset_index()\n",
    "pm2_df = pm2_df.groupby(['Date','State Name']).mean().reset_index()\n",
    "co_df = co_df.groupby(['Date','State Name']).mean().reset_index()\n",
    "no2_df = no2_df.groupby(['Date','State Name']).mean().reset_index()\n",
    "ozone_df = ozone_df.groupby(['Date','State Name']).mean().reset_index()\n",
    "so2_df = so2_df.groupby(['Date','State Name']).mean().reset_index()"
   ]
  },
  {
   "cell_type": "code",
   "execution_count": 19,
   "metadata": {},
   "outputs": [
    {
     "data": {
      "text/html": [
       "<div>\n",
       "<style scoped>\n",
       "    .dataframe tbody tr th:only-of-type {\n",
       "        vertical-align: middle;\n",
       "    }\n",
       "\n",
       "    .dataframe tbody tr th {\n",
       "        vertical-align: top;\n",
       "    }\n",
       "\n",
       "    .dataframe thead th {\n",
       "        text-align: right;\n",
       "    }\n",
       "</style>\n",
       "<table border=\"1\" class=\"dataframe\">\n",
       "  <thead>\n",
       "    <tr style=\"text-align: right;\">\n",
       "      <th></th>\n",
       "      <th>Date</th>\n",
       "      <th>State Name</th>\n",
       "      <th>pm10_mean</th>\n",
       "    </tr>\n",
       "  </thead>\n",
       "  <tbody>\n",
       "    <tr>\n",
       "      <th>0</th>\n",
       "      <td>2020-01-01</td>\n",
       "      <td>Alabama</td>\n",
       "      <td>12.500000</td>\n",
       "    </tr>\n",
       "    <tr>\n",
       "      <th>1</th>\n",
       "      <td>2020-01-01</td>\n",
       "      <td>Alaska</td>\n",
       "      <td>9.000000</td>\n",
       "    </tr>\n",
       "    <tr>\n",
       "      <th>2</th>\n",
       "      <td>2020-01-01</td>\n",
       "      <td>Arizona</td>\n",
       "      <td>23.852941</td>\n",
       "    </tr>\n",
       "    <tr>\n",
       "      <th>3</th>\n",
       "      <td>2020-01-01</td>\n",
       "      <td>Arkansas</td>\n",
       "      <td>16.000000</td>\n",
       "    </tr>\n",
       "    <tr>\n",
       "      <th>4</th>\n",
       "      <td>2020-01-01</td>\n",
       "      <td>California</td>\n",
       "      <td>17.615385</td>\n",
       "    </tr>\n",
       "  </tbody>\n",
       "</table>\n",
       "</div>"
      ],
      "text/plain": [
       "         Date  State Name  pm10_mean\n",
       "0  2020-01-01     Alabama  12.500000\n",
       "1  2020-01-01      Alaska   9.000000\n",
       "2  2020-01-01     Arizona  23.852941\n",
       "3  2020-01-01    Arkansas  16.000000\n",
       "4  2020-01-01  California  17.615385"
      ]
     },
     "execution_count": 19,
     "metadata": {},
     "output_type": "execute_result"
    }
   ],
   "source": [
    "pm10_df.head()"
   ]
  },
  {
   "cell_type": "code",
   "execution_count": 20,
   "metadata": {},
   "outputs": [],
   "source": [
    "# Removing spaces begining and end of the string and coverting it to title.\n",
    "# pm10_df['County Name'] = pm10_df['County Name'].apply(lambda x : x.strip().title())\n",
    "pm10_df['State Name'] = pm10_df['State Name'].apply(lambda x : x.strip().title())\n",
    "pm10_df['Date'] = pm10_df['Date'].apply(lambda x : x.strip())\n",
    "\n",
    "# pm2_df['County Name'] = pm2_df['County Name'].apply(lambda x : x.strip().title())\n",
    "pm2_df['State Name'] = pm2_df['State Name'].apply(lambda x : x.strip().title())\n",
    "pm2_df['Date'] = pm2_df['Date'].apply(lambda x : x.strip())\n",
    "\n",
    "# co_df['County Name'] = co_df['County Name'].apply(lambda x : x.strip().title())\n",
    "co_df['State Name'] = co_df['State Name'].apply(lambda x : x.strip().title())\n",
    "co_df['Date'] = co_df['Date'].apply(lambda x : x.strip())\n",
    "\n",
    "# no2_df['County Name'] = no2_df['County Name'].apply(lambda x : x.strip().title())\n",
    "no2_df['State Name'] = no2_df['State Name'].apply(lambda x : x.strip().title())\n",
    "no2_df['Date'] = no2_df['Date'].apply(lambda x : x.strip())\n",
    "\n",
    "# ozone_df['County Name'] = ozone_df['County Name'].apply(lambda x : x.strip().title())\n",
    "ozone_df['State Name'] = ozone_df['State Name'].apply(lambda x : x.strip().title())\n",
    "ozone_df['Date'] = ozone_df['Date'].apply(lambda x : x.strip())\n",
    "\n",
    "# so2_df['County Name'] = so2_df['County Name'].apply(lambda x : x.strip().title())\n",
    "so2_df['State Name'] = so2_df['State Name'].apply(lambda x : x.strip().title())\n",
    "so2_df['Date'] = so2_df['Date'].apply(lambda x : x.strip())"
   ]
  },
  {
   "cell_type": "markdown",
   "metadata": {},
   "source": [
    "#### Checking and Droping duplicates"
   ]
  },
  {
   "cell_type": "code",
   "execution_count": 21,
   "metadata": {},
   "outputs": [
    {
     "name": "stdout",
     "output_type": "stream",
     "text": [
      "False    43353\n",
      "dtype: int64 \n",
      "\n",
      "False    50367\n",
      "dtype: int64 \n",
      "\n",
      "False    49334\n",
      "dtype: int64 \n",
      "\n",
      "False    46127\n",
      "dtype: int64 \n",
      "\n",
      "False    51074\n",
      "dtype: int64 \n",
      "\n",
      "False    50012\n",
      "dtype: int64 \n",
      "\n"
     ]
    }
   ],
   "source": [
    "print(pm10_df.duplicated(subset=['Date','State Name']).value_counts(),'\\n')\n",
    "print(pm2_df.duplicated(subset=['Date','State Name']).value_counts(),'\\n')\n",
    "print(co_df.duplicated(subset=['Date','State Name']).value_counts(),'\\n')\n",
    "print(no2_df.duplicated(subset=['Date','State Name']).value_counts(),'\\n')\n",
    "print(ozone_df.duplicated(subset=['Date','State Name']).value_counts(),'\\n')\n",
    "print(so2_df.duplicated(subset=['Date','State Name']).value_counts(),'\\n')"
   ]
  },
  {
   "cell_type": "code",
   "execution_count": 22,
   "metadata": {},
   "outputs": [],
   "source": [
    "# Droping duplicate values \n",
    "pm10_df.drop_duplicates(subset=['Date','State Name'],inplace = True)\n",
    "pm2_df.drop_duplicates(subset=['Date','State Name'],inplace = True)\n",
    "co_df.drop_duplicates(subset=['Date','State Name'],inplace = True)\n",
    "no2_df.drop_duplicates(subset=['Date','State Name'],inplace = True)\n",
    "ozone_df.drop_duplicates(subset=['Date','State Name'],inplace = True)\n",
    "so2_df.drop_duplicates(subset=['Date','State Name'],inplace = True)"
   ]
  },
  {
   "cell_type": "code",
   "execution_count": 23,
   "metadata": {},
   "outputs": [
    {
     "data": {
      "text/plain": [
       "((43353, 3), (50367, 3), (49334, 3), (46127, 3), (51074, 3), (50012, 3))"
      ]
     },
     "execution_count": 23,
     "metadata": {},
     "output_type": "execute_result"
    }
   ],
   "source": [
    "pm10_df.shape,pm2_df.shape,co_df.shape,no2_df.shape,ozone_df.shape,so2_df.shape"
   ]
  },
  {
   "cell_type": "code",
   "execution_count": 24,
   "metadata": {},
   "outputs": [
    {
     "data": {
      "text/plain": [
       "Date          0\n",
       "State Name    0\n",
       "pm10_mean     0\n",
       "dtype: int64"
      ]
     },
     "execution_count": 24,
     "metadata": {},
     "output_type": "execute_result"
    }
   ],
   "source": [
    "pm10_df.isna().sum()"
   ]
  },
  {
   "cell_type": "code",
   "execution_count": 135,
   "metadata": {
    "id": "d-ys4aJIBZLu"
   },
   "outputs": [],
   "source": [
    "# merged_pm10_pm2 = pd.merge(pm10_df, pm2_df, on = ['Date','State Name','City Name','County Name'], how='inner')\n",
    "# merged_co_no2 = pd.merge(co_df, no2_df, on = ['Date','State Name','City Name','County Name'], how='inner')\n",
    "# merged_ozone_so2 = pd.merge(ozone_df, so2_df, on = ['Date','State Name','City Name','County Name'], how='inner')\n",
    "# merged_pm10_pm2_ozone_so2 = pd.merge(merged_pm10_pm2, merged_ozone_so2, on = ['Date','State Name','City Name','County Name'], how='inner')\n",
    "# merged_pm10_pm2_co_no2 = pd.merge(merged_pm10_pm2, merged_co_no2, on = ['Date','State Name','City Name','County Name'], how='inner')\n",
    "# merged_pollutants = pd.merge(merged_pm10_pm2_co_no2, merged_ozone_so2, on = ['Date','State Name','City Name','County Name'], how='inner')\n"
   ]
  },
  {
   "cell_type": "markdown",
   "metadata": {
    "id": "vP5ehPEU9gON"
   },
   "source": [
    "### Merging meteorogical features"
   ]
  },
  {
   "cell_type": "code",
   "execution_count": 136,
   "metadata": {
    "colab": {
     "base_uri": "https://localhost:8080/"
    },
    "executionInfo": {
     "elapsed": 570,
     "status": "ok",
     "timestamp": 1668997055744,
     "user": {
      "displayName": "Dinesh Vennapoosa",
      "userId": "05727529709798008373"
     },
     "user_tz": 300
    },
    "id": "S2O39lRM-bxK",
    "outputId": "740025b0-da47-45cd-e68b-5c12a065e4d2"
   },
   "outputs": [
    {
     "name": "stdout",
     "output_type": "stream",
     "text": [
      "/home/students/divenna/info_project/Datasets\n"
     ]
    }
   ],
   "source": [
    "%cd '/home/students/divenna/info_project/Datasets'"
   ]
  },
  {
   "cell_type": "markdown",
   "metadata": {},
   "source": [
    "#### Reading CSV files"
   ]
  },
  {
   "cell_type": "code",
   "execution_count": 137,
   "metadata": {
    "executionInfo": {
     "elapsed": 1004,
     "status": "ok",
     "timestamp": 1668997062635,
     "user": {
      "displayName": "Dinesh Vennapoosa",
      "userId": "05727529709798008373"
     },
     "user_tz": 300
    },
    "id": "Rp5h-30OGra-"
   },
   "outputs": [],
   "source": [
    "import pandas as pd\n",
    "press_2020_df = pd.read_csv('meteorogical_features/daily_PRESS_2020.csv')\n",
    "press_2021_df = pd.read_csv('meteorogical_features/daily_PRESS_2021.csv')\n",
    "press_2022_df = pd.read_csv('meteorogical_features/daily_PRESS_2022.csv')"
   ]
  },
  {
   "cell_type": "code",
   "execution_count": 138,
   "metadata": {
    "executionInfo": {
     "elapsed": 3022,
     "status": "ok",
     "timestamp": 1668997066308,
     "user": {
      "displayName": "Dinesh Vennapoosa",
      "userId": "05727529709798008373"
     },
     "user_tz": 300
    },
    "id": "ZJXLvi7W_UMc"
   },
   "outputs": [],
   "source": [
    "rh_2020_df = pd.read_csv('meteorogical_features/daily_RH_DP_2020.csv')\n",
    "rh_2021_df = pd.read_csv('meteorogical_features/daily_RH_DP_2021.csv')\n",
    "rh_2022_df = pd.read_csv('meteorogical_features/daily_RH_DP_2022.csv')"
   ]
  },
  {
   "cell_type": "code",
   "execution_count": 139,
   "metadata": {
    "colab": {
     "base_uri": "https://localhost:8080/"
    },
    "executionInfo": {
     "elapsed": 4247,
     "status": "ok",
     "timestamp": 1668997070551,
     "user": {
      "displayName": "Dinesh Vennapoosa",
      "userId": "05727529709798008373"
     },
     "user_tz": 300
    },
    "id": "IRaU6fup_mmi",
    "outputId": "a61c41cc-04da-4fc7-a46c-c90e1fab1cce"
   },
   "outputs": [],
   "source": [
    "temp_2020_df = pd.read_csv('meteorogical_features/daily_TEMP_2020.csv')\n",
    "temp_2021_df = pd.read_csv('meteorogical_features/daily_TEMP_2021.csv')\n",
    "temp_2022_df = pd.read_csv('meteorogical_features/daily_TEMP_2022.csv')"
   ]
  },
  {
   "cell_type": "code",
   "execution_count": 140,
   "metadata": {
    "executionInfo": {
     "elapsed": 8104,
     "status": "ok",
     "timestamp": 1668997078652,
     "user": {
      "displayName": "Dinesh Vennapoosa",
      "userId": "05727529709798008373"
     },
     "user_tz": 300
    },
    "id": "2YWlxdt0ACY0"
   },
   "outputs": [],
   "source": [
    "wind_2020_df = pd.read_csv('meteorogical_features/daily_WIND_2020.csv')\n",
    "wind_2021_df = pd.read_csv('meteorogical_features/daily_WIND_2021.csv')\n",
    "wind_2022_df = pd.read_csv('meteorogical_features/daily_WIND_2022.csv')"
   ]
  },
  {
   "cell_type": "code",
   "execution_count": 141,
   "metadata": {},
   "outputs": [
    {
     "data": {
      "text/plain": [
       "Index(['State Code', 'County Code', 'Site Num', 'Parameter Code', 'POC',\n",
       "       'Latitude', 'Longitude', 'Datum', 'Parameter Name', 'Sample Duration',\n",
       "       'Pollutant Standard', 'Date Local', 'Units of Measure', 'Event Type',\n",
       "       'Observation Count', 'Observation Percent', 'Arithmetic Mean',\n",
       "       '1st Max Value', '1st Max Hour', 'AQI', 'Method Code', 'Method Name',\n",
       "       'Local Site Name', 'Address', 'State Name', 'County Name', 'City Name',\n",
       "       'CBSA Name', 'Date of Last Change'],\n",
       "      dtype='object')"
      ]
     },
     "execution_count": 141,
     "metadata": {},
     "output_type": "execute_result"
    }
   ],
   "source": [
    "wind_2020_df.columns"
   ]
  },
  {
   "cell_type": "markdown",
   "metadata": {},
   "source": [
    "#### Feature selection or Removing Irrelevant Data"
   ]
  },
  {
   "cell_type": "code",
   "execution_count": 142,
   "metadata": {},
   "outputs": [],
   "source": [
    "press_2020 = press_2020_df[['Date Local','State Name','Arithmetic Mean']]\n",
    "press_2021 = press_2021_df[['Date Local','State Name','Arithmetic Mean']]\n",
    "press_2022 = press_2022_df[['Date Local','State Name','Arithmetic Mean']]\n",
    "rh_2020 = rh_2020_df[['Date Local','State Name','Arithmetic Mean']]\n",
    "rh_2021 = rh_2021_df[['Date Local','State Name','Arithmetic Mean']]\n",
    "rh_2022 = rh_2022_df[['Date Local','State Name','Arithmetic Mean']]\n",
    "temp_2020 = temp_2020_df[['Date Local','State Name','Arithmetic Mean']]\n",
    "temp_2021 = temp_2021_df[['Date Local','State Name','Arithmetic Mean']]\n",
    "temp_2022 = temp_2022_df[['Date Local','State Name','Arithmetic Mean']]\n",
    "wind_2020 = wind_2020_df[['Date Local','State Name','Arithmetic Mean']]\n",
    "wind_2021 = wind_2021_df[['Date Local','State Name','Arithmetic Mean']]\n",
    "wind_2022 = wind_2022_df[['Date Local','State Name','Arithmetic Mean']]"
   ]
  },
  {
   "cell_type": "markdown",
   "metadata": {},
   "source": [
    "#### Concatenating the Dataframes along axis =0 (row)"
   ]
  },
  {
   "cell_type": "code",
   "execution_count": 143,
   "metadata": {},
   "outputs": [],
   "source": [
    "press_df = pd.concat([press_2020,press_2021,press_2022],axis=0,ignore_index = True)\n",
    "rh_df = pd.concat([rh_2020,rh_2021,rh_2022],axis=0,ignore_index = True)\n",
    "temp_df = pd.concat([temp_2020,temp_2021,temp_2022],axis=0,ignore_index = True)\n",
    "wind_df = pd.concat([wind_2020,wind_2021,wind_2022],axis=0,ignore_index = True)"
   ]
  },
  {
   "cell_type": "markdown",
   "metadata": {},
   "source": [
    "#### Renaming Columns in a Dataframe"
   ]
  },
  {
   "cell_type": "code",
   "execution_count": 144,
   "metadata": {
    "executionInfo": {
     "elapsed": 12,
     "status": "ok",
     "timestamp": 1668997078654,
     "user": {
      "displayName": "Dinesh Vennapoosa",
      "userId": "05727529709798008373"
     },
     "user_tz": 300
    },
    "id": "iOJmTwgtAuQN"
   },
   "outputs": [],
   "source": [
    "press_df.rename(columns = {'Arithmetic Mean':'press_mean','Date Local':'Date'}, inplace = True)\n",
    "rh_df.rename(columns = {'Arithmetic Mean':'rh_mean','Date Local':'Date'}, inplace = True)\n",
    "temp_df.rename(columns = {'Arithmetic Mean':'temp_mean','Date Local':'Date'}, inplace = True)\n",
    "wind_df.rename(columns = {'Arithmetic Mean':'wind_mean','Date Local':'Date'}, inplace = True)"
   ]
  },
  {
   "cell_type": "markdown",
   "metadata": {},
   "source": [
    "#### Outliers detection and Handling"
   ]
  },
  {
   "cell_type": "markdown",
   "metadata": {},
   "source": [
    "##### Outlier detection through box plot"
   ]
  },
  {
   "cell_type": "code",
   "execution_count": 145,
   "metadata": {},
   "outputs": [
    {
     "data": {
      "image/png": "[encoded data removed]",
      "text/plain": [
       "<Figure size 1500x1000 with 4 Axes>"
      ]
     },
     "metadata": {},
     "output_type": "display_data"
    }
   ],
   "source": [
    "fig = plt.figure(figsize = (15, 10))\n",
    "\n",
    "plt.subplot(2,2, 1)\n",
    "plt.boxplot(press_df['press_mean'], vert=False)\n",
    "plt.title(\"Detecting outliers for pressure using Boxplot\")\n",
    "plt.xlabel('Sample')\n",
    "\n",
    "plt.subplot(2,2,2)\n",
    "plt.boxplot(rh_df['rh_mean'], vert=False)\n",
    "plt.title(\"Detecting outliers for humidity using Boxplot\")\n",
    "plt.xlabel('Sample')\n",
    "\n",
    "plt.subplot(2,2,3)\n",
    "plt.boxplot(temp_df['temp_mean'], vert=False)\n",
    "plt.title(\"Detecting outliers for temperature using Boxplot\")\n",
    "plt.xlabel('Sample')\n",
    "\n",
    "plt.subplot(2,2,4)\n",
    "plt.boxplot(wind_df['wind_mean'], vert=False)\n",
    "plt.title(\"Detecting outliers for wind using Boxplot\")\n",
    "plt.xlabel('Sample')\n",
    "\n",
    "plt.show()"
   ]
  },
  {
   "cell_type": "markdown",
   "metadata": {},
   "source": [
    "From this visualization, we can see the outliers"
   ]
  },
  {
   "cell_type": "markdown",
   "metadata": {},
   "source": [
    "#### Outlier detection using Inter Quantile Range(IQR)"
   ]
  },
  {
   "cell_type": "code",
   "execution_count": 146,
   "metadata": {},
   "outputs": [
    {
     "name": "stdout",
     "output_type": "stream",
     "text": [
      "Outliers for Pressure from IQR method in percentage:  0.8337783202380045\n",
      "Outliers for humidity from IQR method in percentage:  0.009390089008159493\n",
      "Outliers for Temperature from IQR method in percentage:  0.4600547924304162\n",
      "Outliers for Wind from IQR method in percentage:  0.0\n"
     ]
    }
   ],
   "source": [
    "def detect_outliers_iqr(data):\n",
    "    outliers = []\n",
    "    data = sorted(data)\n",
    "    q1 = np.percentile(data, 25)\n",
    "    q3 = np.percentile(data, 75)\n",
    "    # print(q1, q3)\n",
    "    IQR = q3-q1\n",
    "    lwr_bound = q1-(1.5*IQR)\n",
    "    upr_bound = q3+(1.5*IQR)\n",
    "    # print(lwr_bound, upr_bound)\n",
    "    for i in data: \n",
    "        if (i<lwr_bound or i>upr_bound):\n",
    "            outliers.append(i)\n",
    "    return outliers\n",
    "\n",
    "sample_outliers = detect_outliers_iqr(press_df['press_mean'])\n",
    "print(\"Outliers for Pressure from IQR method in percentage: \", (len(sample_outliers)/press_df.shape[0])*100)\n",
    "sample_outliers = detect_outliers_iqr(rh_df['rh_mean'])\n",
    "print(\"Outliers for humidity from IQR method in percentage: \", (len(sample_outliers)/rh_df.shape[0])*100)\n",
    "sample_outliers = detect_outliers_iqr(temp_df['temp_mean'])\n",
    "print(\"Outliers for Temperature from IQR method in percentage: \", (len(sample_outliers)/temp_df.shape[0])*100)\n",
    "sample_outliers = detect_outliers_iqr(wind_df['wind_mean'])\n",
    "print(\"Outliers for Wind from IQR method in percentage: \", (len(sample_outliers)/wind_df.shape[0])*100)"
   ]
  },
  {
   "cell_type": "markdown",
   "metadata": {},
   "source": [
    "#### Handling Outliers using Flooring and Capping"
   ]
  },
  {
   "cell_type": "code",
   "execution_count": 147,
   "metadata": {},
   "outputs": [
    {
     "name": "stdout",
     "output_type": "stream",
     "text": [
      "703.6499994999999 1182.9166675000001\n",
      "-6.1666674999999955 121.5000005\n",
      "1.0625 114.5625\n",
      "-272.7583325 464.7749995\n"
     ]
    }
   ],
   "source": [
    "import pandas as pd\n",
    "def flooring_capping(series):\n",
    "    original_data = series\n",
    "    sorted_data = sorted(series)\n",
    "    q1 = np.percentile(sorted_data, 25)\n",
    "    q3 = np.percentile(sorted_data, 75)\n",
    "    # print(q1, q3)\n",
    "    IQR = q3-q1\n",
    "    lwr_bound = q1-(1.5*IQR)\n",
    "    upr_bound = q3+(1.5*IQR)\n",
    "    print(lwr_bound, upr_bound)\n",
    "    corrected_list = []\n",
    "    for i in original_data: \n",
    "        if i<lwr_bound:\n",
    "            corrected_list.append(lwr_bound)\n",
    "        elif i>upr_bound:\n",
    "            corrected_list.append(upr_bound)\n",
    "        else:\n",
    "            corrected_list.append(i)\n",
    "    return pd.Series(corrected_list)\n",
    "\n",
    "press_df['press_mean'] = flooring_capping(press_df['press_mean'])\n",
    "rh_df['rh_mean'] = flooring_capping(rh_df['rh_mean'])\n",
    "temp_df['temp_mean'] = flooring_capping(temp_df['temp_mean'])\n",
    "wind_df['wind_mean'] = flooring_capping(wind_df['wind_mean'])"
   ]
  },
  {
   "cell_type": "markdown",
   "metadata": {},
   "source": [
    "#### Check for outliers after handling it"
   ]
  },
  {
   "cell_type": "code",
   "execution_count": 148,
   "metadata": {},
   "outputs": [
    {
     "data": {
      "image/png": "[encoded data removed]",
      "text/plain": [
       "<Figure size 1500x1000 with 4 Axes>"
      ]
     },
     "metadata": {},
     "output_type": "display_data"
    }
   ],
   "source": [
    "fig = plt.figure(figsize = (15, 10))\n",
    "\n",
    "plt.subplot(2,2, 1)\n",
    "plt.boxplot(press_df['press_mean'], vert=False)\n",
    "plt.title(\"Detecting outliers for pressure using Boxplot\")\n",
    "plt.xlabel('Sample')\n",
    "\n",
    "plt.subplot(2,2,2)\n",
    "plt.boxplot(rh_df['rh_mean'], vert=False)\n",
    "plt.title(\"Detecting outliers for humidity using Boxplot\")\n",
    "plt.xlabel('Sample')\n",
    "\n",
    "plt.subplot(2,2,3)\n",
    "plt.boxplot(temp_df['temp_mean'], vert=False)\n",
    "plt.title(\"Detecting outliers for temperature using Boxplot\")\n",
    "plt.xlabel('Sample')\n",
    "\n",
    "plt.subplot(2,2,4)\n",
    "plt.boxplot(wind_df['wind_mean'], vert=False)\n",
    "plt.title(\"Detecting outliers for wind using Boxplot\")\n",
    "plt.xlabel('Sample')\n",
    "\n",
    "plt.show()"
   ]
  },
  {
   "cell_type": "markdown",
   "metadata": {},
   "source": [
    "#### Grouping the data by Date and State Name wise"
   ]
  },
  {
   "cell_type": "code",
   "execution_count": 149,
   "metadata": {},
   "outputs": [],
   "source": [
    "press_df = press_df.groupby(['Date','State Name']).mean().reset_index()\n",
    "rh_df = rh_df.groupby(['Date','State Name']).mean().reset_index()\n",
    "temp_df = temp_df.groupby(['Date','State Name']).mean().reset_index()\n",
    "wind_df = wind_df.groupby(['Date','State Name']).mean().reset_index()"
   ]
  },
  {
   "cell_type": "code",
   "execution_count": 150,
   "metadata": {},
   "outputs": [
    {
     "data": {
      "text/html": [
       "<div>\n",
       "<style scoped>\n",
       "    .dataframe tbody tr th:only-of-type {\n",
       "        vertical-align: middle;\n",
       "    }\n",
       "\n",
       "    .dataframe tbody tr th {\n",
       "        vertical-align: top;\n",
       "    }\n",
       "\n",
       "    .dataframe thead th {\n",
       "        text-align: right;\n",
       "    }\n",
       "</style>\n",
       "<table border=\"1\" class=\"dataframe\">\n",
       "  <thead>\n",
       "    <tr style=\"text-align: right;\">\n",
       "      <th></th>\n",
       "      <th>Date</th>\n",
       "      <th>State Name</th>\n",
       "      <th>press_mean</th>\n",
       "    </tr>\n",
       "  </thead>\n",
       "  <tbody>\n",
       "    <tr>\n",
       "      <th>0</th>\n",
       "      <td>2020-01-01</td>\n",
       "      <td>Alabama</td>\n",
       "      <td>1000.610834</td>\n",
       "    </tr>\n",
       "    <tr>\n",
       "      <th>1</th>\n",
       "      <td>2020-01-01</td>\n",
       "      <td>Alaska</td>\n",
       "      <td>971.179167</td>\n",
       "    </tr>\n",
       "    <tr>\n",
       "      <th>2</th>\n",
       "      <td>2020-01-01</td>\n",
       "      <td>California</td>\n",
       "      <td>973.469771</td>\n",
       "    </tr>\n",
       "    <tr>\n",
       "      <th>3</th>\n",
       "      <td>2020-01-01</td>\n",
       "      <td>Colorado</td>\n",
       "      <td>814.807500</td>\n",
       "    </tr>\n",
       "    <tr>\n",
       "      <th>4</th>\n",
       "      <td>2020-01-01</td>\n",
       "      <td>Connecticut</td>\n",
       "      <td>991.923611</td>\n",
       "    </tr>\n",
       "  </tbody>\n",
       "</table>\n",
       "</div>"
      ],
      "text/plain": [
       "         Date   State Name   press_mean\n",
       "0  2020-01-01      Alabama  1000.610834\n",
       "1  2020-01-01       Alaska   971.179167\n",
       "2  2020-01-01   California   973.469771\n",
       "3  2020-01-01     Colorado   814.807500\n",
       "4  2020-01-01  Connecticut   991.923611"
      ]
     },
     "execution_count": 150,
     "metadata": {},
     "output_type": "execute_result"
    }
   ],
   "source": [
    "press_df.head()"
   ]
  },
  {
   "cell_type": "code",
   "execution_count": 151,
   "metadata": {
    "executionInfo": {
     "elapsed": 12,
     "status": "ok",
     "timestamp": 1668997078655,
     "user": {
      "displayName": "Dinesh Vennapoosa",
      "userId": "05727529709798008373"
     },
     "user_tz": 300
    },
    "id": "bV2TWbVsBwUu"
   },
   "outputs": [],
   "source": [
    "# Removing spaces begining and end of the string and coverting it to title.\n",
    "# press_df['County Name'] = press_df['County Name'].apply(lambda x : x.strip().title())\n",
    "press_df['State Name'] = press_df['State Name'].apply(lambda x : x.strip().title())\n",
    "press_df['Date'] = press_df['Date'].apply(lambda x : x.strip())\n",
    "\n",
    "# rh_df['County Name'] = pm2_df['County Name'].apply(lambda x : x.strip().title())\n",
    "rh_df['State Name'] = rh_df['State Name'].apply(lambda x : x.strip().title())\n",
    "rh_df['Date'] = rh_df['Date'].apply(lambda x : x.strip())\n",
    "\n",
    "# temp_df['County Name'] = temp_df['County Name'].apply(lambda x : x.strip().title())\n",
    "temp_df['State Name'] = temp_df['State Name'].apply(lambda x : x.strip().title())\n",
    "temp_df['Date'] = temp_df['Date'].apply(lambda x : x.strip())\n",
    "\n",
    "# wind_df['County Name'] = wind_df['County Name'].apply(lambda x : x.strip().title())\n",
    "wind_df['State Name'] = wind_df['State Name'].apply(lambda x : x.strip().title())\n",
    "wind_df['Date'] = wind_df['Date'].apply(lambda x : x.strip())"
   ]
  },
  {
   "cell_type": "markdown",
   "metadata": {},
   "source": [
    "#### Checking and Droping duplicates"
   ]
  },
  {
   "cell_type": "code",
   "execution_count": 152,
   "metadata": {
    "executionInfo": {
     "elapsed": 12,
     "status": "ok",
     "timestamp": 1668997078656,
     "user": {
      "displayName": "Dinesh Vennapoosa",
      "userId": "05727529709798008373"
     },
     "user_tz": 300
    },
    "id": "tXNEm6GFCqNA"
   },
   "outputs": [
    {
     "name": "stdout",
     "output_type": "stream",
     "text": [
      "False    36051\n",
      "dtype: int64 \n",
      "\n",
      "False    47142\n",
      "dtype: int64 \n",
      "\n",
      "False    47986\n",
      "dtype: int64 \n",
      "\n",
      "False    46616\n",
      "dtype: int64 \n",
      "\n"
     ]
    }
   ],
   "source": [
    "# Checking duplicates on certain columns\n",
    "print(press_df.duplicated(subset=['Date','State Name']).value_counts(),'\\n')\n",
    "print(rh_df.duplicated(subset=['Date','State Name']).value_counts(),'\\n')\n",
    "print(temp_df.duplicated(subset=['Date','State Name']).value_counts(),'\\n')\n",
    "print(wind_df.duplicated(subset=['Date','State Name']).value_counts(),'\\n')"
   ]
  },
  {
   "cell_type": "code",
   "execution_count": 153,
   "metadata": {},
   "outputs": [],
   "source": [
    "# Droping duplicate values \n",
    "press_df.drop_duplicates(subset=['Date','State Name'],inplace = True)\n",
    "rh_df.drop_duplicates(subset=['Date','State Name'],inplace = True)\n",
    "temp_df.drop_duplicates(subset=['Date','State Name'],inplace = True)\n",
    "wind_df.drop_duplicates(subset=['Date','State Name'],inplace = True)"
   ]
  },
  {
   "cell_type": "code",
   "execution_count": 154,
   "metadata": {
    "executionInfo": {
     "elapsed": 2084,
     "status": "ok",
     "timestamp": 1668997080729,
     "user": {
      "displayName": "Dinesh Vennapoosa",
      "userId": "05727529709798008373"
     },
     "user_tz": 300
    },
    "id": "IJXoGhTVDLOu"
   },
   "outputs": [],
   "source": [
    "# merged_press_rh = pd.merge(press_df, rh_df, on = ['Date Local','State Name','County Name'], how='inner')\n",
    "# merged_temp_wind = pd.merge(temp_df, wind_df, on = ['Date Local','State Name','County Name'], how='inner')\n",
    "# merged_meteorogical = pd.merge(merged_press_rh,merged_temp_wind, on = ['Date Local','State Name','County Name'], how='inner')"
   ]
  },
  {
   "cell_type": "markdown",
   "metadata": {},
   "source": [
    "### Trips dataset cleaning"
   ]
  },
  {
   "cell_type": "markdown",
   "metadata": {},
   "source": [
    "#### Reading CSV file"
   ]
  },
  {
   "cell_type": "code",
   "execution_count": 25,
   "metadata": {
    "scrolled": true
   },
   "outputs": [],
   "source": [
    "import pandas as pd\n",
    "trips_df = pd.read_csv('trips/Trips_by_Distance.csv')"
   ]
  },
  {
   "cell_type": "code",
   "execution_count": 26,
   "metadata": {},
   "outputs": [
    {
     "data": {
      "text/html": [
       "<div>\n",
       "<style scoped>\n",
       "    .dataframe tbody tr th:only-of-type {\n",
       "        vertical-align: middle;\n",
       "    }\n",
       "\n",
       "    .dataframe tbody tr th {\n",
       "        vertical-align: top;\n",
       "    }\n",
       "\n",
       "    .dataframe thead th {\n",
       "        text-align: right;\n",
       "    }\n",
       "</style>\n",
       "<table border=\"1\" class=\"dataframe\">\n",
       "  <thead>\n",
       "    <tr style=\"text-align: right;\">\n",
       "      <th></th>\n",
       "      <th>Level</th>\n",
       "      <th>Date</th>\n",
       "      <th>State FIPS</th>\n",
       "      <th>State Postal Code</th>\n",
       "      <th>County FIPS</th>\n",
       "      <th>County Name</th>\n",
       "      <th>Population Staying at Home</th>\n",
       "      <th>Population Not Staying at Home</th>\n",
       "      <th>Number of Trips</th>\n",
       "      <th>Number of Trips &lt;1</th>\n",
       "      <th>...</th>\n",
       "      <th>Number of Trips 5-10</th>\n",
       "      <th>Number of Trips 10-25</th>\n",
       "      <th>Number of Trips 25-50</th>\n",
       "      <th>Number of Trips 50-100</th>\n",
       "      <th>Number of Trips 100-250</th>\n",
       "      <th>Number of Trips 250-500</th>\n",
       "      <th>Number of Trips &gt;=500</th>\n",
       "      <th>Row ID</th>\n",
       "      <th>Week</th>\n",
       "      <th>Month</th>\n",
       "    </tr>\n",
       "  </thead>\n",
       "  <tbody>\n",
       "    <tr>\n",
       "      <th>0</th>\n",
       "      <td>National</td>\n",
       "      <td>2019/01/01</td>\n",
       "      <td>NaN</td>\n",
       "      <td>NaN</td>\n",
       "      <td>NaN</td>\n",
       "      <td>NaN</td>\n",
       "      <td>77433867.0</td>\n",
       "      <td>248733553.0</td>\n",
       "      <td>8.977844e+08</td>\n",
       "      <td>241667151.0</td>\n",
       "      <td>...</td>\n",
       "      <td>129670778.0</td>\n",
       "      <td>116904343.0</td>\n",
       "      <td>40432062.0</td>\n",
       "      <td>15686639.0</td>\n",
       "      <td>7525563.0</td>\n",
       "      <td>1806022.0</td>\n",
       "      <td>1728112.0</td>\n",
       "      <td>00-00000-20190101</td>\n",
       "      <td>0</td>\n",
       "      <td>1</td>\n",
       "    </tr>\n",
       "    <tr>\n",
       "      <th>1</th>\n",
       "      <td>National</td>\n",
       "      <td>2019/01/02</td>\n",
       "      <td>NaN</td>\n",
       "      <td>NaN</td>\n",
       "      <td>NaN</td>\n",
       "      <td>NaN</td>\n",
       "      <td>61305201.0</td>\n",
       "      <td>264862219.0</td>\n",
       "      <td>1.139452e+09</td>\n",
       "      <td>291276735.0</td>\n",
       "      <td>...</td>\n",
       "      <td>171637514.0</td>\n",
       "      <td>167412698.0</td>\n",
       "      <td>56148976.0</td>\n",
       "      <td>17739183.0</td>\n",
       "      <td>7817044.0</td>\n",
       "      <td>1962301.0</td>\n",
       "      <td>1531219.0</td>\n",
       "      <td>00-00000-20190102</td>\n",
       "      <td>0</td>\n",
       "      <td>1</td>\n",
       "    </tr>\n",
       "    <tr>\n",
       "      <th>2</th>\n",
       "      <td>National</td>\n",
       "      <td>2019/01/03</td>\n",
       "      <td>NaN</td>\n",
       "      <td>NaN</td>\n",
       "      <td>NaN</td>\n",
       "      <td>NaN</td>\n",
       "      <td>63050480.0</td>\n",
       "      <td>263116940.0</td>\n",
       "      <td>1.162753e+09</td>\n",
       "      <td>296375014.0</td>\n",
       "      <td>...</td>\n",
       "      <td>175775410.0</td>\n",
       "      <td>172027487.0</td>\n",
       "      <td>57632422.0</td>\n",
       "      <td>18366626.0</td>\n",
       "      <td>8124548.0</td>\n",
       "      <td>2038099.0</td>\n",
       "      <td>1567072.0</td>\n",
       "      <td>00-00000-20190103</td>\n",
       "      <td>0</td>\n",
       "      <td>1</td>\n",
       "    </tr>\n",
       "    <tr>\n",
       "      <th>3</th>\n",
       "      <td>National</td>\n",
       "      <td>2019/01/04</td>\n",
       "      <td>NaN</td>\n",
       "      <td>NaN</td>\n",
       "      <td>NaN</td>\n",
       "      <td>NaN</td>\n",
       "      <td>61803652.0</td>\n",
       "      <td>264363768.0</td>\n",
       "      <td>1.181954e+09</td>\n",
       "      <td>293159631.0</td>\n",
       "      <td>...</td>\n",
       "      <td>181324645.0</td>\n",
       "      <td>176144493.0</td>\n",
       "      <td>58761592.0</td>\n",
       "      <td>19315785.0</td>\n",
       "      <td>8687318.0</td>\n",
       "      <td>2096065.0</td>\n",
       "      <td>1569185.0</td>\n",
       "      <td>00-00000-20190104</td>\n",
       "      <td>0</td>\n",
       "      <td>1</td>\n",
       "    </tr>\n",
       "    <tr>\n",
       "      <th>4</th>\n",
       "      <td>National</td>\n",
       "      <td>2019/01/05</td>\n",
       "      <td>NaN</td>\n",
       "      <td>NaN</td>\n",
       "      <td>NaN</td>\n",
       "      <td>NaN</td>\n",
       "      <td>64389745.0</td>\n",
       "      <td>261777675.0</td>\n",
       "      <td>1.180477e+09</td>\n",
       "      <td>295459014.0</td>\n",
       "      <td>...</td>\n",
       "      <td>180941769.0</td>\n",
       "      <td>165239790.0</td>\n",
       "      <td>54842134.0</td>\n",
       "      <td>19363939.0</td>\n",
       "      <td>8490791.0</td>\n",
       "      <td>1991159.0</td>\n",
       "      <td>1438664.0</td>\n",
       "      <td>00-00000-20190105</td>\n",
       "      <td>0</td>\n",
       "      <td>1</td>\n",
       "    </tr>\n",
       "  </tbody>\n",
       "</table>\n",
       "<p>5 rows × 22 columns</p>\n",
       "</div>"
      ],
      "text/plain": [
       "      Level        Date  State FIPS State Postal Code  County FIPS  \\\n",
       "0  National  2019/01/01         NaN               NaN          NaN   \n",
       "1  National  2019/01/02         NaN               NaN          NaN   \n",
       "2  National  2019/01/03         NaN               NaN          NaN   \n",
       "3  National  2019/01/04         NaN               NaN          NaN   \n",
       "4  National  2019/01/05         NaN               NaN          NaN   \n",
       "\n",
       "  County Name  Population Staying at Home  Population Not Staying at Home  \\\n",
       "0         NaN                  77433867.0                     248733553.0   \n",
       "1         NaN                  61305201.0                     264862219.0   \n",
       "2         NaN                  63050480.0                     263116940.0   \n",
       "3         NaN                  61803652.0                     264363768.0   \n",
       "4         NaN                  64389745.0                     261777675.0   \n",
       "\n",
       "   Number of Trips  Number of Trips <1  ...  Number of Trips 5-10  \\\n",
       "0     8.977844e+08         241667151.0  ...           129670778.0   \n",
       "1     1.139452e+09         291276735.0  ...           171637514.0   \n",
       "2     1.162753e+09         296375014.0  ...           175775410.0   \n",
       "3     1.181954e+09         293159631.0  ...           181324645.0   \n",
       "4     1.180477e+09         295459014.0  ...           180941769.0   \n",
       "\n",
       "   Number of Trips 10-25  Number of Trips 25-50  Number of Trips 50-100  \\\n",
       "0            116904343.0             40432062.0              15686639.0   \n",
       "1            167412698.0             56148976.0              17739183.0   \n",
       "2            172027487.0             57632422.0              18366626.0   \n",
       "3            176144493.0             58761592.0              19315785.0   \n",
       "4            165239790.0             54842134.0              19363939.0   \n",
       "\n",
       "   Number of Trips 100-250  Number of Trips 250-500  Number of Trips >=500  \\\n",
       "0                7525563.0                1806022.0              1728112.0   \n",
       "1                7817044.0                1962301.0              1531219.0   \n",
       "2                8124548.0                2038099.0              1567072.0   \n",
       "3                8687318.0                2096065.0              1569185.0   \n",
       "4                8490791.0                1991159.0              1438664.0   \n",
       "\n",
       "              Row ID  Week Month  \n",
       "0  00-00000-20190101     0     1  \n",
       "1  00-00000-20190102     0     1  \n",
       "2  00-00000-20190103     0     1  \n",
       "3  00-00000-20190104     0     1  \n",
       "4  00-00000-20190105     0     1  \n",
       "\n",
       "[5 rows x 22 columns]"
      ]
     },
     "execution_count": 26,
     "metadata": {},
     "output_type": "execute_result"
    }
   ],
   "source": [
    "trips_df.head()"
   ]
  },
  {
   "cell_type": "code",
   "execution_count": 27,
   "metadata": {
    "scrolled": true
   },
   "outputs": [
    {
     "data": {
      "text/html": [
       "<div>\n",
       "<style scoped>\n",
       "    .dataframe tbody tr th:only-of-type {\n",
       "        vertical-align: middle;\n",
       "    }\n",
       "\n",
       "    .dataframe tbody tr th {\n",
       "        vertical-align: top;\n",
       "    }\n",
       "\n",
       "    .dataframe thead th {\n",
       "        text-align: right;\n",
       "    }\n",
       "</style>\n",
       "<table border=\"1\" class=\"dataframe\">\n",
       "  <thead>\n",
       "    <tr style=\"text-align: right;\">\n",
       "      <th></th>\n",
       "      <th>Level</th>\n",
       "      <th>Date</th>\n",
       "      <th>State FIPS</th>\n",
       "      <th>State Postal Code</th>\n",
       "      <th>County FIPS</th>\n",
       "      <th>County Name</th>\n",
       "      <th>Population Staying at Home</th>\n",
       "      <th>Population Not Staying at Home</th>\n",
       "      <th>Number of Trips</th>\n",
       "      <th>Number of Trips &lt;1</th>\n",
       "      <th>...</th>\n",
       "      <th>Number of Trips 5-10</th>\n",
       "      <th>Number of Trips 10-25</th>\n",
       "      <th>Number of Trips 25-50</th>\n",
       "      <th>Number of Trips 50-100</th>\n",
       "      <th>Number of Trips 100-250</th>\n",
       "      <th>Number of Trips 250-500</th>\n",
       "      <th>Number of Trips &gt;=500</th>\n",
       "      <th>Row ID</th>\n",
       "      <th>Week</th>\n",
       "      <th>Month</th>\n",
       "    </tr>\n",
       "  </thead>\n",
       "  <tbody>\n",
       "    <tr>\n",
       "      <th>21061</th>\n",
       "      <td>County</td>\n",
       "      <td>2021/06/06</td>\n",
       "      <td>56.0</td>\n",
       "      <td>WY</td>\n",
       "      <td>56045.0</td>\n",
       "      <td>Weston County</td>\n",
       "      <td>1268.0</td>\n",
       "      <td>5659.0</td>\n",
       "      <td>22471.0</td>\n",
       "      <td>4160.0</td>\n",
       "      <td>...</td>\n",
       "      <td>1558.0</td>\n",
       "      <td>5723.0</td>\n",
       "      <td>2202.0</td>\n",
       "      <td>3930.0</td>\n",
       "      <td>1160.0</td>\n",
       "      <td>166.0</td>\n",
       "      <td>23.0</td>\n",
       "      <td>56-56045-20210606</td>\n",
       "      <td>23</td>\n",
       "      <td>6</td>\n",
       "    </tr>\n",
       "    <tr>\n",
       "      <th>22762</th>\n",
       "      <td>County</td>\n",
       "      <td>2021/06/06</td>\n",
       "      <td>5.0</td>\n",
       "      <td>AR</td>\n",
       "      <td>5011.0</td>\n",
       "      <td>Bradley County</td>\n",
       "      <td>1780.0</td>\n",
       "      <td>8983.0</td>\n",
       "      <td>25022.0</td>\n",
       "      <td>3411.0</td>\n",
       "      <td>...</td>\n",
       "      <td>4321.0</td>\n",
       "      <td>3343.0</td>\n",
       "      <td>1793.0</td>\n",
       "      <td>1383.0</td>\n",
       "      <td>690.0</td>\n",
       "      <td>35.0</td>\n",
       "      <td>0.0</td>\n",
       "      <td>05-05011-20210606</td>\n",
       "      <td>23</td>\n",
       "      <td>6</td>\n",
       "    </tr>\n",
       "    <tr>\n",
       "      <th>22763</th>\n",
       "      <td>County</td>\n",
       "      <td>2021/06/06</td>\n",
       "      <td>5.0</td>\n",
       "      <td>AR</td>\n",
       "      <td>5013.0</td>\n",
       "      <td>Calhoun County</td>\n",
       "      <td>571.0</td>\n",
       "      <td>4618.0</td>\n",
       "      <td>17543.0</td>\n",
       "      <td>2166.0</td>\n",
       "      <td>...</td>\n",
       "      <td>3600.0</td>\n",
       "      <td>4277.0</td>\n",
       "      <td>1141.0</td>\n",
       "      <td>530.0</td>\n",
       "      <td>425.0</td>\n",
       "      <td>41.0</td>\n",
       "      <td>0.0</td>\n",
       "      <td>05-05013-20210606</td>\n",
       "      <td>23</td>\n",
       "      <td>6</td>\n",
       "    </tr>\n",
       "    <tr>\n",
       "      <th>22764</th>\n",
       "      <td>County</td>\n",
       "      <td>2021/06/06</td>\n",
       "      <td>5.0</td>\n",
       "      <td>AR</td>\n",
       "      <td>5015.0</td>\n",
       "      <td>Carroll County</td>\n",
       "      <td>4386.0</td>\n",
       "      <td>23994.0</td>\n",
       "      <td>77047.0</td>\n",
       "      <td>14712.0</td>\n",
       "      <td>...</td>\n",
       "      <td>13170.0</td>\n",
       "      <td>14712.0</td>\n",
       "      <td>4272.0</td>\n",
       "      <td>1227.0</td>\n",
       "      <td>1323.0</td>\n",
       "      <td>132.0</td>\n",
       "      <td>36.0</td>\n",
       "      <td>05-05015-20210606</td>\n",
       "      <td>23</td>\n",
       "      <td>6</td>\n",
       "    </tr>\n",
       "    <tr>\n",
       "      <th>22765</th>\n",
       "      <td>County</td>\n",
       "      <td>2021/06/06</td>\n",
       "      <td>5.0</td>\n",
       "      <td>AR</td>\n",
       "      <td>5017.0</td>\n",
       "      <td>Chicot County</td>\n",
       "      <td>1356.0</td>\n",
       "      <td>8762.0</td>\n",
       "      <td>31550.0</td>\n",
       "      <td>9483.0</td>\n",
       "      <td>...</td>\n",
       "      <td>3929.0</td>\n",
       "      <td>3857.0</td>\n",
       "      <td>1380.0</td>\n",
       "      <td>580.0</td>\n",
       "      <td>957.0</td>\n",
       "      <td>61.0</td>\n",
       "      <td>4.0</td>\n",
       "      <td>05-05017-20210606</td>\n",
       "      <td>23</td>\n",
       "      <td>6</td>\n",
       "    </tr>\n",
       "  </tbody>\n",
       "</table>\n",
       "<p>5 rows × 22 columns</p>\n",
       "</div>"
      ],
      "text/plain": [
       "        Level        Date  State FIPS State Postal Code  County FIPS  \\\n",
       "21061  County  2021/06/06        56.0                WY      56045.0   \n",
       "22762  County  2021/06/06         5.0                AR       5011.0   \n",
       "22763  County  2021/06/06         5.0                AR       5013.0   \n",
       "22764  County  2021/06/06         5.0                AR       5015.0   \n",
       "22765  County  2021/06/06         5.0                AR       5017.0   \n",
       "\n",
       "          County Name  Population Staying at Home  \\\n",
       "21061   Weston County                      1268.0   \n",
       "22762  Bradley County                      1780.0   \n",
       "22763  Calhoun County                       571.0   \n",
       "22764  Carroll County                      4386.0   \n",
       "22765   Chicot County                      1356.0   \n",
       "\n",
       "       Population Not Staying at Home  Number of Trips  Number of Trips <1  \\\n",
       "21061                          5659.0          22471.0              4160.0   \n",
       "22762                          8983.0          25022.0              3411.0   \n",
       "22763                          4618.0          17543.0              2166.0   \n",
       "22764                         23994.0          77047.0             14712.0   \n",
       "22765                          8762.0          31550.0              9483.0   \n",
       "\n",
       "       ...  Number of Trips 5-10  Number of Trips 10-25  \\\n",
       "21061  ...                1558.0                 5723.0   \n",
       "22762  ...                4321.0                 3343.0   \n",
       "22763  ...                3600.0                 4277.0   \n",
       "22764  ...               13170.0                14712.0   \n",
       "22765  ...                3929.0                 3857.0   \n",
       "\n",
       "       Number of Trips 25-50  Number of Trips 50-100  Number of Trips 100-250  \\\n",
       "21061                 2202.0                  3930.0                   1160.0   \n",
       "22762                 1793.0                  1383.0                    690.0   \n",
       "22763                 1141.0                   530.0                    425.0   \n",
       "22764                 4272.0                  1227.0                   1323.0   \n",
       "22765                 1380.0                   580.0                    957.0   \n",
       "\n",
       "       Number of Trips 250-500  Number of Trips >=500             Row ID  \\\n",
       "21061                    166.0                   23.0  56-56045-20210606   \n",
       "22762                     35.0                    0.0  05-05011-20210606   \n",
       "22763                     41.0                    0.0  05-05013-20210606   \n",
       "22764                    132.0                   36.0  05-05015-20210606   \n",
       "22765                     61.0                    4.0  05-05017-20210606   \n",
       "\n",
       "       Week Month  \n",
       "21061    23     6  \n",
       "22762    23     6  \n",
       "22763    23     6  \n",
       "22764    23     6  \n",
       "22765    23     6  \n",
       "\n",
       "[5 rows x 22 columns]"
      ]
     },
     "execution_count": 27,
     "metadata": {},
     "output_type": "execute_result"
    }
   ],
   "source": [
    "trips_modified_df = trips_df[(trips_df['Date']>='2020/01/01')&(trips_df['Level']=='County')]\n",
    "trips_modified_df.head()"
   ]
  },
  {
   "cell_type": "code",
   "execution_count": 28,
   "metadata": {},
   "outputs": [
    {
     "data": {
      "text/plain": [
       "('2020/01/01', '2022/02/05')"
      ]
     },
     "execution_count": 28,
     "metadata": {},
     "output_type": "execute_result"
    }
   ],
   "source": [
    "trips_modified_df['Date'].min(),trips_modified_df['Date'].max()"
   ]
  },
  {
   "cell_type": "code",
   "execution_count": 29,
   "metadata": {},
   "outputs": [
    {
     "data": {
      "text/plain": [
       "(2409914, 22)"
      ]
     },
     "execution_count": 29,
     "metadata": {},
     "output_type": "execute_result"
    }
   ],
   "source": [
    "trips_modified_df.shape"
   ]
  },
  {
   "cell_type": "markdown",
   "metadata": {},
   "source": [
    "#### Feature Selection or Removing Irrelevant Data"
   ]
  },
  {
   "cell_type": "code",
   "execution_count": 30,
   "metadata": {},
   "outputs": [],
   "source": [
    "trips_modified_df = trips_modified_df[['Date','State Postal Code','Population Staying at Home','Population Not Staying at Home', 'Number of Trips']]"
   ]
  },
  {
   "cell_type": "markdown",
   "metadata": {},
   "source": [
    "#### Renaming Columns"
   ]
  },
  {
   "cell_type": "code",
   "execution_count": 31,
   "metadata": {},
   "outputs": [
    {
     "data": {
      "text/html": [
       "<div>\n",
       "<style scoped>\n",
       "    .dataframe tbody tr th:only-of-type {\n",
       "        vertical-align: middle;\n",
       "    }\n",
       "\n",
       "    .dataframe tbody tr th {\n",
       "        vertical-align: top;\n",
       "    }\n",
       "\n",
       "    .dataframe thead th {\n",
       "        text-align: right;\n",
       "    }\n",
       "</style>\n",
       "<table border=\"1\" class=\"dataframe\">\n",
       "  <thead>\n",
       "    <tr style=\"text-align: right;\">\n",
       "      <th></th>\n",
       "      <th>Date</th>\n",
       "      <th>State Name</th>\n",
       "      <th>Population Staying at Home</th>\n",
       "      <th>Population Not Staying at Home</th>\n",
       "      <th>Number of Trips</th>\n",
       "    </tr>\n",
       "  </thead>\n",
       "  <tbody>\n",
       "    <tr>\n",
       "      <th>21061</th>\n",
       "      <td>2021/06/06</td>\n",
       "      <td>WY</td>\n",
       "      <td>1268.0</td>\n",
       "      <td>5659.0</td>\n",
       "      <td>22471.0</td>\n",
       "    </tr>\n",
       "    <tr>\n",
       "      <th>22762</th>\n",
       "      <td>2021/06/06</td>\n",
       "      <td>AR</td>\n",
       "      <td>1780.0</td>\n",
       "      <td>8983.0</td>\n",
       "      <td>25022.0</td>\n",
       "    </tr>\n",
       "    <tr>\n",
       "      <th>22763</th>\n",
       "      <td>2021/06/06</td>\n",
       "      <td>AR</td>\n",
       "      <td>571.0</td>\n",
       "      <td>4618.0</td>\n",
       "      <td>17543.0</td>\n",
       "    </tr>\n",
       "    <tr>\n",
       "      <th>22764</th>\n",
       "      <td>2021/06/06</td>\n",
       "      <td>AR</td>\n",
       "      <td>4386.0</td>\n",
       "      <td>23994.0</td>\n",
       "      <td>77047.0</td>\n",
       "    </tr>\n",
       "    <tr>\n",
       "      <th>22765</th>\n",
       "      <td>2021/06/06</td>\n",
       "      <td>AR</td>\n",
       "      <td>1356.0</td>\n",
       "      <td>8762.0</td>\n",
       "      <td>31550.0</td>\n",
       "    </tr>\n",
       "  </tbody>\n",
       "</table>\n",
       "</div>"
      ],
      "text/plain": [
       "             Date State Name  Population Staying at Home  \\\n",
       "21061  2021/06/06         WY                      1268.0   \n",
       "22762  2021/06/06         AR                      1780.0   \n",
       "22763  2021/06/06         AR                       571.0   \n",
       "22764  2021/06/06         AR                      4386.0   \n",
       "22765  2021/06/06         AR                      1356.0   \n",
       "\n",
       "       Population Not Staying at Home  Number of Trips  \n",
       "21061                          5659.0          22471.0  \n",
       "22762                          8983.0          25022.0  \n",
       "22763                          4618.0          17543.0  \n",
       "22764                         23994.0          77047.0  \n",
       "22765                          8762.0          31550.0  "
      ]
     },
     "execution_count": 31,
     "metadata": {},
     "output_type": "execute_result"
    }
   ],
   "source": [
    "trips_modified_df.rename(columns = {'State Postal Code':'State Name'}, inplace = True)\n",
    "trips_modified_df.head()"
   ]
  },
  {
   "cell_type": "markdown",
   "metadata": {},
   "source": [
    "#### Replacing State Codes with their Names"
   ]
  },
  {
   "cell_type": "code",
   "execution_count": 32,
   "metadata": {},
   "outputs": [
    {
     "data": {
      "text/html": [
       "<div>\n",
       "<style scoped>\n",
       "    .dataframe tbody tr th:only-of-type {\n",
       "        vertical-align: middle;\n",
       "    }\n",
       "\n",
       "    .dataframe tbody tr th {\n",
       "        vertical-align: top;\n",
       "    }\n",
       "\n",
       "    .dataframe thead th {\n",
       "        text-align: right;\n",
       "    }\n",
       "</style>\n",
       "<table border=\"1\" class=\"dataframe\">\n",
       "  <thead>\n",
       "    <tr style=\"text-align: right;\">\n",
       "      <th></th>\n",
       "      <th>State Code</th>\n",
       "      <th>State Name</th>\n",
       "    </tr>\n",
       "  </thead>\n",
       "  <tbody>\n",
       "    <tr>\n",
       "      <th>0</th>\n",
       "      <td>AA</td>\n",
       "      <td>Armed Forces America</td>\n",
       "    </tr>\n",
       "    <tr>\n",
       "      <th>1</th>\n",
       "      <td>AE</td>\n",
       "      <td>Armed Forces</td>\n",
       "    </tr>\n",
       "    <tr>\n",
       "      <th>2</th>\n",
       "      <td>AK</td>\n",
       "      <td>Alaska</td>\n",
       "    </tr>\n",
       "    <tr>\n",
       "      <th>3</th>\n",
       "      <td>AL</td>\n",
       "      <td>Alabama</td>\n",
       "    </tr>\n",
       "    <tr>\n",
       "      <th>4</th>\n",
       "      <td>AP</td>\n",
       "      <td>Armed Forces Pacific</td>\n",
       "    </tr>\n",
       "  </tbody>\n",
       "</table>\n",
       "</div>"
      ],
      "text/plain": [
       "  State Code            State Name\n",
       "0         AA  Armed Forces America\n",
       "1         AE          Armed Forces\n",
       "2         AK                Alaska\n",
       "3         AL               Alabama\n",
       "4         AP  Armed Forces Pacific"
      ]
     },
     "execution_count": 32,
     "metadata": {},
     "output_type": "execute_result"
    }
   ],
   "source": [
    "state_code_name_df = pd.read_csv('air_pollution_base/state_code_name.csv')\n",
    "state_code_name_df.head()"
   ]
  },
  {
   "cell_type": "code",
   "execution_count": 33,
   "metadata": {},
   "outputs": [],
   "source": [
    "# Assigning State Code and its name to a Dictionary\n",
    "code_name = {}\n",
    "for code,name in zip(state_code_name_df['State Code'],state_code_name_df['State Name']):\n",
    "    code_name[code]=name.strip()\n",
    "    \n",
    "code_name['DC']='Washington DC'"
   ]
  },
  {
   "cell_type": "code",
   "execution_count": 34,
   "metadata": {
    "scrolled": true
   },
   "outputs": [],
   "source": [
    "trips_modified_df['State Name'] = trips_modified_df['State Name'].apply(lambda x : code_name[x])"
   ]
  },
  {
   "cell_type": "code",
   "execution_count": 35,
   "metadata": {},
   "outputs": [
    {
     "data": {
      "text/html": [
       "<div>\n",
       "<style scoped>\n",
       "    .dataframe tbody tr th:only-of-type {\n",
       "        vertical-align: middle;\n",
       "    }\n",
       "\n",
       "    .dataframe tbody tr th {\n",
       "        vertical-align: top;\n",
       "    }\n",
       "\n",
       "    .dataframe thead th {\n",
       "        text-align: right;\n",
       "    }\n",
       "</style>\n",
       "<table border=\"1\" class=\"dataframe\">\n",
       "  <thead>\n",
       "    <tr style=\"text-align: right;\">\n",
       "      <th></th>\n",
       "      <th>Date</th>\n",
       "      <th>State Name</th>\n",
       "      <th>Population Staying at Home</th>\n",
       "      <th>Population Not Staying at Home</th>\n",
       "      <th>Number of Trips</th>\n",
       "    </tr>\n",
       "  </thead>\n",
       "  <tbody>\n",
       "    <tr>\n",
       "      <th>21061</th>\n",
       "      <td>2021/06/06</td>\n",
       "      <td>Wyoming</td>\n",
       "      <td>1268.0</td>\n",
       "      <td>5659.0</td>\n",
       "      <td>22471.0</td>\n",
       "    </tr>\n",
       "    <tr>\n",
       "      <th>22762</th>\n",
       "      <td>2021/06/06</td>\n",
       "      <td>Arkansas</td>\n",
       "      <td>1780.0</td>\n",
       "      <td>8983.0</td>\n",
       "      <td>25022.0</td>\n",
       "    </tr>\n",
       "    <tr>\n",
       "      <th>22763</th>\n",
       "      <td>2021/06/06</td>\n",
       "      <td>Arkansas</td>\n",
       "      <td>571.0</td>\n",
       "      <td>4618.0</td>\n",
       "      <td>17543.0</td>\n",
       "    </tr>\n",
       "    <tr>\n",
       "      <th>22764</th>\n",
       "      <td>2021/06/06</td>\n",
       "      <td>Arkansas</td>\n",
       "      <td>4386.0</td>\n",
       "      <td>23994.0</td>\n",
       "      <td>77047.0</td>\n",
       "    </tr>\n",
       "    <tr>\n",
       "      <th>22765</th>\n",
       "      <td>2021/06/06</td>\n",
       "      <td>Arkansas</td>\n",
       "      <td>1356.0</td>\n",
       "      <td>8762.0</td>\n",
       "      <td>31550.0</td>\n",
       "    </tr>\n",
       "  </tbody>\n",
       "</table>\n",
       "</div>"
      ],
      "text/plain": [
       "             Date State Name  Population Staying at Home  \\\n",
       "21061  2021/06/06    Wyoming                      1268.0   \n",
       "22762  2021/06/06   Arkansas                      1780.0   \n",
       "22763  2021/06/06   Arkansas                       571.0   \n",
       "22764  2021/06/06   Arkansas                      4386.0   \n",
       "22765  2021/06/06   Arkansas                      1356.0   \n",
       "\n",
       "       Population Not Staying at Home  Number of Trips  \n",
       "21061                          5659.0          22471.0  \n",
       "22762                          8983.0          25022.0  \n",
       "22763                          4618.0          17543.0  \n",
       "22764                         23994.0          77047.0  \n",
       "22765                          8762.0          31550.0  "
      ]
     },
     "execution_count": 35,
     "metadata": {},
     "output_type": "execute_result"
    }
   ],
   "source": [
    "trips_modified_df.head()"
   ]
  },
  {
   "cell_type": "markdown",
   "metadata": {},
   "source": [
    "#### Checking for null values"
   ]
  },
  {
   "cell_type": "code",
   "execution_count": 36,
   "metadata": {},
   "outputs": [
    {
     "data": {
      "text/plain": [
       "(2409914, 5)"
      ]
     },
     "execution_count": 36,
     "metadata": {},
     "output_type": "execute_result"
    }
   ],
   "source": [
    "trips_modified_df.shape"
   ]
  },
  {
   "cell_type": "markdown",
   "metadata": {},
   "source": [
    "#### Droping duplicate values"
   ]
  },
  {
   "cell_type": "code",
   "execution_count": 38,
   "metadata": {},
   "outputs": [],
   "source": [
    "trips_modified_df.dropna(inplace=True)"
   ]
  },
  {
   "cell_type": "code",
   "execution_count": 39,
   "metadata": {},
   "outputs": [
    {
     "data": {
      "text/plain": [
       "(2398466, 5)"
      ]
     },
     "execution_count": 39,
     "metadata": {},
     "output_type": "execute_result"
    }
   ],
   "source": [
    "trips_modified_df.shape"
   ]
  },
  {
   "cell_type": "code",
   "execution_count": 40,
   "metadata": {},
   "outputs": [
    {
     "name": "stdout",
     "output_type": "stream",
     "text": [
      "<class 'pandas.core.frame.DataFrame'>\n",
      "Int64Index: 2398466 entries, 21061 to 3615243\n",
      "Data columns (total 5 columns):\n",
      " #   Column                          Dtype  \n",
      "---  ------                          -----  \n",
      " 0   Date                            object \n",
      " 1   State Name                      object \n",
      " 2   Population Staying at Home      float64\n",
      " 3   Population Not Staying at Home  float64\n",
      " 4   Number of Trips                 float64\n",
      "dtypes: float64(3), object(2)\n",
      "memory usage: 109.8+ MB\n"
     ]
    }
   ],
   "source": [
    "trips_modified_df.info()"
   ]
  },
  {
   "cell_type": "markdown",
   "metadata": {},
   "source": [
    "#### Checking and handling outliers\n",
    "##### Outlier detection through box plot"
   ]
  },
  {
   "cell_type": "code",
   "execution_count": 41,
   "metadata": {},
   "outputs": [
    {
     "data": {
      "image/png": "[encoded data removed]",
      "text/plain": [
       "<Figure size 1500x1000 with 3 Axes>"
      ]
     },
     "metadata": {},
     "output_type": "display_data"
    }
   ],
   "source": [
    "import matplotlib.pyplot as plt\n",
    "import numpy as np\n",
    "\n",
    "fig = plt.figure(figsize = (15, 10))\n",
    "\n",
    "plt.subplot(2,2,1)\n",
    "plt.boxplot(trips_modified_df['Population Staying at Home'], vert=False)\n",
    "plt.title(\"Detecting outliers for 'Population Staying at Home' using Boxplot\")\n",
    "plt.xlabel('Sample')\n",
    "\n",
    "plt.subplot(2,2,2)\n",
    "plt.boxplot(trips_modified_df['Population Not Staying at Home'], vert=False)\n",
    "plt.title(\"Detecting outliers for 'Population Not Staying at Home' using Boxplot\")\n",
    "plt.xlabel('Sample')\n",
    "\n",
    "plt.subplot(2,2,3)\n",
    "plt.boxplot(trips_modified_df['Number of Trips'], vert=False)\n",
    "plt.title(\"Detecting outliers for Number of trips using Boxplot\")\n",
    "plt.xlabel('Sample')\n",
    "plt.show()"
   ]
  },
  {
   "cell_type": "markdown",
   "metadata": {},
   "source": [
    "There are outliers detected through Box plot"
   ]
  },
  {
   "cell_type": "markdown",
   "metadata": {},
   "source": [
    "#### Outlier detection using Inter Quantile Range(IQR)"
   ]
  },
  {
   "cell_type": "code",
   "execution_count": 42,
   "metadata": {},
   "outputs": [
    {
     "name": "stdout",
     "output_type": "stream",
     "text": [
      "Outliers for 'Population Staying at Home' from IQR method in percentage:  13.8437234465696\n",
      "Outliers for 'Population Not Staying at Home' from IQR method in percentage:  13.458852449857533\n",
      "Outliers for 'Number of Trips' from IQR method in percentage:  13.070687681209572\n"
     ]
    }
   ],
   "source": [
    "def detect_outliers_iqr(data):\n",
    "    outliers = []\n",
    "    data = sorted(data)\n",
    "    q1 = np.percentile(data, 25)\n",
    "    q3 = np.percentile(data, 75)\n",
    "    # print(q1, q3)\n",
    "    IQR = q3-q1\n",
    "    lwr_bound = q1-(1.5*IQR)\n",
    "    upr_bound = q3+(1.5*IQR)\n",
    "    # print(lwr_bound, upr_bound)\n",
    "    for i in data: \n",
    "        if (i<lwr_bound or i>upr_bound):\n",
    "            outliers.append(i)\n",
    "    return outliers\n",
    "\n",
    "sample_outliers = detect_outliers_iqr(trips_modified_df['Population Staying at Home'])\n",
    "print(\"Outliers for 'Population Staying at Home' from IQR method in percentage: \", (len(sample_outliers)/trips_modified_df.shape[0])*100)\n",
    "\n",
    "sample_outliers = detect_outliers_iqr(trips_modified_df['Population Not Staying at Home'])\n",
    "print(\"Outliers for 'Population Not Staying at Home' from IQR method in percentage: \", (len(sample_outliers)/trips_modified_df.shape[0])*100)\n",
    "\n",
    "sample_outliers = detect_outliers_iqr(trips_modified_df['Number of Trips'])\n",
    "print(\"Outliers for 'Number of Trips' from IQR method in percentage: \", (len(sample_outliers)/trips_modified_df.shape[0])*100)"
   ]
  },
  {
   "cell_type": "markdown",
   "metadata": {},
   "source": [
    "#### Checking for Null Values"
   ]
  },
  {
   "cell_type": "code",
   "execution_count": 43,
   "metadata": {
    "scrolled": true
   },
   "outputs": [
    {
     "data": {
      "text/plain": [
       "Date                              0\n",
       "State Name                        0\n",
       "Population Staying at Home        0\n",
       "Population Not Staying at Home    0\n",
       "Number of Trips                   0\n",
       "dtype: int64"
      ]
     },
     "execution_count": 43,
     "metadata": {},
     "output_type": "execute_result"
    }
   ],
   "source": [
    "trips_modified_df.isna().sum()"
   ]
  },
  {
   "cell_type": "code",
   "execution_count": 44,
   "metadata": {},
   "outputs": [],
   "source": [
    "trips_modified_df.reset_index(inplace=True)"
   ]
  },
  {
   "cell_type": "code",
   "execution_count": 45,
   "metadata": {},
   "outputs": [
    {
     "data": {
      "text/html": [
       "<div>\n",
       "<style scoped>\n",
       "    .dataframe tbody tr th:only-of-type {\n",
       "        vertical-align: middle;\n",
       "    }\n",
       "\n",
       "    .dataframe tbody tr th {\n",
       "        vertical-align: top;\n",
       "    }\n",
       "\n",
       "    .dataframe thead th {\n",
       "        text-align: right;\n",
       "    }\n",
       "</style>\n",
       "<table border=\"1\" class=\"dataframe\">\n",
       "  <thead>\n",
       "    <tr style=\"text-align: right;\">\n",
       "      <th></th>\n",
       "      <th>index</th>\n",
       "      <th>Date</th>\n",
       "      <th>State Name</th>\n",
       "      <th>Population Staying at Home</th>\n",
       "      <th>Population Not Staying at Home</th>\n",
       "      <th>Number of Trips</th>\n",
       "    </tr>\n",
       "  </thead>\n",
       "  <tbody>\n",
       "    <tr>\n",
       "      <th>0</th>\n",
       "      <td>21061</td>\n",
       "      <td>2021/06/06</td>\n",
       "      <td>Wyoming</td>\n",
       "      <td>1268.0</td>\n",
       "      <td>5659.0</td>\n",
       "      <td>22471.0</td>\n",
       "    </tr>\n",
       "    <tr>\n",
       "      <th>1</th>\n",
       "      <td>22762</td>\n",
       "      <td>2021/06/06</td>\n",
       "      <td>Arkansas</td>\n",
       "      <td>1780.0</td>\n",
       "      <td>8983.0</td>\n",
       "      <td>25022.0</td>\n",
       "    </tr>\n",
       "    <tr>\n",
       "      <th>2</th>\n",
       "      <td>22763</td>\n",
       "      <td>2021/06/06</td>\n",
       "      <td>Arkansas</td>\n",
       "      <td>571.0</td>\n",
       "      <td>4618.0</td>\n",
       "      <td>17543.0</td>\n",
       "    </tr>\n",
       "    <tr>\n",
       "      <th>3</th>\n",
       "      <td>22764</td>\n",
       "      <td>2021/06/06</td>\n",
       "      <td>Arkansas</td>\n",
       "      <td>4386.0</td>\n",
       "      <td>23994.0</td>\n",
       "      <td>77047.0</td>\n",
       "    </tr>\n",
       "    <tr>\n",
       "      <th>4</th>\n",
       "      <td>22765</td>\n",
       "      <td>2021/06/06</td>\n",
       "      <td>Arkansas</td>\n",
       "      <td>1356.0</td>\n",
       "      <td>8762.0</td>\n",
       "      <td>31550.0</td>\n",
       "    </tr>\n",
       "  </tbody>\n",
       "</table>\n",
       "</div>"
      ],
      "text/plain": [
       "   index        Date State Name  Population Staying at Home  \\\n",
       "0  21061  2021/06/06    Wyoming                      1268.0   \n",
       "1  22762  2021/06/06   Arkansas                      1780.0   \n",
       "2  22763  2021/06/06   Arkansas                       571.0   \n",
       "3  22764  2021/06/06   Arkansas                      4386.0   \n",
       "4  22765  2021/06/06   Arkansas                      1356.0   \n",
       "\n",
       "   Population Not Staying at Home  Number of Trips  \n",
       "0                          5659.0          22471.0  \n",
       "1                          8983.0          25022.0  \n",
       "2                          4618.0          17543.0  \n",
       "3                         23994.0          77047.0  \n",
       "4                          8762.0          31550.0  "
      ]
     },
     "execution_count": 45,
     "metadata": {},
     "output_type": "execute_result"
    }
   ],
   "source": [
    "trips_modified_df.head()"
   ]
  },
  {
   "cell_type": "code",
   "execution_count": 46,
   "metadata": {},
   "outputs": [
    {
     "data": {
      "text/plain": [
       "Index(['index', 'Date', 'State Name', 'Population Staying at Home',\n",
       "       'Population Not Staying at Home', 'Number of Trips'],\n",
       "      dtype='object')"
      ]
     },
     "execution_count": 46,
     "metadata": {},
     "output_type": "execute_result"
    }
   ],
   "source": [
    "trips_modified_df.columns"
   ]
  },
  {
   "cell_type": "code",
   "execution_count": 47,
   "metadata": {},
   "outputs": [],
   "source": [
    "trips_modified_df.drop(columns=['index'],inplace=True)"
   ]
  },
  {
   "cell_type": "code",
   "execution_count": 48,
   "metadata": {},
   "outputs": [
    {
     "data": {
      "text/html": [
       "<div>\n",
       "<style scoped>\n",
       "    .dataframe tbody tr th:only-of-type {\n",
       "        vertical-align: middle;\n",
       "    }\n",
       "\n",
       "    .dataframe tbody tr th {\n",
       "        vertical-align: top;\n",
       "    }\n",
       "\n",
       "    .dataframe thead th {\n",
       "        text-align: right;\n",
       "    }\n",
       "</style>\n",
       "<table border=\"1\" class=\"dataframe\">\n",
       "  <thead>\n",
       "    <tr style=\"text-align: right;\">\n",
       "      <th></th>\n",
       "      <th>Date</th>\n",
       "      <th>State Name</th>\n",
       "      <th>Population Staying at Home</th>\n",
       "      <th>Population Not Staying at Home</th>\n",
       "      <th>Number of Trips</th>\n",
       "    </tr>\n",
       "  </thead>\n",
       "  <tbody>\n",
       "    <tr>\n",
       "      <th>0</th>\n",
       "      <td>2021/06/06</td>\n",
       "      <td>Wyoming</td>\n",
       "      <td>1268.0</td>\n",
       "      <td>5659.0</td>\n",
       "      <td>22471.0</td>\n",
       "    </tr>\n",
       "    <tr>\n",
       "      <th>1</th>\n",
       "      <td>2021/06/06</td>\n",
       "      <td>Arkansas</td>\n",
       "      <td>1780.0</td>\n",
       "      <td>8983.0</td>\n",
       "      <td>25022.0</td>\n",
       "    </tr>\n",
       "    <tr>\n",
       "      <th>2</th>\n",
       "      <td>2021/06/06</td>\n",
       "      <td>Arkansas</td>\n",
       "      <td>571.0</td>\n",
       "      <td>4618.0</td>\n",
       "      <td>17543.0</td>\n",
       "    </tr>\n",
       "    <tr>\n",
       "      <th>3</th>\n",
       "      <td>2021/06/06</td>\n",
       "      <td>Arkansas</td>\n",
       "      <td>4386.0</td>\n",
       "      <td>23994.0</td>\n",
       "      <td>77047.0</td>\n",
       "    </tr>\n",
       "    <tr>\n",
       "      <th>4</th>\n",
       "      <td>2021/06/06</td>\n",
       "      <td>Arkansas</td>\n",
       "      <td>1356.0</td>\n",
       "      <td>8762.0</td>\n",
       "      <td>31550.0</td>\n",
       "    </tr>\n",
       "  </tbody>\n",
       "</table>\n",
       "</div>"
      ],
      "text/plain": [
       "         Date State Name  Population Staying at Home  \\\n",
       "0  2021/06/06    Wyoming                      1268.0   \n",
       "1  2021/06/06   Arkansas                      1780.0   \n",
       "2  2021/06/06   Arkansas                       571.0   \n",
       "3  2021/06/06   Arkansas                      4386.0   \n",
       "4  2021/06/06   Arkansas                      1356.0   \n",
       "\n",
       "   Population Not Staying at Home  Number of Trips  \n",
       "0                          5659.0          22471.0  \n",
       "1                          8983.0          25022.0  \n",
       "2                          4618.0          17543.0  \n",
       "3                         23994.0          77047.0  \n",
       "4                          8762.0          31550.0  "
      ]
     },
     "execution_count": 48,
     "metadata": {},
     "output_type": "execute_result"
    }
   ],
   "source": [
    "trips_modified_df.head()"
   ]
  },
  {
   "cell_type": "code",
   "execution_count": 49,
   "metadata": {},
   "outputs": [
    {
     "data": {
      "text/plain": [
       "0"
      ]
     },
     "execution_count": 49,
     "metadata": {},
     "output_type": "execute_result"
    }
   ],
   "source": [
    "trips_modified_df['Population Not Staying at Home'].isna().sum()"
   ]
  },
  {
   "cell_type": "code",
   "execution_count": 50,
   "metadata": {},
   "outputs": [
    {
     "data": {
      "text/plain": [
       "(2398466,)"
      ]
     },
     "execution_count": 50,
     "metadata": {},
     "output_type": "execute_result"
    }
   ],
   "source": [
    "trips_modified_df['Population Not Staying at Home'].shape"
   ]
  },
  {
   "cell_type": "markdown",
   "metadata": {},
   "source": [
    "#### Handling Outliers\n",
    "\n",
    "##### Handling outliers through Quantile based flooring and capping"
   ]
  },
  {
   "cell_type": "code",
   "execution_count": 181,
   "metadata": {
    "scrolled": true
   },
   "outputs": [],
   "source": [
    "import pandas as pd\n",
    "\n",
    "def flooring_capping(i):\n",
    "    if i<lwr_bound:\n",
    "        return lwr_bound\n",
    "    elif i>upr_bound:\n",
    "        return upr_bound\n",
    "    else:\n",
    "        return i\n",
    "\n"
   ]
  },
  {
   "cell_type": "code",
   "execution_count": 182,
   "metadata": {},
   "outputs": [],
   "source": [
    "def get_lwr_upr(series):\n",
    "    sorted_data = sorted(series)\n",
    "    q1 = np.percentile(sorted_data, 25)\n",
    "    q3 = np.percentile(sorted_data, 75)\n",
    "    # print(q1, q3)\n",
    "    IQR = q3-q1\n",
    "    lwr_bound = q1-(1.5*IQR)\n",
    "    upr_bound = q3+(1.5*IQR)\n",
    "    return lwr_bound,upr_bound"
   ]
  },
  {
   "cell_type": "code",
   "execution_count": 183,
   "metadata": {},
   "outputs": [],
   "source": [
    "lwr_bound,upr_bound = get_lwr_upr(trips_modified_df['Population Staying at Home'])\n",
    "trips_modified_df['Population Staying at Home']=trips_modified_df['Population Staying at Home'].apply(flooring_capping)\n",
    "\n",
    "lwr_bound,upr_bound = get_lwr_upr(trips_modified_df['Population Not Staying at Home'])\n",
    "trips_modified_df['Population Not Staying at Home']=trips_modified_df['Population Not Staying at Home'].apply(flooring_capping)\n",
    "\n",
    "lwr_bound,upr_bound = get_lwr_upr(trips_modified_df['Number of Trips'])\n",
    "trips_modified_df['Number of Trips']=trips_modified_df['Number of Trips'].apply(flooring_capping)\n"
   ]
  },
  {
   "cell_type": "code",
   "execution_count": 184,
   "metadata": {},
   "outputs": [
    {
     "data": {
      "text/plain": [
       "(2398466,)"
      ]
     },
     "execution_count": 184,
     "metadata": {},
     "output_type": "execute_result"
    }
   ],
   "source": [
    "trips_modified_df['Population Not Staying at Home'].shape"
   ]
  },
  {
   "cell_type": "code",
   "execution_count": 185,
   "metadata": {},
   "outputs": [
    {
     "data": {
      "text/html": [
       "<div>\n",
       "<style scoped>\n",
       "    .dataframe tbody tr th:only-of-type {\n",
       "        vertical-align: middle;\n",
       "    }\n",
       "\n",
       "    .dataframe tbody tr th {\n",
       "        vertical-align: top;\n",
       "    }\n",
       "\n",
       "    .dataframe thead th {\n",
       "        text-align: right;\n",
       "    }\n",
       "</style>\n",
       "<table border=\"1\" class=\"dataframe\">\n",
       "  <thead>\n",
       "    <tr style=\"text-align: right;\">\n",
       "      <th></th>\n",
       "      <th>Date</th>\n",
       "      <th>State Name</th>\n",
       "      <th>Population Staying at Home</th>\n",
       "      <th>Population Not Staying at Home</th>\n",
       "      <th>Number of Trips</th>\n",
       "    </tr>\n",
       "  </thead>\n",
       "  <tbody>\n",
       "    <tr>\n",
       "      <th>2398461</th>\n",
       "      <td>2022/02/05</td>\n",
       "      <td>Alabama</td>\n",
       "      <td>1946.0</td>\n",
       "      <td>15259.0</td>\n",
       "      <td>69069.000</td>\n",
       "    </tr>\n",
       "    <tr>\n",
       "      <th>2398462</th>\n",
       "      <td>2022/02/05</td>\n",
       "      <td>Alabama</td>\n",
       "      <td>18024.0</td>\n",
       "      <td>87858.0</td>\n",
       "      <td>369592.000</td>\n",
       "    </tr>\n",
       "    <tr>\n",
       "      <th>2398463</th>\n",
       "      <td>2022/02/05</td>\n",
       "      <td>Alabama</td>\n",
       "      <td>7857.0</td>\n",
       "      <td>43769.0</td>\n",
       "      <td>186441.000</td>\n",
       "    </tr>\n",
       "    <tr>\n",
       "      <th>2398464</th>\n",
       "      <td>2022/02/05</td>\n",
       "      <td>Alabama</td>\n",
       "      <td>31912.0</td>\n",
       "      <td>124026.0</td>\n",
       "      <td>558057.375</td>\n",
       "    </tr>\n",
       "    <tr>\n",
       "      <th>2398465</th>\n",
       "      <td>2022/02/05</td>\n",
       "      <td>Alabama</td>\n",
       "      <td>2008.0</td>\n",
       "      <td>11797.0</td>\n",
       "      <td>51939.000</td>\n",
       "    </tr>\n",
       "  </tbody>\n",
       "</table>\n",
       "</div>"
      ],
      "text/plain": [
       "               Date State Name  Population Staying at Home  \\\n",
       "2398461  2022/02/05    Alabama                      1946.0   \n",
       "2398462  2022/02/05    Alabama                     18024.0   \n",
       "2398463  2022/02/05    Alabama                      7857.0   \n",
       "2398464  2022/02/05    Alabama                     31912.0   \n",
       "2398465  2022/02/05    Alabama                      2008.0   \n",
       "\n",
       "         Population Not Staying at Home  Number of Trips  \n",
       "2398461                         15259.0        69069.000  \n",
       "2398462                         87858.0       369592.000  \n",
       "2398463                         43769.0       186441.000  \n",
       "2398464                        124026.0       558057.375  \n",
       "2398465                         11797.0        51939.000  "
      ]
     },
     "execution_count": 185,
     "metadata": {},
     "output_type": "execute_result"
    }
   ],
   "source": [
    "trips_modified_df.tail()"
   ]
  },
  {
   "cell_type": "code",
   "execution_count": 186,
   "metadata": {},
   "outputs": [
    {
     "data": {
      "text/plain": [
       "Date                              0\n",
       "State Name                        0\n",
       "Population Staying at Home        0\n",
       "Population Not Staying at Home    0\n",
       "Number of Trips                   0\n",
       "dtype: int64"
      ]
     },
     "execution_count": 186,
     "metadata": {},
     "output_type": "execute_result"
    }
   ],
   "source": [
    "trips_modified_df.isna().sum()"
   ]
  },
  {
   "cell_type": "markdown",
   "metadata": {},
   "source": [
    "#### Checking for outliers after handling it"
   ]
  },
  {
   "cell_type": "code",
   "execution_count": 187,
   "metadata": {},
   "outputs": [
    {
     "data": {
      "image/png": "[encoded data removed]",
      "text/plain": [
       "<Figure size 1500x1000 with 3 Axes>"
      ]
     },
     "metadata": {},
     "output_type": "display_data"
    }
   ],
   "source": [
    "fig = plt.figure(figsize = (15, 10))\n",
    "\n",
    "plt.subplot(2,2, 1)\n",
    "plt.boxplot(trips_modified_df['Population Staying at Home'], vert=False)\n",
    "plt.title(\"Detecting outliers for 'Population Staying at Home' using Boxplot\")\n",
    "plt.xlabel('Sample')\n",
    "\n",
    "plt.subplot(2,2,2)\n",
    "plt.boxplot(trips_modified_df['Population Not Staying at Home'], vert=False)\n",
    "plt.title(\"Detecting outliers for 'Population Not Staying at Home' using Boxplot\")\n",
    "plt.xlabel('Sample')\n",
    "\n",
    "plt.subplot(2,2,3)\n",
    "plt.boxplot(trips_modified_df['Number of Trips'], vert=False)\n",
    "plt.title(\"Detecting outliers for Number of trips using Boxplot\")\n",
    "plt.xlabel('Sample')\n",
    "\n",
    "plt.show()"
   ]
  },
  {
   "cell_type": "markdown",
   "metadata": {},
   "source": [
    "#### Removing spaces begining and end of the string and coverting it to title."
   ]
  },
  {
   "cell_type": "code",
   "execution_count": 188,
   "metadata": {},
   "outputs": [
    {
     "data": {
      "text/html": [
       "<div>\n",
       "<style scoped>\n",
       "    .dataframe tbody tr th:only-of-type {\n",
       "        vertical-align: middle;\n",
       "    }\n",
       "\n",
       "    .dataframe tbody tr th {\n",
       "        vertical-align: top;\n",
       "    }\n",
       "\n",
       "    .dataframe thead th {\n",
       "        text-align: right;\n",
       "    }\n",
       "</style>\n",
       "<table border=\"1\" class=\"dataframe\">\n",
       "  <thead>\n",
       "    <tr style=\"text-align: right;\">\n",
       "      <th></th>\n",
       "      <th>Date</th>\n",
       "      <th>State Name</th>\n",
       "      <th>Population Staying at Home</th>\n",
       "      <th>Population Not Staying at Home</th>\n",
       "      <th>Number of Trips</th>\n",
       "    </tr>\n",
       "  </thead>\n",
       "  <tbody>\n",
       "    <tr>\n",
       "      <th>0</th>\n",
       "      <td>2021-06-06</td>\n",
       "      <td>Wyoming</td>\n",
       "      <td>1268.0</td>\n",
       "      <td>5659.0</td>\n",
       "      <td>22471.0</td>\n",
       "    </tr>\n",
       "    <tr>\n",
       "      <th>1</th>\n",
       "      <td>2021-06-06</td>\n",
       "      <td>Arkansas</td>\n",
       "      <td>1780.0</td>\n",
       "      <td>8983.0</td>\n",
       "      <td>25022.0</td>\n",
       "    </tr>\n",
       "    <tr>\n",
       "      <th>2</th>\n",
       "      <td>2021-06-06</td>\n",
       "      <td>Arkansas</td>\n",
       "      <td>571.0</td>\n",
       "      <td>4618.0</td>\n",
       "      <td>17543.0</td>\n",
       "    </tr>\n",
       "    <tr>\n",
       "      <th>3</th>\n",
       "      <td>2021-06-06</td>\n",
       "      <td>Arkansas</td>\n",
       "      <td>4386.0</td>\n",
       "      <td>23994.0</td>\n",
       "      <td>77047.0</td>\n",
       "    </tr>\n",
       "    <tr>\n",
       "      <th>4</th>\n",
       "      <td>2021-06-06</td>\n",
       "      <td>Arkansas</td>\n",
       "      <td>1356.0</td>\n",
       "      <td>8762.0</td>\n",
       "      <td>31550.0</td>\n",
       "    </tr>\n",
       "  </tbody>\n",
       "</table>\n",
       "</div>"
      ],
      "text/plain": [
       "         Date State Name  Population Staying at Home  \\\n",
       "0  2021-06-06    Wyoming                      1268.0   \n",
       "1  2021-06-06   Arkansas                      1780.0   \n",
       "2  2021-06-06   Arkansas                       571.0   \n",
       "3  2021-06-06   Arkansas                      4386.0   \n",
       "4  2021-06-06   Arkansas                      1356.0   \n",
       "\n",
       "   Population Not Staying at Home  Number of Trips  \n",
       "0                          5659.0          22471.0  \n",
       "1                          8983.0          25022.0  \n",
       "2                          4618.0          17543.0  \n",
       "3                         23994.0          77047.0  \n",
       "4                          8762.0          31550.0  "
      ]
     },
     "execution_count": 188,
     "metadata": {},
     "output_type": "execute_result"
    }
   ],
   "source": [
    "trips_modified_df['State Name'] = trips_modified_df['State Name'].apply(lambda x : x.strip().title())\n",
    "trips_modified_df['Date'] = trips_modified_df['Date'].apply(lambda x : x.replace('/','-'))\n",
    "trips_modified_df.head()"
   ]
  },
  {
   "cell_type": "markdown",
   "metadata": {},
   "source": [
    "#### Grouping by Date and State Name"
   ]
  },
  {
   "cell_type": "code",
   "execution_count": 189,
   "metadata": {},
   "outputs": [],
   "source": [
    "trips_modified_df = trips_modified_df.groupby(['Date','State Name']).sum().reset_index()"
   ]
  },
  {
   "cell_type": "markdown",
   "metadata": {},
   "source": [
    "#### Checking and Droping Duplicates"
   ]
  },
  {
   "cell_type": "code",
   "execution_count": 190,
   "metadata": {},
   "outputs": [
    {
     "name": "stdout",
     "output_type": "stream",
     "text": [
      "False    39117\n",
      "dtype: int64 \n",
      "\n"
     ]
    }
   ],
   "source": [
    "# Checking duplicates on certain columns\n",
    "print(trips_modified_df.duplicated(subset=['Date','State Name']).value_counts(),'\\n')"
   ]
  },
  {
   "cell_type": "code",
   "execution_count": 191,
   "metadata": {},
   "outputs": [
    {
     "data": {
      "text/plain": [
       "(39117, 5)"
      ]
     },
     "execution_count": 191,
     "metadata": {},
     "output_type": "execute_result"
    }
   ],
   "source": [
    "trips_modified_df.shape"
   ]
  },
  {
   "cell_type": "code",
   "execution_count": 192,
   "metadata": {},
   "outputs": [],
   "source": [
    "# droping duplicates\n",
    "trips_modified_df.drop_duplicates(subset=['Date','State Name'],inplace = True)"
   ]
  },
  {
   "cell_type": "code",
   "execution_count": 193,
   "metadata": {},
   "outputs": [
    {
     "data": {
      "text/plain": [
       "(39117, 5)"
      ]
     },
     "execution_count": 193,
     "metadata": {},
     "output_type": "execute_result"
    }
   ],
   "source": [
    "trips_modified_df.shape"
   ]
  },
  {
   "cell_type": "markdown",
   "metadata": {},
   "source": [
    "### Covid-19 Dataset Cleaning"
   ]
  },
  {
   "cell_type": "markdown",
   "metadata": {},
   "source": [
    "#### Read CSV files"
   ]
  },
  {
   "cell_type": "code",
   "execution_count": 1,
   "metadata": {},
   "outputs": [
    {
     "data": {
      "text/html": [
       "<div>\n",
       "<style scoped>\n",
       "    .dataframe tbody tr th:only-of-type {\n",
       "        vertical-align: middle;\n",
       "    }\n",
       "\n",
       "    .dataframe tbody tr th {\n",
       "        vertical-align: top;\n",
       "    }\n",
       "\n",
       "    .dataframe thead th {\n",
       "        text-align: right;\n",
       "    }\n",
       "</style>\n",
       "<table border=\"1\" class=\"dataframe\">\n",
       "  <thead>\n",
       "    <tr style=\"text-align: right;\">\n",
       "      <th></th>\n",
       "      <th>date</th>\n",
       "      <th>state</th>\n",
       "      <th>fips</th>\n",
       "      <th>cases</th>\n",
       "      <th>deaths</th>\n",
       "    </tr>\n",
       "  </thead>\n",
       "  <tbody>\n",
       "    <tr>\n",
       "      <th>0</th>\n",
       "      <td>2020-01-21</td>\n",
       "      <td>Washington</td>\n",
       "      <td>53</td>\n",
       "      <td>1</td>\n",
       "      <td>0</td>\n",
       "    </tr>\n",
       "    <tr>\n",
       "      <th>1</th>\n",
       "      <td>2020-01-22</td>\n",
       "      <td>Washington</td>\n",
       "      <td>53</td>\n",
       "      <td>1</td>\n",
       "      <td>0</td>\n",
       "    </tr>\n",
       "    <tr>\n",
       "      <th>2</th>\n",
       "      <td>2020-01-23</td>\n",
       "      <td>Washington</td>\n",
       "      <td>53</td>\n",
       "      <td>1</td>\n",
       "      <td>0</td>\n",
       "    </tr>\n",
       "    <tr>\n",
       "      <th>3</th>\n",
       "      <td>2020-01-24</td>\n",
       "      <td>Illinois</td>\n",
       "      <td>17</td>\n",
       "      <td>1</td>\n",
       "      <td>0</td>\n",
       "    </tr>\n",
       "    <tr>\n",
       "      <th>4</th>\n",
       "      <td>2020-01-24</td>\n",
       "      <td>Washington</td>\n",
       "      <td>53</td>\n",
       "      <td>1</td>\n",
       "      <td>0</td>\n",
       "    </tr>\n",
       "  </tbody>\n",
       "</table>\n",
       "</div>"
      ],
      "text/plain": [
       "         date       state  fips  cases  deaths\n",
       "0  2020-01-21  Washington    53      1       0\n",
       "1  2020-01-22  Washington    53      1       0\n",
       "2  2020-01-23  Washington    53      1       0\n",
       "3  2020-01-24    Illinois    17      1       0\n",
       "4  2020-01-24  Washington    53      1       0"
      ]
     },
     "execution_count": 1,
     "metadata": {},
     "output_type": "execute_result"
    }
   ],
   "source": [
    "import pandas as pd\n",
    "covid_19_df = pd.read_csv('covid_19/us-states.csv')\n",
    "covid_19_df.head()"
   ]
  },
  {
   "cell_type": "code",
   "execution_count": 2,
   "metadata": {},
   "outputs": [
    {
     "data": {
      "text/html": [
       "<div>\n",
       "<style scoped>\n",
       "    .dataframe tbody tr th:only-of-type {\n",
       "        vertical-align: middle;\n",
       "    }\n",
       "\n",
       "    .dataframe tbody tr th {\n",
       "        vertical-align: top;\n",
       "    }\n",
       "\n",
       "    .dataframe thead th {\n",
       "        text-align: right;\n",
       "    }\n",
       "</style>\n",
       "<table border=\"1\" class=\"dataframe\">\n",
       "  <thead>\n",
       "    <tr style=\"text-align: right;\">\n",
       "      <th></th>\n",
       "      <th>date</th>\n",
       "      <th>state</th>\n",
       "      <th>fips</th>\n",
       "      <th>cases</th>\n",
       "      <th>deaths</th>\n",
       "    </tr>\n",
       "  </thead>\n",
       "  <tbody>\n",
       "    <tr>\n",
       "      <th>55441</th>\n",
       "      <td>2022-11-27</td>\n",
       "      <td>Virginia</td>\n",
       "      <td>51</td>\n",
       "      <td>2143804</td>\n",
       "      <td>22495</td>\n",
       "    </tr>\n",
       "    <tr>\n",
       "      <th>55442</th>\n",
       "      <td>2022-11-27</td>\n",
       "      <td>Washington</td>\n",
       "      <td>53</td>\n",
       "      <td>1854190</td>\n",
       "      <td>14775</td>\n",
       "    </tr>\n",
       "    <tr>\n",
       "      <th>55443</th>\n",
       "      <td>2022-11-27</td>\n",
       "      <td>West Virginia</td>\n",
       "      <td>54</td>\n",
       "      <td>613165</td>\n",
       "      <td>7714</td>\n",
       "    </tr>\n",
       "    <tr>\n",
       "      <th>55444</th>\n",
       "      <td>2022-11-27</td>\n",
       "      <td>Wisconsin</td>\n",
       "      <td>55</td>\n",
       "      <td>1921427</td>\n",
       "      <td>15651</td>\n",
       "    </tr>\n",
       "    <tr>\n",
       "      <th>55445</th>\n",
       "      <td>2022-11-27</td>\n",
       "      <td>Wyoming</td>\n",
       "      <td>56</td>\n",
       "      <td>180426</td>\n",
       "      <td>1931</td>\n",
       "    </tr>\n",
       "  </tbody>\n",
       "</table>\n",
       "</div>"
      ],
      "text/plain": [
       "             date          state  fips    cases  deaths\n",
       "55441  2022-11-27       Virginia    51  2143804   22495\n",
       "55442  2022-11-27     Washington    53  1854190   14775\n",
       "55443  2022-11-27  West Virginia    54   613165    7714\n",
       "55444  2022-11-27      Wisconsin    55  1921427   15651\n",
       "55445  2022-11-27        Wyoming    56   180426    1931"
      ]
     },
     "execution_count": 2,
     "metadata": {},
     "output_type": "execute_result"
    }
   ],
   "source": [
    "covid_19_df.tail()"
   ]
  },
  {
   "cell_type": "code",
   "execution_count": 3,
   "metadata": {},
   "outputs": [
    {
     "data": {
      "text/plain": [
       "date      0\n",
       "state     0\n",
       "fips      0\n",
       "cases     0\n",
       "deaths    0\n",
       "dtype: int64"
      ]
     },
     "execution_count": 3,
     "metadata": {},
     "output_type": "execute_result"
    }
   ],
   "source": [
    "covid_19_df.isna().sum()"
   ]
  },
  {
   "cell_type": "code",
   "execution_count": 4,
   "metadata": {},
   "outputs": [
    {
     "data": {
      "text/plain": [
       "1707268"
      ]
     },
     "execution_count": 4,
     "metadata": {},
     "output_type": "execute_result"
    }
   ],
   "source": [
    "covid_19_df.loc[55396,'cases']"
   ]
  },
  {
   "cell_type": "code",
   "execution_count": 5,
   "metadata": {},
   "outputs": [],
   "source": [
    "import numpy as np\n",
    "columns_list = list(covid_19_df['state'].unique())\n",
    "covid_grp_df=covid_19_df.groupby(['state'])\n",
    "grp_df = []\n",
    "covid_19_df['new cases']=covid_19_df['cases']\n",
    "for col_name in columns_list:\n",
    "    state_grp_df = covid_grp_df.get_group(col_name).reset_index()\n",
    "    state_grp_df = state_grp_df.sort_values(by='date', ascending=True)\n",
    "    prev_val = 0\n",
    "    for i in range(state_grp_df.shape[0]):\n",
    "        if i>0:\n",
    "            prev_val = state_grp_df.loc[i-1,'cases']\n",
    "            if prev_val== state_grp_df.loc[i,'cases']:\n",
    "                state_grp_df.loc[i,'new cases']=0\n",
    "            elif state_grp_df.loc[i,'cases']>prev_val:\n",
    "                state_grp_df.loc[i,'new cases'] = state_grp_df.loc[i,'cases']-prev_val\n",
    "            else:\n",
    "                state_grp_df.loc[i,'new cases'] = np.nan\n",
    "    grp_df.append(state_grp_df)\n",
    "\n",
    "covid_grp_merged_df = pd.concat(grp_df,axis = 0, ignore_index = True)"
   ]
  },
  {
   "cell_type": "code",
   "execution_count": 6,
   "metadata": {},
   "outputs": [
    {
     "data": {
      "text/plain": [
       "index         0\n",
       "date          0\n",
       "state         0\n",
       "fips          0\n",
       "cases         0\n",
       "deaths        0\n",
       "new cases    99\n",
       "dtype: int64"
      ]
     },
     "execution_count": 6,
     "metadata": {},
     "output_type": "execute_result"
    }
   ],
   "source": [
    "covid_grp_merged_df.isna().sum()"
   ]
  },
  {
   "cell_type": "code",
   "execution_count": 7,
   "metadata": {},
   "outputs": [],
   "source": [
    "covid_grp_merged_df.dropna(inplace=True)"
   ]
  },
  {
   "cell_type": "code",
   "execution_count": 8,
   "metadata": {},
   "outputs": [
    {
     "data": {
      "text/plain": [
       "index        0\n",
       "date         0\n",
       "state        0\n",
       "fips         0\n",
       "cases        0\n",
       "deaths       0\n",
       "new cases    0\n",
       "dtype: int64"
      ]
     },
     "execution_count": 8,
     "metadata": {},
     "output_type": "execute_result"
    }
   ],
   "source": [
    "covid_grp_merged_df.isna().sum()"
   ]
  },
  {
   "cell_type": "code",
   "execution_count": 9,
   "metadata": {},
   "outputs": [
    {
     "data": {
      "text/html": [
       "<div>\n",
       "<style scoped>\n",
       "    .dataframe tbody tr th:only-of-type {\n",
       "        vertical-align: middle;\n",
       "    }\n",
       "\n",
       "    .dataframe tbody tr th {\n",
       "        vertical-align: top;\n",
       "    }\n",
       "\n",
       "    .dataframe thead th {\n",
       "        text-align: right;\n",
       "    }\n",
       "</style>\n",
       "<table border=\"1\" class=\"dataframe\">\n",
       "  <thead>\n",
       "    <tr style=\"text-align: right;\">\n",
       "      <th></th>\n",
       "      <th>index</th>\n",
       "      <th>date</th>\n",
       "      <th>state</th>\n",
       "      <th>fips</th>\n",
       "      <th>cases</th>\n",
       "      <th>deaths</th>\n",
       "      <th>new cases</th>\n",
       "    </tr>\n",
       "  </thead>\n",
       "  <tbody>\n",
       "    <tr>\n",
       "      <th>0</th>\n",
       "      <td>0</td>\n",
       "      <td>2020-01-21</td>\n",
       "      <td>Washington</td>\n",
       "      <td>53</td>\n",
       "      <td>1</td>\n",
       "      <td>0</td>\n",
       "      <td>1.0</td>\n",
       "    </tr>\n",
       "    <tr>\n",
       "      <th>1</th>\n",
       "      <td>1</td>\n",
       "      <td>2020-01-22</td>\n",
       "      <td>Washington</td>\n",
       "      <td>53</td>\n",
       "      <td>1</td>\n",
       "      <td>0</td>\n",
       "      <td>0.0</td>\n",
       "    </tr>\n",
       "    <tr>\n",
       "      <th>2</th>\n",
       "      <td>2</td>\n",
       "      <td>2020-01-23</td>\n",
       "      <td>Washington</td>\n",
       "      <td>53</td>\n",
       "      <td>1</td>\n",
       "      <td>0</td>\n",
       "      <td>0.0</td>\n",
       "    </tr>\n",
       "    <tr>\n",
       "      <th>3</th>\n",
       "      <td>4</td>\n",
       "      <td>2020-01-24</td>\n",
       "      <td>Washington</td>\n",
       "      <td>53</td>\n",
       "      <td>1</td>\n",
       "      <td>0</td>\n",
       "      <td>0.0</td>\n",
       "    </tr>\n",
       "    <tr>\n",
       "      <th>4</th>\n",
       "      <td>7</td>\n",
       "      <td>2020-01-25</td>\n",
       "      <td>Washington</td>\n",
       "      <td>53</td>\n",
       "      <td>1</td>\n",
       "      <td>0</td>\n",
       "      <td>0.0</td>\n",
       "    </tr>\n",
       "  </tbody>\n",
       "</table>\n",
       "</div>"
      ],
      "text/plain": [
       "   index        date       state  fips  cases  deaths  new cases\n",
       "0      0  2020-01-21  Washington    53      1       0        1.0\n",
       "1      1  2020-01-22  Washington    53      1       0        0.0\n",
       "2      2  2020-01-23  Washington    53      1       0        0.0\n",
       "3      4  2020-01-24  Washington    53      1       0        0.0\n",
       "4      7  2020-01-25  Washington    53      1       0        0.0"
      ]
     },
     "execution_count": 9,
     "metadata": {},
     "output_type": "execute_result"
    }
   ],
   "source": [
    "covid_grp_merged_df.head()"
   ]
  },
  {
   "cell_type": "code",
   "execution_count": 10,
   "metadata": {},
   "outputs": [],
   "source": [
    "covid_19_modified_df=covid_grp_merged_df"
   ]
  },
  {
   "cell_type": "code",
   "execution_count": 11,
   "metadata": {},
   "outputs": [],
   "source": [
    "covid_19_modified_df.rename(columns={'date':'Date','state':'State Name','new cases':'New Covid Cases'},inplace=True)"
   ]
  },
  {
   "cell_type": "code",
   "execution_count": 12,
   "metadata": {},
   "outputs": [
    {
     "data": {
      "text/plain": [
       "(55347, 7)"
      ]
     },
     "execution_count": 12,
     "metadata": {},
     "output_type": "execute_result"
    }
   ],
   "source": [
    "covid_19_modified_df.shape"
   ]
  },
  {
   "cell_type": "code",
   "execution_count": 13,
   "metadata": {},
   "outputs": [
    {
     "data": {
      "text/html": [
       "<div>\n",
       "<style scoped>\n",
       "    .dataframe tbody tr th:only-of-type {\n",
       "        vertical-align: middle;\n",
       "    }\n",
       "\n",
       "    .dataframe tbody tr th {\n",
       "        vertical-align: top;\n",
       "    }\n",
       "\n",
       "    .dataframe thead th {\n",
       "        text-align: right;\n",
       "    }\n",
       "</style>\n",
       "<table border=\"1\" class=\"dataframe\">\n",
       "  <thead>\n",
       "    <tr style=\"text-align: right;\">\n",
       "      <th></th>\n",
       "      <th>index</th>\n",
       "      <th>Date</th>\n",
       "      <th>State Name</th>\n",
       "      <th>fips</th>\n",
       "      <th>cases</th>\n",
       "      <th>deaths</th>\n",
       "      <th>New Covid Cases</th>\n",
       "    </tr>\n",
       "  </thead>\n",
       "  <tbody>\n",
       "    <tr>\n",
       "      <th>0</th>\n",
       "      <td>0</td>\n",
       "      <td>2020-01-21</td>\n",
       "      <td>Washington</td>\n",
       "      <td>53</td>\n",
       "      <td>1</td>\n",
       "      <td>0</td>\n",
       "      <td>1.0</td>\n",
       "    </tr>\n",
       "    <tr>\n",
       "      <th>1</th>\n",
       "      <td>1</td>\n",
       "      <td>2020-01-22</td>\n",
       "      <td>Washington</td>\n",
       "      <td>53</td>\n",
       "      <td>1</td>\n",
       "      <td>0</td>\n",
       "      <td>0.0</td>\n",
       "    </tr>\n",
       "    <tr>\n",
       "      <th>2</th>\n",
       "      <td>2</td>\n",
       "      <td>2020-01-23</td>\n",
       "      <td>Washington</td>\n",
       "      <td>53</td>\n",
       "      <td>1</td>\n",
       "      <td>0</td>\n",
       "      <td>0.0</td>\n",
       "    </tr>\n",
       "    <tr>\n",
       "      <th>3</th>\n",
       "      <td>4</td>\n",
       "      <td>2020-01-24</td>\n",
       "      <td>Washington</td>\n",
       "      <td>53</td>\n",
       "      <td>1</td>\n",
       "      <td>0</td>\n",
       "      <td>0.0</td>\n",
       "    </tr>\n",
       "    <tr>\n",
       "      <th>4</th>\n",
       "      <td>7</td>\n",
       "      <td>2020-01-25</td>\n",
       "      <td>Washington</td>\n",
       "      <td>53</td>\n",
       "      <td>1</td>\n",
       "      <td>0</td>\n",
       "      <td>0.0</td>\n",
       "    </tr>\n",
       "  </tbody>\n",
       "</table>\n",
       "</div>"
      ],
      "text/plain": [
       "   index        Date  State Name  fips  cases  deaths  New Covid Cases\n",
       "0      0  2020-01-21  Washington    53      1       0              1.0\n",
       "1      1  2020-01-22  Washington    53      1       0              0.0\n",
       "2      2  2020-01-23  Washington    53      1       0              0.0\n",
       "3      4  2020-01-24  Washington    53      1       0              0.0\n",
       "4      7  2020-01-25  Washington    53      1       0              0.0"
      ]
     },
     "execution_count": 13,
     "metadata": {},
     "output_type": "execute_result"
    }
   ],
   "source": [
    "covid_19_modified_df.head()"
   ]
  },
  {
   "cell_type": "markdown",
   "metadata": {},
   "source": [
    "#### Feature selection or Removing Irrelevant Data"
   ]
  },
  {
   "cell_type": "code",
   "execution_count": 14,
   "metadata": {},
   "outputs": [
    {
     "data": {
      "text/plain": [
       "Date               0\n",
       "State Name         0\n",
       "New Covid Cases    0\n",
       "dtype: int64"
      ]
     },
     "execution_count": 14,
     "metadata": {},
     "output_type": "execute_result"
    }
   ],
   "source": [
    "covid_19_modified_df = covid_19_modified_df[['Date','State Name','New Covid Cases']]\n",
    "covid_19_modified_df.isna().sum()"
   ]
  },
  {
   "cell_type": "code",
   "execution_count": 15,
   "metadata": {},
   "outputs": [
    {
     "name": "stdout",
     "output_type": "stream",
     "text": [
      "<class 'pandas.core.frame.DataFrame'>\n",
      "Int64Index: 55347 entries, 0 to 55445\n",
      "Data columns (total 3 columns):\n",
      " #   Column           Non-Null Count  Dtype  \n",
      "---  ------           --------------  -----  \n",
      " 0   Date             55347 non-null  object \n",
      " 1   State Name       55347 non-null  object \n",
      " 2   New Covid Cases  55347 non-null  float64\n",
      "dtypes: float64(1), object(2)\n",
      "memory usage: 1.7+ MB\n"
     ]
    }
   ],
   "source": [
    "covid_19_modified_df.info()"
   ]
  },
  {
   "cell_type": "code",
   "execution_count": 16,
   "metadata": {},
   "outputs": [
    {
     "data": {
      "text/plain": [
       "(227972.0, 0.0)"
      ]
     },
     "execution_count": 16,
     "metadata": {},
     "output_type": "execute_result"
    }
   ],
   "source": [
    "covid_19_modified_df['New Covid Cases'].max(), covid_19_modified_df['New Covid Cases'].min()"
   ]
  },
  {
   "cell_type": "markdown",
   "metadata": {},
   "source": [
    "#### Checking and handling Outliers\n",
    "\n",
    "#### Outlier detection through box plot"
   ]
  },
  {
   "cell_type": "code",
   "execution_count": 17,
   "metadata": {},
   "outputs": [
    {
     "data": {
      "image/png": "[encoded data removed]",
      "text/plain": [
       "<Figure size 640x480 with 1 Axes>"
      ]
     },
     "metadata": {},
     "output_type": "display_data"
    }
   ],
   "source": [
    "import numpy as np\n",
    "import matplotlib.pyplot as plt\n",
    "\n",
    "\n",
    "plt.boxplot(covid_19_modified_df['New Covid Cases'], vert=False)\n",
    "plt.title(\"Detecting outliers for Covid-19 Cases using Boxplot\")\n",
    "plt.xlabel('Sample')\n",
    "plt.show()"
   ]
  },
  {
   "cell_type": "markdown",
   "metadata": {},
   "source": [
    "There are outliers present in the dataset"
   ]
  },
  {
   "cell_type": "markdown",
   "metadata": {},
   "source": [
    "#### Detecting outliers using Inter Quatertile Range"
   ]
  },
  {
   "cell_type": "code",
   "execution_count": 18,
   "metadata": {},
   "outputs": [],
   "source": [
    "def detect_outliers_iqr(data):\n",
    "    outliers = []\n",
    "    data = sorted(data)\n",
    "    q1 = np.percentile(data, 25)\n",
    "    q3 = np.percentile(data, 75)\n",
    "    # print(q1, q3)\n",
    "    IQR = q3-q1\n",
    "    lwr_bound = q1-(1.5*IQR)\n",
    "    upr_bound = q3+(1.5*IQR)\n",
    "    # print(lwr_bound, upr_bound)\n",
    "    for i in data: \n",
    "        if (i<lwr_bound or i>upr_bound):\n",
    "            outliers.append(i)\n",
    "    return outliers\n"
   ]
  },
  {
   "cell_type": "code",
   "execution_count": 19,
   "metadata": {},
   "outputs": [
    {
     "name": "stdout",
     "output_type": "stream",
     "text": [
      "Outliers for 'Covid Cases' from IQR method in percentage:  11.541727645581513\n"
     ]
    }
   ],
   "source": [
    "sample_outliers = detect_outliers_iqr(covid_19_modified_df['New Covid Cases'])\n",
    "print(\"Outliers for 'Covid Cases' from IQR method in percentage: \", (len(sample_outliers)/covid_19_modified_df.shape[0])*100)"
   ]
  },
  {
   "cell_type": "markdown",
   "metadata": {},
   "source": [
    "#### Handling outliers using flooring and capping"
   ]
  },
  {
   "cell_type": "code",
   "execution_count": 20,
   "metadata": {},
   "outputs": [],
   "source": [
    "import pandas as pd\n",
    "def flooring_capping(series):\n",
    "    original_data = series\n",
    "    sorted_data = sorted(series)\n",
    "    q1 = np.percentile(sorted_data, 25)\n",
    "    q3 = np.percentile(sorted_data, 75)\n",
    "    # print(q1, q3)\n",
    "    IQR = q3-q1\n",
    "    lwr_bound = q1-(1.5*IQR)\n",
    "    upr_bound = q3+(1.5*IQR)\n",
    "    print(lwr_bound, upr_bound)\n",
    "    corrected_list = []\n",
    "    for i in original_data: \n",
    "        if i<lwr_bound:\n",
    "            corrected_list.append(lwr_bound)\n",
    "        elif i>upr_bound:\n",
    "            corrected_list.append(upr_bound)\n",
    "        else:\n",
    "            corrected_list.append(i)\n",
    "    return pd.Series(corrected_list)\n"
   ]
  },
  {
   "cell_type": "code",
   "execution_count": 21,
   "metadata": {},
   "outputs": [
    {
     "name": "stdout",
     "output_type": "stream",
     "text": [
      "-2235.0 3749.0\n"
     ]
    },
    {
     "name": "stderr",
     "output_type": "stream",
     "text": [
      "/tmp/ipykernel_898598/1647264601.py:1: SettingWithCopyWarning: \n",
      "A value is trying to be set on a copy of a slice from a DataFrame.\n",
      "Try using .loc[row_indexer,col_indexer] = value instead\n",
      "\n",
      "See the caveats in the documentation: https://pandas.pydata.org/pandas-docs/stable/user_guide/indexing.html#returning-a-view-versus-a-copy\n",
      "  covid_19_modified_df['New Covid Cases'] = flooring_capping(covid_19_modified_df['New Covid Cases'])\n"
     ]
    }
   ],
   "source": [
    "covid_19_modified_df['New Covid Cases'] = flooring_capping(covid_19_modified_df['New Covid Cases'])"
   ]
  },
  {
   "cell_type": "code",
   "execution_count": 22,
   "metadata": {},
   "outputs": [
    {
     "data": {
      "text/plain": [
       "Date                0\n",
       "State Name          0\n",
       "New Covid Cases    99\n",
       "dtype: int64"
      ]
     },
     "execution_count": 22,
     "metadata": {},
     "output_type": "execute_result"
    }
   ],
   "source": [
    "covid_19_modified_df.isna().sum()"
   ]
  },
  {
   "cell_type": "code",
   "execution_count": 23,
   "metadata": {},
   "outputs": [
    {
     "name": "stderr",
     "output_type": "stream",
     "text": [
      "/tmp/ipykernel_898598/2916229298.py:1: SettingWithCopyWarning: \n",
      "A value is trying to be set on a copy of a slice from a DataFrame\n",
      "\n",
      "See the caveats in the documentation: https://pandas.pydata.org/pandas-docs/stable/user_guide/indexing.html#returning-a-view-versus-a-copy\n",
      "  covid_19_modified_df.dropna(inplace=True)\n"
     ]
    }
   ],
   "source": [
    "covid_19_modified_df.dropna(inplace=True)"
   ]
  },
  {
   "cell_type": "code",
   "execution_count": 24,
   "metadata": {},
   "outputs": [
    {
     "data": {
      "text/plain": [
       "Date               0\n",
       "State Name         0\n",
       "New Covid Cases    0\n",
       "dtype: int64"
      ]
     },
     "execution_count": 24,
     "metadata": {},
     "output_type": "execute_result"
    }
   ],
   "source": [
    "covid_19_modified_df.isna().sum()"
   ]
  },
  {
   "cell_type": "markdown",
   "metadata": {},
   "source": [
    "#### Checking for outliers after handling it"
   ]
  },
  {
   "cell_type": "code",
   "execution_count": 25,
   "metadata": {},
   "outputs": [
    {
     "data": {
      "image/png": "[encoded data removed]",
      "text/plain": [
       "<Figure size 640x480 with 1 Axes>"
      ]
     },
     "metadata": {},
     "output_type": "display_data"
    }
   ],
   "source": [
    "import numpy as np\n",
    "import matplotlib.pyplot as plt\n",
    "\n",
    "\n",
    "plt.boxplot(covid_19_modified_df['New Covid Cases'], vert=False)\n",
    "plt.title(\"Detecting outliers for Covid-19 Cases using Boxplot\")\n",
    "plt.xlabel('Sample')\n",
    "plt.show()"
   ]
  },
  {
   "cell_type": "markdown",
   "metadata": {},
   "source": [
    "#### Renaming columns of a dataframe"
   ]
  },
  {
   "cell_type": "code",
   "execution_count": 26,
   "metadata": {},
   "outputs": [
    {
     "data": {
      "text/html": [
       "<div>\n",
       "<style scoped>\n",
       "    .dataframe tbody tr th:only-of-type {\n",
       "        vertical-align: middle;\n",
       "    }\n",
       "\n",
       "    .dataframe tbody tr th {\n",
       "        vertical-align: top;\n",
       "    }\n",
       "\n",
       "    .dataframe thead th {\n",
       "        text-align: right;\n",
       "    }\n",
       "</style>\n",
       "<table border=\"1\" class=\"dataframe\">\n",
       "  <thead>\n",
       "    <tr style=\"text-align: right;\">\n",
       "      <th></th>\n",
       "      <th>Date</th>\n",
       "      <th>State Name</th>\n",
       "      <th>New Covid Cases</th>\n",
       "    </tr>\n",
       "  </thead>\n",
       "  <tbody>\n",
       "    <tr>\n",
       "      <th>0</th>\n",
       "      <td>2020-01-21</td>\n",
       "      <td>Washington</td>\n",
       "      <td>1.0</td>\n",
       "    </tr>\n",
       "    <tr>\n",
       "      <th>1</th>\n",
       "      <td>2020-01-22</td>\n",
       "      <td>Washington</td>\n",
       "      <td>0.0</td>\n",
       "    </tr>\n",
       "    <tr>\n",
       "      <th>2</th>\n",
       "      <td>2020-01-23</td>\n",
       "      <td>Washington</td>\n",
       "      <td>0.0</td>\n",
       "    </tr>\n",
       "    <tr>\n",
       "      <th>3</th>\n",
       "      <td>2020-01-24</td>\n",
       "      <td>Washington</td>\n",
       "      <td>0.0</td>\n",
       "    </tr>\n",
       "    <tr>\n",
       "      <th>4</th>\n",
       "      <td>2020-01-25</td>\n",
       "      <td>Washington</td>\n",
       "      <td>0.0</td>\n",
       "    </tr>\n",
       "  </tbody>\n",
       "</table>\n",
       "</div>"
      ],
      "text/plain": [
       "         Date  State Name  New Covid Cases\n",
       "0  2020-01-21  Washington              1.0\n",
       "1  2020-01-22  Washington              0.0\n",
       "2  2020-01-23  Washington              0.0\n",
       "3  2020-01-24  Washington              0.0\n",
       "4  2020-01-25  Washington              0.0"
      ]
     },
     "execution_count": 26,
     "metadata": {},
     "output_type": "execute_result"
    }
   ],
   "source": [
    "covid_19_modified_df.head()"
   ]
  },
  {
   "cell_type": "markdown",
   "metadata": {},
   "source": [
    "#### Checking for Null Values"
   ]
  },
  {
   "cell_type": "code",
   "execution_count": 27,
   "metadata": {},
   "outputs": [
    {
     "data": {
      "text/plain": [
       "Date               0\n",
       "State Name         0\n",
       "New Covid Cases    0\n",
       "dtype: int64"
      ]
     },
     "execution_count": 27,
     "metadata": {},
     "output_type": "execute_result"
    }
   ],
   "source": [
    "covid_19_modified_df.isna().sum()"
   ]
  },
  {
   "cell_type": "markdown",
   "metadata": {},
   "source": [
    "#### Checking and Droping Duplicate values"
   ]
  },
  {
   "cell_type": "code",
   "execution_count": 28,
   "metadata": {},
   "outputs": [
    {
     "data": {
      "text/plain": [
       "False    55248\n",
       "dtype: int64"
      ]
     },
     "execution_count": 28,
     "metadata": {},
     "output_type": "execute_result"
    }
   ],
   "source": [
    "covid_19_modified_df.duplicated(subset=['Date','State Name']).value_counts()"
   ]
  },
  {
   "cell_type": "code",
   "execution_count": 29,
   "metadata": {},
   "outputs": [],
   "source": [
    "covid_19_modified_df.to_csv('covid_19_new_cases.csv',index=False)"
   ]
  },
  {
   "cell_type": "code",
   "execution_count": 30,
   "metadata": {},
   "outputs": [
    {
     "data": {
      "text/html": [
       "<div>\n",
       "<style scoped>\n",
       "    .dataframe tbody tr th:only-of-type {\n",
       "        vertical-align: middle;\n",
       "    }\n",
       "\n",
       "    .dataframe tbody tr th {\n",
       "        vertical-align: top;\n",
       "    }\n",
       "\n",
       "    .dataframe thead th {\n",
       "        text-align: right;\n",
       "    }\n",
       "</style>\n",
       "<table border=\"1\" class=\"dataframe\">\n",
       "  <thead>\n",
       "    <tr style=\"text-align: right;\">\n",
       "      <th></th>\n",
       "      <th>Date</th>\n",
       "      <th>State Name</th>\n",
       "      <th>New Covid Cases</th>\n",
       "    </tr>\n",
       "  </thead>\n",
       "  <tbody>\n",
       "    <tr>\n",
       "      <th>0</th>\n",
       "      <td>2020-01-21</td>\n",
       "      <td>Washington</td>\n",
       "      <td>1.0</td>\n",
       "    </tr>\n",
       "    <tr>\n",
       "      <th>1</th>\n",
       "      <td>2020-01-22</td>\n",
       "      <td>Washington</td>\n",
       "      <td>0.0</td>\n",
       "    </tr>\n",
       "    <tr>\n",
       "      <th>2</th>\n",
       "      <td>2020-01-23</td>\n",
       "      <td>Washington</td>\n",
       "      <td>0.0</td>\n",
       "    </tr>\n",
       "    <tr>\n",
       "      <th>3</th>\n",
       "      <td>2020-01-24</td>\n",
       "      <td>Washington</td>\n",
       "      <td>0.0</td>\n",
       "    </tr>\n",
       "    <tr>\n",
       "      <th>4</th>\n",
       "      <td>2020-01-25</td>\n",
       "      <td>Washington</td>\n",
       "      <td>0.0</td>\n",
       "    </tr>\n",
       "  </tbody>\n",
       "</table>\n",
       "</div>"
      ],
      "text/plain": [
       "         Date  State Name  New Covid Cases\n",
       "0  2020-01-21  Washington              1.0\n",
       "1  2020-01-22  Washington              0.0\n",
       "2  2020-01-23  Washington              0.0\n",
       "3  2020-01-24  Washington              0.0\n",
       "4  2020-01-25  Washington              0.0"
      ]
     },
     "execution_count": 30,
     "metadata": {},
     "output_type": "execute_result"
    }
   ],
   "source": [
    "pd.read_csv('covid_19_new_cases.csv').head()"
   ]
  },
  {
   "cell_type": "markdown",
   "metadata": {},
   "source": [
    "### Merging All pollutants, meteorological, trips and Covid-19 datasets on common column names"
   ]
  },
  {
   "cell_type": "code",
   "execution_count": 220,
   "metadata": {},
   "outputs": [
    {
     "data": {
      "text/html": [
       "<div>\n",
       "<style scoped>\n",
       "    .dataframe tbody tr th:only-of-type {\n",
       "        vertical-align: middle;\n",
       "    }\n",
       "\n",
       "    .dataframe tbody tr th {\n",
       "        vertical-align: top;\n",
       "    }\n",
       "\n",
       "    .dataframe thead th {\n",
       "        text-align: right;\n",
       "    }\n",
       "</style>\n",
       "<table border=\"1\" class=\"dataframe\">\n",
       "  <thead>\n",
       "    <tr style=\"text-align: right;\">\n",
       "      <th></th>\n",
       "      <th>Date</th>\n",
       "      <th>State Name</th>\n",
       "      <th>AQI</th>\n",
       "    </tr>\n",
       "  </thead>\n",
       "  <tbody>\n",
       "    <tr>\n",
       "      <th>0</th>\n",
       "      <td>2020-01-01</td>\n",
       "      <td>Alabama</td>\n",
       "      <td>36.666667</td>\n",
       "    </tr>\n",
       "    <tr>\n",
       "      <th>1</th>\n",
       "      <td>2020-01-01</td>\n",
       "      <td>Alaska</td>\n",
       "      <td>27.250000</td>\n",
       "    </tr>\n",
       "    <tr>\n",
       "      <th>2</th>\n",
       "      <td>2020-01-01</td>\n",
       "      <td>Arizona</td>\n",
       "      <td>43.307692</td>\n",
       "    </tr>\n",
       "    <tr>\n",
       "      <th>3</th>\n",
       "      <td>2020-01-01</td>\n",
       "      <td>Arkansas</td>\n",
       "      <td>35.454545</td>\n",
       "    </tr>\n",
       "    <tr>\n",
       "      <th>4</th>\n",
       "      <td>2020-01-01</td>\n",
       "      <td>California</td>\n",
       "      <td>55.358491</td>\n",
       "    </tr>\n",
       "  </tbody>\n",
       "</table>\n",
       "</div>"
      ],
      "text/plain": [
       "         Date  State Name        AQI\n",
       "0  2020-01-01     Alabama  36.666667\n",
       "1  2020-01-01      Alaska  27.250000\n",
       "2  2020-01-01     Arizona  43.307692\n",
       "3  2020-01-01    Arkansas  35.454545\n",
       "4  2020-01-01  California  55.358491"
      ]
     },
     "execution_count": 220,
     "metadata": {},
     "output_type": "execute_result"
    }
   ],
   "source": [
    "aqi_df.head()"
   ]
  },
  {
   "cell_type": "code",
   "execution_count": 221,
   "metadata": {},
   "outputs": [
    {
     "data": {
      "text/plain": [
       "Date          0\n",
       "State Name    0\n",
       "AQI           0\n",
       "dtype: int64"
      ]
     },
     "execution_count": 221,
     "metadata": {},
     "output_type": "execute_result"
    }
   ],
   "source": [
    "aqi_df.isna().sum()"
   ]
  },
  {
   "cell_type": "code",
   "execution_count": 222,
   "metadata": {},
   "outputs": [
    {
     "data": {
      "text/html": [
       "<div>\n",
       "<style scoped>\n",
       "    .dataframe tbody tr th:only-of-type {\n",
       "        vertical-align: middle;\n",
       "    }\n",
       "\n",
       "    .dataframe tbody tr th {\n",
       "        vertical-align: top;\n",
       "    }\n",
       "\n",
       "    .dataframe thead th {\n",
       "        text-align: right;\n",
       "    }\n",
       "</style>\n",
       "<table border=\"1\" class=\"dataframe\">\n",
       "  <thead>\n",
       "    <tr style=\"text-align: right;\">\n",
       "      <th></th>\n",
       "      <th>Date</th>\n",
       "      <th>State Name</th>\n",
       "      <th>pm10_mean</th>\n",
       "    </tr>\n",
       "  </thead>\n",
       "  <tbody>\n",
       "    <tr>\n",
       "      <th>0</th>\n",
       "      <td>2020-01-01</td>\n",
       "      <td>Alabama</td>\n",
       "      <td>12.500000</td>\n",
       "    </tr>\n",
       "    <tr>\n",
       "      <th>1</th>\n",
       "      <td>2020-01-01</td>\n",
       "      <td>Alaska</td>\n",
       "      <td>9.000000</td>\n",
       "    </tr>\n",
       "    <tr>\n",
       "      <th>2</th>\n",
       "      <td>2020-01-01</td>\n",
       "      <td>Arizona</td>\n",
       "      <td>23.852941</td>\n",
       "    </tr>\n",
       "    <tr>\n",
       "      <th>3</th>\n",
       "      <td>2020-01-01</td>\n",
       "      <td>Arkansas</td>\n",
       "      <td>16.000000</td>\n",
       "    </tr>\n",
       "    <tr>\n",
       "      <th>4</th>\n",
       "      <td>2020-01-01</td>\n",
       "      <td>California</td>\n",
       "      <td>17.615385</td>\n",
       "    </tr>\n",
       "  </tbody>\n",
       "</table>\n",
       "</div>"
      ],
      "text/plain": [
       "         Date  State Name  pm10_mean\n",
       "0  2020-01-01     Alabama  12.500000\n",
       "1  2020-01-01      Alaska   9.000000\n",
       "2  2020-01-01     Arizona  23.852941\n",
       "3  2020-01-01    Arkansas  16.000000\n",
       "4  2020-01-01  California  17.615385"
      ]
     },
     "execution_count": 222,
     "metadata": {},
     "output_type": "execute_result"
    }
   ],
   "source": [
    "pm10_df.head()"
   ]
  },
  {
   "cell_type": "code",
   "execution_count": 223,
   "metadata": {},
   "outputs": [
    {
     "data": {
      "text/plain": [
       "Date          0\n",
       "State Name    0\n",
       "pm10_mean     0\n",
       "dtype: int64"
      ]
     },
     "execution_count": 223,
     "metadata": {},
     "output_type": "execute_result"
    }
   ],
   "source": [
    "pm10_df.isna().sum()"
   ]
  },
  {
   "cell_type": "code",
   "execution_count": 224,
   "metadata": {},
   "outputs": [
    {
     "data": {
      "text/html": [
       "<div>\n",
       "<style scoped>\n",
       "    .dataframe tbody tr th:only-of-type {\n",
       "        vertical-align: middle;\n",
       "    }\n",
       "\n",
       "    .dataframe tbody tr th {\n",
       "        vertical-align: top;\n",
       "    }\n",
       "\n",
       "    .dataframe thead th {\n",
       "        text-align: right;\n",
       "    }\n",
       "</style>\n",
       "<table border=\"1\" class=\"dataframe\">\n",
       "  <thead>\n",
       "    <tr style=\"text-align: right;\">\n",
       "      <th></th>\n",
       "      <th>Date</th>\n",
       "      <th>State Name</th>\n",
       "      <th>pm25_mean</th>\n",
       "    </tr>\n",
       "  </thead>\n",
       "  <tbody>\n",
       "    <tr>\n",
       "      <th>0</th>\n",
       "      <td>2020-01-01</td>\n",
       "      <td>Alabama</td>\n",
       "      <td>8.225962</td>\n",
       "    </tr>\n",
       "    <tr>\n",
       "      <th>1</th>\n",
       "      <td>2020-01-01</td>\n",
       "      <td>Alaska</td>\n",
       "      <td>9.400000</td>\n",
       "    </tr>\n",
       "    <tr>\n",
       "      <th>2</th>\n",
       "      <td>2020-01-01</td>\n",
       "      <td>Arizona</td>\n",
       "      <td>15.358824</td>\n",
       "    </tr>\n",
       "    <tr>\n",
       "      <th>3</th>\n",
       "      <td>2020-01-01</td>\n",
       "      <td>Arkansas</td>\n",
       "      <td>9.130000</td>\n",
       "    </tr>\n",
       "    <tr>\n",
       "      <th>4</th>\n",
       "      <td>2020-01-01</td>\n",
       "      <td>California</td>\n",
       "      <td>11.933323</td>\n",
       "    </tr>\n",
       "  </tbody>\n",
       "</table>\n",
       "</div>"
      ],
      "text/plain": [
       "         Date  State Name  pm25_mean\n",
       "0  2020-01-01     Alabama   8.225962\n",
       "1  2020-01-01      Alaska   9.400000\n",
       "2  2020-01-01     Arizona  15.358824\n",
       "3  2020-01-01    Arkansas   9.130000\n",
       "4  2020-01-01  California  11.933323"
      ]
     },
     "execution_count": 224,
     "metadata": {},
     "output_type": "execute_result"
    }
   ],
   "source": [
    "pm2_df.head()"
   ]
  },
  {
   "cell_type": "code",
   "execution_count": 225,
   "metadata": {},
   "outputs": [
    {
     "data": {
      "text/plain": [
       "Date          0\n",
       "State Name    0\n",
       "pm25_mean     0\n",
       "dtype: int64"
      ]
     },
     "execution_count": 225,
     "metadata": {},
     "output_type": "execute_result"
    }
   ],
   "source": [
    "pm2_df.isna().sum()"
   ]
  },
  {
   "cell_type": "code",
   "execution_count": 226,
   "metadata": {},
   "outputs": [
    {
     "data": {
      "text/html": [
       "<div>\n",
       "<style scoped>\n",
       "    .dataframe tbody tr th:only-of-type {\n",
       "        vertical-align: middle;\n",
       "    }\n",
       "\n",
       "    .dataframe tbody tr th {\n",
       "        vertical-align: top;\n",
       "    }\n",
       "\n",
       "    .dataframe thead th {\n",
       "        text-align: right;\n",
       "    }\n",
       "</style>\n",
       "<table border=\"1\" class=\"dataframe\">\n",
       "  <thead>\n",
       "    <tr style=\"text-align: right;\">\n",
       "      <th></th>\n",
       "      <th>Date</th>\n",
       "      <th>State Name</th>\n",
       "      <th>co_mean</th>\n",
       "    </tr>\n",
       "  </thead>\n",
       "  <tbody>\n",
       "    <tr>\n",
       "      <th>0</th>\n",
       "      <td>2020-01-01</td>\n",
       "      <td>Alabama</td>\n",
       "      <td>0.295698</td>\n",
       "    </tr>\n",
       "    <tr>\n",
       "      <th>1</th>\n",
       "      <td>2020-01-01</td>\n",
       "      <td>Alaska</td>\n",
       "      <td>0.651145</td>\n",
       "    </tr>\n",
       "    <tr>\n",
       "      <th>2</th>\n",
       "      <td>2020-01-01</td>\n",
       "      <td>Arizona</td>\n",
       "      <td>0.509835</td>\n",
       "    </tr>\n",
       "    <tr>\n",
       "      <th>3</th>\n",
       "      <td>2020-01-01</td>\n",
       "      <td>Arkansas</td>\n",
       "      <td>0.541886</td>\n",
       "    </tr>\n",
       "    <tr>\n",
       "      <th>4</th>\n",
       "      <td>2020-01-01</td>\n",
       "      <td>California</td>\n",
       "      <td>0.408814</td>\n",
       "    </tr>\n",
       "  </tbody>\n",
       "</table>\n",
       "</div>"
      ],
      "text/plain": [
       "         Date  State Name   co_mean\n",
       "0  2020-01-01     Alabama  0.295698\n",
       "1  2020-01-01      Alaska  0.651145\n",
       "2  2020-01-01     Arizona  0.509835\n",
       "3  2020-01-01    Arkansas  0.541886\n",
       "4  2020-01-01  California  0.408814"
      ]
     },
     "execution_count": 226,
     "metadata": {},
     "output_type": "execute_result"
    }
   ],
   "source": [
    "co_df.head()"
   ]
  },
  {
   "cell_type": "code",
   "execution_count": 227,
   "metadata": {},
   "outputs": [
    {
     "data": {
      "text/plain": [
       "Date          0\n",
       "State Name    0\n",
       "co_mean       0\n",
       "dtype: int64"
      ]
     },
     "execution_count": 227,
     "metadata": {},
     "output_type": "execute_result"
    }
   ],
   "source": [
    "co_df.isna().sum()"
   ]
  },
  {
   "cell_type": "code",
   "execution_count": 228,
   "metadata": {},
   "outputs": [
    {
     "data": {
      "text/html": [
       "<div>\n",
       "<style scoped>\n",
       "    .dataframe tbody tr th:only-of-type {\n",
       "        vertical-align: middle;\n",
       "    }\n",
       "\n",
       "    .dataframe tbody tr th {\n",
       "        vertical-align: top;\n",
       "    }\n",
       "\n",
       "    .dataframe thead th {\n",
       "        text-align: right;\n",
       "    }\n",
       "</style>\n",
       "<table border=\"1\" class=\"dataframe\">\n",
       "  <thead>\n",
       "    <tr style=\"text-align: right;\">\n",
       "      <th></th>\n",
       "      <th>Date</th>\n",
       "      <th>State Name</th>\n",
       "      <th>no2_mean</th>\n",
       "    </tr>\n",
       "  </thead>\n",
       "  <tbody>\n",
       "    <tr>\n",
       "      <th>0</th>\n",
       "      <td>2020-01-01</td>\n",
       "      <td>Alabama</td>\n",
       "      <td>16.373918</td>\n",
       "    </tr>\n",
       "    <tr>\n",
       "      <th>1</th>\n",
       "      <td>2020-01-01</td>\n",
       "      <td>Arizona</td>\n",
       "      <td>15.102381</td>\n",
       "    </tr>\n",
       "    <tr>\n",
       "      <th>2</th>\n",
       "      <td>2020-01-01</td>\n",
       "      <td>Arkansas</td>\n",
       "      <td>10.906250</td>\n",
       "    </tr>\n",
       "    <tr>\n",
       "      <th>3</th>\n",
       "      <td>2020-01-01</td>\n",
       "      <td>California</td>\n",
       "      <td>10.150140</td>\n",
       "    </tr>\n",
       "    <tr>\n",
       "      <th>4</th>\n",
       "      <td>2020-01-01</td>\n",
       "      <td>Colorado</td>\n",
       "      <td>12.381218</td>\n",
       "    </tr>\n",
       "  </tbody>\n",
       "</table>\n",
       "</div>"
      ],
      "text/plain": [
       "         Date  State Name   no2_mean\n",
       "0  2020-01-01     Alabama  16.373918\n",
       "1  2020-01-01     Arizona  15.102381\n",
       "2  2020-01-01    Arkansas  10.906250\n",
       "3  2020-01-01  California  10.150140\n",
       "4  2020-01-01    Colorado  12.381218"
      ]
     },
     "execution_count": 228,
     "metadata": {},
     "output_type": "execute_result"
    }
   ],
   "source": [
    "no2_df.head()"
   ]
  },
  {
   "cell_type": "code",
   "execution_count": 229,
   "metadata": {},
   "outputs": [
    {
     "data": {
      "text/plain": [
       "Date          0\n",
       "State Name    0\n",
       "no2_mean      0\n",
       "dtype: int64"
      ]
     },
     "execution_count": 229,
     "metadata": {},
     "output_type": "execute_result"
    }
   ],
   "source": [
    "no2_df.isna().sum()"
   ]
  },
  {
   "cell_type": "code",
   "execution_count": 230,
   "metadata": {},
   "outputs": [
    {
     "data": {
      "text/html": [
       "<div>\n",
       "<style scoped>\n",
       "    .dataframe tbody tr th:only-of-type {\n",
       "        vertical-align: middle;\n",
       "    }\n",
       "\n",
       "    .dataframe tbody tr th {\n",
       "        vertical-align: top;\n",
       "    }\n",
       "\n",
       "    .dataframe thead th {\n",
       "        text-align: right;\n",
       "    }\n",
       "</style>\n",
       "<table border=\"1\" class=\"dataframe\">\n",
       "  <thead>\n",
       "    <tr style=\"text-align: right;\">\n",
       "      <th></th>\n",
       "      <th>Date</th>\n",
       "      <th>State Name</th>\n",
       "      <th>o3_mean</th>\n",
       "    </tr>\n",
       "  </thead>\n",
       "  <tbody>\n",
       "    <tr>\n",
       "      <th>0</th>\n",
       "      <td>2020-01-01</td>\n",
       "      <td>Alabama</td>\n",
       "      <td>0.033676</td>\n",
       "    </tr>\n",
       "    <tr>\n",
       "      <th>1</th>\n",
       "      <td>2020-01-01</td>\n",
       "      <td>Alaska</td>\n",
       "      <td>0.031677</td>\n",
       "    </tr>\n",
       "    <tr>\n",
       "      <th>2</th>\n",
       "      <td>2020-01-01</td>\n",
       "      <td>Arizona</td>\n",
       "      <td>0.021959</td>\n",
       "    </tr>\n",
       "    <tr>\n",
       "      <th>3</th>\n",
       "      <td>2020-01-01</td>\n",
       "      <td>Arkansas</td>\n",
       "      <td>0.031213</td>\n",
       "    </tr>\n",
       "    <tr>\n",
       "      <th>4</th>\n",
       "      <td>2020-01-01</td>\n",
       "      <td>California</td>\n",
       "      <td>0.022262</td>\n",
       "    </tr>\n",
       "  </tbody>\n",
       "</table>\n",
       "</div>"
      ],
      "text/plain": [
       "         Date  State Name   o3_mean\n",
       "0  2020-01-01     Alabama  0.033676\n",
       "1  2020-01-01      Alaska  0.031677\n",
       "2  2020-01-01     Arizona  0.021959\n",
       "3  2020-01-01    Arkansas  0.031213\n",
       "4  2020-01-01  California  0.022262"
      ]
     },
     "execution_count": 230,
     "metadata": {},
     "output_type": "execute_result"
    }
   ],
   "source": [
    "ozone_df.head()"
   ]
  },
  {
   "cell_type": "code",
   "execution_count": 231,
   "metadata": {},
   "outputs": [
    {
     "data": {
      "text/html": [
       "<div>\n",
       "<style scoped>\n",
       "    .dataframe tbody tr th:only-of-type {\n",
       "        vertical-align: middle;\n",
       "    }\n",
       "\n",
       "    .dataframe tbody tr th {\n",
       "        vertical-align: top;\n",
       "    }\n",
       "\n",
       "    .dataframe thead th {\n",
       "        text-align: right;\n",
       "    }\n",
       "</style>\n",
       "<table border=\"1\" class=\"dataframe\">\n",
       "  <thead>\n",
       "    <tr style=\"text-align: right;\">\n",
       "      <th></th>\n",
       "      <th>Date</th>\n",
       "      <th>State Name</th>\n",
       "      <th>so2_mean</th>\n",
       "    </tr>\n",
       "  </thead>\n",
       "  <tbody>\n",
       "    <tr>\n",
       "      <th>0</th>\n",
       "      <td>2020-01-01</td>\n",
       "      <td>Alabama</td>\n",
       "      <td>0.905859</td>\n",
       "    </tr>\n",
       "    <tr>\n",
       "      <th>1</th>\n",
       "      <td>2020-01-01</td>\n",
       "      <td>Alaska</td>\n",
       "      <td>1.345833</td>\n",
       "    </tr>\n",
       "    <tr>\n",
       "      <th>2</th>\n",
       "      <td>2020-01-01</td>\n",
       "      <td>Arizona</td>\n",
       "      <td>1.253740</td>\n",
       "    </tr>\n",
       "    <tr>\n",
       "      <th>3</th>\n",
       "      <td>2020-01-01</td>\n",
       "      <td>Arkansas</td>\n",
       "      <td>0.837500</td>\n",
       "    </tr>\n",
       "    <tr>\n",
       "      <th>4</th>\n",
       "      <td>2020-01-01</td>\n",
       "      <td>California</td>\n",
       "      <td>0.570346</td>\n",
       "    </tr>\n",
       "  </tbody>\n",
       "</table>\n",
       "</div>"
      ],
      "text/plain": [
       "         Date  State Name  so2_mean\n",
       "0  2020-01-01     Alabama  0.905859\n",
       "1  2020-01-01      Alaska  1.345833\n",
       "2  2020-01-01     Arizona  1.253740\n",
       "3  2020-01-01    Arkansas  0.837500\n",
       "4  2020-01-01  California  0.570346"
      ]
     },
     "execution_count": 231,
     "metadata": {},
     "output_type": "execute_result"
    }
   ],
   "source": [
    "so2_df.head()"
   ]
  },
  {
   "cell_type": "code",
   "execution_count": 232,
   "metadata": {},
   "outputs": [
    {
     "data": {
      "text/html": [
       "<div>\n",
       "<style scoped>\n",
       "    .dataframe tbody tr th:only-of-type {\n",
       "        vertical-align: middle;\n",
       "    }\n",
       "\n",
       "    .dataframe tbody tr th {\n",
       "        vertical-align: top;\n",
       "    }\n",
       "\n",
       "    .dataframe thead th {\n",
       "        text-align: right;\n",
       "    }\n",
       "</style>\n",
       "<table border=\"1\" class=\"dataframe\">\n",
       "  <thead>\n",
       "    <tr style=\"text-align: right;\">\n",
       "      <th></th>\n",
       "      <th>Date</th>\n",
       "      <th>State Name</th>\n",
       "      <th>press_mean</th>\n",
       "    </tr>\n",
       "  </thead>\n",
       "  <tbody>\n",
       "    <tr>\n",
       "      <th>0</th>\n",
       "      <td>2020-01-01</td>\n",
       "      <td>Alabama</td>\n",
       "      <td>1000.610834</td>\n",
       "    </tr>\n",
       "    <tr>\n",
       "      <th>1</th>\n",
       "      <td>2020-01-01</td>\n",
       "      <td>Alaska</td>\n",
       "      <td>971.179167</td>\n",
       "    </tr>\n",
       "    <tr>\n",
       "      <th>2</th>\n",
       "      <td>2020-01-01</td>\n",
       "      <td>California</td>\n",
       "      <td>973.469771</td>\n",
       "    </tr>\n",
       "    <tr>\n",
       "      <th>3</th>\n",
       "      <td>2020-01-01</td>\n",
       "      <td>Colorado</td>\n",
       "      <td>814.807500</td>\n",
       "    </tr>\n",
       "    <tr>\n",
       "      <th>4</th>\n",
       "      <td>2020-01-01</td>\n",
       "      <td>Connecticut</td>\n",
       "      <td>991.923611</td>\n",
       "    </tr>\n",
       "  </tbody>\n",
       "</table>\n",
       "</div>"
      ],
      "text/plain": [
       "         Date   State Name   press_mean\n",
       "0  2020-01-01      Alabama  1000.610834\n",
       "1  2020-01-01       Alaska   971.179167\n",
       "2  2020-01-01   California   973.469771\n",
       "3  2020-01-01     Colorado   814.807500\n",
       "4  2020-01-01  Connecticut   991.923611"
      ]
     },
     "execution_count": 232,
     "metadata": {},
     "output_type": "execute_result"
    }
   ],
   "source": [
    "press_df.head()\n"
   ]
  },
  {
   "cell_type": "code",
   "execution_count": 233,
   "metadata": {},
   "outputs": [
    {
     "data": {
      "text/html": [
       "<div>\n",
       "<style scoped>\n",
       "    .dataframe tbody tr th:only-of-type {\n",
       "        vertical-align: middle;\n",
       "    }\n",
       "\n",
       "    .dataframe tbody tr th {\n",
       "        vertical-align: top;\n",
       "    }\n",
       "\n",
       "    .dataframe thead th {\n",
       "        text-align: right;\n",
       "    }\n",
       "</style>\n",
       "<table border=\"1\" class=\"dataframe\">\n",
       "  <thead>\n",
       "    <tr style=\"text-align: right;\">\n",
       "      <th></th>\n",
       "      <th>Date</th>\n",
       "      <th>State Name</th>\n",
       "      <th>rh_mean</th>\n",
       "    </tr>\n",
       "  </thead>\n",
       "  <tbody>\n",
       "    <tr>\n",
       "      <th>0</th>\n",
       "      <td>2020-01-01</td>\n",
       "      <td>Alabama</td>\n",
       "      <td>50.480556</td>\n",
       "    </tr>\n",
       "    <tr>\n",
       "      <th>1</th>\n",
       "      <td>2020-01-01</td>\n",
       "      <td>Alaska</td>\n",
       "      <td>79.000000</td>\n",
       "    </tr>\n",
       "    <tr>\n",
       "      <th>2</th>\n",
       "      <td>2020-01-01</td>\n",
       "      <td>Arizona</td>\n",
       "      <td>66.445833</td>\n",
       "    </tr>\n",
       "    <tr>\n",
       "      <th>3</th>\n",
       "      <td>2020-01-01</td>\n",
       "      <td>Arkansas</td>\n",
       "      <td>26.458333</td>\n",
       "    </tr>\n",
       "    <tr>\n",
       "      <th>4</th>\n",
       "      <td>2020-01-01</td>\n",
       "      <td>California</td>\n",
       "      <td>64.127964</td>\n",
       "    </tr>\n",
       "  </tbody>\n",
       "</table>\n",
       "</div>"
      ],
      "text/plain": [
       "         Date  State Name    rh_mean\n",
       "0  2020-01-01     Alabama  50.480556\n",
       "1  2020-01-01      Alaska  79.000000\n",
       "2  2020-01-01     Arizona  66.445833\n",
       "3  2020-01-01    Arkansas  26.458333\n",
       "4  2020-01-01  California  64.127964"
      ]
     },
     "execution_count": 233,
     "metadata": {},
     "output_type": "execute_result"
    }
   ],
   "source": [
    "rh_df.head()"
   ]
  },
  {
   "cell_type": "code",
   "execution_count": 234,
   "metadata": {},
   "outputs": [
    {
     "data": {
      "text/html": [
       "<div>\n",
       "<style scoped>\n",
       "    .dataframe tbody tr th:only-of-type {\n",
       "        vertical-align: middle;\n",
       "    }\n",
       "\n",
       "    .dataframe tbody tr th {\n",
       "        vertical-align: top;\n",
       "    }\n",
       "\n",
       "    .dataframe thead th {\n",
       "        text-align: right;\n",
       "    }\n",
       "</style>\n",
       "<table border=\"1\" class=\"dataframe\">\n",
       "  <thead>\n",
       "    <tr style=\"text-align: right;\">\n",
       "      <th></th>\n",
       "      <th>Date</th>\n",
       "      <th>State Name</th>\n",
       "      <th>temp_mean</th>\n",
       "    </tr>\n",
       "  </thead>\n",
       "  <tbody>\n",
       "    <tr>\n",
       "      <th>0</th>\n",
       "      <td>2020-01-01</td>\n",
       "      <td>Alabama</td>\n",
       "      <td>48.435555</td>\n",
       "    </tr>\n",
       "    <tr>\n",
       "      <th>1</th>\n",
       "      <td>2020-01-01</td>\n",
       "      <td>Alaska</td>\n",
       "      <td>1.062500</td>\n",
       "    </tr>\n",
       "    <tr>\n",
       "      <th>2</th>\n",
       "      <td>2020-01-01</td>\n",
       "      <td>Arizona</td>\n",
       "      <td>43.815476</td>\n",
       "    </tr>\n",
       "    <tr>\n",
       "      <th>3</th>\n",
       "      <td>2020-01-01</td>\n",
       "      <td>Arkansas</td>\n",
       "      <td>43.375000</td>\n",
       "    </tr>\n",
       "    <tr>\n",
       "      <th>4</th>\n",
       "      <td>2020-01-01</td>\n",
       "      <td>California</td>\n",
       "      <td>49.710225</td>\n",
       "    </tr>\n",
       "  </tbody>\n",
       "</table>\n",
       "</div>"
      ],
      "text/plain": [
       "         Date  State Name  temp_mean\n",
       "0  2020-01-01     Alabama  48.435555\n",
       "1  2020-01-01      Alaska   1.062500\n",
       "2  2020-01-01     Arizona  43.815476\n",
       "3  2020-01-01    Arkansas  43.375000\n",
       "4  2020-01-01  California  49.710225"
      ]
     },
     "execution_count": 234,
     "metadata": {},
     "output_type": "execute_result"
    }
   ],
   "source": [
    "temp_df.head()"
   ]
  },
  {
   "cell_type": "code",
   "execution_count": 235,
   "metadata": {},
   "outputs": [
    {
     "data": {
      "text/html": [
       "<div>\n",
       "<style scoped>\n",
       "    .dataframe tbody tr th:only-of-type {\n",
       "        vertical-align: middle;\n",
       "    }\n",
       "\n",
       "    .dataframe tbody tr th {\n",
       "        vertical-align: top;\n",
       "    }\n",
       "\n",
       "    .dataframe thead th {\n",
       "        text-align: right;\n",
       "    }\n",
       "</style>\n",
       "<table border=\"1\" class=\"dataframe\">\n",
       "  <thead>\n",
       "    <tr style=\"text-align: right;\">\n",
       "      <th></th>\n",
       "      <th>Date</th>\n",
       "      <th>State Name</th>\n",
       "      <th>wind_mean</th>\n",
       "    </tr>\n",
       "  </thead>\n",
       "  <tbody>\n",
       "    <tr>\n",
       "      <th>0</th>\n",
       "      <td>2020-01-01</td>\n",
       "      <td>Alabama</td>\n",
       "      <td>92.363889</td>\n",
       "    </tr>\n",
       "    <tr>\n",
       "      <th>1</th>\n",
       "      <td>2020-01-01</td>\n",
       "      <td>Alaska</td>\n",
       "      <td>102.472322</td>\n",
       "    </tr>\n",
       "    <tr>\n",
       "      <th>2</th>\n",
       "      <td>2020-01-01</td>\n",
       "      <td>Arizona</td>\n",
       "      <td>89.991429</td>\n",
       "    </tr>\n",
       "    <tr>\n",
       "      <th>3</th>\n",
       "      <td>2020-01-01</td>\n",
       "      <td>Arkansas</td>\n",
       "      <td>105.429167</td>\n",
       "    </tr>\n",
       "    <tr>\n",
       "      <th>4</th>\n",
       "      <td>2020-01-01</td>\n",
       "      <td>California</td>\n",
       "      <td>93.809963</td>\n",
       "    </tr>\n",
       "  </tbody>\n",
       "</table>\n",
       "</div>"
      ],
      "text/plain": [
       "         Date  State Name   wind_mean\n",
       "0  2020-01-01     Alabama   92.363889\n",
       "1  2020-01-01      Alaska  102.472322\n",
       "2  2020-01-01     Arizona   89.991429\n",
       "3  2020-01-01    Arkansas  105.429167\n",
       "4  2020-01-01  California   93.809963"
      ]
     },
     "execution_count": 235,
     "metadata": {},
     "output_type": "execute_result"
    }
   ],
   "source": [
    "wind_df.head()"
   ]
  },
  {
   "cell_type": "code",
   "execution_count": 236,
   "metadata": {},
   "outputs": [
    {
     "data": {
      "text/html": [
       "<div>\n",
       "<style scoped>\n",
       "    .dataframe tbody tr th:only-of-type {\n",
       "        vertical-align: middle;\n",
       "    }\n",
       "\n",
       "    .dataframe tbody tr th {\n",
       "        vertical-align: top;\n",
       "    }\n",
       "\n",
       "    .dataframe thead th {\n",
       "        text-align: right;\n",
       "    }\n",
       "</style>\n",
       "<table border=\"1\" class=\"dataframe\">\n",
       "  <thead>\n",
       "    <tr style=\"text-align: right;\">\n",
       "      <th></th>\n",
       "      <th>Date</th>\n",
       "      <th>State Name</th>\n",
       "      <th>Population Staying at Home</th>\n",
       "      <th>Population Not Staying at Home</th>\n",
       "      <th>Number of Trips</th>\n",
       "    </tr>\n",
       "  </thead>\n",
       "  <tbody>\n",
       "    <tr>\n",
       "      <th>0</th>\n",
       "      <td>2020-01-01</td>\n",
       "      <td>Alabama</td>\n",
       "      <td>739308.0</td>\n",
       "      <td>2925370.0</td>\n",
       "      <td>1.053467e+07</td>\n",
       "    </tr>\n",
       "    <tr>\n",
       "      <th>1</th>\n",
       "      <td>2020-01-01</td>\n",
       "      <td>Alaska</td>\n",
       "      <td>158094.0</td>\n",
       "      <td>438382.0</td>\n",
       "      <td>1.800841e+06</td>\n",
       "    </tr>\n",
       "    <tr>\n",
       "      <th>2</th>\n",
       "      <td>2020-01-01</td>\n",
       "      <td>Arizona</td>\n",
       "      <td>340556.0</td>\n",
       "      <td>1214548.0</td>\n",
       "      <td>4.949266e+06</td>\n",
       "    </tr>\n",
       "    <tr>\n",
       "      <th>3</th>\n",
       "      <td>2020-01-01</td>\n",
       "      <td>Arkansas</td>\n",
       "      <td>541026.0</td>\n",
       "      <td>2034160.0</td>\n",
       "      <td>7.096952e+06</td>\n",
       "    </tr>\n",
       "    <tr>\n",
       "      <th>4</th>\n",
       "      <td>2020-01-01</td>\n",
       "      <td>California</td>\n",
       "      <td>1348187.0</td>\n",
       "      <td>4991812.0</td>\n",
       "      <td>2.143521e+07</td>\n",
       "    </tr>\n",
       "  </tbody>\n",
       "</table>\n",
       "</div>"
      ],
      "text/plain": [
       "         Date  State Name  Population Staying at Home  \\\n",
       "0  2020-01-01     Alabama                    739308.0   \n",
       "1  2020-01-01      Alaska                    158094.0   \n",
       "2  2020-01-01     Arizona                    340556.0   \n",
       "3  2020-01-01    Arkansas                    541026.0   \n",
       "4  2020-01-01  California                   1348187.0   \n",
       "\n",
       "   Population Not Staying at Home  Number of Trips  \n",
       "0                       2925370.0     1.053467e+07  \n",
       "1                        438382.0     1.800841e+06  \n",
       "2                       1214548.0     4.949266e+06  \n",
       "3                       2034160.0     7.096952e+06  \n",
       "4                       4991812.0     2.143521e+07  "
      ]
     },
     "execution_count": 236,
     "metadata": {},
     "output_type": "execute_result"
    }
   ],
   "source": [
    "trips_modified_df.head()"
   ]
  },
  {
   "cell_type": "code",
   "execution_count": 237,
   "metadata": {},
   "outputs": [
    {
     "data": {
      "text/html": [
       "<div>\n",
       "<style scoped>\n",
       "    .dataframe tbody tr th:only-of-type {\n",
       "        vertical-align: middle;\n",
       "    }\n",
       "\n",
       "    .dataframe tbody tr th {\n",
       "        vertical-align: top;\n",
       "    }\n",
       "\n",
       "    .dataframe thead th {\n",
       "        text-align: right;\n",
       "    }\n",
       "</style>\n",
       "<table border=\"1\" class=\"dataframe\">\n",
       "  <thead>\n",
       "    <tr style=\"text-align: right;\">\n",
       "      <th></th>\n",
       "      <th>Date</th>\n",
       "      <th>State Name</th>\n",
       "      <th>New Covid Cases</th>\n",
       "    </tr>\n",
       "  </thead>\n",
       "  <tbody>\n",
       "    <tr>\n",
       "      <th>0</th>\n",
       "      <td>2020-01-21</td>\n",
       "      <td>Washington</td>\n",
       "      <td>1.0</td>\n",
       "    </tr>\n",
       "    <tr>\n",
       "      <th>1</th>\n",
       "      <td>2020-01-22</td>\n",
       "      <td>Washington</td>\n",
       "      <td>0.0</td>\n",
       "    </tr>\n",
       "    <tr>\n",
       "      <th>2</th>\n",
       "      <td>2020-01-23</td>\n",
       "      <td>Washington</td>\n",
       "      <td>0.0</td>\n",
       "    </tr>\n",
       "    <tr>\n",
       "      <th>3</th>\n",
       "      <td>2020-01-24</td>\n",
       "      <td>Washington</td>\n",
       "      <td>0.0</td>\n",
       "    </tr>\n",
       "    <tr>\n",
       "      <th>4</th>\n",
       "      <td>2020-01-25</td>\n",
       "      <td>Washington</td>\n",
       "      <td>0.0</td>\n",
       "    </tr>\n",
       "  </tbody>\n",
       "</table>\n",
       "</div>"
      ],
      "text/plain": [
       "         Date  State Name  New Covid Cases\n",
       "0  2020-01-21  Washington              1.0\n",
       "1  2020-01-22  Washington              0.0\n",
       "2  2020-01-23  Washington              0.0\n",
       "3  2020-01-24  Washington              0.0\n",
       "4  2020-01-25  Washington              0.0"
      ]
     },
     "execution_count": 237,
     "metadata": {},
     "output_type": "execute_result"
    }
   ],
   "source": [
    "covid_19_modified_df.head()"
   ]
  },
  {
   "cell_type": "code",
   "execution_count": 238,
   "metadata": {},
   "outputs": [],
   "source": [
    "merged_pm10_pm2 = pd.merge(pm10_df, pm2_df, on = ['Date','State Name'], how='inner')\n",
    "merged_co_no2 = pd.merge(co_df, no2_df, on = ['Date','State Name'], how='inner')\n",
    "merged_ozone_so2 = pd.merge(ozone_df, so2_df, on = ['Date','State Name'], how='inner')\n",
    "merged_pm10_pm2_co_no2 = pd.merge(merged_pm10_pm2, merged_co_no2, on = ['Date','State Name'], how='inner')\n",
    "merged_pollutants = pd.merge(merged_pm10_pm2_co_no2, merged_ozone_so2, on = ['Date','State Name'], how='inner')"
   ]
  },
  {
   "cell_type": "code",
   "execution_count": 239,
   "metadata": {},
   "outputs": [
    {
     "data": {
      "text/plain": [
       "(38082, 8)"
      ]
     },
     "execution_count": 239,
     "metadata": {},
     "output_type": "execute_result"
    }
   ],
   "source": [
    "merged_pollutants.shape"
   ]
  },
  {
   "cell_type": "code",
   "execution_count": 240,
   "metadata": {},
   "outputs": [],
   "source": [
    "merged_press_rh = pd.merge(press_df, rh_df, on = ['Date','State Name'], how='inner')\n",
    "merged_temp_wind = pd.merge(temp_df, wind_df, on = ['Date','State Name'], how='inner')\n",
    "merged_meteorogical = pd.merge(merged_press_rh,merged_temp_wind, on = ['Date','State Name'], how='inner')"
   ]
  },
  {
   "cell_type": "code",
   "execution_count": 241,
   "metadata": {},
   "outputs": [
    {
     "data": {
      "text/plain": [
       "(35146, 6)"
      ]
     },
     "execution_count": 241,
     "metadata": {},
     "output_type": "execute_result"
    }
   ],
   "source": [
    "merged_meteorogical.shape"
   ]
  },
  {
   "cell_type": "code",
   "execution_count": 242,
   "metadata": {},
   "outputs": [],
   "source": [
    "merged_aqi_trips = pd.merge(aqi_df, trips_modified_df, on = ['Date','State Name'], how='inner')\n",
    "merged_aqi_trips_pol = pd.merge(merged_aqi_trips, merged_pollutants, on = ['Date','State Name'], how='inner')\n",
    "merged_aqi_trips_pol_meteo = pd.merge(merged_aqi_trips_pol, merged_meteorogical, on = ['Date','State Name'], how='inner')"
   ]
  },
  {
   "cell_type": "code",
   "execution_count": 243,
   "metadata": {},
   "outputs": [
    {
     "data": {
      "text/plain": [
       "((38350, 6), (29885, 12), (23162, 16))"
      ]
     },
     "execution_count": 243,
     "metadata": {},
     "output_type": "execute_result"
    }
   ],
   "source": [
    "merged_aqi_trips.shape,merged_aqi_trips_pol.shape,merged_aqi_trips_pol_meteo.shape"
   ]
  },
  {
   "cell_type": "code",
   "execution_count": 244,
   "metadata": {},
   "outputs": [
    {
     "data": {
      "text/plain": [
       "(23162, 16)"
      ]
     },
     "execution_count": 244,
     "metadata": {},
     "output_type": "execute_result"
    }
   ],
   "source": [
    "merged_aqi_trips_pol_meteo.shape"
   ]
  },
  {
   "cell_type": "code",
   "execution_count": 245,
   "metadata": {},
   "outputs": [
    {
     "data": {
      "text/html": [
       "<div>\n",
       "<style scoped>\n",
       "    .dataframe tbody tr th:only-of-type {\n",
       "        vertical-align: middle;\n",
       "    }\n",
       "\n",
       "    .dataframe tbody tr th {\n",
       "        vertical-align: top;\n",
       "    }\n",
       "\n",
       "    .dataframe thead th {\n",
       "        text-align: right;\n",
       "    }\n",
       "</style>\n",
       "<table border=\"1\" class=\"dataframe\">\n",
       "  <thead>\n",
       "    <tr style=\"text-align: right;\">\n",
       "      <th></th>\n",
       "      <th>Date</th>\n",
       "      <th>State Name</th>\n",
       "      <th>AQI</th>\n",
       "      <th>Population Staying at Home</th>\n",
       "      <th>Population Not Staying at Home</th>\n",
       "      <th>Number of Trips</th>\n",
       "      <th>pm10_mean</th>\n",
       "      <th>pm25_mean</th>\n",
       "      <th>co_mean</th>\n",
       "      <th>no2_mean</th>\n",
       "      <th>o3_mean</th>\n",
       "      <th>so2_mean</th>\n",
       "      <th>press_mean</th>\n",
       "      <th>rh_mean</th>\n",
       "      <th>temp_mean</th>\n",
       "      <th>wind_mean</th>\n",
       "    </tr>\n",
       "  </thead>\n",
       "  <tbody>\n",
       "    <tr>\n",
       "      <th>0</th>\n",
       "      <td>2020-01-01</td>\n",
       "      <td>Alabama</td>\n",
       "      <td>36.666667</td>\n",
       "      <td>739308.0</td>\n",
       "      <td>2925370.0</td>\n",
       "      <td>1.053467e+07</td>\n",
       "      <td>12.500000</td>\n",
       "      <td>8.225962</td>\n",
       "      <td>0.295698</td>\n",
       "      <td>16.373918</td>\n",
       "      <td>0.033676</td>\n",
       "      <td>0.905859</td>\n",
       "      <td>1000.610834</td>\n",
       "      <td>50.480556</td>\n",
       "      <td>48.435555</td>\n",
       "      <td>92.363889</td>\n",
       "    </tr>\n",
       "    <tr>\n",
       "      <th>1</th>\n",
       "      <td>2020-01-01</td>\n",
       "      <td>California</td>\n",
       "      <td>55.358491</td>\n",
       "      <td>1348187.0</td>\n",
       "      <td>4991812.0</td>\n",
       "      <td>2.143521e+07</td>\n",
       "      <td>17.615385</td>\n",
       "      <td>11.933323</td>\n",
       "      <td>0.408814</td>\n",
       "      <td>10.150140</td>\n",
       "      <td>0.022262</td>\n",
       "      <td>0.570346</td>\n",
       "      <td>973.469771</td>\n",
       "      <td>64.127964</td>\n",
       "      <td>49.710225</td>\n",
       "      <td>93.809963</td>\n",
       "    </tr>\n",
       "    <tr>\n",
       "      <th>2</th>\n",
       "      <td>2020-01-01</td>\n",
       "      <td>Colorado</td>\n",
       "      <td>30.518519</td>\n",
       "      <td>586771.0</td>\n",
       "      <td>1985137.0</td>\n",
       "      <td>8.867251e+06</td>\n",
       "      <td>10.250000</td>\n",
       "      <td>4.785586</td>\n",
       "      <td>0.325372</td>\n",
       "      <td>12.381218</td>\n",
       "      <td>0.038290</td>\n",
       "      <td>1.102743</td>\n",
       "      <td>814.807500</td>\n",
       "      <td>65.336111</td>\n",
       "      <td>31.375000</td>\n",
       "      <td>113.998580</td>\n",
       "    </tr>\n",
       "    <tr>\n",
       "      <th>3</th>\n",
       "      <td>2020-01-01</td>\n",
       "      <td>Connecticut</td>\n",
       "      <td>22.166667</td>\n",
       "      <td>249491.0</td>\n",
       "      <td>951253.0</td>\n",
       "      <td>3.862218e+06</td>\n",
       "      <td>5.200000</td>\n",
       "      <td>3.106250</td>\n",
       "      <td>0.193428</td>\n",
       "      <td>6.553261</td>\n",
       "      <td>0.024059</td>\n",
       "      <td>0.105797</td>\n",
       "      <td>991.923611</td>\n",
       "      <td>46.104167</td>\n",
       "      <td>37.482143</td>\n",
       "      <td>135.210606</td>\n",
       "    </tr>\n",
       "    <tr>\n",
       "      <th>4</th>\n",
       "      <td>2020-01-01</td>\n",
       "      <td>Florida</td>\n",
       "      <td>46.051282</td>\n",
       "      <td>1347774.0</td>\n",
       "      <td>5176612.0</td>\n",
       "      <td>2.106439e+07</td>\n",
       "      <td>19.600000</td>\n",
       "      <td>13.366013</td>\n",
       "      <td>0.309174</td>\n",
       "      <td>11.087917</td>\n",
       "      <td>0.030658</td>\n",
       "      <td>1.020566</td>\n",
       "      <td>1017.479167</td>\n",
       "      <td>67.427084</td>\n",
       "      <td>61.408333</td>\n",
       "      <td>102.174306</td>\n",
       "    </tr>\n",
       "  </tbody>\n",
       "</table>\n",
       "</div>"
      ],
      "text/plain": [
       "         Date   State Name        AQI  Population Staying at Home  \\\n",
       "0  2020-01-01      Alabama  36.666667                    739308.0   \n",
       "1  2020-01-01   California  55.358491                   1348187.0   \n",
       "2  2020-01-01     Colorado  30.518519                    586771.0   \n",
       "3  2020-01-01  Connecticut  22.166667                    249491.0   \n",
       "4  2020-01-01      Florida  46.051282                   1347774.0   \n",
       "\n",
       "   Population Not Staying at Home  Number of Trips  pm10_mean  pm25_mean  \\\n",
       "0                       2925370.0     1.053467e+07  12.500000   8.225962   \n",
       "1                       4991812.0     2.143521e+07  17.615385  11.933323   \n",
       "2                       1985137.0     8.867251e+06  10.250000   4.785586   \n",
       "3                        951253.0     3.862218e+06   5.200000   3.106250   \n",
       "4                       5176612.0     2.106439e+07  19.600000  13.366013   \n",
       "\n",
       "    co_mean   no2_mean   o3_mean  so2_mean   press_mean    rh_mean  temp_mean  \\\n",
       "0  0.295698  16.373918  0.033676  0.905859  1000.610834  50.480556  48.435555   \n",
       "1  0.408814  10.150140  0.022262  0.570346   973.469771  64.127964  49.710225   \n",
       "2  0.325372  12.381218  0.038290  1.102743   814.807500  65.336111  31.375000   \n",
       "3  0.193428   6.553261  0.024059  0.105797   991.923611  46.104167  37.482143   \n",
       "4  0.309174  11.087917  0.030658  1.020566  1017.479167  67.427084  61.408333   \n",
       "\n",
       "    wind_mean  \n",
       "0   92.363889  \n",
       "1   93.809963  \n",
       "2  113.998580  \n",
       "3  135.210606  \n",
       "4  102.174306  "
      ]
     },
     "execution_count": 245,
     "metadata": {},
     "output_type": "execute_result"
    }
   ],
   "source": [
    "merged_aqi_trips_pol_meteo.head()"
   ]
  },
  {
   "cell_type": "code",
   "execution_count": 246,
   "metadata": {},
   "outputs": [],
   "source": [
    "all_merged_df = pd.merge(merged_aqi_trips_pol_meteo,covid_19_modified_df,on = ['Date','State Name'], how='left')"
   ]
  },
  {
   "cell_type": "code",
   "execution_count": 247,
   "metadata": {},
   "outputs": [
    {
     "data": {
      "text/plain": [
       "(23162, 17)"
      ]
     },
     "execution_count": 247,
     "metadata": {},
     "output_type": "execute_result"
    }
   ],
   "source": [
    "all_merged_df.shape"
   ]
  },
  {
   "cell_type": "code",
   "execution_count": 248,
   "metadata": {},
   "outputs": [
    {
     "data": {
      "text/html": [
       "<div>\n",
       "<style scoped>\n",
       "    .dataframe tbody tr th:only-of-type {\n",
       "        vertical-align: middle;\n",
       "    }\n",
       "\n",
       "    .dataframe tbody tr th {\n",
       "        vertical-align: top;\n",
       "    }\n",
       "\n",
       "    .dataframe thead th {\n",
       "        text-align: right;\n",
       "    }\n",
       "</style>\n",
       "<table border=\"1\" class=\"dataframe\">\n",
       "  <thead>\n",
       "    <tr style=\"text-align: right;\">\n",
       "      <th></th>\n",
       "      <th>Date</th>\n",
       "      <th>State Name</th>\n",
       "      <th>AQI</th>\n",
       "      <th>Population Staying at Home</th>\n",
       "      <th>Population Not Staying at Home</th>\n",
       "      <th>Number of Trips</th>\n",
       "      <th>pm10_mean</th>\n",
       "      <th>pm25_mean</th>\n",
       "      <th>co_mean</th>\n",
       "      <th>no2_mean</th>\n",
       "      <th>o3_mean</th>\n",
       "      <th>so2_mean</th>\n",
       "      <th>press_mean</th>\n",
       "      <th>rh_mean</th>\n",
       "      <th>temp_mean</th>\n",
       "      <th>wind_mean</th>\n",
       "      <th>New Covid Cases</th>\n",
       "    </tr>\n",
       "  </thead>\n",
       "  <tbody>\n",
       "    <tr>\n",
       "      <th>0</th>\n",
       "      <td>2020-01-01</td>\n",
       "      <td>Alabama</td>\n",
       "      <td>36.666667</td>\n",
       "      <td>739308.0</td>\n",
       "      <td>2925370.0</td>\n",
       "      <td>1.053467e+07</td>\n",
       "      <td>12.500000</td>\n",
       "      <td>8.225962</td>\n",
       "      <td>0.295698</td>\n",
       "      <td>16.373918</td>\n",
       "      <td>0.033676</td>\n",
       "      <td>0.905859</td>\n",
       "      <td>1000.610834</td>\n",
       "      <td>50.480556</td>\n",
       "      <td>48.435555</td>\n",
       "      <td>92.363889</td>\n",
       "      <td>NaN</td>\n",
       "    </tr>\n",
       "    <tr>\n",
       "      <th>1</th>\n",
       "      <td>2020-01-01</td>\n",
       "      <td>California</td>\n",
       "      <td>55.358491</td>\n",
       "      <td>1348187.0</td>\n",
       "      <td>4991812.0</td>\n",
       "      <td>2.143521e+07</td>\n",
       "      <td>17.615385</td>\n",
       "      <td>11.933323</td>\n",
       "      <td>0.408814</td>\n",
       "      <td>10.150140</td>\n",
       "      <td>0.022262</td>\n",
       "      <td>0.570346</td>\n",
       "      <td>973.469771</td>\n",
       "      <td>64.127964</td>\n",
       "      <td>49.710225</td>\n",
       "      <td>93.809963</td>\n",
       "      <td>NaN</td>\n",
       "    </tr>\n",
       "    <tr>\n",
       "      <th>2</th>\n",
       "      <td>2020-01-01</td>\n",
       "      <td>Colorado</td>\n",
       "      <td>30.518519</td>\n",
       "      <td>586771.0</td>\n",
       "      <td>1985137.0</td>\n",
       "      <td>8.867251e+06</td>\n",
       "      <td>10.250000</td>\n",
       "      <td>4.785586</td>\n",
       "      <td>0.325372</td>\n",
       "      <td>12.381218</td>\n",
       "      <td>0.038290</td>\n",
       "      <td>1.102743</td>\n",
       "      <td>814.807500</td>\n",
       "      <td>65.336111</td>\n",
       "      <td>31.375000</td>\n",
       "      <td>113.998580</td>\n",
       "      <td>NaN</td>\n",
       "    </tr>\n",
       "    <tr>\n",
       "      <th>3</th>\n",
       "      <td>2020-01-01</td>\n",
       "      <td>Connecticut</td>\n",
       "      <td>22.166667</td>\n",
       "      <td>249491.0</td>\n",
       "      <td>951253.0</td>\n",
       "      <td>3.862218e+06</td>\n",
       "      <td>5.200000</td>\n",
       "      <td>3.106250</td>\n",
       "      <td>0.193428</td>\n",
       "      <td>6.553261</td>\n",
       "      <td>0.024059</td>\n",
       "      <td>0.105797</td>\n",
       "      <td>991.923611</td>\n",
       "      <td>46.104167</td>\n",
       "      <td>37.482143</td>\n",
       "      <td>135.210606</td>\n",
       "      <td>NaN</td>\n",
       "    </tr>\n",
       "    <tr>\n",
       "      <th>4</th>\n",
       "      <td>2020-01-01</td>\n",
       "      <td>Florida</td>\n",
       "      <td>46.051282</td>\n",
       "      <td>1347774.0</td>\n",
       "      <td>5176612.0</td>\n",
       "      <td>2.106439e+07</td>\n",
       "      <td>19.600000</td>\n",
       "      <td>13.366013</td>\n",
       "      <td>0.309174</td>\n",
       "      <td>11.087917</td>\n",
       "      <td>0.030658</td>\n",
       "      <td>1.020566</td>\n",
       "      <td>1017.479167</td>\n",
       "      <td>67.427084</td>\n",
       "      <td>61.408333</td>\n",
       "      <td>102.174306</td>\n",
       "      <td>NaN</td>\n",
       "    </tr>\n",
       "  </tbody>\n",
       "</table>\n",
       "</div>"
      ],
      "text/plain": [
       "         Date   State Name        AQI  Population Staying at Home  \\\n",
       "0  2020-01-01      Alabama  36.666667                    739308.0   \n",
       "1  2020-01-01   California  55.358491                   1348187.0   \n",
       "2  2020-01-01     Colorado  30.518519                    586771.0   \n",
       "3  2020-01-01  Connecticut  22.166667                    249491.0   \n",
       "4  2020-01-01      Florida  46.051282                   1347774.0   \n",
       "\n",
       "   Population Not Staying at Home  Number of Trips  pm10_mean  pm25_mean  \\\n",
       "0                       2925370.0     1.053467e+07  12.500000   8.225962   \n",
       "1                       4991812.0     2.143521e+07  17.615385  11.933323   \n",
       "2                       1985137.0     8.867251e+06  10.250000   4.785586   \n",
       "3                        951253.0     3.862218e+06   5.200000   3.106250   \n",
       "4                       5176612.0     2.106439e+07  19.600000  13.366013   \n",
       "\n",
       "    co_mean   no2_mean   o3_mean  so2_mean   press_mean    rh_mean  temp_mean  \\\n",
       "0  0.295698  16.373918  0.033676  0.905859  1000.610834  50.480556  48.435555   \n",
       "1  0.408814  10.150140  0.022262  0.570346   973.469771  64.127964  49.710225   \n",
       "2  0.325372  12.381218  0.038290  1.102743   814.807500  65.336111  31.375000   \n",
       "3  0.193428   6.553261  0.024059  0.105797   991.923611  46.104167  37.482143   \n",
       "4  0.309174  11.087917  0.030658  1.020566  1017.479167  67.427084  61.408333   \n",
       "\n",
       "    wind_mean  New Covid Cases  \n",
       "0   92.363889              NaN  \n",
       "1   93.809963              NaN  \n",
       "2  113.998580              NaN  \n",
       "3  135.210606              NaN  \n",
       "4  102.174306              NaN  "
      ]
     },
     "execution_count": 248,
     "metadata": {},
     "output_type": "execute_result"
    }
   ],
   "source": [
    "all_merged_df.head()"
   ]
  },
  {
   "cell_type": "code",
   "execution_count": 249,
   "metadata": {},
   "outputs": [
    {
     "data": {
      "text/plain": [
       "Date                                 0\n",
       "State Name                           0\n",
       "AQI                                  0\n",
       "Population Staying at Home           0\n",
       "Population Not Staying at Home       0\n",
       "Number of Trips                      0\n",
       "pm10_mean                            0\n",
       "pm25_mean                            0\n",
       "co_mean                              0\n",
       "no2_mean                             0\n",
       "o3_mean                              0\n",
       "so2_mean                             0\n",
       "press_mean                           0\n",
       "rh_mean                              0\n",
       "temp_mean                            0\n",
       "wind_mean                            0\n",
       "New Covid Cases                   1813\n",
       "dtype: int64"
      ]
     },
     "execution_count": 249,
     "metadata": {},
     "output_type": "execute_result"
    }
   ],
   "source": [
    "all_merged_df.isna().sum()"
   ]
  },
  {
   "cell_type": "code",
   "execution_count": 250,
   "metadata": {
    "scrolled": true
   },
   "outputs": [
    {
     "name": "stdout",
     "output_type": "stream",
     "text": [
      "<class 'pandas.core.frame.DataFrame'>\n",
      "Int64Index: 23162 entries, 0 to 23161\n",
      "Data columns (total 17 columns):\n",
      " #   Column                          Non-Null Count  Dtype  \n",
      "---  ------                          --------------  -----  \n",
      " 0   Date                            23162 non-null  object \n",
      " 1   State Name                      23162 non-null  object \n",
      " 2   AQI                             23162 non-null  float64\n",
      " 3   Population Staying at Home      23162 non-null  float64\n",
      " 4   Population Not Staying at Home  23162 non-null  float64\n",
      " 5   Number of Trips                 23162 non-null  float64\n",
      " 6   pm10_mean                       23162 non-null  float64\n",
      " 7   pm25_mean                       23162 non-null  float64\n",
      " 8   co_mean                         23162 non-null  float64\n",
      " 9   no2_mean                        23162 non-null  float64\n",
      " 10  o3_mean                         23162 non-null  float64\n",
      " 11  so2_mean                        23162 non-null  float64\n",
      " 12  press_mean                      23162 non-null  float64\n",
      " 13  rh_mean                         23162 non-null  float64\n",
      " 14  temp_mean                       23162 non-null  float64\n",
      " 15  wind_mean                       23162 non-null  float64\n",
      " 16  New Covid Cases                 21349 non-null  float64\n",
      "dtypes: float64(15), object(2)\n",
      "memory usage: 3.2+ MB\n"
     ]
    }
   ],
   "source": [
    "all_merged_df.info()"
   ]
  },
  {
   "cell_type": "code",
   "execution_count": 251,
   "metadata": {},
   "outputs": [],
   "source": [
    "all_merged_df['Category'] = all_merged_df['AQI']"
   ]
  },
  {
   "cell_type": "code",
   "execution_count": 252,
   "metadata": {},
   "outputs": [],
   "source": [
    "import math\n",
    "def label_aqi_values(x):\n",
    "    x = math.floor(x)\n",
    "    if x>=0 and x<=50:\n",
    "        return 'Good'\n",
    "    elif x>=51 and x<=100:\n",
    "        return 'Moderate'\n",
    "    elif x>=101 and x<=150:\n",
    "        return 'Unhealthy for Sensitive Group'\n",
    "    elif x>=151 and x<=200:\n",
    "        return 'Unhealthy'\n",
    "    elif x>=201 and x<=300:\n",
    "        return 'Very Unhealthy'\n",
    "    elif x>=301 and x<=500:\n",
    "        return 'Hazardous'\n",
    "        "
   ]
  },
  {
   "cell_type": "code",
   "execution_count": 253,
   "metadata": {},
   "outputs": [],
   "source": [
    "all_merged_df['Category'] = all_merged_df['Category'].apply(label_aqi_values)"
   ]
  },
  {
   "cell_type": "code",
   "execution_count": 254,
   "metadata": {},
   "outputs": [
    {
     "data": {
      "text/plain": [
       "Good        20555\n",
       "Moderate     2607\n",
       "Name: Category, dtype: int64"
      ]
     },
     "execution_count": 254,
     "metadata": {},
     "output_type": "execute_result"
    }
   ],
   "source": [
    "all_merged_df['Category'].value_counts()"
   ]
  },
  {
   "cell_type": "code",
   "execution_count": 255,
   "metadata": {
    "scrolled": false
   },
   "outputs": [
    {
     "data": {
      "text/plain": [
       "0"
      ]
     },
     "execution_count": 255,
     "metadata": {},
     "output_type": "execute_result"
    }
   ],
   "source": [
    "all_merged_df['Category'].isna().sum()"
   ]
  },
  {
   "cell_type": "markdown",
   "metadata": {},
   "source": [
    "#### Arranging columns in right order"
   ]
  },
  {
   "cell_type": "code",
   "execution_count": 257,
   "metadata": {},
   "outputs": [],
   "source": [
    "all_merged_df = all_merged_df[['Date', 'State Name','New Covid Cases','Population Staying at Home',\n",
    "       'Population Not Staying at Home', 'Number of Trips', 'pm10_mean',\n",
    "       'pm25_mean', 'co_mean', 'no2_mean', 'o3_mean', 'so2_mean', 'press_mean',\n",
    "       'rh_mean', 'temp_mean', 'wind_mean', 'AQI','Category']]"
   ]
  },
  {
   "cell_type": "code",
   "execution_count": 258,
   "metadata": {},
   "outputs": [
    {
     "data": {
      "text/plain": [
       "Date                                 0\n",
       "State Name                           0\n",
       "New Covid Cases                   1813\n",
       "Population Staying at Home           0\n",
       "Population Not Staying at Home       0\n",
       "Number of Trips                      0\n",
       "pm10_mean                            0\n",
       "pm25_mean                            0\n",
       "co_mean                              0\n",
       "no2_mean                             0\n",
       "o3_mean                              0\n",
       "so2_mean                             0\n",
       "press_mean                           0\n",
       "rh_mean                              0\n",
       "temp_mean                            0\n",
       "wind_mean                            0\n",
       "AQI                                  0\n",
       "Category                             0\n",
       "dtype: int64"
      ]
     },
     "execution_count": 258,
     "metadata": {},
     "output_type": "execute_result"
    }
   ],
   "source": [
    "all_merged_df.isna().sum()"
   ]
  },
  {
   "cell_type": "markdown",
   "metadata": {},
   "source": [
    "### Handling Null Values"
   ]
  },
  {
   "cell_type": "code",
   "execution_count": 260,
   "metadata": {},
   "outputs": [],
   "source": [
    "all_merged_df['New Covid Cases'].fillna(0,inplace=True)"
   ]
  },
  {
   "cell_type": "code",
   "execution_count": 261,
   "metadata": {},
   "outputs": [
    {
     "data": {
      "text/plain": [
       "Date                              0\n",
       "State Name                        0\n",
       "New Covid Cases                   0\n",
       "Population Staying at Home        0\n",
       "Population Not Staying at Home    0\n",
       "Number of Trips                   0\n",
       "pm10_mean                         0\n",
       "pm25_mean                         0\n",
       "co_mean                           0\n",
       "no2_mean                          0\n",
       "o3_mean                           0\n",
       "so2_mean                          0\n",
       "press_mean                        0\n",
       "rh_mean                           0\n",
       "temp_mean                         0\n",
       "wind_mean                         0\n",
       "AQI                               0\n",
       "Category                          0\n",
       "dtype: int64"
      ]
     },
     "execution_count": 261,
     "metadata": {},
     "output_type": "execute_result"
    }
   ],
   "source": [
    "all_merged_df.isna().sum()"
   ]
  },
  {
   "cell_type": "code",
   "execution_count": 262,
   "metadata": {},
   "outputs": [],
   "source": [
    "all_merged_df.to_csv('new_cases_covid_air_pollution.csv',index=False)"
   ]
  },
  {
   "cell_type": "code",
   "execution_count": 31,
   "metadata": {},
   "outputs": [],
   "source": [
    "df = pd.read_csv('new_cases_covid_air_pollution.csv')"
   ]
  },
  {
   "cell_type": "code",
   "execution_count": 32,
   "metadata": {},
   "outputs": [
    {
     "data": {
      "text/html": [
       "<div>\n",
       "<style scoped>\n",
       "    .dataframe tbody tr th:only-of-type {\n",
       "        vertical-align: middle;\n",
       "    }\n",
       "\n",
       "    .dataframe tbody tr th {\n",
       "        vertical-align: top;\n",
       "    }\n",
       "\n",
       "    .dataframe thead th {\n",
       "        text-align: right;\n",
       "    }\n",
       "</style>\n",
       "<table border=\"1\" class=\"dataframe\">\n",
       "  <thead>\n",
       "    <tr style=\"text-align: right;\">\n",
       "      <th></th>\n",
       "      <th>Date</th>\n",
       "      <th>State Name</th>\n",
       "      <th>New Covid Cases</th>\n",
       "      <th>Population Staying at Home</th>\n",
       "      <th>Population Not Staying at Home</th>\n",
       "      <th>Number of Trips</th>\n",
       "      <th>pm10_mean</th>\n",
       "      <th>pm25_mean</th>\n",
       "      <th>co_mean</th>\n",
       "      <th>no2_mean</th>\n",
       "      <th>o3_mean</th>\n",
       "      <th>so2_mean</th>\n",
       "      <th>press_mean</th>\n",
       "      <th>rh_mean</th>\n",
       "      <th>temp_mean</th>\n",
       "      <th>wind_mean</th>\n",
       "      <th>AQI</th>\n",
       "      <th>Category</th>\n",
       "    </tr>\n",
       "  </thead>\n",
       "  <tbody>\n",
       "    <tr>\n",
       "      <th>0</th>\n",
       "      <td>2020-01-01</td>\n",
       "      <td>Alabama</td>\n",
       "      <td>0.0</td>\n",
       "      <td>739308.0</td>\n",
       "      <td>2925370.0</td>\n",
       "      <td>1.053467e+07</td>\n",
       "      <td>12.500000</td>\n",
       "      <td>8.225962</td>\n",
       "      <td>0.295698</td>\n",
       "      <td>16.373918</td>\n",
       "      <td>0.033676</td>\n",
       "      <td>0.905859</td>\n",
       "      <td>1000.610834</td>\n",
       "      <td>50.480556</td>\n",
       "      <td>48.435555</td>\n",
       "      <td>92.363889</td>\n",
       "      <td>36.666667</td>\n",
       "      <td>Good</td>\n",
       "    </tr>\n",
       "    <tr>\n",
       "      <th>1</th>\n",
       "      <td>2020-01-01</td>\n",
       "      <td>California</td>\n",
       "      <td>0.0</td>\n",
       "      <td>1348187.0</td>\n",
       "      <td>4991812.0</td>\n",
       "      <td>2.143521e+07</td>\n",
       "      <td>17.615385</td>\n",
       "      <td>11.933323</td>\n",
       "      <td>0.408814</td>\n",
       "      <td>10.150140</td>\n",
       "      <td>0.022262</td>\n",
       "      <td>0.570346</td>\n",
       "      <td>973.469771</td>\n",
       "      <td>64.127964</td>\n",
       "      <td>49.710225</td>\n",
       "      <td>93.809963</td>\n",
       "      <td>55.358491</td>\n",
       "      <td>Moderate</td>\n",
       "    </tr>\n",
       "    <tr>\n",
       "      <th>2</th>\n",
       "      <td>2020-01-01</td>\n",
       "      <td>Colorado</td>\n",
       "      <td>0.0</td>\n",
       "      <td>586771.0</td>\n",
       "      <td>1985137.0</td>\n",
       "      <td>8.867251e+06</td>\n",
       "      <td>10.250000</td>\n",
       "      <td>4.785586</td>\n",
       "      <td>0.325372</td>\n",
       "      <td>12.381218</td>\n",
       "      <td>0.038290</td>\n",
       "      <td>1.102743</td>\n",
       "      <td>814.807500</td>\n",
       "      <td>65.336111</td>\n",
       "      <td>31.375000</td>\n",
       "      <td>113.998580</td>\n",
       "      <td>30.518519</td>\n",
       "      <td>Good</td>\n",
       "    </tr>\n",
       "    <tr>\n",
       "      <th>3</th>\n",
       "      <td>2020-01-01</td>\n",
       "      <td>Connecticut</td>\n",
       "      <td>0.0</td>\n",
       "      <td>249491.0</td>\n",
       "      <td>951253.0</td>\n",
       "      <td>3.862218e+06</td>\n",
       "      <td>5.200000</td>\n",
       "      <td>3.106250</td>\n",
       "      <td>0.193428</td>\n",
       "      <td>6.553261</td>\n",
       "      <td>0.024059</td>\n",
       "      <td>0.105797</td>\n",
       "      <td>991.923611</td>\n",
       "      <td>46.104167</td>\n",
       "      <td>37.482143</td>\n",
       "      <td>135.210606</td>\n",
       "      <td>22.166667</td>\n",
       "      <td>Good</td>\n",
       "    </tr>\n",
       "    <tr>\n",
       "      <th>4</th>\n",
       "      <td>2020-01-01</td>\n",
       "      <td>Florida</td>\n",
       "      <td>0.0</td>\n",
       "      <td>1347774.0</td>\n",
       "      <td>5176612.0</td>\n",
       "      <td>2.106439e+07</td>\n",
       "      <td>19.600000</td>\n",
       "      <td>13.366013</td>\n",
       "      <td>0.309174</td>\n",
       "      <td>11.087917</td>\n",
       "      <td>0.030658</td>\n",
       "      <td>1.020566</td>\n",
       "      <td>1017.479167</td>\n",
       "      <td>67.427084</td>\n",
       "      <td>61.408333</td>\n",
       "      <td>102.174306</td>\n",
       "      <td>46.051282</td>\n",
       "      <td>Good</td>\n",
       "    </tr>\n",
       "  </tbody>\n",
       "</table>\n",
       "</div>"
      ],
      "text/plain": [
       "         Date   State Name  New Covid Cases  Population Staying at Home  \\\n",
       "0  2020-01-01      Alabama              0.0                    739308.0   \n",
       "1  2020-01-01   California              0.0                   1348187.0   \n",
       "2  2020-01-01     Colorado              0.0                    586771.0   \n",
       "3  2020-01-01  Connecticut              0.0                    249491.0   \n",
       "4  2020-01-01      Florida              0.0                   1347774.0   \n",
       "\n",
       "   Population Not Staying at Home  Number of Trips  pm10_mean  pm25_mean  \\\n",
       "0                       2925370.0     1.053467e+07  12.500000   8.225962   \n",
       "1                       4991812.0     2.143521e+07  17.615385  11.933323   \n",
       "2                       1985137.0     8.867251e+06  10.250000   4.785586   \n",
       "3                        951253.0     3.862218e+06   5.200000   3.106250   \n",
       "4                       5176612.0     2.106439e+07  19.600000  13.366013   \n",
       "\n",
       "    co_mean   no2_mean   o3_mean  so2_mean   press_mean    rh_mean  temp_mean  \\\n",
       "0  0.295698  16.373918  0.033676  0.905859  1000.610834  50.480556  48.435555   \n",
       "1  0.408814  10.150140  0.022262  0.570346   973.469771  64.127964  49.710225   \n",
       "2  0.325372  12.381218  0.038290  1.102743   814.807500  65.336111  31.375000   \n",
       "3  0.193428   6.553261  0.024059  0.105797   991.923611  46.104167  37.482143   \n",
       "4  0.309174  11.087917  0.030658  1.020566  1017.479167  67.427084  61.408333   \n",
       "\n",
       "    wind_mean        AQI  Category  \n",
       "0   92.363889  36.666667      Good  \n",
       "1   93.809963  55.358491  Moderate  \n",
       "2  113.998580  30.518519      Good  \n",
       "3  135.210606  22.166667      Good  \n",
       "4  102.174306  46.051282      Good  "
      ]
     },
     "execution_count": 32,
     "metadata": {},
     "output_type": "execute_result"
    }
   ],
   "source": [
    "df.head()"
   ]
  },
  {
   "cell_type": "code",
   "execution_count": 265,
   "metadata": {},
   "outputs": [
    {
     "data": {
      "text/plain": [
       "3749.0"
      ]
     },
     "execution_count": 265,
     "metadata": {},
     "output_type": "execute_result"
    }
   ],
   "source": [
    "df['New Covid Cases'].max()"
   ]
  },
  {
   "cell_type": "code",
   "execution_count": 266,
   "metadata": {},
   "outputs": [
    {
     "data": {
      "text/plain": [
       "(23162, 18)"
      ]
     },
     "execution_count": 266,
     "metadata": {},
     "output_type": "execute_result"
    }
   ],
   "source": [
    "df.shape"
   ]
  },
  {
   "cell_type": "code",
   "execution_count": 33,
   "metadata": {},
   "outputs": [
    {
     "data": {
      "text/plain": [
       "Index(['Date', 'State Name', 'New Covid Cases', 'Population Staying at Home',\n",
       "       'Population Not Staying at Home', 'Number of Trips', 'pm10_mean',\n",
       "       'pm25_mean', 'co_mean', 'no2_mean', 'o3_mean', 'so2_mean', 'press_mean',\n",
       "       'rh_mean', 'temp_mean', 'wind_mean', 'AQI', 'Category'],\n",
       "      dtype='object')"
      ]
     },
     "execution_count": 33,
     "metadata": {},
     "output_type": "execute_result"
    }
   ],
   "source": [
    "df.columns"
   ]
  },
  {
   "cell_type": "code",
   "execution_count": null,
   "metadata": {},
   "outputs": [],
   "source": []
  },
  {
   "cell_type": "code",
   "execution_count": null,
   "metadata": {},
   "outputs": [],
   "source": []
  },
  {
   "cell_type": "code",
   "execution_count": null,
   "metadata": {},
   "outputs": [],
   "source": []
  },
  {
   "cell_type": "code",
   "execution_count": null,
   "metadata": {},
   "outputs": [],
   "source": []
  },
  {
   "cell_type": "code",
   "execution_count": null,
   "metadata": {},
   "outputs": [],
   "source": []
  }
 ],
 "metadata": {
  "accelerator": "GPU",
  "colab": {
   "authorship_tag": "ABX9TyMFPG3W/UFqc6aiNc89o224",
   "provenance": []
  },
  "gpuClass": "standard",
  "kernelspec": {
   "display_name": "Python 3 (ipykernel)",
   "language": "python",
   "name": "python3"
  },
  "language_info": {
   "codemirror_mode": {
    "name": "ipython",
    "version": 3
   },
   "file_extension": ".py",
   "mimetype": "text/x-python",
   "name": "python",
   "nbconvert_exporter": "python",
   "pygments_lexer": "ipython3",
   "version": "3.9.13"
  }
 },
 "nbformat": 4,
 "nbformat_minor": 1
}
