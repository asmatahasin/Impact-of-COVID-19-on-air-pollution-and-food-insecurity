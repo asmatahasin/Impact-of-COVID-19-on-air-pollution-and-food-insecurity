{
 "cells": [
  {
   "cell_type": "markdown",
   "id": "abe95f20",
   "metadata": {
    "id": "abe95f20"
   },
   "source": [
    "# Model Building With SMOTE"
   ]
  },
  {
   "cell_type": "markdown",
   "id": "bc7a610b",
   "metadata": {
    "id": "bc7a610b"
   },
   "source": [
    "## Importing the libraries"
   ]
  },
  {
   "cell_type": "code",
   "execution_count": 1,
   "id": "e581ce10",
   "metadata": {
    "id": "e581ce10"
   },
   "outputs": [],
   "source": [
    "import pandas as pd\n",
    "import numpy as np\n",
    "import matplotlib.pyplot as plt\n",
    "from sklearn.linear_model import LinearRegression\n",
    "from sklearn import metrics\n",
    "from sklearn.preprocessing import StandardScaler\n",
    "from sklearn.model_selection import GridSearchCV\n",
    "from sklearn.model_selection import train_test_split\n",
    "from sklearn.model_selection import KFold\n",
    "from sklearn.model_selection import cross_val_score\n",
    "from sklearn.model_selection import cross_validate\n",
    "from sklearn.linear_model import LinearRegression\n",
    "from numpy import mean\n",
    "from numpy import absolute\n",
    "from numpy import sqrt\n",
    "import pandas as pd"
   ]
  },
  {
   "cell_type": "markdown",
   "id": "76ffdbf4",
   "metadata": {
    "id": "76ffdbf4"
   },
   "source": [
    "## Importing the dataset"
   ]
  },
  {
   "cell_type": "code",
   "execution_count": 2,
   "id": "302d67ed",
   "metadata": {
    "colab": {
     "base_uri": "https://localhost:8080/",
     "height": 409
    },
    "id": "302d67ed",
    "outputId": "75bb645b-7917-450d-e1ca-385a7f395318"
   },
   "outputs": [
    {
     "data": {
      "text/html": [
       "<div>\n",
       "<style scoped>\n",
       "    .dataframe tbody tr th:only-of-type {\n",
       "        vertical-align: middle;\n",
       "    }\n",
       "\n",
       "    .dataframe tbody tr th {\n",
       "        vertical-align: top;\n",
       "    }\n",
       "\n",
       "    .dataframe thead th {\n",
       "        text-align: right;\n",
       "    }\n",
       "</style>\n",
       "<table border=\"1\" class=\"dataframe\">\n",
       "  <thead>\n",
       "    <tr style=\"text-align: right;\">\n",
       "      <th></th>\n",
       "      <th>Date</th>\n",
       "      <th>State Name</th>\n",
       "      <th>New Covid Cases</th>\n",
       "      <th>Population Staying at Home</th>\n",
       "      <th>Population Not Staying at Home</th>\n",
       "      <th>Number of Trips</th>\n",
       "      <th>pm10_mean</th>\n",
       "      <th>pm25_mean</th>\n",
       "      <th>co_mean</th>\n",
       "      <th>no2_mean</th>\n",
       "      <th>o3_mean</th>\n",
       "      <th>so2_mean</th>\n",
       "      <th>press_mean</th>\n",
       "      <th>rh_mean</th>\n",
       "      <th>temp_mean</th>\n",
       "      <th>wind_mean</th>\n",
       "      <th>AQI</th>\n",
       "      <th>Category</th>\n",
       "    </tr>\n",
       "  </thead>\n",
       "  <tbody>\n",
       "    <tr>\n",
       "      <th>0</th>\n",
       "      <td>2020-01-01</td>\n",
       "      <td>Alabama</td>\n",
       "      <td>0.0</td>\n",
       "      <td>859.830216</td>\n",
       "      <td>1710.371305</td>\n",
       "      <td>3245.716331</td>\n",
       "      <td>3.535534</td>\n",
       "      <td>2.868094</td>\n",
       "      <td>0.543782</td>\n",
       "      <td>4.046470</td>\n",
       "      <td>0.033676</td>\n",
       "      <td>0.951766</td>\n",
       "      <td>3.799426e+36</td>\n",
       "      <td>223.283219</td>\n",
       "      <td>48.435555</td>\n",
       "      <td>92.363889</td>\n",
       "      <td>6.055301</td>\n",
       "      <td>Good</td>\n",
       "    </tr>\n",
       "    <tr>\n",
       "      <th>1</th>\n",
       "      <td>2020-01-01</td>\n",
       "      <td>California</td>\n",
       "      <td>0.0</td>\n",
       "      <td>1161.114551</td>\n",
       "      <td>2234.236335</td>\n",
       "      <td>4629.817437</td>\n",
       "      <td>4.197069</td>\n",
       "      <td>3.454464</td>\n",
       "      <td>0.639386</td>\n",
       "      <td>3.185928</td>\n",
       "      <td>0.022262</td>\n",
       "      <td>0.755213</td>\n",
       "      <td>2.689899e+36</td>\n",
       "      <td>318.449161</td>\n",
       "      <td>49.710225</td>\n",
       "      <td>93.809963</td>\n",
       "      <td>7.440329</td>\n",
       "      <td>Moderate</td>\n",
       "    </tr>\n",
       "    <tr>\n",
       "      <th>2</th>\n",
       "      <td>2020-01-01</td>\n",
       "      <td>Colorado</td>\n",
       "      <td>0.0</td>\n",
       "      <td>766.009791</td>\n",
       "      <td>1408.948899</td>\n",
       "      <td>2977.793038</td>\n",
       "      <td>3.201562</td>\n",
       "      <td>2.187598</td>\n",
       "      <td>0.570414</td>\n",
       "      <td>3.518695</td>\n",
       "      <td>0.038290</td>\n",
       "      <td>1.050116</td>\n",
       "      <td>5.285798e+35</td>\n",
       "      <td>327.386469</td>\n",
       "      <td>31.375000</td>\n",
       "      <td>113.998580</td>\n",
       "      <td>5.524357</td>\n",
       "      <td>Good</td>\n",
       "    </tr>\n",
       "    <tr>\n",
       "      <th>3</th>\n",
       "      <td>2020-01-01</td>\n",
       "      <td>Connecticut</td>\n",
       "      <td>0.0</td>\n",
       "      <td>499.490741</td>\n",
       "      <td>975.321998</td>\n",
       "      <td>1965.252528</td>\n",
       "      <td>2.280351</td>\n",
       "      <td>1.762456</td>\n",
       "      <td>0.439804</td>\n",
       "      <td>2.559934</td>\n",
       "      <td>0.024059</td>\n",
       "      <td>0.325265</td>\n",
       "      <td>3.405333e+36</td>\n",
       "      <td>195.157135</td>\n",
       "      <td>37.482143</td>\n",
       "      <td>135.210606</td>\n",
       "      <td>4.708149</td>\n",
       "      <td>Good</td>\n",
       "    </tr>\n",
       "    <tr>\n",
       "      <th>4</th>\n",
       "      <td>2020-01-01</td>\n",
       "      <td>Florida</td>\n",
       "      <td>0.0</td>\n",
       "      <td>1160.936691</td>\n",
       "      <td>2275.216913</td>\n",
       "      <td>4589.595448</td>\n",
       "      <td>4.427189</td>\n",
       "      <td>3.655956</td>\n",
       "      <td>0.556034</td>\n",
       "      <td>3.329852</td>\n",
       "      <td>0.030658</td>\n",
       "      <td>1.010231</td>\n",
       "      <td>4.687015e+36</td>\n",
       "      <td>343.042315</td>\n",
       "      <td>61.408333</td>\n",
       "      <td>102.174306</td>\n",
       "      <td>6.786109</td>\n",
       "      <td>Good</td>\n",
       "    </tr>\n",
       "  </tbody>\n",
       "</table>\n",
       "</div>"
      ],
      "text/plain": [
       "         Date   State Name  New Covid Cases  Population Staying at Home  \\\n",
       "0  2020-01-01      Alabama              0.0                  859.830216   \n",
       "1  2020-01-01   California              0.0                 1161.114551   \n",
       "2  2020-01-01     Colorado              0.0                  766.009791   \n",
       "3  2020-01-01  Connecticut              0.0                  499.490741   \n",
       "4  2020-01-01      Florida              0.0                 1160.936691   \n",
       "\n",
       "   Population Not Staying at Home  Number of Trips  pm10_mean  pm25_mean  \\\n",
       "0                     1710.371305      3245.716331   3.535534   2.868094   \n",
       "1                     2234.236335      4629.817437   4.197069   3.454464   \n",
       "2                     1408.948899      2977.793038   3.201562   2.187598   \n",
       "3                      975.321998      1965.252528   2.280351   1.762456   \n",
       "4                     2275.216913      4589.595448   4.427189   3.655956   \n",
       "\n",
       "    co_mean  no2_mean   o3_mean  so2_mean    press_mean     rh_mean  \\\n",
       "0  0.543782  4.046470  0.033676  0.951766  3.799426e+36  223.283219   \n",
       "1  0.639386  3.185928  0.022262  0.755213  2.689899e+36  318.449161   \n",
       "2  0.570414  3.518695  0.038290  1.050116  5.285798e+35  327.386469   \n",
       "3  0.439804  2.559934  0.024059  0.325265  3.405333e+36  195.157135   \n",
       "4  0.556034  3.329852  0.030658  1.010231  4.687015e+36  343.042315   \n",
       "\n",
       "   temp_mean   wind_mean       AQI  Category  \n",
       "0  48.435555   92.363889  6.055301      Good  \n",
       "1  49.710225   93.809963  7.440329  Moderate  \n",
       "2  31.375000  113.998580  5.524357      Good  \n",
       "3  37.482143  135.210606  4.708149      Good  \n",
       "4  61.408333  102.174306  6.786109      Good  "
      ]
     },
     "execution_count": 2,
     "metadata": {},
     "output_type": "execute_result"
    }
   ],
   "source": [
    "poll_df = pd.read_csv('air_pollution_gauss_cleaned.csv') # Loading normally or gaussian distributed data\n",
    "poll_df.head()"
   ]
  },
  {
   "cell_type": "markdown",
   "id": "B0PG7G9H-7c3",
   "metadata": {
    "id": "B0PG7G9H-7c3"
   },
   "source": [
    "## Applying SMOTE"
   ]
  },
  {
   "cell_type": "code",
   "execution_count": 3,
   "id": "n2GKUk-Q-5oT",
   "metadata": {
    "id": "n2GKUk-Q-5oT"
   },
   "outputs": [],
   "source": [
    "from imblearn.over_sampling import SMOTE\n",
    "\n",
    "X = poll_df[['New Covid Cases', 'Population Staying at Home',\n",
    "       'Population Not Staying at Home', 'Number of Trips', 'pm10_mean',\n",
    "       'pm25_mean', 'co_mean', 'no2_mean', 'o3_mean', 'so2_mean', 'press_mean',\n",
    "       'rh_mean', 'temp_mean', 'wind_mean','AQI']].values\n",
    "y = poll_df['Category'].values\n",
    "\n",
    "smote =SMOTE(random_state=42)\n",
    "X_sm,y_sm=smote.fit_resample(X,y)"
   ]
  },
  {
   "cell_type": "code",
   "execution_count": 4,
   "id": "l-IPrOKa_Dmq",
   "metadata": {
    "id": "l-IPrOKa_Dmq"
   },
   "outputs": [
    {
     "data": {
      "text/plain": [
       "Good        20157\n",
       "Moderate     2569\n",
       "Name: Category, dtype: int64"
      ]
     },
     "execution_count": 4,
     "metadata": {},
     "output_type": "execute_result"
    }
   ],
   "source": [
    "poll_df['Category'].value_counts()"
   ]
  },
  {
   "cell_type": "code",
   "execution_count": 5,
   "id": "AHY1UFzW_Djp",
   "metadata": {
    "id": "AHY1UFzW_Djp"
   },
   "outputs": [
    {
     "data": {
      "text/plain": [
       "Good        20157\n",
       "Moderate    20157\n",
       "dtype: int64"
      ]
     },
     "execution_count": 5,
     "metadata": {},
     "output_type": "execute_result"
    }
   ],
   "source": [
    "pd.Series(y_sm).value_counts()"
   ]
  },
  {
   "cell_type": "markdown",
   "id": "YG4RrFRs_L0l",
   "metadata": {
    "id": "YG4RrFRs_L0l"
   },
   "source": [
    "## Selecting Dependent and Independent Features"
   ]
  },
  {
   "cell_type": "code",
   "execution_count": 6,
   "id": "nsU_d1wo_oce",
   "metadata": {
    "id": "nsU_d1wo_oce"
   },
   "outputs": [],
   "source": [
    "X = X_sm[:,:-1]\n",
    "y = X_sm[:,-1]"
   ]
  },
  {
   "cell_type": "markdown",
   "id": "194a82d7",
   "metadata": {
    "id": "194a82d7"
   },
   "source": [
    "## Normalization and Scaling of Data"
   ]
  },
  {
   "cell_type": "code",
   "execution_count": 7,
   "id": "2e5f0be5",
   "metadata": {
    "id": "2e5f0be5"
   },
   "outputs": [],
   "source": [
    "sc_X = StandardScaler()\n",
    "sc_y = StandardScaler()"
   ]
  },
  {
   "cell_type": "code",
   "execution_count": 8,
   "id": "3323e5c2",
   "metadata": {
    "id": "3323e5c2"
   },
   "outputs": [],
   "source": [
    "X = sc_X.fit_transform(X)"
   ]
  },
  {
   "cell_type": "markdown",
   "id": "877cbbf9",
   "metadata": {
    "id": "877cbbf9"
   },
   "source": [
    "## Splitting the dataset into the Training set and Test set"
   ]
  },
  {
   "cell_type": "code",
   "execution_count": 9,
   "id": "0798e69a",
   "metadata": {
    "id": "0798e69a"
   },
   "outputs": [],
   "source": [
    "from sklearn.model_selection import train_test_split\n",
    "X_train, X_test, y_train, y_test = train_test_split(X, y, test_size = 0.2, random_state = 0)"
   ]
  },
  {
   "cell_type": "markdown",
   "id": "g1wi7GPY_00k",
   "metadata": {
    "id": "g1wi7GPY_00k"
   },
   "source": [
    "## Regression Models On Balanced Dataset"
   ]
  },
  {
   "cell_type": "markdown",
   "id": "df3de44a",
   "metadata": {
    "id": "df3de44a"
   },
   "source": [
    "### SVR model"
   ]
  },
  {
   "cell_type": "markdown",
   "id": "HmnKhI1u5vDF",
   "metadata": {
    "id": "HmnKhI1u5vDF"
   },
   "source": [
    "#### Training"
   ]
  },
  {
   "cell_type": "code",
   "execution_count": 10,
   "id": "69200e17",
   "metadata": {
    "colab": {
     "base_uri": "https://localhost:8080/"
    },
    "id": "69200e17",
    "outputId": "2333c202-af78-4af9-c2e9-000ebd883b06"
   },
   "outputs": [
    {
     "data": {
      "text/html": [
       "<style>#sk-container-id-1 {color: black;background-color: white;}#sk-container-id-1 pre{padding: 0;}#sk-container-id-1 div.sk-toggleable {background-color: white;}#sk-container-id-1 label.sk-toggleable__label {cursor: pointer;display: block;width: 100%;margin-bottom: 0;padding: 0.3em;box-sizing: border-box;text-align: center;}#sk-container-id-1 label.sk-toggleable__label-arrow:before {content: \"▸\";float: left;margin-right: 0.25em;color: #696969;}#sk-container-id-1 label.sk-toggleable__label-arrow:hover:before {color: black;}#sk-container-id-1 div.sk-estimator:hover label.sk-toggleable__label-arrow:before {color: black;}#sk-container-id-1 div.sk-toggleable__content {max-height: 0;max-width: 0;overflow: hidden;text-align: left;background-color: #f0f8ff;}#sk-container-id-1 div.sk-toggleable__content pre {margin: 0.2em;color: black;border-radius: 0.25em;background-color: #f0f8ff;}#sk-container-id-1 input.sk-toggleable__control:checked~div.sk-toggleable__content {max-height: 200px;max-width: 100%;overflow: auto;}#sk-container-id-1 input.sk-toggleable__control:checked~label.sk-toggleable__label-arrow:before {content: \"▾\";}#sk-container-id-1 div.sk-estimator input.sk-toggleable__control:checked~label.sk-toggleable__label {background-color: #d4ebff;}#sk-container-id-1 div.sk-label input.sk-toggleable__control:checked~label.sk-toggleable__label {background-color: #d4ebff;}#sk-container-id-1 input.sk-hidden--visually {border: 0;clip: rect(1px 1px 1px 1px);clip: rect(1px, 1px, 1px, 1px);height: 1px;margin: -1px;overflow: hidden;padding: 0;position: absolute;width: 1px;}#sk-container-id-1 div.sk-estimator {font-family: monospace;background-color: #f0f8ff;border: 1px dotted black;border-radius: 0.25em;box-sizing: border-box;margin-bottom: 0.5em;}#sk-container-id-1 div.sk-estimator:hover {background-color: #d4ebff;}#sk-container-id-1 div.sk-parallel-item::after {content: \"\";width: 100%;border-bottom: 1px solid gray;flex-grow: 1;}#sk-container-id-1 div.sk-label:hover label.sk-toggleable__label {background-color: #d4ebff;}#sk-container-id-1 div.sk-serial::before {content: \"\";position: absolute;border-left: 1px solid gray;box-sizing: border-box;top: 0;bottom: 0;left: 50%;z-index: 0;}#sk-container-id-1 div.sk-serial {display: flex;flex-direction: column;align-items: center;background-color: white;padding-right: 0.2em;padding-left: 0.2em;position: relative;}#sk-container-id-1 div.sk-item {position: relative;z-index: 1;}#sk-container-id-1 div.sk-parallel {display: flex;align-items: stretch;justify-content: center;background-color: white;position: relative;}#sk-container-id-1 div.sk-item::before, #sk-container-id-1 div.sk-parallel-item::before {content: \"\";position: absolute;border-left: 1px solid gray;box-sizing: border-box;top: 0;bottom: 0;left: 50%;z-index: -1;}#sk-container-id-1 div.sk-parallel-item {display: flex;flex-direction: column;z-index: 1;position: relative;background-color: white;}#sk-container-id-1 div.sk-parallel-item:first-child::after {align-self: flex-end;width: 50%;}#sk-container-id-1 div.sk-parallel-item:last-child::after {align-self: flex-start;width: 50%;}#sk-container-id-1 div.sk-parallel-item:only-child::after {width: 0;}#sk-container-id-1 div.sk-dashed-wrapped {border: 1px dashed gray;margin: 0 0.4em 0.5em 0.4em;box-sizing: border-box;padding-bottom: 0.4em;background-color: white;}#sk-container-id-1 div.sk-label label {font-family: monospace;font-weight: bold;display: inline-block;line-height: 1.2em;}#sk-container-id-1 div.sk-label-container {text-align: center;}#sk-container-id-1 div.sk-container {/* jupyter's `normalize.less` sets `[hidden] { display: none; }` but bootstrap.min.css set `[hidden] { display: none !important; }` so we also need the `!important` here to be able to override the default hidden behavior on the sphinx rendered scikit-learn.org. See: https://github.com/scikit-learn/scikit-learn/issues/21755 */display: inline-block !important;position: relative;}#sk-container-id-1 div.sk-text-repr-fallback {display: none;}</style><div id=\"sk-container-id-1\" class=\"sk-top-container\"><div class=\"sk-text-repr-fallback\"><pre>SVR()</pre><b>In a Jupyter environment, please rerun this cell to show the HTML representation or trust the notebook. <br />On GitHub, the HTML representation is unable to render, please try loading this page with nbviewer.org.</b></div><div class=\"sk-container\" hidden><div class=\"sk-item\"><div class=\"sk-estimator sk-toggleable\"><input class=\"sk-toggleable__control sk-hidden--visually\" id=\"sk-estimator-id-1\" type=\"checkbox\" checked><label for=\"sk-estimator-id-1\" class=\"sk-toggleable__label sk-toggleable__label-arrow\">SVR</label><div class=\"sk-toggleable__content\"><pre>SVR()</pre></div></div></div></div></div>"
      ],
      "text/plain": [
       "SVR()"
      ]
     },
     "execution_count": 10,
     "metadata": {},
     "output_type": "execute_result"
    }
   ],
   "source": [
    "from sklearn.svm import SVR\n",
    "regressor = SVR(kernel = 'rbf')\n",
    "regressor.fit(X_train, y_train)"
   ]
  },
  {
   "cell_type": "markdown",
   "id": "55e89beb",
   "metadata": {
    "id": "55e89beb"
   },
   "source": [
    "#### Predicting the Test set results"
   ]
  },
  {
   "cell_type": "code",
   "execution_count": 11,
   "id": "8b96e00c",
   "metadata": {
    "colab": {
     "base_uri": "https://localhost:8080/"
    },
    "id": "8b96e00c",
    "outputId": "fa947ae1-ff2f-43ad-c8bd-d1ffcd1092a9"
   },
   "outputs": [
    {
     "name": "stdout",
     "output_type": "stream",
     "text": [
      "[[7.31 7.2 ]\n",
      " [6.07 5.85]\n",
      " [7.61 7.48]\n",
      " ...\n",
      " [6.29 6.41]\n",
      " [7.45 7.45]\n",
      " [6.65 6.59]]\n"
     ]
    }
   ],
   "source": [
    "from sklearn.preprocessing import StandardScaler\n",
    "y_pred = regressor.predict(X_test)\n",
    "np.set_printoptions(precision=2)\n",
    "print(np.concatenate((y_pred.reshape(len(y_pred),1), y_test.reshape(len(y_test),1)),1))"
   ]
  },
  {
   "cell_type": "markdown",
   "id": "8b881b83",
   "metadata": {
    "id": "8b881b83"
   },
   "source": [
    "#### Model Evaluation"
   ]
  },
  {
   "cell_type": "code",
   "execution_count": 18,
   "id": "daa648c4",
   "metadata": {
    "colab": {
     "base_uri": "https://localhost:8080/"
    },
    "id": "daa648c4",
    "outputId": "0c4b0633-4c0b-4f36-e42d-b7b257015366"
   },
   "outputs": [
    {
     "name": "stdout",
     "output_type": "stream",
     "text": [
      "MAE: 0.1830471526541624\n",
      "MSE: 0.06514924714734811\n",
      "RMSE: 0.2552435055928909\n",
      "R squared value:  0.9345852091302579\n"
     ]
    }
   ],
   "source": [
    "from sklearn.metrics import r2_score\n",
    "print('MAE:', metrics.mean_absolute_error(y_test,y_pred))\n",
    "print('MSE:', metrics.mean_squared_error(y_test, y_pred))\n",
    "print('RMSE:', np.sqrt(metrics.mean_squared_error(y_test, y_pred)))\n",
    "print(\"R squared value: \",r2_score(y_test, y_pred))"
   ]
  },
  {
   "cell_type": "markdown",
   "id": "e0b3d6d6",
   "metadata": {
    "id": "e0b3d6d6"
   },
   "source": [
    "### SVM regression using k fold cross validation and Grid Search"
   ]
  },
  {
   "cell_type": "markdown",
   "id": "t90KGY0d6Fde",
   "metadata": {
    "id": "t90KGY0d6Fde"
   },
   "source": [
    "#### Training"
   ]
  },
  {
   "cell_type": "code",
   "execution_count": 13,
   "id": "78f9e9f8",
   "metadata": {
    "id": "78f9e9f8"
   },
   "outputs": [],
   "source": [
    "from sklearn.svm import SVR\n",
    "regressor = SVR(kernel = 'rbf')"
   ]
  },
  {
   "cell_type": "markdown",
   "id": "gDlL-2atBbsq",
   "metadata": {
    "id": "gDlL-2atBbsq"
   },
   "source": [
    "#### 3 fold cross validation"
   ]
  },
  {
   "cell_type": "code",
   "execution_count": 14,
   "id": "a578c71a",
   "metadata": {
    "id": "a578c71a"
   },
   "outputs": [],
   "source": [
    "cv=cross_validate(regressor, X, y, cv=3)"
   ]
  },
  {
   "cell_type": "code",
   "execution_count": 17,
   "id": "88c5bb5f",
   "metadata": {
    "colab": {
     "base_uri": "https://localhost:8080/"
    },
    "id": "88c5bb5f",
    "outputId": "b5e0bd79-91d4-49ee-e965-e05d50bb5944"
   },
   "outputs": [
    {
     "name": "stdout",
     "output_type": "stream",
     "text": [
      "3 folds accuracy: [78.57 91.12 18.  ]\n",
      "mean accuracy of 3 folds: 62.562588630910454 %\n"
     ]
    }
   ],
   "source": [
    "print('3 folds accuracy:',cv['test_score']*100)\n",
    "print('mean accuracy of 3 folds:',cv['test_score'].mean()*100,'%')"
   ]
  },
  {
   "cell_type": "markdown",
   "id": "5d2bd995",
   "metadata": {},
   "source": [
    "#### SVM Grid Search"
   ]
  },
  {
   "cell_type": "code",
   "execution_count": 16,
   "id": "d1de3752",
   "metadata": {
    "colab": {
     "base_uri": "https://localhost:8080/"
    },
    "id": "d1de3752",
    "outputId": "a7fc89d0-b809-4be7-88f2-56fb14f550a0"
   },
   "outputs": [
    {
     "name": "stdout",
     "output_type": "stream",
     "text": [
      "Fitting 3 folds for each of 48 candidates, totalling 144 fits\n",
      "[CV] END .................C=0.1, gamma=0.001, kernel=sigmoid; total time= 1.8min\n",
      "[CV] END ......................C=10, gamma=1, kernel=sigmoid; total time= 3.0min\n",
      "[CV] END ......................C=0.1, gamma=0.1, kernel=poly; total time= 1.5min\n",
      "[CV] END ......................C=1, gamma=0.001, kernel=poly; total time= 1.4min\n",
      "[CV] END ..................C=10, gamma=0.001, kernel=sigmoid; total time= 1.9min\n",
      "[CV] END .........................C=0.1, gamma=1, kernel=rbf; total time= 1.8min\n",
      "[CV] END ......................C=10, gamma=1, kernel=sigmoid; total time= 3.0min\n",
      "[CV] END ........................C=1, gamma=0.01, kernel=rbf; total time= 1.9min\n",
      "[CV] END ....................C=10, gamma=0.1, kernel=sigmoid; total time= 3.1min\n",
      "[CV] END .....................C=0.1, gamma=0.01, kernel=poly; total time= 1.9min\n",
      "[CV] END ......................C=10, gamma=1, kernel=sigmoid; total time= 3.3min\n",
      "[CV] END ........................C=1, gamma=0.01, kernel=rbf; total time= 1.9min\n",
      "[CV] END ....................C=10, gamma=0.1, kernel=sigmoid; total time= 3.2min\n",
      "[CV] END .................C=0.1, gamma=0.001, kernel=sigmoid; total time= 2.1min\n",
      "[CV] END ....................C=10, gamma=0.1, kernel=sigmoid; total time= 3.1min\n",
      "[CV] END ...........................C=1, gamma=1, kernel=rbf; total time= 5.2min\n",
      "[CV] END ...........................C=1, gamma=1, kernel=rbf; total time= 5.2min\n",
      "[CV] END ...........................C=1, gamma=1, kernel=rbf; total time= 5.4min\n",
      "[CV] END ....................C=1, gamma=0.01, kernel=sigmoid; total time= 2.3min\n",
      "[CV] END .....................C=10, gamma=0.001, kernel=poly; total time= 1.8min\n",
      "[CV] END .....................C=100, gamma=0.01, kernel=poly; total time= 1.5min\n",
      "[CV] END ........................C=1, gamma=0.1, kernel=poly; total time= 4.1min\n",
      "[CV] END .....................C=100, gamma=0.01, kernel=poly; total time= 1.7min\n",
      "[CV] END .........................C=1, gamma=0.1, kernel=rbf; total time= 2.3min\n",
      "[CV] END .....................C=10, gamma=0.001, kernel=poly; total time= 1.8min\n",
      "[CV] END .....................C=100, gamma=0.01, kernel=poly; total time= 1.7min\n",
      "[CV] END ....................C=1, gamma=0.01, kernel=sigmoid; total time= 2.3min\n",
      "[CV] END ......................C=10, gamma=0.001, kernel=rbf; total time= 1.9min\n",
      "[CV] END ..................C=100, gamma=0.01, kernel=sigmoid; total time= 1.7min\n",
      "[CV] END ....................C=1, gamma=0.01, kernel=sigmoid; total time= 2.1min\n",
      "[CV] END ...................C=10, gamma=0.01, kernel=sigmoid; total time= 2.3min\n",
      "[CV] END ....................C=100, gamma=0.001, kernel=poly; total time= 1.5min\n",
      "[CV] END .................C=0.1, gamma=0.001, kernel=sigmoid; total time= 2.1min\n",
      "[CV] END .......................C=10, gamma=0.01, kernel=rbf; total time= 2.4min\n",
      "[CV] END ....................C=100, gamma=0.001, kernel=poly; total time= 1.4min\n",
      "[CV] END .........................C=0.1, gamma=1, kernel=rbf; total time= 2.1min\n",
      "[CV] END .......................C=10, gamma=0.01, kernel=rbf; total time= 2.3min\n",
      "[CV] END ....................C=100, gamma=0.001, kernel=poly; total time= 1.6min\n",
      "[CV] END ...................C=0.1, gamma=0.1, kernel=sigmoid; total time= 3.3min\n",
      "[CV] END .....................C=100, gamma=1, kernel=sigmoid; total time= 2.9min\n",
      "[CV] END ......................C=0.1, gamma=0.01, kernel=rbf; total time= 1.7min\n",
      "[CV] END ..........................C=10, gamma=1, kernel=rbf; total time= 4.5min\n",
      "[CV] END .........................C=0.1, gamma=1, kernel=rbf; total time= 2.2min\n",
      "[CV] END ......................C=10, gamma=0.001, kernel=rbf; total time= 2.0min\n",
      "[CV] END .....................C=100, gamma=0.001, kernel=rbf; total time= 2.0min\n",
      "[CV] END .....................C=1, gamma=0.1, kernel=sigmoid; total time= 3.3min\n",
      "[CV] END .....................C=100, gamma=1, kernel=sigmoid; total time= 3.0min\n",
      "[CV] END .....................C=0.1, gamma=0.01, kernel=poly; total time= 1.1min\n",
      "[CV] END .......................C=1, gamma=0.001, kernel=rbf; total time= 1.2min\n",
      "[CV] END ......................C=10, gamma=0.001, kernel=rbf; total time= 1.9min\n",
      "[CV] END ..................C=100, gamma=0.01, kernel=sigmoid; total time= 2.3min\n",
      "[CV] END .......................C=1, gamma=1, kernel=sigmoid; total time= 3.5min\n",
      "[CV] END ...................C=100, gamma=0.1, kernel=sigmoid; total time= 2.9min\n",
      "[CV] END .....................C=1, gamma=0.1, kernel=sigmoid; total time= 2.8min\n",
      "[CV] END ..................C=10, gamma=0.001, kernel=sigmoid; total time= 1.4min\n",
      "[CV] END .....................C=100, gamma=0.001, kernel=rbf; total time= 2.2min\n",
      "[CV] END .......................C=1, gamma=0.001, kernel=rbf; total time= 2.1min\n",
      "[CV] END ......................C=10, gamma=0.01, kernel=poly; total time= 1.5min\n",
      "[CV] END ...................C=100, gamma=0.1, kernel=sigmoid; total time= 2.9min\n",
      "[CV] END ..................C=0.1, gamma=0.01, kernel=sigmoid; total time= 2.1min\n",
      "[CV] END .......................C=10, gamma=0.01, kernel=rbf; total time= 2.3min\n",
      "[CV] END .....................C=100, gamma=0.001, kernel=rbf; total time= 2.1min\n",
      "[CV] END ..................C=0.1, gamma=0.01, kernel=sigmoid; total time= 2.1min\n",
      "[CV] END ......................C=10, gamma=0.01, kernel=poly; total time= 1.5min\n",
      "[CV] END ...................C=100, gamma=0.1, kernel=sigmoid; total time= 2.8min\n",
      "[CV] END .........................C=1, gamma=0.1, kernel=rbf; total time= 2.3min\n",
      "[CV] END .....................C=10, gamma=0.001, kernel=poly; total time= 1.8min\n",
      "[CV] END ..................C=100, gamma=0.01, kernel=sigmoid; total time= 2.4min\n",
      "[CV] END ........................C=1, gamma=0.01, kernel=rbf; total time= 1.6min\n",
      "[CV] END ...................C=1, gamma=0.001, kernel=sigmoid; total time= 1.8min\n",
      "[CV] END .....................C=100, gamma=1, kernel=sigmoid; total time= 3.1min\n",
      "[CV] END .........................C=1, gamma=0.1, kernel=rbf; total time= 2.2min\n",
      "[CV] END ...................C=10, gamma=0.01, kernel=sigmoid; total time= 2.4min\n",
      "[CV] END .................C=100, gamma=0.001, kernel=sigmoid; total time= 2.1min\n",
      "[CV] END .....................C=0.1, gamma=0.001, kernel=rbf; total time= 2.2min\n",
      "[CV] END ...................C=10, gamma=0.01, kernel=sigmoid; total time= 2.4min\n",
      "[CV] END .................C=100, gamma=0.001, kernel=sigmoid; total time= 2.1min\n",
      "[CV] END .......................C=1, gamma=1, kernel=sigmoid; total time= 2.9min\n",
      "[CV] END ..................C=10, gamma=0.001, kernel=sigmoid; total time= 1.8min\n",
      "[CV] END .................C=100, gamma=0.001, kernel=sigmoid; total time= 2.1min\n",
      "[CV] END .......................C=1, gamma=0.01, kernel=poly; total time= 1.7min\n",
      "[CV] END ..........................C=10, gamma=1, kernel=rbf; total time= 5.3min\n",
      "[CV] END ....................C=0.1, gamma=0.001, kernel=poly; total time= 1.7min\n",
      "[CV] END ..........................C=10, gamma=1, kernel=rbf; total time= 5.6min\n",
      "[CV] END .....................C=0.1, gamma=1, kernel=sigmoid; total time= 3.0min\n",
      "[CV] END .........................C=100, gamma=1, kernel=rbf; total time= 5.0min\n",
      "[CV] END .......................C=0.1, gamma=0.1, kernel=rbf; total time= 1.5min\n",
      "[CV] END ......................C=1, gamma=0.001, kernel=poly; total time= 1.6min\n",
      "[CV] END .........................C=100, gamma=1, kernel=rbf; total time= 5.0min\n",
      "[CV] END ...................C=0.1, gamma=0.1, kernel=sigmoid; total time= 3.2min\n",
      "[CV] END .........................C=100, gamma=1, kernel=rbf; total time= 5.4min\n",
      "[CV] END .....................C=0.1, gamma=0.001, kernel=rbf; total time= 2.1min\n",
      "[CV] END ......................C=10, gamma=0.01, kernel=poly; total time= 1.5min\n",
      "[CV] END ......................C=100, gamma=0.01, kernel=rbf; total time= 5.5min\n",
      "[CV] END ........................C=1, gamma=0.1, kernel=poly; total time= 3.8min\n",
      "[CV] END ......................C=100, gamma=0.01, kernel=rbf; total time= 5.8min\n",
      "[CV] END ........................C=1, gamma=0.1, kernel=poly; total time= 3.8min\n",
      "[CV] END ......................C=100, gamma=0.01, kernel=rbf; total time= 6.2min\n",
      "[CV] END ......................C=0.1, gamma=0.1, kernel=poly; total time= 1.9min\n",
      "[CV] END ........................C=10, gamma=0.1, kernel=rbf; total time=17.2min\n",
      "[CV] END .....................C=0.1, gamma=0.001, kernel=rbf; total time= 1.9min\n",
      "[CV] END ........................C=10, gamma=0.1, kernel=rbf; total time=17.3min\n"
     ]
    },
    {
     "name": "stdout",
     "output_type": "stream",
     "text": [
      "[CV] END ....................C=0.1, gamma=0.001, kernel=poly; total time= 1.9min\n",
      "[CV] END ........................C=10, gamma=0.1, kernel=rbf; total time=18.4min\n",
      "[CV] END ......................C=0.1, gamma=0.01, kernel=rbf; total time= 1.9min\n",
      "[CV] END .......................C=10, gamma=0.1, kernel=poly; total time=19.8min\n",
      "[CV] END ......................C=0.1, gamma=0.01, kernel=rbf; total time= 1.9min\n",
      "[CV] END .......................C=10, gamma=0.1, kernel=poly; total time=19.9min\n",
      "[CV] END ..................C=0.1, gamma=0.01, kernel=sigmoid; total time= 1.9min\n",
      "[CV] END .......................C=10, gamma=0.1, kernel=poly; total time=20.0min\n",
      "[CV] END .....................C=1, gamma=0.1, kernel=sigmoid; total time= 3.4min\n",
      "[CV] END .......................C=100, gamma=0.1, kernel=rbf; total time=60.2min\n",
      "[CV] END .....................C=0.1, gamma=1, kernel=sigmoid; total time= 3.4min\n",
      "[CV] END .......................C=100, gamma=0.1, kernel=rbf; total time=62.7min\n",
      "[CV] END .....................C=0.1, gamma=1, kernel=sigmoid; total time= 3.4min\n",
      "[CV] END .......................C=100, gamma=0.1, kernel=rbf; total time=70.2min\n",
      "[CV] END ........................C=0.1, gamma=1, kernel=poly; total time=77.9min\n",
      "[CV] END .......................C=1, gamma=0.01, kernel=poly; total time= 1.6min\n",
      "[CV] END ...................C=1, gamma=0.001, kernel=sigmoid; total time= 1.9min\n",
      "[CV] END ......................C=100, gamma=0.1, kernel=poly; total time=76.1min\n",
      "[CV] END .......................C=0.1, gamma=0.1, kernel=rbf; total time= 1.6min\n",
      "[CV] END ...................C=1, gamma=0.001, kernel=sigmoid; total time= 1.9min\n",
      "[CV] END ......................C=100, gamma=0.1, kernel=poly; total time=77.1min\n",
      "[CV] END .......................C=1, gamma=1, kernel=sigmoid; total time= 3.4min\n",
      "[CV] END ......................C=100, gamma=0.1, kernel=poly; total time=77.3min\n",
      "[CV] END ........................C=0.1, gamma=1, kernel=poly; total time=83.4min\n",
      "[CV] END ........................C=0.1, gamma=1, kernel=poly; total time=89.8min\n",
      "[CV] END .........................C=1, gamma=1, kernel=poly; total time=534.6min\n",
      "[CV] END .........................C=1, gamma=1, kernel=poly; total time=534.8min\n",
      "[CV] END .........................C=1, gamma=1, kernel=poly; total time=545.0min\n"
     ]
    },
    {
     "ename": "KeyboardInterrupt",
     "evalue": "",
     "output_type": "error",
     "traceback": [
      "\u001b[0;31m---------------------------------------------------------------------------\u001b[0m",
      "\u001b[0;31mKeyboardInterrupt\u001b[0m                         Traceback (most recent call last)",
      "Input \u001b[0;32mIn [16]\u001b[0m, in \u001b[0;36m<cell line: 5>\u001b[0;34m()\u001b[0m\n\u001b[1;32m      3\u001b[0m param_grid \u001b[38;5;241m=\u001b[39m {\u001b[38;5;124m'\u001b[39m\u001b[38;5;124mC\u001b[39m\u001b[38;5;124m'\u001b[39m: [\u001b[38;5;241m0.1\u001b[39m,\u001b[38;5;241m1\u001b[39m, \u001b[38;5;241m10\u001b[39m, \u001b[38;5;241m100\u001b[39m], \u001b[38;5;124m'\u001b[39m\u001b[38;5;124mgamma\u001b[39m\u001b[38;5;124m'\u001b[39m: [\u001b[38;5;241m1\u001b[39m,\u001b[38;5;241m0.1\u001b[39m,\u001b[38;5;241m0.01\u001b[39m,\u001b[38;5;241m0.001\u001b[39m],\u001b[38;5;124m'\u001b[39m\u001b[38;5;124mkernel\u001b[39m\u001b[38;5;124m'\u001b[39m: [\u001b[38;5;124m'\u001b[39m\u001b[38;5;124mrbf\u001b[39m\u001b[38;5;124m'\u001b[39m, \u001b[38;5;124m'\u001b[39m\u001b[38;5;124mpoly\u001b[39m\u001b[38;5;124m'\u001b[39m, \u001b[38;5;124m'\u001b[39m\u001b[38;5;124msigmoid\u001b[39m\u001b[38;5;124m'\u001b[39m]}\n\u001b[1;32m      4\u001b[0m grid \u001b[38;5;241m=\u001b[39m GridSearchCV(regressor,param_grid,refit\u001b[38;5;241m=\u001b[39m\u001b[38;5;28;01mTrue\u001b[39;00m,verbose\u001b[38;5;241m=\u001b[39m\u001b[38;5;241m2\u001b[39m,cv \u001b[38;5;241m=\u001b[39m \u001b[38;5;241m3\u001b[39m, n_jobs \u001b[38;5;241m=\u001b[39m \u001b[38;5;241m-\u001b[39m\u001b[38;5;241m1\u001b[39m)\n\u001b[0;32m----> 5\u001b[0m \u001b[43mgrid\u001b[49m\u001b[38;5;241;43m.\u001b[39;49m\u001b[43mfit\u001b[49m\u001b[43m(\u001b[49m\u001b[43mX_train\u001b[49m\u001b[43m,\u001b[49m\u001b[43my_train\u001b[49m\u001b[43m)\u001b[49m\n",
      "File \u001b[0;32m/usr/local/lib/python3.10/dist-packages/sklearn/model_selection/_search.py:875\u001b[0m, in \u001b[0;36mBaseSearchCV.fit\u001b[0;34m(self, X, y, groups, **fit_params)\u001b[0m\n\u001b[1;32m    869\u001b[0m     results \u001b[38;5;241m=\u001b[39m \u001b[38;5;28mself\u001b[39m\u001b[38;5;241m.\u001b[39m_format_results(\n\u001b[1;32m    870\u001b[0m         all_candidate_params, n_splits, all_out, all_more_results\n\u001b[1;32m    871\u001b[0m     )\n\u001b[1;32m    873\u001b[0m     \u001b[38;5;28;01mreturn\u001b[39;00m results\n\u001b[0;32m--> 875\u001b[0m \u001b[38;5;28;43mself\u001b[39;49m\u001b[38;5;241;43m.\u001b[39;49m\u001b[43m_run_search\u001b[49m\u001b[43m(\u001b[49m\u001b[43mevaluate_candidates\u001b[49m\u001b[43m)\u001b[49m\n\u001b[1;32m    877\u001b[0m \u001b[38;5;66;03m# multimetric is determined here because in the case of a callable\u001b[39;00m\n\u001b[1;32m    878\u001b[0m \u001b[38;5;66;03m# self.scoring the return type is only known after calling\u001b[39;00m\n\u001b[1;32m    879\u001b[0m first_test_score \u001b[38;5;241m=\u001b[39m all_out[\u001b[38;5;241m0\u001b[39m][\u001b[38;5;124m\"\u001b[39m\u001b[38;5;124mtest_scores\u001b[39m\u001b[38;5;124m\"\u001b[39m]\n",
      "File \u001b[0;32m/usr/local/lib/python3.10/dist-packages/sklearn/model_selection/_search.py:1379\u001b[0m, in \u001b[0;36mGridSearchCV._run_search\u001b[0;34m(self, evaluate_candidates)\u001b[0m\n\u001b[1;32m   1377\u001b[0m \u001b[38;5;28;01mdef\u001b[39;00m \u001b[38;5;21m_run_search\u001b[39m(\u001b[38;5;28mself\u001b[39m, evaluate_candidates):\n\u001b[1;32m   1378\u001b[0m     \u001b[38;5;124;03m\"\"\"Search all candidates in param_grid\"\"\"\u001b[39;00m\n\u001b[0;32m-> 1379\u001b[0m     \u001b[43mevaluate_candidates\u001b[49m\u001b[43m(\u001b[49m\u001b[43mParameterGrid\u001b[49m\u001b[43m(\u001b[49m\u001b[38;5;28;43mself\u001b[39;49m\u001b[38;5;241;43m.\u001b[39;49m\u001b[43mparam_grid\u001b[49m\u001b[43m)\u001b[49m\u001b[43m)\u001b[49m\n",
      "File \u001b[0;32m/usr/local/lib/python3.10/dist-packages/sklearn/model_selection/_search.py:822\u001b[0m, in \u001b[0;36mBaseSearchCV.fit.<locals>.evaluate_candidates\u001b[0;34m(candidate_params, cv, more_results)\u001b[0m\n\u001b[1;32m    814\u001b[0m \u001b[38;5;28;01mif\u001b[39;00m \u001b[38;5;28mself\u001b[39m\u001b[38;5;241m.\u001b[39mverbose \u001b[38;5;241m>\u001b[39m \u001b[38;5;241m0\u001b[39m:\n\u001b[1;32m    815\u001b[0m     \u001b[38;5;28mprint\u001b[39m(\n\u001b[1;32m    816\u001b[0m         \u001b[38;5;124m\"\u001b[39m\u001b[38;5;124mFitting \u001b[39m\u001b[38;5;132;01m{0}\u001b[39;00m\u001b[38;5;124m folds for each of \u001b[39m\u001b[38;5;132;01m{1}\u001b[39;00m\u001b[38;5;124m candidates,\u001b[39m\u001b[38;5;124m\"\u001b[39m\n\u001b[1;32m    817\u001b[0m         \u001b[38;5;124m\"\u001b[39m\u001b[38;5;124m totalling \u001b[39m\u001b[38;5;132;01m{2}\u001b[39;00m\u001b[38;5;124m fits\u001b[39m\u001b[38;5;124m\"\u001b[39m\u001b[38;5;241m.\u001b[39mformat(\n\u001b[1;32m    818\u001b[0m             n_splits, n_candidates, n_candidates \u001b[38;5;241m*\u001b[39m n_splits\n\u001b[1;32m    819\u001b[0m         )\n\u001b[1;32m    820\u001b[0m     )\n\u001b[0;32m--> 822\u001b[0m out \u001b[38;5;241m=\u001b[39m \u001b[43mparallel\u001b[49m\u001b[43m(\u001b[49m\n\u001b[1;32m    823\u001b[0m \u001b[43m    \u001b[49m\u001b[43mdelayed\u001b[49m\u001b[43m(\u001b[49m\u001b[43m_fit_and_score\u001b[49m\u001b[43m)\u001b[49m\u001b[43m(\u001b[49m\n\u001b[1;32m    824\u001b[0m \u001b[43m        \u001b[49m\u001b[43mclone\u001b[49m\u001b[43m(\u001b[49m\u001b[43mbase_estimator\u001b[49m\u001b[43m)\u001b[49m\u001b[43m,\u001b[49m\n\u001b[1;32m    825\u001b[0m \u001b[43m        \u001b[49m\u001b[43mX\u001b[49m\u001b[43m,\u001b[49m\n\u001b[1;32m    826\u001b[0m \u001b[43m        \u001b[49m\u001b[43my\u001b[49m\u001b[43m,\u001b[49m\n\u001b[1;32m    827\u001b[0m \u001b[43m        \u001b[49m\u001b[43mtrain\u001b[49m\u001b[38;5;241;43m=\u001b[39;49m\u001b[43mtrain\u001b[49m\u001b[43m,\u001b[49m\n\u001b[1;32m    828\u001b[0m \u001b[43m        \u001b[49m\u001b[43mtest\u001b[49m\u001b[38;5;241;43m=\u001b[39;49m\u001b[43mtest\u001b[49m\u001b[43m,\u001b[49m\n\u001b[1;32m    829\u001b[0m \u001b[43m        \u001b[49m\u001b[43mparameters\u001b[49m\u001b[38;5;241;43m=\u001b[39;49m\u001b[43mparameters\u001b[49m\u001b[43m,\u001b[49m\n\u001b[1;32m    830\u001b[0m \u001b[43m        \u001b[49m\u001b[43msplit_progress\u001b[49m\u001b[38;5;241;43m=\u001b[39;49m\u001b[43m(\u001b[49m\u001b[43msplit_idx\u001b[49m\u001b[43m,\u001b[49m\u001b[43m \u001b[49m\u001b[43mn_splits\u001b[49m\u001b[43m)\u001b[49m\u001b[43m,\u001b[49m\n\u001b[1;32m    831\u001b[0m \u001b[43m        \u001b[49m\u001b[43mcandidate_progress\u001b[49m\u001b[38;5;241;43m=\u001b[39;49m\u001b[43m(\u001b[49m\u001b[43mcand_idx\u001b[49m\u001b[43m,\u001b[49m\u001b[43m \u001b[49m\u001b[43mn_candidates\u001b[49m\u001b[43m)\u001b[49m\u001b[43m,\u001b[49m\n\u001b[1;32m    832\u001b[0m \u001b[43m        \u001b[49m\u001b[38;5;241;43m*\u001b[39;49m\u001b[38;5;241;43m*\u001b[39;49m\u001b[43mfit_and_score_kwargs\u001b[49m\u001b[43m,\u001b[49m\n\u001b[1;32m    833\u001b[0m \u001b[43m    \u001b[49m\u001b[43m)\u001b[49m\n\u001b[1;32m    834\u001b[0m \u001b[43m    \u001b[49m\u001b[38;5;28;43;01mfor\u001b[39;49;00m\u001b[43m \u001b[49m\u001b[43m(\u001b[49m\u001b[43mcand_idx\u001b[49m\u001b[43m,\u001b[49m\u001b[43m \u001b[49m\u001b[43mparameters\u001b[49m\u001b[43m)\u001b[49m\u001b[43m,\u001b[49m\u001b[43m \u001b[49m\u001b[43m(\u001b[49m\u001b[43msplit_idx\u001b[49m\u001b[43m,\u001b[49m\u001b[43m \u001b[49m\u001b[43m(\u001b[49m\u001b[43mtrain\u001b[49m\u001b[43m,\u001b[49m\u001b[43m \u001b[49m\u001b[43mtest\u001b[49m\u001b[43m)\u001b[49m\u001b[43m)\u001b[49m\u001b[43m \u001b[49m\u001b[38;5;129;43;01min\u001b[39;49;00m\u001b[43m \u001b[49m\u001b[43mproduct\u001b[49m\u001b[43m(\u001b[49m\n\u001b[1;32m    835\u001b[0m \u001b[43m        \u001b[49m\u001b[38;5;28;43menumerate\u001b[39;49m\u001b[43m(\u001b[49m\u001b[43mcandidate_params\u001b[49m\u001b[43m)\u001b[49m\u001b[43m,\u001b[49m\u001b[43m \u001b[49m\u001b[38;5;28;43menumerate\u001b[39;49m\u001b[43m(\u001b[49m\u001b[43mcv\u001b[49m\u001b[38;5;241;43m.\u001b[39;49m\u001b[43msplit\u001b[49m\u001b[43m(\u001b[49m\u001b[43mX\u001b[49m\u001b[43m,\u001b[49m\u001b[43m \u001b[49m\u001b[43my\u001b[49m\u001b[43m,\u001b[49m\u001b[43m \u001b[49m\u001b[43mgroups\u001b[49m\u001b[43m)\u001b[49m\u001b[43m)\u001b[49m\n\u001b[1;32m    836\u001b[0m \u001b[43m    \u001b[49m\u001b[43m)\u001b[49m\n\u001b[1;32m    837\u001b[0m \u001b[43m\u001b[49m\u001b[43m)\u001b[49m\n\u001b[1;32m    839\u001b[0m \u001b[38;5;28;01mif\u001b[39;00m \u001b[38;5;28mlen\u001b[39m(out) \u001b[38;5;241m<\u001b[39m \u001b[38;5;241m1\u001b[39m:\n\u001b[1;32m    840\u001b[0m     \u001b[38;5;28;01mraise\u001b[39;00m \u001b[38;5;167;01mValueError\u001b[39;00m(\n\u001b[1;32m    841\u001b[0m         \u001b[38;5;124m\"\u001b[39m\u001b[38;5;124mNo fits were performed. \u001b[39m\u001b[38;5;124m\"\u001b[39m\n\u001b[1;32m    842\u001b[0m         \u001b[38;5;124m\"\u001b[39m\u001b[38;5;124mWas the CV iterator empty? \u001b[39m\u001b[38;5;124m\"\u001b[39m\n\u001b[1;32m    843\u001b[0m         \u001b[38;5;124m\"\u001b[39m\u001b[38;5;124mWere there no candidates?\u001b[39m\u001b[38;5;124m\"\u001b[39m\n\u001b[1;32m    844\u001b[0m     )\n",
      "File \u001b[0;32m/usr/local/lib/python3.10/dist-packages/joblib/parallel.py:1056\u001b[0m, in \u001b[0;36mParallel.__call__\u001b[0;34m(self, iterable)\u001b[0m\n\u001b[1;32m   1053\u001b[0m     \u001b[38;5;28mself\u001b[39m\u001b[38;5;241m.\u001b[39m_iterating \u001b[38;5;241m=\u001b[39m \u001b[38;5;28;01mFalse\u001b[39;00m\n\u001b[1;32m   1055\u001b[0m \u001b[38;5;28;01mwith\u001b[39;00m \u001b[38;5;28mself\u001b[39m\u001b[38;5;241m.\u001b[39m_backend\u001b[38;5;241m.\u001b[39mretrieval_context():\n\u001b[0;32m-> 1056\u001b[0m     \u001b[38;5;28;43mself\u001b[39;49m\u001b[38;5;241;43m.\u001b[39;49m\u001b[43mretrieve\u001b[49m\u001b[43m(\u001b[49m\u001b[43m)\u001b[49m\n\u001b[1;32m   1057\u001b[0m \u001b[38;5;66;03m# Make sure that we get a last message telling us we are done\u001b[39;00m\n\u001b[1;32m   1058\u001b[0m elapsed_time \u001b[38;5;241m=\u001b[39m time\u001b[38;5;241m.\u001b[39mtime() \u001b[38;5;241m-\u001b[39m \u001b[38;5;28mself\u001b[39m\u001b[38;5;241m.\u001b[39m_start_time\n",
      "File \u001b[0;32m/usr/local/lib/python3.10/dist-packages/joblib/parallel.py:935\u001b[0m, in \u001b[0;36mParallel.retrieve\u001b[0;34m(self)\u001b[0m\n\u001b[1;32m    933\u001b[0m \u001b[38;5;28;01mtry\u001b[39;00m:\n\u001b[1;32m    934\u001b[0m     \u001b[38;5;28;01mif\u001b[39;00m \u001b[38;5;28mgetattr\u001b[39m(\u001b[38;5;28mself\u001b[39m\u001b[38;5;241m.\u001b[39m_backend, \u001b[38;5;124m'\u001b[39m\u001b[38;5;124msupports_timeout\u001b[39m\u001b[38;5;124m'\u001b[39m, \u001b[38;5;28;01mFalse\u001b[39;00m):\n\u001b[0;32m--> 935\u001b[0m         \u001b[38;5;28mself\u001b[39m\u001b[38;5;241m.\u001b[39m_output\u001b[38;5;241m.\u001b[39mextend(\u001b[43mjob\u001b[49m\u001b[38;5;241;43m.\u001b[39;49m\u001b[43mget\u001b[49m\u001b[43m(\u001b[49m\u001b[43mtimeout\u001b[49m\u001b[38;5;241;43m=\u001b[39;49m\u001b[38;5;28;43mself\u001b[39;49m\u001b[38;5;241;43m.\u001b[39;49m\u001b[43mtimeout\u001b[49m\u001b[43m)\u001b[49m)\n\u001b[1;32m    936\u001b[0m     \u001b[38;5;28;01melse\u001b[39;00m:\n\u001b[1;32m    937\u001b[0m         \u001b[38;5;28mself\u001b[39m\u001b[38;5;241m.\u001b[39m_output\u001b[38;5;241m.\u001b[39mextend(job\u001b[38;5;241m.\u001b[39mget())\n",
      "File \u001b[0;32m/usr/local/lib/python3.10/dist-packages/joblib/_parallel_backends.py:542\u001b[0m, in \u001b[0;36mLokyBackend.wrap_future_result\u001b[0;34m(future, timeout)\u001b[0m\n\u001b[1;32m    539\u001b[0m \u001b[38;5;124;03m\"\"\"Wrapper for Future.result to implement the same behaviour as\u001b[39;00m\n\u001b[1;32m    540\u001b[0m \u001b[38;5;124;03mAsyncResults.get from multiprocessing.\"\"\"\u001b[39;00m\n\u001b[1;32m    541\u001b[0m \u001b[38;5;28;01mtry\u001b[39;00m:\n\u001b[0;32m--> 542\u001b[0m     \u001b[38;5;28;01mreturn\u001b[39;00m \u001b[43mfuture\u001b[49m\u001b[38;5;241;43m.\u001b[39;49m\u001b[43mresult\u001b[49m\u001b[43m(\u001b[49m\u001b[43mtimeout\u001b[49m\u001b[38;5;241;43m=\u001b[39;49m\u001b[43mtimeout\u001b[49m\u001b[43m)\u001b[49m\n\u001b[1;32m    543\u001b[0m \u001b[38;5;28;01mexcept\u001b[39;00m CfTimeoutError \u001b[38;5;28;01mas\u001b[39;00m e:\n\u001b[1;32m    544\u001b[0m     \u001b[38;5;28;01mraise\u001b[39;00m \u001b[38;5;167;01mTimeoutError\u001b[39;00m \u001b[38;5;28;01mfrom\u001b[39;00m \u001b[38;5;21;01me\u001b[39;00m\n",
      "File \u001b[0;32m/usr/lib/python3.10/concurrent/futures/_base.py:453\u001b[0m, in \u001b[0;36mFuture.result\u001b[0;34m(self, timeout)\u001b[0m\n\u001b[1;32m    450\u001b[0m \u001b[38;5;28;01melif\u001b[39;00m \u001b[38;5;28mself\u001b[39m\u001b[38;5;241m.\u001b[39m_state \u001b[38;5;241m==\u001b[39m FINISHED:\n\u001b[1;32m    451\u001b[0m     \u001b[38;5;28;01mreturn\u001b[39;00m \u001b[38;5;28mself\u001b[39m\u001b[38;5;241m.\u001b[39m__get_result()\n\u001b[0;32m--> 453\u001b[0m \u001b[38;5;28;43mself\u001b[39;49m\u001b[38;5;241;43m.\u001b[39;49m\u001b[43m_condition\u001b[49m\u001b[38;5;241;43m.\u001b[39;49m\u001b[43mwait\u001b[49m\u001b[43m(\u001b[49m\u001b[43mtimeout\u001b[49m\u001b[43m)\u001b[49m\n\u001b[1;32m    455\u001b[0m \u001b[38;5;28;01mif\u001b[39;00m \u001b[38;5;28mself\u001b[39m\u001b[38;5;241m.\u001b[39m_state \u001b[38;5;129;01min\u001b[39;00m [CANCELLED, CANCELLED_AND_NOTIFIED]:\n\u001b[1;32m    456\u001b[0m     \u001b[38;5;28;01mraise\u001b[39;00m CancelledError()\n",
      "File \u001b[0;32m/usr/lib/python3.10/threading.py:320\u001b[0m, in \u001b[0;36mCondition.wait\u001b[0;34m(self, timeout)\u001b[0m\n\u001b[1;32m    318\u001b[0m \u001b[38;5;28;01mtry\u001b[39;00m:    \u001b[38;5;66;03m# restore state no matter what (e.g., KeyboardInterrupt)\u001b[39;00m\n\u001b[1;32m    319\u001b[0m     \u001b[38;5;28;01mif\u001b[39;00m timeout \u001b[38;5;129;01mis\u001b[39;00m \u001b[38;5;28;01mNone\u001b[39;00m:\n\u001b[0;32m--> 320\u001b[0m         \u001b[43mwaiter\u001b[49m\u001b[38;5;241;43m.\u001b[39;49m\u001b[43macquire\u001b[49m\u001b[43m(\u001b[49m\u001b[43m)\u001b[49m\n\u001b[1;32m    321\u001b[0m         gotit \u001b[38;5;241m=\u001b[39m \u001b[38;5;28;01mTrue\u001b[39;00m\n\u001b[1;32m    322\u001b[0m     \u001b[38;5;28;01melse\u001b[39;00m:\n",
      "\u001b[0;31mKeyboardInterrupt\u001b[0m: "
     ]
    }
   ],
   "source": [
    "# defining parameter range\n",
    "from sklearn.model_selection import GridSearchCV\n",
    "param_grid = {'C': [0.1,1, 10, 100], 'gamma': [1,0.1,0.01,0.001],'kernel': ['rbf', 'poly', 'sigmoid']}\n",
    "grid = GridSearchCV(regressor,param_grid,refit=True,verbose=2,cv = 3, n_jobs = -1)\n",
    "grid.fit(X_train,y_train)"
   ]
  },
  {
   "cell_type": "markdown",
   "id": "VrTmpYSJ6JHz",
   "metadata": {
    "id": "VrTmpYSJ6JHz"
   },
   "source": [
    "#### Predicting Results"
   ]
  },
  {
   "cell_type": "code",
   "execution_count": null,
   "id": "_qLddrM3axYn",
   "metadata": {
    "id": "_qLddrM3axYn"
   },
   "outputs": [],
   "source": [
    "from sklearn.preprocessing import StandardScaler\n",
    "y_pred = grid.predict(X_test)\n",
    "np.set_printoptions(precision=2)\n",
    "print(np.concatenate((y_pred.reshape(len(y_pred),1), y_test.reshape(len(y_test),1)),1))"
   ]
  },
  {
   "cell_type": "markdown",
   "id": "HAVlWr4n6Ljp",
   "metadata": {
    "id": "HAVlWr4n6Ljp"
   },
   "source": [
    "#### Evaluating Model"
   ]
  },
  {
   "cell_type": "code",
   "execution_count": null,
   "id": "6f29cf6e",
   "metadata": {
    "id": "6f29cf6e"
   },
   "outputs": [],
   "source": [
    "from sklearn.metrics import r2_score\n",
    "print('MAE:', metrics.mean_absolute_error(y_test,y_pred))\n",
    "print('MSE:', metrics.mean_squared_error(y_test, y_pred))\n",
    "print('RMSE:', np.sqrt(metrics.mean_squared_error(y_test, y_pred)))\n",
    "print(\"R squared value: \",r2_score(y_test, y_pred))"
   ]
  },
  {
   "cell_type": "markdown",
   "id": "I40wlbpECR6r",
   "metadata": {
    "id": "I40wlbpECR6r"
   },
   "source": [
    "#### Plotting the results"
   ]
  },
  {
   "cell_type": "code",
   "execution_count": null,
   "id": "8u3ppAJUCUpm",
   "metadata": {
    "id": "8u3ppAJUCUpm"
   },
   "outputs": [],
   "source": [
    "import seaborn as sns\n",
    "plt.figure(figsize=(7,5))\n",
    "sns.regplot(x=y_test,y=y_pred,ci=None,color ='red');\n",
    "plt.title('Support Vector Regression with Grid Search')\n",
    "plt.xlabel('Actual Values')\n",
    "plt.ylabel('Predicted Values')"
   ]
  },
  {
   "cell_type": "code",
   "execution_count": null,
   "id": "443e5131",
   "metadata": {},
   "outputs": [],
   "source": []
  }
 ],
 "metadata": {
  "accelerator": "GPU",
  "colab": {
   "collapsed_sections": [
    "bc7a610b"
   ],
   "provenance": [
    {
     "file_id": "1TAmS-veAYgTcypLeyKeyF4ek1-Onp0ai",
     "timestamp": 1670610965976
    }
   ]
  },
  "gpuClass": "standard",
  "kernelspec": {
   "display_name": "Python 3 (ipykernel)",
   "language": "python",
   "name": "python3"
  },
  "language_info": {
   "codemirror_mode": {
    "name": "ipython",
    "version": 3
   },
   "file_extension": ".py",
   "mimetype": "text/x-python",
   "name": "python",
   "nbconvert_exporter": "python",
   "pygments_lexer": "ipython3",
   "version": "3.10.6"
  }
 },
 "nbformat": 4,
 "nbformat_minor": 5
}
