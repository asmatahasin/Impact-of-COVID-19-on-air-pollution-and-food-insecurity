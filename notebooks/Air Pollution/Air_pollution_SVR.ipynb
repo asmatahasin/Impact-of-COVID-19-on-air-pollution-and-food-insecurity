{
 "cells": [
  {
   "cell_type": "markdown",
   "id": "abe95f20",
   "metadata": {
    "id": "abe95f20"
   },
   "source": [
    "# Model Building"
   ]
  },
  {
   "cell_type": "markdown",
   "id": "bc7a610b",
   "metadata": {
    "id": "bc7a610b"
   },
   "source": [
    "## Importing the libraries"
   ]
  },
  {
   "cell_type": "code",
   "execution_count": 1,
   "id": "e581ce10",
   "metadata": {
    "id": "e581ce10"
   },
   "outputs": [],
   "source": [
    "import pandas as pd\n",
    "import numpy as np\n",
    "import matplotlib.pyplot as plt\n",
    "from sklearn.linear_model import LinearRegression\n",
    "from sklearn import metrics\n",
    "from sklearn.preprocessing import StandardScaler\n",
    "from sklearn.model_selection import GridSearchCV\n",
    "from sklearn.model_selection import train_test_split\n",
    "from sklearn.model_selection import KFold\n",
    "from sklearn.model_selection import cross_val_score\n",
    "from sklearn.model_selection import cross_validate\n",
    "from sklearn.linear_model import LinearRegression\n",
    "from numpy import mean\n",
    "from numpy import absolute\n",
    "from numpy import sqrt\n",
    "import pandas as pd"
   ]
  },
  {
   "cell_type": "markdown",
   "id": "76ffdbf4",
   "metadata": {
    "id": "76ffdbf4"
   },
   "source": [
    "## Importing the dataset"
   ]
  },
  {
   "cell_type": "code",
   "execution_count": 2,
   "id": "302d67ed",
   "metadata": {
    "colab": {
     "base_uri": "https://localhost:8080/",
     "height": 409
    },
    "executionInfo": {
     "elapsed": 141,
     "status": "ok",
     "timestamp": 1670563882112,
     "user": {
      "displayName": "DINESH VENNAPOOSA",
      "userId": "13127725035450374536"
     },
     "user_tz": 300
    },
    "id": "302d67ed",
    "outputId": "75bb645b-7917-450d-e1ca-385a7f395318"
   },
   "outputs": [
    {
     "data": {
      "text/html": [
       "<div>\n",
       "<style scoped>\n",
       "    .dataframe tbody tr th:only-of-type {\n",
       "        vertical-align: middle;\n",
       "    }\n",
       "\n",
       "    .dataframe tbody tr th {\n",
       "        vertical-align: top;\n",
       "    }\n",
       "\n",
       "    .dataframe thead th {\n",
       "        text-align: right;\n",
       "    }\n",
       "</style>\n",
       "<table border=\"1\" class=\"dataframe\">\n",
       "  <thead>\n",
       "    <tr style=\"text-align: right;\">\n",
       "      <th></th>\n",
       "      <th>Date</th>\n",
       "      <th>State Name</th>\n",
       "      <th>New Covid Cases</th>\n",
       "      <th>Population Staying at Home</th>\n",
       "      <th>Population Not Staying at Home</th>\n",
       "      <th>Number of Trips</th>\n",
       "      <th>pm10_mean</th>\n",
       "      <th>pm25_mean</th>\n",
       "      <th>co_mean</th>\n",
       "      <th>no2_mean</th>\n",
       "      <th>o3_mean</th>\n",
       "      <th>so2_mean</th>\n",
       "      <th>press_mean</th>\n",
       "      <th>rh_mean</th>\n",
       "      <th>temp_mean</th>\n",
       "      <th>wind_mean</th>\n",
       "      <th>AQI</th>\n",
       "      <th>Category</th>\n",
       "    </tr>\n",
       "  </thead>\n",
       "  <tbody>\n",
       "    <tr>\n",
       "      <th>0</th>\n",
       "      <td>2020-01-01</td>\n",
       "      <td>Alabama</td>\n",
       "      <td>0.0</td>\n",
       "      <td>859.830216</td>\n",
       "      <td>1710.371305</td>\n",
       "      <td>3245.716331</td>\n",
       "      <td>3.535534</td>\n",
       "      <td>2.868094</td>\n",
       "      <td>0.543782</td>\n",
       "      <td>4.046470</td>\n",
       "      <td>0.033676</td>\n",
       "      <td>0.951766</td>\n",
       "      <td>3.799426e+36</td>\n",
       "      <td>223.283219</td>\n",
       "      <td>48.435555</td>\n",
       "      <td>92.363889</td>\n",
       "      <td>6.055301</td>\n",
       "      <td>Good</td>\n",
       "    </tr>\n",
       "    <tr>\n",
       "      <th>1</th>\n",
       "      <td>2020-01-01</td>\n",
       "      <td>California</td>\n",
       "      <td>0.0</td>\n",
       "      <td>1161.114551</td>\n",
       "      <td>2234.236335</td>\n",
       "      <td>4629.817437</td>\n",
       "      <td>4.197069</td>\n",
       "      <td>3.454464</td>\n",
       "      <td>0.639386</td>\n",
       "      <td>3.185928</td>\n",
       "      <td>0.022262</td>\n",
       "      <td>0.755213</td>\n",
       "      <td>2.689899e+36</td>\n",
       "      <td>318.449161</td>\n",
       "      <td>49.710225</td>\n",
       "      <td>93.809963</td>\n",
       "      <td>7.440329</td>\n",
       "      <td>Moderate</td>\n",
       "    </tr>\n",
       "    <tr>\n",
       "      <th>2</th>\n",
       "      <td>2020-01-01</td>\n",
       "      <td>Colorado</td>\n",
       "      <td>0.0</td>\n",
       "      <td>766.009791</td>\n",
       "      <td>1408.948899</td>\n",
       "      <td>2977.793038</td>\n",
       "      <td>3.201562</td>\n",
       "      <td>2.187598</td>\n",
       "      <td>0.570414</td>\n",
       "      <td>3.518695</td>\n",
       "      <td>0.038290</td>\n",
       "      <td>1.050116</td>\n",
       "      <td>5.285798e+35</td>\n",
       "      <td>327.386469</td>\n",
       "      <td>31.375000</td>\n",
       "      <td>113.998580</td>\n",
       "      <td>5.524357</td>\n",
       "      <td>Good</td>\n",
       "    </tr>\n",
       "    <tr>\n",
       "      <th>3</th>\n",
       "      <td>2020-01-01</td>\n",
       "      <td>Connecticut</td>\n",
       "      <td>0.0</td>\n",
       "      <td>499.490741</td>\n",
       "      <td>975.321998</td>\n",
       "      <td>1965.252528</td>\n",
       "      <td>2.280351</td>\n",
       "      <td>1.762456</td>\n",
       "      <td>0.439804</td>\n",
       "      <td>2.559934</td>\n",
       "      <td>0.024059</td>\n",
       "      <td>0.325265</td>\n",
       "      <td>3.405333e+36</td>\n",
       "      <td>195.157135</td>\n",
       "      <td>37.482143</td>\n",
       "      <td>135.210606</td>\n",
       "      <td>4.708149</td>\n",
       "      <td>Good</td>\n",
       "    </tr>\n",
       "    <tr>\n",
       "      <th>4</th>\n",
       "      <td>2020-01-01</td>\n",
       "      <td>Florida</td>\n",
       "      <td>0.0</td>\n",
       "      <td>1160.936691</td>\n",
       "      <td>2275.216913</td>\n",
       "      <td>4589.595448</td>\n",
       "      <td>4.427189</td>\n",
       "      <td>3.655956</td>\n",
       "      <td>0.556034</td>\n",
       "      <td>3.329852</td>\n",
       "      <td>0.030658</td>\n",
       "      <td>1.010231</td>\n",
       "      <td>4.687015e+36</td>\n",
       "      <td>343.042315</td>\n",
       "      <td>61.408333</td>\n",
       "      <td>102.174306</td>\n",
       "      <td>6.786109</td>\n",
       "      <td>Good</td>\n",
       "    </tr>\n",
       "  </tbody>\n",
       "</table>\n",
       "</div>"
      ],
      "text/plain": [
       "         Date   State Name  New Covid Cases  Population Staying at Home  \\\n",
       "0  2020-01-01      Alabama              0.0                  859.830216   \n",
       "1  2020-01-01   California              0.0                 1161.114551   \n",
       "2  2020-01-01     Colorado              0.0                  766.009791   \n",
       "3  2020-01-01  Connecticut              0.0                  499.490741   \n",
       "4  2020-01-01      Florida              0.0                 1160.936691   \n",
       "\n",
       "   Population Not Staying at Home  Number of Trips  pm10_mean  pm25_mean  \\\n",
       "0                     1710.371305      3245.716331   3.535534   2.868094   \n",
       "1                     2234.236335      4629.817437   4.197069   3.454464   \n",
       "2                     1408.948899      2977.793038   3.201562   2.187598   \n",
       "3                      975.321998      1965.252528   2.280351   1.762456   \n",
       "4                     2275.216913      4589.595448   4.427189   3.655956   \n",
       "\n",
       "    co_mean  no2_mean   o3_mean  so2_mean    press_mean     rh_mean  \\\n",
       "0  0.543782  4.046470  0.033676  0.951766  3.799426e+36  223.283219   \n",
       "1  0.639386  3.185928  0.022262  0.755213  2.689899e+36  318.449161   \n",
       "2  0.570414  3.518695  0.038290  1.050116  5.285798e+35  327.386469   \n",
       "3  0.439804  2.559934  0.024059  0.325265  3.405333e+36  195.157135   \n",
       "4  0.556034  3.329852  0.030658  1.010231  4.687015e+36  343.042315   \n",
       "\n",
       "   temp_mean   wind_mean       AQI  Category  \n",
       "0  48.435555   92.363889  6.055301      Good  \n",
       "1  49.710225   93.809963  7.440329  Moderate  \n",
       "2  31.375000  113.998580  5.524357      Good  \n",
       "3  37.482143  135.210606  4.708149      Good  \n",
       "4  61.408333  102.174306  6.786109      Good  "
      ]
     },
     "execution_count": 2,
     "metadata": {},
     "output_type": "execute_result"
    }
   ],
   "source": [
    "poll_df = pd.read_csv('air_pollution_gauss_cleaned.csv') # Loading normally or gaussian distributed data\n",
    "poll_df.head()"
   ]
  },
  {
   "cell_type": "markdown",
   "id": "194a82d7",
   "metadata": {
    "id": "194a82d7"
   },
   "source": [
    "## Normalization and Scaling of Data"
   ]
  },
  {
   "cell_type": "code",
   "execution_count": 3,
   "id": "3e932d2d",
   "metadata": {
    "colab": {
     "base_uri": "https://localhost:8080/"
    },
    "executionInfo": {
     "elapsed": 158,
     "status": "ok",
     "timestamp": 1670563885153,
     "user": {
      "displayName": "DINESH VENNAPOOSA",
      "userId": "13127725035450374536"
     },
     "user_tz": 300
    },
    "id": "3e932d2d",
    "outputId": "893f5934-38ce-4ecf-d39e-c4075fc09d09"
   },
   "outputs": [
    {
     "data": {
      "text/plain": [
       "Index(['Date', 'State Name', 'New Covid Cases', 'Population Staying at Home',\n",
       "       'Population Not Staying at Home', 'Number of Trips', 'pm10_mean',\n",
       "       'pm25_mean', 'co_mean', 'no2_mean', 'o3_mean', 'so2_mean', 'press_mean',\n",
       "       'rh_mean', 'temp_mean', 'wind_mean', 'AQI', 'Category'],\n",
       "      dtype='object')"
      ]
     },
     "execution_count": 3,
     "metadata": {},
     "output_type": "execute_result"
    }
   ],
   "source": [
    "poll_df.columns"
   ]
  },
  {
   "cell_type": "code",
   "execution_count": 4,
   "id": "e2c1325f",
   "metadata": {
    "id": "e2c1325f"
   },
   "outputs": [],
   "source": [
    "# from sklearn.preprocessing import StandardScaler\n",
    "# continous_features = ['New Covid Cases', 'Population Staying at Home',\n",
    "#        'Population Not Staying at Home', 'Number of Trips', 'pm10_mean',\n",
    "#        'pm25_mean', 'co_mean', 'no2_mean', 'o3_mean', 'so2_mean', 'press_mean',\n",
    "#        'rh_mean', 'temp_mean', 'wind_mean', 'AQI']\n",
    "\n",
    "# stdScale = StandardScaler()\n",
    "# for col_name in continous_features:\n",
    "#     poll_df[col_name] = stdScale.fit_transform(poll_df[[col_name]])"
   ]
  },
  {
   "cell_type": "code",
   "execution_count": 5,
   "id": "49c8d168",
   "metadata": {
    "colab": {
     "base_uri": "https://localhost:8080/",
     "height": 409
    },
    "executionInfo": {
     "elapsed": 161,
     "status": "ok",
     "timestamp": 1670563911708,
     "user": {
      "displayName": "DINESH VENNAPOOSA",
      "userId": "13127725035450374536"
     },
     "user_tz": 300
    },
    "id": "49c8d168",
    "outputId": "b9a90d9e-7b12-415b-dd3b-68a989da2d15"
   },
   "outputs": [
    {
     "data": {
      "text/html": [
       "<div>\n",
       "<style scoped>\n",
       "    .dataframe tbody tr th:only-of-type {\n",
       "        vertical-align: middle;\n",
       "    }\n",
       "\n",
       "    .dataframe tbody tr th {\n",
       "        vertical-align: top;\n",
       "    }\n",
       "\n",
       "    .dataframe thead th {\n",
       "        text-align: right;\n",
       "    }\n",
       "</style>\n",
       "<table border=\"1\" class=\"dataframe\">\n",
       "  <thead>\n",
       "    <tr style=\"text-align: right;\">\n",
       "      <th></th>\n",
       "      <th>Date</th>\n",
       "      <th>State Name</th>\n",
       "      <th>New Covid Cases</th>\n",
       "      <th>Population Staying at Home</th>\n",
       "      <th>Population Not Staying at Home</th>\n",
       "      <th>Number of Trips</th>\n",
       "      <th>pm10_mean</th>\n",
       "      <th>pm25_mean</th>\n",
       "      <th>co_mean</th>\n",
       "      <th>no2_mean</th>\n",
       "      <th>o3_mean</th>\n",
       "      <th>so2_mean</th>\n",
       "      <th>press_mean</th>\n",
       "      <th>rh_mean</th>\n",
       "      <th>temp_mean</th>\n",
       "      <th>wind_mean</th>\n",
       "      <th>AQI</th>\n",
       "      <th>Category</th>\n",
       "    </tr>\n",
       "  </thead>\n",
       "  <tbody>\n",
       "    <tr>\n",
       "      <th>0</th>\n",
       "      <td>2020-01-01</td>\n",
       "      <td>Alabama</td>\n",
       "      <td>0.0</td>\n",
       "      <td>859.830216</td>\n",
       "      <td>1710.371305</td>\n",
       "      <td>3245.716331</td>\n",
       "      <td>3.535534</td>\n",
       "      <td>2.868094</td>\n",
       "      <td>0.543782</td>\n",
       "      <td>4.046470</td>\n",
       "      <td>0.033676</td>\n",
       "      <td>0.951766</td>\n",
       "      <td>3.799426e+36</td>\n",
       "      <td>223.283219</td>\n",
       "      <td>48.435555</td>\n",
       "      <td>92.363889</td>\n",
       "      <td>6.055301</td>\n",
       "      <td>Good</td>\n",
       "    </tr>\n",
       "    <tr>\n",
       "      <th>1</th>\n",
       "      <td>2020-01-01</td>\n",
       "      <td>California</td>\n",
       "      <td>0.0</td>\n",
       "      <td>1161.114551</td>\n",
       "      <td>2234.236335</td>\n",
       "      <td>4629.817437</td>\n",
       "      <td>4.197069</td>\n",
       "      <td>3.454464</td>\n",
       "      <td>0.639386</td>\n",
       "      <td>3.185928</td>\n",
       "      <td>0.022262</td>\n",
       "      <td>0.755213</td>\n",
       "      <td>2.689899e+36</td>\n",
       "      <td>318.449161</td>\n",
       "      <td>49.710225</td>\n",
       "      <td>93.809963</td>\n",
       "      <td>7.440329</td>\n",
       "      <td>Moderate</td>\n",
       "    </tr>\n",
       "    <tr>\n",
       "      <th>2</th>\n",
       "      <td>2020-01-01</td>\n",
       "      <td>Colorado</td>\n",
       "      <td>0.0</td>\n",
       "      <td>766.009791</td>\n",
       "      <td>1408.948899</td>\n",
       "      <td>2977.793038</td>\n",
       "      <td>3.201562</td>\n",
       "      <td>2.187598</td>\n",
       "      <td>0.570414</td>\n",
       "      <td>3.518695</td>\n",
       "      <td>0.038290</td>\n",
       "      <td>1.050116</td>\n",
       "      <td>5.285798e+35</td>\n",
       "      <td>327.386469</td>\n",
       "      <td>31.375000</td>\n",
       "      <td>113.998580</td>\n",
       "      <td>5.524357</td>\n",
       "      <td>Good</td>\n",
       "    </tr>\n",
       "    <tr>\n",
       "      <th>3</th>\n",
       "      <td>2020-01-01</td>\n",
       "      <td>Connecticut</td>\n",
       "      <td>0.0</td>\n",
       "      <td>499.490741</td>\n",
       "      <td>975.321998</td>\n",
       "      <td>1965.252528</td>\n",
       "      <td>2.280351</td>\n",
       "      <td>1.762456</td>\n",
       "      <td>0.439804</td>\n",
       "      <td>2.559934</td>\n",
       "      <td>0.024059</td>\n",
       "      <td>0.325265</td>\n",
       "      <td>3.405333e+36</td>\n",
       "      <td>195.157135</td>\n",
       "      <td>37.482143</td>\n",
       "      <td>135.210606</td>\n",
       "      <td>4.708149</td>\n",
       "      <td>Good</td>\n",
       "    </tr>\n",
       "    <tr>\n",
       "      <th>4</th>\n",
       "      <td>2020-01-01</td>\n",
       "      <td>Florida</td>\n",
       "      <td>0.0</td>\n",
       "      <td>1160.936691</td>\n",
       "      <td>2275.216913</td>\n",
       "      <td>4589.595448</td>\n",
       "      <td>4.427189</td>\n",
       "      <td>3.655956</td>\n",
       "      <td>0.556034</td>\n",
       "      <td>3.329852</td>\n",
       "      <td>0.030658</td>\n",
       "      <td>1.010231</td>\n",
       "      <td>4.687015e+36</td>\n",
       "      <td>343.042315</td>\n",
       "      <td>61.408333</td>\n",
       "      <td>102.174306</td>\n",
       "      <td>6.786109</td>\n",
       "      <td>Good</td>\n",
       "    </tr>\n",
       "  </tbody>\n",
       "</table>\n",
       "</div>"
      ],
      "text/plain": [
       "         Date   State Name  New Covid Cases  Population Staying at Home  \\\n",
       "0  2020-01-01      Alabama              0.0                  859.830216   \n",
       "1  2020-01-01   California              0.0                 1161.114551   \n",
       "2  2020-01-01     Colorado              0.0                  766.009791   \n",
       "3  2020-01-01  Connecticut              0.0                  499.490741   \n",
       "4  2020-01-01      Florida              0.0                 1160.936691   \n",
       "\n",
       "   Population Not Staying at Home  Number of Trips  pm10_mean  pm25_mean  \\\n",
       "0                     1710.371305      3245.716331   3.535534   2.868094   \n",
       "1                     2234.236335      4629.817437   4.197069   3.454464   \n",
       "2                     1408.948899      2977.793038   3.201562   2.187598   \n",
       "3                      975.321998      1965.252528   2.280351   1.762456   \n",
       "4                     2275.216913      4589.595448   4.427189   3.655956   \n",
       "\n",
       "    co_mean  no2_mean   o3_mean  so2_mean    press_mean     rh_mean  \\\n",
       "0  0.543782  4.046470  0.033676  0.951766  3.799426e+36  223.283219   \n",
       "1  0.639386  3.185928  0.022262  0.755213  2.689899e+36  318.449161   \n",
       "2  0.570414  3.518695  0.038290  1.050116  5.285798e+35  327.386469   \n",
       "3  0.439804  2.559934  0.024059  0.325265  3.405333e+36  195.157135   \n",
       "4  0.556034  3.329852  0.030658  1.010231  4.687015e+36  343.042315   \n",
       "\n",
       "   temp_mean   wind_mean       AQI  Category  \n",
       "0  48.435555   92.363889  6.055301      Good  \n",
       "1  49.710225   93.809963  7.440329  Moderate  \n",
       "2  31.375000  113.998580  5.524357      Good  \n",
       "3  37.482143  135.210606  4.708149      Good  \n",
       "4  61.408333  102.174306  6.786109      Good  "
      ]
     },
     "execution_count": 5,
     "metadata": {},
     "output_type": "execute_result"
    }
   ],
   "source": [
    "poll_df.head()"
   ]
  },
  {
   "cell_type": "markdown",
   "id": "41d56ea4",
   "metadata": {
    "id": "41d56ea4"
   },
   "source": [
    "## Splitting into Dependent and Independent Features"
   ]
  },
  {
   "cell_type": "code",
   "execution_count": 6,
   "id": "79d0f1b7",
   "metadata": {
    "id": "79d0f1b7"
   },
   "outputs": [],
   "source": [
    "X = poll_df[['New Covid Cases', 'Population Staying at Home',\n",
    "       'Population Not Staying at Home', 'Number of Trips', 'pm10_mean',\n",
    "       'pm25_mean', 'co_mean', 'no2_mean', 'o3_mean', 'so2_mean', 'press_mean',\n",
    "       'rh_mean', 'temp_mean', 'wind_mean']].values\n",
    "y = poll_df['AQI'].values"
   ]
  },
  {
   "cell_type": "markdown",
   "id": "caa297c2",
   "metadata": {
    "id": "caa297c2"
   },
   "source": [
    "## Regression Model Building Unbalanced Data or Original Data"
   ]
  },
  {
   "cell_type": "markdown",
   "id": "a85cf965",
   "metadata": {
    "id": "a85cf965"
   },
   "source": [
    "### Normalization and Scaling of Data"
   ]
  },
  {
   "cell_type": "code",
   "execution_count": 7,
   "id": "2e5f0be5",
   "metadata": {
    "id": "2e5f0be5"
   },
   "outputs": [],
   "source": [
    "sc_X = StandardScaler()\n",
    "sc_y = StandardScaler()"
   ]
  },
  {
   "cell_type": "code",
   "execution_count": 8,
   "id": "3323e5c2",
   "metadata": {
    "id": "3323e5c2"
   },
   "outputs": [],
   "source": [
    "X = sc_X.fit_transform(X)"
   ]
  },
  {
   "cell_type": "markdown",
   "id": "877cbbf9",
   "metadata": {
    "id": "877cbbf9"
   },
   "source": [
    "### Splitting the dataset into the Training set and Test set"
   ]
  },
  {
   "cell_type": "code",
   "execution_count": 9,
   "id": "0798e69a",
   "metadata": {
    "id": "0798e69a"
   },
   "outputs": [],
   "source": [
    "from sklearn.model_selection import train_test_split\n",
    "X_train, X_test, y_train, y_test = train_test_split(X, y, test_size = 0.2, random_state = 0)"
   ]
  },
  {
   "cell_type": "markdown",
   "id": "df3de44a",
   "metadata": {
    "id": "df3de44a"
   },
   "source": [
    "### SVR model"
   ]
  },
  {
   "cell_type": "markdown",
   "id": "HmnKhI1u5vDF",
   "metadata": {
    "id": "HmnKhI1u5vDF"
   },
   "source": [
    "#### Training"
   ]
  },
  {
   "cell_type": "code",
   "execution_count": 11,
   "id": "69200e17",
   "metadata": {
    "colab": {
     "base_uri": "https://localhost:8080/"
    },
    "executionInfo": {
     "elapsed": 18130,
     "status": "ok",
     "timestamp": 1670564001993,
     "user": {
      "displayName": "DINESH VENNAPOOSA",
      "userId": "13127725035450374536"
     },
     "user_tz": 300
    },
    "id": "69200e17",
    "outputId": "2333c202-af78-4af9-c2e9-000ebd883b06"
   },
   "outputs": [
    {
     "data": {
      "text/html": [
       "<style>#sk-container-id-1 {color: black;background-color: white;}#sk-container-id-1 pre{padding: 0;}#sk-container-id-1 div.sk-toggleable {background-color: white;}#sk-container-id-1 label.sk-toggleable__label {cursor: pointer;display: block;width: 100%;margin-bottom: 0;padding: 0.3em;box-sizing: border-box;text-align: center;}#sk-container-id-1 label.sk-toggleable__label-arrow:before {content: \"▸\";float: left;margin-right: 0.25em;color: #696969;}#sk-container-id-1 label.sk-toggleable__label-arrow:hover:before {color: black;}#sk-container-id-1 div.sk-estimator:hover label.sk-toggleable__label-arrow:before {color: black;}#sk-container-id-1 div.sk-toggleable__content {max-height: 0;max-width: 0;overflow: hidden;text-align: left;background-color: #f0f8ff;}#sk-container-id-1 div.sk-toggleable__content pre {margin: 0.2em;color: black;border-radius: 0.25em;background-color: #f0f8ff;}#sk-container-id-1 input.sk-toggleable__control:checked~div.sk-toggleable__content {max-height: 200px;max-width: 100%;overflow: auto;}#sk-container-id-1 input.sk-toggleable__control:checked~label.sk-toggleable__label-arrow:before {content: \"▾\";}#sk-container-id-1 div.sk-estimator input.sk-toggleable__control:checked~label.sk-toggleable__label {background-color: #d4ebff;}#sk-container-id-1 div.sk-label input.sk-toggleable__control:checked~label.sk-toggleable__label {background-color: #d4ebff;}#sk-container-id-1 input.sk-hidden--visually {border: 0;clip: rect(1px 1px 1px 1px);clip: rect(1px, 1px, 1px, 1px);height: 1px;margin: -1px;overflow: hidden;padding: 0;position: absolute;width: 1px;}#sk-container-id-1 div.sk-estimator {font-family: monospace;background-color: #f0f8ff;border: 1px dotted black;border-radius: 0.25em;box-sizing: border-box;margin-bottom: 0.5em;}#sk-container-id-1 div.sk-estimator:hover {background-color: #d4ebff;}#sk-container-id-1 div.sk-parallel-item::after {content: \"\";width: 100%;border-bottom: 1px solid gray;flex-grow: 1;}#sk-container-id-1 div.sk-label:hover label.sk-toggleable__label {background-color: #d4ebff;}#sk-container-id-1 div.sk-serial::before {content: \"\";position: absolute;border-left: 1px solid gray;box-sizing: border-box;top: 0;bottom: 0;left: 50%;z-index: 0;}#sk-container-id-1 div.sk-serial {display: flex;flex-direction: column;align-items: center;background-color: white;padding-right: 0.2em;padding-left: 0.2em;position: relative;}#sk-container-id-1 div.sk-item {position: relative;z-index: 1;}#sk-container-id-1 div.sk-parallel {display: flex;align-items: stretch;justify-content: center;background-color: white;position: relative;}#sk-container-id-1 div.sk-item::before, #sk-container-id-1 div.sk-parallel-item::before {content: \"\";position: absolute;border-left: 1px solid gray;box-sizing: border-box;top: 0;bottom: 0;left: 50%;z-index: -1;}#sk-container-id-1 div.sk-parallel-item {display: flex;flex-direction: column;z-index: 1;position: relative;background-color: white;}#sk-container-id-1 div.sk-parallel-item:first-child::after {align-self: flex-end;width: 50%;}#sk-container-id-1 div.sk-parallel-item:last-child::after {align-self: flex-start;width: 50%;}#sk-container-id-1 div.sk-parallel-item:only-child::after {width: 0;}#sk-container-id-1 div.sk-dashed-wrapped {border: 1px dashed gray;margin: 0 0.4em 0.5em 0.4em;box-sizing: border-box;padding-bottom: 0.4em;background-color: white;}#sk-container-id-1 div.sk-label label {font-family: monospace;font-weight: bold;display: inline-block;line-height: 1.2em;}#sk-container-id-1 div.sk-label-container {text-align: center;}#sk-container-id-1 div.sk-container {/* jupyter's `normalize.less` sets `[hidden] { display: none; }` but bootstrap.min.css set `[hidden] { display: none !important; }` so we also need the `!important` here to be able to override the default hidden behavior on the sphinx rendered scikit-learn.org. See: https://github.com/scikit-learn/scikit-learn/issues/21755 */display: inline-block !important;position: relative;}#sk-container-id-1 div.sk-text-repr-fallback {display: none;}</style><div id=\"sk-container-id-1\" class=\"sk-top-container\"><div class=\"sk-text-repr-fallback\"><pre>SVR()</pre><b>In a Jupyter environment, please rerun this cell to show the HTML representation or trust the notebook. <br />On GitHub, the HTML representation is unable to render, please try loading this page with nbviewer.org.</b></div><div class=\"sk-container\" hidden><div class=\"sk-item\"><div class=\"sk-estimator sk-toggleable\"><input class=\"sk-toggleable__control sk-hidden--visually\" id=\"sk-estimator-id-1\" type=\"checkbox\" checked><label for=\"sk-estimator-id-1\" class=\"sk-toggleable__label sk-toggleable__label-arrow\">SVR</label><div class=\"sk-toggleable__content\"><pre>SVR()</pre></div></div></div></div></div>"
      ],
      "text/plain": [
       "SVR()"
      ]
     },
     "execution_count": 11,
     "metadata": {},
     "output_type": "execute_result"
    }
   ],
   "source": [
    "from sklearn.svm import SVR\n",
    "regressor = SVR(kernel = 'rbf')\n",
    "regressor.fit(X_train, y_train)"
   ]
  },
  {
   "cell_type": "markdown",
   "id": "55e89beb",
   "metadata": {
    "id": "55e89beb"
   },
   "source": [
    "#### Predicting the Test set results"
   ]
  },
  {
   "cell_type": "code",
   "execution_count": 14,
   "id": "8b96e00c",
   "metadata": {
    "colab": {
     "base_uri": "https://localhost:8080/"
    },
    "executionInfo": {
     "elapsed": 3541,
     "status": "ok",
     "timestamp": 1670564005525,
     "user": {
      "displayName": "DINESH VENNAPOOSA",
      "userId": "13127725035450374536"
     },
     "user_tz": 300
    },
    "id": "8b96e00c",
    "outputId": "fa947ae1-ff2f-43ad-c8bd-d1ffcd1092a9"
   },
   "outputs": [
    {
     "name": "stdout",
     "output_type": "stream",
     "text": [
      "[[7.82 8.01]\n",
      " [5.63 5.56]\n",
      " [5.45 5.55]\n",
      " ...\n",
      " [7.06 6.97]\n",
      " [4.21 4.09]\n",
      " [4.51 4.98]]\n"
     ]
    }
   ],
   "source": [
    "from sklearn.preprocessing import StandardScaler\n",
    "y_pred = regressor.predict(X_test)\n",
    "np.set_printoptions(precision=2)\n",
    "print(np.concatenate((y_pred.reshape(len(y_pred),1), y_test.reshape(len(y_test),1)),1))"
   ]
  },
  {
   "cell_type": "markdown",
   "id": "8b881b83",
   "metadata": {
    "id": "8b881b83"
   },
   "source": [
    "#### Model Evaluation"
   ]
  },
  {
   "cell_type": "code",
   "execution_count": 15,
   "id": "daa648c4",
   "metadata": {
    "colab": {
     "base_uri": "https://localhost:8080/"
    },
    "executionInfo": {
     "elapsed": 15,
     "status": "ok",
     "timestamp": 1670564005526,
     "user": {
      "displayName": "DINESH VENNAPOOSA",
      "userId": "13127725035450374536"
     },
     "user_tz": 300
    },
    "id": "daa648c4",
    "outputId": "0c4b0633-4c0b-4f36-e42d-b7b257015366"
   },
   "outputs": [
    {
     "name": "stdout",
     "output_type": "stream",
     "text": [
      "MAE: 0.20325719516221816\n",
      "MSE: 0.07530044492196411\n",
      "RMSE: 0.2744092653719333\n",
      "R squared value:  0.8989251807240534\n"
     ]
    }
   ],
   "source": [
    "from sklearn.metrics import r2_score\n",
    "print('MAE:', metrics.mean_absolute_error(y_test,y_pred))\n",
    "print('MSE:', metrics.mean_squared_error(y_test, y_pred))\n",
    "print('RMSE:', np.sqrt(metrics.mean_squared_error(y_test, y_pred)))\n",
    "print(\"R squared value: \",r2_score(y_test, y_pred))"
   ]
  },
  {
   "cell_type": "markdown",
   "id": "e0b3d6d6",
   "metadata": {
    "id": "e0b3d6d6"
   },
   "source": [
    "### SVM regression using k fold cross validation and Grid Search"
   ]
  },
  {
   "cell_type": "markdown",
   "id": "t90KGY0d6Fde",
   "metadata": {
    "id": "t90KGY0d6Fde"
   },
   "source": [
    "#### Training"
   ]
  },
  {
   "cell_type": "code",
   "execution_count": 16,
   "id": "78f9e9f8",
   "metadata": {
    "id": "78f9e9f8"
   },
   "outputs": [],
   "source": [
    "from sklearn.svm import SVR\n",
    "regressor = SVR(kernel = 'rbf')"
   ]
  },
  {
   "cell_type": "markdown",
   "id": "94ad99a7",
   "metadata": {},
   "source": [
    "#### K fold cross validation"
   ]
  },
  {
   "cell_type": "code",
   "execution_count": 17,
   "id": "a578c71a",
   "metadata": {
    "id": "a578c71a"
   },
   "outputs": [],
   "source": [
    "cv=cross_validate(regressor, X, y, cv=3)"
   ]
  },
  {
   "cell_type": "code",
   "execution_count": 18,
   "id": "88c5bb5f",
   "metadata": {
    "colab": {
     "base_uri": "https://localhost:8080/"
    },
    "executionInfo": {
     "elapsed": 149,
     "status": "ok",
     "timestamp": 1670564170279,
     "user": {
      "displayName": "DINESH VENNAPOOSA",
      "userId": "13127725035450374536"
     },
     "user_tz": 300
    },
    "id": "88c5bb5f",
    "outputId": "b5e0bd79-91d4-49ee-e965-e05d50bb5944",
    "scrolled": true
   },
   "outputs": [
    {
     "name": "stdout",
     "output_type": "stream",
     "text": [
      "3 folds accuracy: [82.34 83.11 87.17]\n",
      "mean accuracy of 3 folds: 84.20424236954955 %\n"
     ]
    }
   ],
   "source": [
    "print('3 folds accuracy:',cv['test_score']*100)\n",
    "print('mean accuracy of 3 folds:',cv['test_score'].mean()*100,'%')"
   ]
  },
  {
   "cell_type": "markdown",
   "id": "34ffdbad",
   "metadata": {},
   "source": [
    "#### SVR Grid Search"
   ]
  },
  {
   "cell_type": "code",
   "execution_count": null,
   "id": "d1de3752",
   "metadata": {
    "colab": {
     "base_uri": "https://localhost:8080/"
    },
    "id": "d1de3752",
    "outputId": "a7fc89d0-b809-4be7-88f2-56fb14f550a0"
   },
   "outputs": [
    {
     "name": "stdout",
     "output_type": "stream",
     "text": [
      "Fitting 3 folds for each of 48 candidates, totalling 144 fits\n",
      "[CV] END .................C=0.1, gamma=0.001, kernel=sigmoid; total time=  39.2s\n",
      "[CV] END ...................C=10, gamma=0.01, kernel=sigmoid; total time=  47.3s\n",
      "[CV] END .........................C=1, gamma=0.1, kernel=rbf; total time=  36.3s\n",
      "[CV] END ....................C=10, gamma=0.1, kernel=sigmoid; total time=  49.5s\n",
      "[CV] END .........................C=0.1, gamma=1, kernel=rbf; total time=  39.5s\n",
      "[CV] END ...................C=10, gamma=0.01, kernel=sigmoid; total time=  48.5s\n",
      "[CV] END ...........................C=1, gamma=1, kernel=rbf; total time= 1.5min\n",
      "[CV] END .......................C=0.1, gamma=0.1, kernel=rbf; total time=  35.6s\n",
      "[CV] END ......................C=10, gamma=1, kernel=sigmoid; total time=  54.8s\n",
      "[CV] END ...........................C=1, gamma=1, kernel=rbf; total time= 1.5min\n",
      "[CV] END ......................C=0.1, gamma=0.1, kernel=poly; total time=  34.1s\n",
      "[CV] END ......................C=10, gamma=1, kernel=sigmoid; total time=  58.7s\n",
      "[CV] END ........................C=1, gamma=0.01, kernel=rbf; total time=  37.1s\n",
      "[CV] END ....................C=10, gamma=0.1, kernel=sigmoid; total time=  55.9s\n",
      "[CV] END ....................C=1, gamma=0.01, kernel=sigmoid; total time=  37.3s\n",
      "[CV] END ....................C=10, gamma=0.1, kernel=sigmoid; total time=  57.2s\n",
      "[CV] END ........................C=1, gamma=0.01, kernel=rbf; total time=  34.9s\n",
      "[CV] END ......................C=10, gamma=1, kernel=sigmoid; total time= 1.0min\n",
      "[CV] END ........................C=1, gamma=0.1, kernel=poly; total time= 1.2min\n",
      "[CV] END .....................C=100, gamma=0.01, kernel=poly; total time=  26.1s\n",
      "[CV] END .........................C=1, gamma=0.1, kernel=rbf; total time=  42.0s\n",
      "[CV] END .....................C=10, gamma=0.001, kernel=poly; total time=  29.5s\n",
      "[CV] END .....................C=100, gamma=0.01, kernel=poly; total time=  27.1s\n",
      "[CV] END ........................C=1, gamma=0.01, kernel=rbf; total time=  38.8s\n",
      "[CV] END ...................C=10, gamma=0.01, kernel=sigmoid; total time=  41.5s\n",
      "[CV] END ....................C=100, gamma=0.001, kernel=poly; total time=  20.1s\n",
      "[CV] END ........................C=1, gamma=0.1, kernel=poly; total time= 1.2min\n",
      "[CV] END .....................C=100, gamma=0.01, kernel=poly; total time=  30.3s\n",
      "[CV] END ...................C=0.1, gamma=0.1, kernel=sigmoid; total time=  50.9s\n",
      "[CV] END ..................C=10, gamma=0.001, kernel=sigmoid; total time=  31.9s\n",
      "[CV] END ....................C=100, gamma=0.001, kernel=poly; total time=  22.7s\n",
      "[CV] END ....................C=1, gamma=0.01, kernel=sigmoid; total time=  38.1s\n",
      "[CV] END ......................C=10, gamma=0.01, kernel=poly; total time=  21.9s\n",
      "[CV] END .....................C=100, gamma=1, kernel=sigmoid; total time=  45.7s\n",
      "[CV] END .....................C=0.1, gamma=1, kernel=sigmoid; total time= 1.0min\n",
      "[CV] END .....................C=100, gamma=1, kernel=sigmoid; total time=  48.4s\n",
      "[CV] END ......................C=0.1, gamma=0.01, kernel=rbf; total time=  38.9s\n",
      "[CV] END .......................C=10, gamma=0.01, kernel=rbf; total time=  44.4s\n",
      "[CV] END ....................C=100, gamma=0.001, kernel=poly; total time=  26.3s\n",
      "[CV] END ........................C=1, gamma=0.1, kernel=poly; total time= 1.1min\n",
      "[CV] END ...................C=100, gamma=0.1, kernel=sigmoid; total time=  43.7s\n",
      "[CV] END .....................C=0.1, gamma=0.001, kernel=rbf; total time=  40.5s\n",
      "[CV] END ......................C=10, gamma=0.001, kernel=rbf; total time=  34.4s\n",
      "[CV] END ..................C=100, gamma=0.01, kernel=sigmoid; total time=  35.3s\n",
      "[CV] END .....................C=0.1, gamma=0.001, kernel=rbf; total time=  38.4s\n",
      "[CV] END .......................C=10, gamma=0.01, kernel=rbf; total time=  45.0s\n",
      "[CV] END .................C=100, gamma=0.001, kernel=sigmoid; total time=  28.1s\n",
      "[CV] END .........................C=1, gamma=0.1, kernel=rbf; total time=  37.7s\n",
      "[CV] END .......................C=10, gamma=0.01, kernel=rbf; total time=  45.8s\n",
      "[CV] END .................C=100, gamma=0.001, kernel=sigmoid; total time=  27.4s\n",
      "[CV] END .................C=0.1, gamma=0.001, kernel=sigmoid; total time=  40.4s\n",
      "[CV] END ......................C=10, gamma=0.001, kernel=rbf; total time=  33.8s\n",
      "[CV] END ..................C=100, gamma=0.01, kernel=sigmoid; total time=  39.1s\n",
      "[CV] END .........................C=0.1, gamma=1, kernel=rbf; total time=  41.6s\n",
      "[CV] END ......................C=10, gamma=0.001, kernel=rbf; total time=  34.9s\n",
      "[CV] END .....................C=100, gamma=0.001, kernel=rbf; total time=  39.2s\n",
      "[CV] END .....................C=1, gamma=0.1, kernel=sigmoid; total time=  49.3s\n",
      "[CV] END .....................C=10, gamma=0.001, kernel=poly; total time=  24.0s\n",
      "[CV] END ..................C=100, gamma=0.01, kernel=sigmoid; total time=  42.3s\n",
      "[CV] END ...................C=0.1, gamma=0.1, kernel=sigmoid; total time=  51.3s\n",
      "[CV] END ..................C=10, gamma=0.001, kernel=sigmoid; total time=  27.7s\n",
      "[CV] END .....................C=100, gamma=0.001, kernel=rbf; total time=  37.1s\n",
      "[CV] END ..................C=0.1, gamma=0.01, kernel=sigmoid; total time=  38.5s\n",
      "[CV] END ......................C=10, gamma=0.01, kernel=poly; total time=  29.3s\n",
      "[CV] END ...................C=100, gamma=0.1, kernel=sigmoid; total time=  47.7s\n",
      "[CV] END ....................C=0.1, gamma=0.001, kernel=poly; total time=  31.9s\n",
      "[CV] END ......................C=1, gamma=0.001, kernel=poly; total time=  29.3s\n",
      "[CV] END .....................C=100, gamma=1, kernel=sigmoid; total time=  55.2s\n",
      "[CV] END .......................C=1, gamma=0.01, kernel=poly; total time=  29.4s\n",
      "[CV] END .......................C=1, gamma=0.001, kernel=rbf; total time=  36.2s\n",
      "[CV] END ...................C=100, gamma=0.1, kernel=sigmoid; total time=  50.7s\n",
      "[CV] END ...........................C=1, gamma=1, kernel=rbf; total time= 1.3min\n",
      "[CV] END .....................C=100, gamma=0.001, kernel=rbf; total time=  36.3s\n",
      "[CV] END .....................C=0.1, gamma=1, kernel=sigmoid; total time=  53.3s\n",
      "[CV] END ..................C=10, gamma=0.001, kernel=sigmoid; total time=  31.1s\n",
      "[CV] END .................C=100, gamma=0.001, kernel=sigmoid; total time=  33.1s\n",
      "[CV] END .....................C=0.1, gamma=0.01, kernel=poly; total time=  32.9s\n",
      "[CV] END ..........................C=10, gamma=1, kernel=rbf; total time= 1.4min\n",
      "[CV] END ....................C=0.1, gamma=0.001, kernel=poly; total time=  33.1s\n",
      "[CV] END ..........................C=10, gamma=1, kernel=rbf; total time= 1.4min\n",
      "[CV] END .......................C=1, gamma=0.01, kernel=poly; total time=  33.2s\n",
      "[CV] END ..........................C=10, gamma=1, kernel=rbf; total time= 1.5min\n",
      "[CV] END .....................C=1, gamma=0.1, kernel=sigmoid; total time=  55.3s\n",
      "[CV] END .........................C=100, gamma=1, kernel=rbf; total time= 1.2min\n",
      "[CV] END .....................C=0.1, gamma=0.01, kernel=poly; total time=  26.8s\n",
      "[CV] END .......................C=1, gamma=0.001, kernel=rbf; total time=  27.8s\n",
      "[CV] END .........................C=100, gamma=1, kernel=rbf; total time= 1.2min\n",
      "[CV] END ......................C=0.1, gamma=0.1, kernel=poly; total time=  30.7s\n",
      "[CV] END ......................C=1, gamma=0.001, kernel=poly; total time=  25.5s\n",
      "[CV] END .........................C=100, gamma=1, kernel=rbf; total time= 1.3min\n",
      "[CV] END ..................C=0.1, gamma=0.01, kernel=sigmoid; total time=  35.6s\n",
      "[CV] END ........................C=10, gamma=0.1, kernel=rbf; total time= 2.0min\n",
      "[CV] END ......................C=0.1, gamma=0.01, kernel=rbf; total time=  35.3s\n",
      "[CV] END ........................C=10, gamma=0.1, kernel=rbf; total time= 2.0min\n",
      "[CV] END ......................C=0.1, gamma=0.1, kernel=poly; total time=  35.2s\n",
      "[CV] END ........................C=10, gamma=0.1, kernel=rbf; total time= 2.1min\n",
      "[CV] END .....................C=0.1, gamma=1, kernel=sigmoid; total time= 1.2min\n",
      "[CV] END ......................C=100, gamma=0.01, kernel=rbf; total time= 1.5min\n",
      "[CV] END .....................C=0.1, gamma=0.001, kernel=rbf; total time=  41.9s\n",
      "[CV] END .....................C=10, gamma=0.001, kernel=poly; total time=  26.5s\n",
      "[CV] END ......................C=100, gamma=0.01, kernel=rbf; total time= 1.6min\n"
     ]
    },
    {
     "name": "stdout",
     "output_type": "stream",
     "text": [
      "[CV] END ....................C=0.1, gamma=0.001, kernel=poly; total time=  32.3s\n",
      "[CV] END ...................C=1, gamma=0.001, kernel=sigmoid; total time=  37.1s\n",
      "[CV] END ......................C=100, gamma=0.01, kernel=rbf; total time= 1.6min\n",
      "[CV] END .........................C=0.1, gamma=1, kernel=rbf; total time=  36.3s\n",
      "[CV] END .......................C=10, gamma=0.1, kernel=poly; total time= 4.8min\n",
      "[CV] END .......................C=0.1, gamma=0.1, kernel=rbf; total time=  36.6s\n",
      "[CV] END .......................C=10, gamma=0.1, kernel=poly; total time= 4.9min\n",
      "[CV] END .................C=0.1, gamma=0.001, kernel=sigmoid; total time=  37.1s\n",
      "[CV] END .......................C=10, gamma=0.1, kernel=poly; total time= 5.0min\n",
      "[CV] END .....................C=1, gamma=0.1, kernel=sigmoid; total time= 1.0min\n",
      "[CV] END .......................C=100, gamma=0.1, kernel=rbf; total time=23.2min\n",
      "[CV] END .......................C=0.1, gamma=0.1, kernel=rbf; total time=  32.2s\n",
      "[CV] END ...................C=1, gamma=0.001, kernel=sigmoid; total time=  29.7s\n",
      "[CV] END .......................C=100, gamma=0.1, kernel=rbf; total time=23.7min\n",
      "[CV] END ......................C=0.1, gamma=0.01, kernel=rbf; total time=  32.5s\n",
      "[CV] END ...................C=1, gamma=0.001, kernel=sigmoid; total time=  30.3s\n",
      "[CV] END .......................C=100, gamma=0.1, kernel=rbf; total time=25.5min\n",
      "[CV] END ........................C=0.1, gamma=1, kernel=poly; total time=43.0min\n",
      "[CV] END ........................C=0.1, gamma=1, kernel=poly; total time=45.3min\n",
      "[CV] END ..................C=0.1, gamma=0.01, kernel=sigmoid; total time=  38.9s\n",
      "[CV] END ......................C=10, gamma=0.01, kernel=poly; total time=  24.3s\n",
      "[CV] END ......................C=100, gamma=0.1, kernel=poly; total time=44.4min\n",
      "[CV] END .......................C=1, gamma=1, kernel=sigmoid; total time= 1.1min\n",
      "[CV] END ......................C=100, gamma=0.1, kernel=poly; total time=48.6min\n",
      "[CV] END ........................C=0.1, gamma=1, kernel=poly; total time=50.8min\n",
      "[CV] END .......................C=1, gamma=1, kernel=sigmoid; total time= 1.1min\n",
      "[CV] END ......................C=100, gamma=0.1, kernel=poly; total time=50.3min\n",
      "[CV] END .........................C=1, gamma=1, kernel=poly; total time=209.7min\n",
      "[CV] END .........................C=1, gamma=1, kernel=poly; total time=227.4min\n",
      "[CV] END .........................C=1, gamma=1, kernel=poly; total time=233.1min\n"
     ]
    }
   ],
   "source": [
    "# defining parameter range\n",
    "from sklearn.model_selection import GridSearchCV\n",
    "param_grid = {'C': [0.1,1, 10, 100], 'gamma': [1,0.1,0.01,0.001],'kernel': ['rbf', 'poly', 'sigmoid']}\n",
    "grid = GridSearchCV(regressor,param_grid,refit=True,verbose=2,cv = 3, n_jobs = -1)\n",
    "grid.fit(X_train,y_train)"
   ]
  },
  {
   "cell_type": "markdown",
   "id": "VrTmpYSJ6JHz",
   "metadata": {
    "id": "VrTmpYSJ6JHz"
   },
   "source": [
    "#### Predicting Results"
   ]
  },
  {
   "cell_type": "code",
   "execution_count": null,
   "id": "_qLddrM3axYn",
   "metadata": {
    "id": "_qLddrM3axYn"
   },
   "outputs": [],
   "source": [
    "from sklearn.preprocessing import StandardScaler\n",
    "y_pred = grid.predict(X_test)\n",
    "np.set_printoptions(precision=2)\n",
    "print(np.concatenate((y_pred.reshape(len(y_pred),1), y_test.reshape(len(y_test),1)),1))"
   ]
  },
  {
   "cell_type": "markdown",
   "id": "HAVlWr4n6Ljp",
   "metadata": {
    "id": "HAVlWr4n6Ljp"
   },
   "source": [
    "#### Evaluating Model"
   ]
  },
  {
   "cell_type": "code",
   "execution_count": null,
   "id": "6f29cf6e",
   "metadata": {
    "id": "6f29cf6e"
   },
   "outputs": [],
   "source": [
    "from sklearn.metrics import r2_score\n",
    "print('MAE:', metrics.mean_absolute_error(y_test,y_pred))\n",
    "print('MSE:', metrics.mean_squared_error(y_test, y_pred))\n",
    "print('RMSE:', np.sqrt(metrics.mean_squared_error(y_test, y_pred)))\n",
    "print(\"R squared value: \",r2_score(y_test, y_pred))"
   ]
  },
  {
   "cell_type": "markdown",
   "id": "_6tK9lC6HKFY",
   "metadata": {
    "id": "_6tK9lC6HKFY"
   },
   "source": [
    "#### Plotting the results"
   ]
  },
  {
   "cell_type": "code",
   "execution_count": null,
   "id": "LnIiiBQLHMP8",
   "metadata": {
    "id": "LnIiiBQLHMP8"
   },
   "outputs": [],
   "source": [
    "import seaborn as sns\n",
    "plt.figure(figsize=(7,5))\n",
    "sns.regplot(x=y_test,y=y_pred,ci=None,color ='red');\n",
    "plt.title('Support Vector Regression with Grid Search')\n",
    "plt.xlabel('Actual Values')\n",
    "plt.ylabel('Predicted Values')"
   ]
  },
  {
   "cell_type": "code",
   "execution_count": null,
   "id": "e02fb96d",
   "metadata": {},
   "outputs": [],
   "source": []
  }
 ],
 "metadata": {
  "accelerator": "GPU",
  "colab": {
   "collapsed_sections": [
    "bc7a610b",
    "76ffdbf4"
   ],
   "provenance": [
    {
     "file_id": "1wSDHocTEBfsAnzMhmia-pKqk1Or7cgzU",
     "timestamp": 1670610238874
    }
   ]
  },
  "gpuClass": "standard",
  "kernelspec": {
   "display_name": "Python 3 (ipykernel)",
   "language": "python",
   "name": "python3"
  },
  "language_info": {
   "codemirror_mode": {
    "name": "ipython",
    "version": 3
   },
   "file_extension": ".py",
   "mimetype": "text/x-python",
   "name": "python",
   "nbconvert_exporter": "python",
   "pygments_lexer": "ipython3",
   "version": "3.10.6"
  }
 },
 "nbformat": 4,
 "nbformat_minor": 5
}
