{
 "cells": [
  {
   "cell_type": "markdown",
   "id": "abe95f20",
   "metadata": {
    "id": "abe95f20"
   },
   "source": [
    "# Model Building"
   ]
  },
  {
   "cell_type": "markdown",
   "id": "bc7a610b",
   "metadata": {
    "id": "bc7a610b"
   },
   "source": [
    "## Importing the libraries"
   ]
  },
  {
   "cell_type": "code",
   "execution_count": 1,
   "id": "e581ce10",
   "metadata": {
    "executionInfo": {
     "elapsed": 1635,
     "status": "ok",
     "timestamp": 1670780250971,
     "user": {
      "displayName": "DINESH VENNAPOOSA",
      "userId": "13127725035450374536"
     },
     "user_tz": 300
    },
    "id": "e581ce10"
   },
   "outputs": [],
   "source": [
    "import pandas as pd\n",
    "import numpy as np\n",
    "import matplotlib.pyplot as plt\n",
    "from sklearn.linear_model import LinearRegression\n",
    "from sklearn import metrics\n",
    "from sklearn.preprocessing import StandardScaler\n",
    "from sklearn.model_selection import GridSearchCV\n",
    "from sklearn.model_selection import train_test_split\n",
    "from sklearn.model_selection import KFold\n",
    "from sklearn.model_selection import cross_val_score\n",
    "from sklearn.model_selection import cross_validate\n",
    "from sklearn.linear_model import LinearRegression\n",
    "from numpy import mean\n",
    "from numpy import absolute\n",
    "from numpy import sqrt\n",
    "import pandas as pd"
   ]
  },
  {
   "cell_type": "markdown",
   "id": "76ffdbf4",
   "metadata": {
    "id": "76ffdbf4"
   },
   "source": [
    "## Importing the dataset"
   ]
  },
  {
   "cell_type": "code",
   "execution_count": 2,
   "id": "302d67ed",
   "metadata": {
    "colab": {
     "base_uri": "https://localhost:8080/",
     "height": 409
    },
    "executionInfo": {
     "elapsed": 14,
     "status": "ok",
     "timestamp": 1670780250973,
     "user": {
      "displayName": "DINESH VENNAPOOSA",
      "userId": "13127725035450374536"
     },
     "user_tz": 300
    },
    "id": "302d67ed",
    "outputId": "5be237e8-5bc9-4c39-81a6-a6a381d2ad5b"
   },
   "outputs": [
    {
     "data": {
      "text/html": [
       "\n",
       "  <div id=\"df-9c95c6de-fd10-4e8a-a509-99399833a5a3\">\n",
       "    <div class=\"colab-df-container\">\n",
       "      <div>\n",
       "<style scoped>\n",
       "    .dataframe tbody tr th:only-of-type {\n",
       "        vertical-align: middle;\n",
       "    }\n",
       "\n",
       "    .dataframe tbody tr th {\n",
       "        vertical-align: top;\n",
       "    }\n",
       "\n",
       "    .dataframe thead th {\n",
       "        text-align: right;\n",
       "    }\n",
       "</style>\n",
       "<table border=\"1\" class=\"dataframe\">\n",
       "  <thead>\n",
       "    <tr style=\"text-align: right;\">\n",
       "      <th></th>\n",
       "      <th>Date</th>\n",
       "      <th>State Name</th>\n",
       "      <th>New Covid Cases</th>\n",
       "      <th>Population Staying at Home</th>\n",
       "      <th>Population Not Staying at Home</th>\n",
       "      <th>Number of Trips</th>\n",
       "      <th>pm10_mean</th>\n",
       "      <th>pm25_mean</th>\n",
       "      <th>co_mean</th>\n",
       "      <th>no2_mean</th>\n",
       "      <th>o3_mean</th>\n",
       "      <th>so2_mean</th>\n",
       "      <th>press_mean</th>\n",
       "      <th>rh_mean</th>\n",
       "      <th>temp_mean</th>\n",
       "      <th>wind_mean</th>\n",
       "      <th>AQI</th>\n",
       "      <th>Category</th>\n",
       "    </tr>\n",
       "  </thead>\n",
       "  <tbody>\n",
       "    <tr>\n",
       "      <th>0</th>\n",
       "      <td>2020-01-01</td>\n",
       "      <td>Alabama</td>\n",
       "      <td>0.0</td>\n",
       "      <td>859.830216</td>\n",
       "      <td>1710.371305</td>\n",
       "      <td>3245.716331</td>\n",
       "      <td>3.535534</td>\n",
       "      <td>2.868094</td>\n",
       "      <td>0.543782</td>\n",
       "      <td>4.046470</td>\n",
       "      <td>0.033676</td>\n",
       "      <td>0.951766</td>\n",
       "      <td>3.799426e+36</td>\n",
       "      <td>223.283219</td>\n",
       "      <td>48.435555</td>\n",
       "      <td>92.363889</td>\n",
       "      <td>6.055301</td>\n",
       "      <td>Good</td>\n",
       "    </tr>\n",
       "    <tr>\n",
       "      <th>1</th>\n",
       "      <td>2020-01-01</td>\n",
       "      <td>California</td>\n",
       "      <td>0.0</td>\n",
       "      <td>1161.114551</td>\n",
       "      <td>2234.236335</td>\n",
       "      <td>4629.817437</td>\n",
       "      <td>4.197069</td>\n",
       "      <td>3.454464</td>\n",
       "      <td>0.639386</td>\n",
       "      <td>3.185928</td>\n",
       "      <td>0.022262</td>\n",
       "      <td>0.755213</td>\n",
       "      <td>2.689899e+36</td>\n",
       "      <td>318.449161</td>\n",
       "      <td>49.710225</td>\n",
       "      <td>93.809963</td>\n",
       "      <td>7.440329</td>\n",
       "      <td>Moderate</td>\n",
       "    </tr>\n",
       "    <tr>\n",
       "      <th>2</th>\n",
       "      <td>2020-01-01</td>\n",
       "      <td>Colorado</td>\n",
       "      <td>0.0</td>\n",
       "      <td>766.009791</td>\n",
       "      <td>1408.948899</td>\n",
       "      <td>2977.793038</td>\n",
       "      <td>3.201562</td>\n",
       "      <td>2.187598</td>\n",
       "      <td>0.570414</td>\n",
       "      <td>3.518695</td>\n",
       "      <td>0.038290</td>\n",
       "      <td>1.050116</td>\n",
       "      <td>5.285798e+35</td>\n",
       "      <td>327.386469</td>\n",
       "      <td>31.375000</td>\n",
       "      <td>113.998580</td>\n",
       "      <td>5.524357</td>\n",
       "      <td>Good</td>\n",
       "    </tr>\n",
       "    <tr>\n",
       "      <th>3</th>\n",
       "      <td>2020-01-01</td>\n",
       "      <td>Connecticut</td>\n",
       "      <td>0.0</td>\n",
       "      <td>499.490741</td>\n",
       "      <td>975.321998</td>\n",
       "      <td>1965.252528</td>\n",
       "      <td>2.280351</td>\n",
       "      <td>1.762456</td>\n",
       "      <td>0.439804</td>\n",
       "      <td>2.559934</td>\n",
       "      <td>0.024059</td>\n",
       "      <td>0.325265</td>\n",
       "      <td>3.405333e+36</td>\n",
       "      <td>195.157135</td>\n",
       "      <td>37.482143</td>\n",
       "      <td>135.210606</td>\n",
       "      <td>4.708149</td>\n",
       "      <td>Good</td>\n",
       "    </tr>\n",
       "    <tr>\n",
       "      <th>4</th>\n",
       "      <td>2020-01-01</td>\n",
       "      <td>Florida</td>\n",
       "      <td>0.0</td>\n",
       "      <td>1160.936691</td>\n",
       "      <td>2275.216913</td>\n",
       "      <td>4589.595448</td>\n",
       "      <td>4.427189</td>\n",
       "      <td>3.655956</td>\n",
       "      <td>0.556034</td>\n",
       "      <td>3.329852</td>\n",
       "      <td>0.030658</td>\n",
       "      <td>1.010231</td>\n",
       "      <td>4.687015e+36</td>\n",
       "      <td>343.042315</td>\n",
       "      <td>61.408333</td>\n",
       "      <td>102.174306</td>\n",
       "      <td>6.786109</td>\n",
       "      <td>Good</td>\n",
       "    </tr>\n",
       "  </tbody>\n",
       "</table>\n",
       "</div>\n",
       "      <button class=\"colab-df-convert\" onclick=\"convertToInteractive('df-9c95c6de-fd10-4e8a-a509-99399833a5a3')\"\n",
       "              title=\"Convert this dataframe to an interactive table.\"\n",
       "              style=\"display:none;\">\n",
       "        \n",
       "  <svg xmlns=\"http://www.w3.org/2000/svg\" height=\"24px\"viewBox=\"0 0 24 24\"\n",
       "       width=\"24px\">\n",
       "    <path d=\"M0 0h24v24H0V0z\" fill=\"none\"/>\n",
       "    <path d=\"M18.56 5.44l.94 2.06.94-2.06 2.06-.94-2.06-.94-.94-2.06-.94 2.06-2.06.94zm-11 1L8.5 8.5l.94-2.06 2.06-.94-2.06-.94L8.5 2.5l-.94 2.06-2.06.94zm10 10l.94 2.06.94-2.06 2.06-.94-2.06-.94-.94-2.06-.94 2.06-2.06.94z\"/><path d=\"M17.41 7.96l-1.37-1.37c-.4-.4-.92-.59-1.43-.59-.52 0-1.04.2-1.43.59L10.3 9.45l-7.72 7.72c-.78.78-.78 2.05 0 2.83L4 21.41c.39.39.9.59 1.41.59.51 0 1.02-.2 1.41-.59l7.78-7.78 2.81-2.81c.8-.78.8-2.07 0-2.86zM5.41 20L4 18.59l7.72-7.72 1.47 1.35L5.41 20z\"/>\n",
       "  </svg>\n",
       "      </button>\n",
       "      \n",
       "  <style>\n",
       "    .colab-df-container {\n",
       "      display:flex;\n",
       "      flex-wrap:wrap;\n",
       "      gap: 12px;\n",
       "    }\n",
       "\n",
       "    .colab-df-convert {\n",
       "      background-color: #E8F0FE;\n",
       "      border: none;\n",
       "      border-radius: 50%;\n",
       "      cursor: pointer;\n",
       "      display: none;\n",
       "      fill: #1967D2;\n",
       "      height: 32px;\n",
       "      padding: 0 0 0 0;\n",
       "      width: 32px;\n",
       "    }\n",
       "\n",
       "    .colab-df-convert:hover {\n",
       "      background-color: #E2EBFA;\n",
       "      box-shadow: 0px 1px 2px rgba(60, 64, 67, 0.3), 0px 1px 3px 1px rgba(60, 64, 67, 0.15);\n",
       "      fill: #174EA6;\n",
       "    }\n",
       "\n",
       "    [theme=dark] .colab-df-convert {\n",
       "      background-color: #3B4455;\n",
       "      fill: #D2E3FC;\n",
       "    }\n",
       "\n",
       "    [theme=dark] .colab-df-convert:hover {\n",
       "      background-color: #434B5C;\n",
       "      box-shadow: 0px 1px 3px 1px rgba(0, 0, 0, 0.15);\n",
       "      filter: drop-shadow(0px 1px 2px rgba(0, 0, 0, 0.3));\n",
       "      fill: #FFFFFF;\n",
       "    }\n",
       "  </style>\n",
       "\n",
       "      <script>\n",
       "        const buttonEl =\n",
       "          document.querySelector('#df-9c95c6de-fd10-4e8a-a509-99399833a5a3 button.colab-df-convert');\n",
       "        buttonEl.style.display =\n",
       "          google.colab.kernel.accessAllowed ? 'block' : 'none';\n",
       "\n",
       "        async function convertToInteractive(key) {\n",
       "          const element = document.querySelector('#df-9c95c6de-fd10-4e8a-a509-99399833a5a3');\n",
       "          const dataTable =\n",
       "            await google.colab.kernel.invokeFunction('convertToInteractive',\n",
       "                                                     [key], {});\n",
       "          if (!dataTable) return;\n",
       "\n",
       "          const docLinkHtml = 'Like what you see? Visit the ' +\n",
       "            '<a target=\"_blank\" href=https://colab.research.google.com/notebooks/data_table.ipynb>data table notebook</a>'\n",
       "            + ' to learn more about interactive tables.';\n",
       "          element.innerHTML = '';\n",
       "          dataTable['output_type'] = 'display_data';\n",
       "          await google.colab.output.renderOutput(dataTable, element);\n",
       "          const docLink = document.createElement('div');\n",
       "          docLink.innerHTML = docLinkHtml;\n",
       "          element.appendChild(docLink);\n",
       "        }\n",
       "      </script>\n",
       "    </div>\n",
       "  </div>\n",
       "  "
      ],
      "text/plain": [
       "         Date   State Name  New Covid Cases  Population Staying at Home  \\\n",
       "0  2020-01-01      Alabama              0.0                  859.830216   \n",
       "1  2020-01-01   California              0.0                 1161.114551   \n",
       "2  2020-01-01     Colorado              0.0                  766.009791   \n",
       "3  2020-01-01  Connecticut              0.0                  499.490741   \n",
       "4  2020-01-01      Florida              0.0                 1160.936691   \n",
       "\n",
       "   Population Not Staying at Home  Number of Trips  pm10_mean  pm25_mean  \\\n",
       "0                     1710.371305      3245.716331   3.535534   2.868094   \n",
       "1                     2234.236335      4629.817437   4.197069   3.454464   \n",
       "2                     1408.948899      2977.793038   3.201562   2.187598   \n",
       "3                      975.321998      1965.252528   2.280351   1.762456   \n",
       "4                     2275.216913      4589.595448   4.427189   3.655956   \n",
       "\n",
       "    co_mean  no2_mean   o3_mean  so2_mean    press_mean     rh_mean  \\\n",
       "0  0.543782  4.046470  0.033676  0.951766  3.799426e+36  223.283219   \n",
       "1  0.639386  3.185928  0.022262  0.755213  2.689899e+36  318.449161   \n",
       "2  0.570414  3.518695  0.038290  1.050116  5.285798e+35  327.386469   \n",
       "3  0.439804  2.559934  0.024059  0.325265  3.405333e+36  195.157135   \n",
       "4  0.556034  3.329852  0.030658  1.010231  4.687015e+36  343.042315   \n",
       "\n",
       "   temp_mean   wind_mean       AQI  Category  \n",
       "0  48.435555   92.363889  6.055301      Good  \n",
       "1  49.710225   93.809963  7.440329  Moderate  \n",
       "2  31.375000  113.998580  5.524357      Good  \n",
       "3  37.482143  135.210606  4.708149      Good  \n",
       "4  61.408333  102.174306  6.786109      Good  "
      ]
     },
     "execution_count": 2,
     "metadata": {},
     "output_type": "execute_result"
    }
   ],
   "source": [
    "poll_df = pd.read_csv('air_pollution_gauss_cleaned.csv') # Loading normally or gaussian distributed data\n",
    "poll_df.head()"
   ]
  },
  {
   "cell_type": "markdown",
   "id": "194a82d7",
   "metadata": {
    "id": "194a82d7"
   },
   "source": [
    "## Normalization and Scaling of Data"
   ]
  },
  {
   "cell_type": "code",
   "execution_count": 3,
   "id": "3e932d2d",
   "metadata": {
    "colab": {
     "base_uri": "https://localhost:8080/"
    },
    "executionInfo": {
     "elapsed": 9,
     "status": "ok",
     "timestamp": 1670780250975,
     "user": {
      "displayName": "DINESH VENNAPOOSA",
      "userId": "13127725035450374536"
     },
     "user_tz": 300
    },
    "id": "3e932d2d",
    "outputId": "4ddc58a5-0243-44ae-c872-5e24611dae78"
   },
   "outputs": [
    {
     "data": {
      "text/plain": [
       "Index(['Date', 'State Name', 'New Covid Cases', 'Population Staying at Home',\n",
       "       'Population Not Staying at Home', 'Number of Trips', 'pm10_mean',\n",
       "       'pm25_mean', 'co_mean', 'no2_mean', 'o3_mean', 'so2_mean', 'press_mean',\n",
       "       'rh_mean', 'temp_mean', 'wind_mean', 'AQI', 'Category'],\n",
       "      dtype='object')"
      ]
     },
     "execution_count": 3,
     "metadata": {},
     "output_type": "execute_result"
    }
   ],
   "source": [
    "poll_df.columns"
   ]
  },
  {
   "cell_type": "code",
   "execution_count": 4,
   "id": "e2c1325f",
   "metadata": {
    "executionInfo": {
     "elapsed": 2,
     "status": "ok",
     "timestamp": 1670780251105,
     "user": {
      "displayName": "DINESH VENNAPOOSA",
      "userId": "13127725035450374536"
     },
     "user_tz": 300
    },
    "id": "e2c1325f"
   },
   "outputs": [],
   "source": [
    "# from sklearn.preprocessing import StandardScaler\n",
    "# continous_features = ['New Covid Cases', 'Population Staying at Home',\n",
    "#        'Population Not Staying at Home', 'Number of Trips', 'pm10_mean',\n",
    "#        'pm25_mean', 'co_mean', 'no2_mean', 'o3_mean', 'so2_mean', 'press_mean',\n",
    "#        'rh_mean', 'temp_mean', 'wind_mean', 'AQI']\n",
    "\n",
    "# stdScale = StandardScaler()\n",
    "# for col_name in continous_features:\n",
    "#     poll_df[col_name] = stdScale.fit_transform(poll_df[[col_name]])"
   ]
  },
  {
   "cell_type": "code",
   "execution_count": 5,
   "id": "49c8d168",
   "metadata": {
    "colab": {
     "base_uri": "https://localhost:8080/",
     "height": 409
    },
    "executionInfo": {
     "elapsed": 11,
     "status": "ok",
     "timestamp": 1670780251243,
     "user": {
      "displayName": "DINESH VENNAPOOSA",
      "userId": "13127725035450374536"
     },
     "user_tz": 300
    },
    "id": "49c8d168",
    "outputId": "55a565a0-ae3a-4ded-c73e-e55ef5e463af"
   },
   "outputs": [
    {
     "data": {
      "text/html": [
       "\n",
       "  <div id=\"df-9bf63024-8d0e-4fff-9285-7b466c35ad94\">\n",
       "    <div class=\"colab-df-container\">\n",
       "      <div>\n",
       "<style scoped>\n",
       "    .dataframe tbody tr th:only-of-type {\n",
       "        vertical-align: middle;\n",
       "    }\n",
       "\n",
       "    .dataframe tbody tr th {\n",
       "        vertical-align: top;\n",
       "    }\n",
       "\n",
       "    .dataframe thead th {\n",
       "        text-align: right;\n",
       "    }\n",
       "</style>\n",
       "<table border=\"1\" class=\"dataframe\">\n",
       "  <thead>\n",
       "    <tr style=\"text-align: right;\">\n",
       "      <th></th>\n",
       "      <th>Date</th>\n",
       "      <th>State Name</th>\n",
       "      <th>New Covid Cases</th>\n",
       "      <th>Population Staying at Home</th>\n",
       "      <th>Population Not Staying at Home</th>\n",
       "      <th>Number of Trips</th>\n",
       "      <th>pm10_mean</th>\n",
       "      <th>pm25_mean</th>\n",
       "      <th>co_mean</th>\n",
       "      <th>no2_mean</th>\n",
       "      <th>o3_mean</th>\n",
       "      <th>so2_mean</th>\n",
       "      <th>press_mean</th>\n",
       "      <th>rh_mean</th>\n",
       "      <th>temp_mean</th>\n",
       "      <th>wind_mean</th>\n",
       "      <th>AQI</th>\n",
       "      <th>Category</th>\n",
       "    </tr>\n",
       "  </thead>\n",
       "  <tbody>\n",
       "    <tr>\n",
       "      <th>0</th>\n",
       "      <td>2020-01-01</td>\n",
       "      <td>Alabama</td>\n",
       "      <td>0.0</td>\n",
       "      <td>859.830216</td>\n",
       "      <td>1710.371305</td>\n",
       "      <td>3245.716331</td>\n",
       "      <td>3.535534</td>\n",
       "      <td>2.868094</td>\n",
       "      <td>0.543782</td>\n",
       "      <td>4.046470</td>\n",
       "      <td>0.033676</td>\n",
       "      <td>0.951766</td>\n",
       "      <td>3.799426e+36</td>\n",
       "      <td>223.283219</td>\n",
       "      <td>48.435555</td>\n",
       "      <td>92.363889</td>\n",
       "      <td>6.055301</td>\n",
       "      <td>Good</td>\n",
       "    </tr>\n",
       "    <tr>\n",
       "      <th>1</th>\n",
       "      <td>2020-01-01</td>\n",
       "      <td>California</td>\n",
       "      <td>0.0</td>\n",
       "      <td>1161.114551</td>\n",
       "      <td>2234.236335</td>\n",
       "      <td>4629.817437</td>\n",
       "      <td>4.197069</td>\n",
       "      <td>3.454464</td>\n",
       "      <td>0.639386</td>\n",
       "      <td>3.185928</td>\n",
       "      <td>0.022262</td>\n",
       "      <td>0.755213</td>\n",
       "      <td>2.689899e+36</td>\n",
       "      <td>318.449161</td>\n",
       "      <td>49.710225</td>\n",
       "      <td>93.809963</td>\n",
       "      <td>7.440329</td>\n",
       "      <td>Moderate</td>\n",
       "    </tr>\n",
       "    <tr>\n",
       "      <th>2</th>\n",
       "      <td>2020-01-01</td>\n",
       "      <td>Colorado</td>\n",
       "      <td>0.0</td>\n",
       "      <td>766.009791</td>\n",
       "      <td>1408.948899</td>\n",
       "      <td>2977.793038</td>\n",
       "      <td>3.201562</td>\n",
       "      <td>2.187598</td>\n",
       "      <td>0.570414</td>\n",
       "      <td>3.518695</td>\n",
       "      <td>0.038290</td>\n",
       "      <td>1.050116</td>\n",
       "      <td>5.285798e+35</td>\n",
       "      <td>327.386469</td>\n",
       "      <td>31.375000</td>\n",
       "      <td>113.998580</td>\n",
       "      <td>5.524357</td>\n",
       "      <td>Good</td>\n",
       "    </tr>\n",
       "    <tr>\n",
       "      <th>3</th>\n",
       "      <td>2020-01-01</td>\n",
       "      <td>Connecticut</td>\n",
       "      <td>0.0</td>\n",
       "      <td>499.490741</td>\n",
       "      <td>975.321998</td>\n",
       "      <td>1965.252528</td>\n",
       "      <td>2.280351</td>\n",
       "      <td>1.762456</td>\n",
       "      <td>0.439804</td>\n",
       "      <td>2.559934</td>\n",
       "      <td>0.024059</td>\n",
       "      <td>0.325265</td>\n",
       "      <td>3.405333e+36</td>\n",
       "      <td>195.157135</td>\n",
       "      <td>37.482143</td>\n",
       "      <td>135.210606</td>\n",
       "      <td>4.708149</td>\n",
       "      <td>Good</td>\n",
       "    </tr>\n",
       "    <tr>\n",
       "      <th>4</th>\n",
       "      <td>2020-01-01</td>\n",
       "      <td>Florida</td>\n",
       "      <td>0.0</td>\n",
       "      <td>1160.936691</td>\n",
       "      <td>2275.216913</td>\n",
       "      <td>4589.595448</td>\n",
       "      <td>4.427189</td>\n",
       "      <td>3.655956</td>\n",
       "      <td>0.556034</td>\n",
       "      <td>3.329852</td>\n",
       "      <td>0.030658</td>\n",
       "      <td>1.010231</td>\n",
       "      <td>4.687015e+36</td>\n",
       "      <td>343.042315</td>\n",
       "      <td>61.408333</td>\n",
       "      <td>102.174306</td>\n",
       "      <td>6.786109</td>\n",
       "      <td>Good</td>\n",
       "    </tr>\n",
       "  </tbody>\n",
       "</table>\n",
       "</div>\n",
       "      <button class=\"colab-df-convert\" onclick=\"convertToInteractive('df-9bf63024-8d0e-4fff-9285-7b466c35ad94')\"\n",
       "              title=\"Convert this dataframe to an interactive table.\"\n",
       "              style=\"display:none;\">\n",
       "        \n",
       "  <svg xmlns=\"http://www.w3.org/2000/svg\" height=\"24px\"viewBox=\"0 0 24 24\"\n",
       "       width=\"24px\">\n",
       "    <path d=\"M0 0h24v24H0V0z\" fill=\"none\"/>\n",
       "    <path d=\"M18.56 5.44l.94 2.06.94-2.06 2.06-.94-2.06-.94-.94-2.06-.94 2.06-2.06.94zm-11 1L8.5 8.5l.94-2.06 2.06-.94-2.06-.94L8.5 2.5l-.94 2.06-2.06.94zm10 10l.94 2.06.94-2.06 2.06-.94-2.06-.94-.94-2.06-.94 2.06-2.06.94z\"/><path d=\"M17.41 7.96l-1.37-1.37c-.4-.4-.92-.59-1.43-.59-.52 0-1.04.2-1.43.59L10.3 9.45l-7.72 7.72c-.78.78-.78 2.05 0 2.83L4 21.41c.39.39.9.59 1.41.59.51 0 1.02-.2 1.41-.59l7.78-7.78 2.81-2.81c.8-.78.8-2.07 0-2.86zM5.41 20L4 18.59l7.72-7.72 1.47 1.35L5.41 20z\"/>\n",
       "  </svg>\n",
       "      </button>\n",
       "      \n",
       "  <style>\n",
       "    .colab-df-container {\n",
       "      display:flex;\n",
       "      flex-wrap:wrap;\n",
       "      gap: 12px;\n",
       "    }\n",
       "\n",
       "    .colab-df-convert {\n",
       "      background-color: #E8F0FE;\n",
       "      border: none;\n",
       "      border-radius: 50%;\n",
       "      cursor: pointer;\n",
       "      display: none;\n",
       "      fill: #1967D2;\n",
       "      height: 32px;\n",
       "      padding: 0 0 0 0;\n",
       "      width: 32px;\n",
       "    }\n",
       "\n",
       "    .colab-df-convert:hover {\n",
       "      background-color: #E2EBFA;\n",
       "      box-shadow: 0px 1px 2px rgba(60, 64, 67, 0.3), 0px 1px 3px 1px rgba(60, 64, 67, 0.15);\n",
       "      fill: #174EA6;\n",
       "    }\n",
       "\n",
       "    [theme=dark] .colab-df-convert {\n",
       "      background-color: #3B4455;\n",
       "      fill: #D2E3FC;\n",
       "    }\n",
       "\n",
       "    [theme=dark] .colab-df-convert:hover {\n",
       "      background-color: #434B5C;\n",
       "      box-shadow: 0px 1px 3px 1px rgba(0, 0, 0, 0.15);\n",
       "      filter: drop-shadow(0px 1px 2px rgba(0, 0, 0, 0.3));\n",
       "      fill: #FFFFFF;\n",
       "    }\n",
       "  </style>\n",
       "\n",
       "      <script>\n",
       "        const buttonEl =\n",
       "          document.querySelector('#df-9bf63024-8d0e-4fff-9285-7b466c35ad94 button.colab-df-convert');\n",
       "        buttonEl.style.display =\n",
       "          google.colab.kernel.accessAllowed ? 'block' : 'none';\n",
       "\n",
       "        async function convertToInteractive(key) {\n",
       "          const element = document.querySelector('#df-9bf63024-8d0e-4fff-9285-7b466c35ad94');\n",
       "          const dataTable =\n",
       "            await google.colab.kernel.invokeFunction('convertToInteractive',\n",
       "                                                     [key], {});\n",
       "          if (!dataTable) return;\n",
       "\n",
       "          const docLinkHtml = 'Like what you see? Visit the ' +\n",
       "            '<a target=\"_blank\" href=https://colab.research.google.com/notebooks/data_table.ipynb>data table notebook</a>'\n",
       "            + ' to learn more about interactive tables.';\n",
       "          element.innerHTML = '';\n",
       "          dataTable['output_type'] = 'display_data';\n",
       "          await google.colab.output.renderOutput(dataTable, element);\n",
       "          const docLink = document.createElement('div');\n",
       "          docLink.innerHTML = docLinkHtml;\n",
       "          element.appendChild(docLink);\n",
       "        }\n",
       "      </script>\n",
       "    </div>\n",
       "  </div>\n",
       "  "
      ],
      "text/plain": [
       "         Date   State Name  New Covid Cases  Population Staying at Home  \\\n",
       "0  2020-01-01      Alabama              0.0                  859.830216   \n",
       "1  2020-01-01   California              0.0                 1161.114551   \n",
       "2  2020-01-01     Colorado              0.0                  766.009791   \n",
       "3  2020-01-01  Connecticut              0.0                  499.490741   \n",
       "4  2020-01-01      Florida              0.0                 1160.936691   \n",
       "\n",
       "   Population Not Staying at Home  Number of Trips  pm10_mean  pm25_mean  \\\n",
       "0                     1710.371305      3245.716331   3.535534   2.868094   \n",
       "1                     2234.236335      4629.817437   4.197069   3.454464   \n",
       "2                     1408.948899      2977.793038   3.201562   2.187598   \n",
       "3                      975.321998      1965.252528   2.280351   1.762456   \n",
       "4                     2275.216913      4589.595448   4.427189   3.655956   \n",
       "\n",
       "    co_mean  no2_mean   o3_mean  so2_mean    press_mean     rh_mean  \\\n",
       "0  0.543782  4.046470  0.033676  0.951766  3.799426e+36  223.283219   \n",
       "1  0.639386  3.185928  0.022262  0.755213  2.689899e+36  318.449161   \n",
       "2  0.570414  3.518695  0.038290  1.050116  5.285798e+35  327.386469   \n",
       "3  0.439804  2.559934  0.024059  0.325265  3.405333e+36  195.157135   \n",
       "4  0.556034  3.329852  0.030658  1.010231  4.687015e+36  343.042315   \n",
       "\n",
       "   temp_mean   wind_mean       AQI  Category  \n",
       "0  48.435555   92.363889  6.055301      Good  \n",
       "1  49.710225   93.809963  7.440329  Moderate  \n",
       "2  31.375000  113.998580  5.524357      Good  \n",
       "3  37.482143  135.210606  4.708149      Good  \n",
       "4  61.408333  102.174306  6.786109      Good  "
      ]
     },
     "execution_count": 5,
     "metadata": {},
     "output_type": "execute_result"
    }
   ],
   "source": [
    "poll_df.head()"
   ]
  },
  {
   "cell_type": "markdown",
   "id": "41d56ea4",
   "metadata": {
    "id": "41d56ea4"
   },
   "source": [
    "## Splitting into Dependent and Independent Features"
   ]
  },
  {
   "cell_type": "code",
   "execution_count": 6,
   "id": "79d0f1b7",
   "metadata": {
    "executionInfo": {
     "elapsed": 9,
     "status": "ok",
     "timestamp": 1670780251244,
     "user": {
      "displayName": "DINESH VENNAPOOSA",
      "userId": "13127725035450374536"
     },
     "user_tz": 300
    },
    "id": "79d0f1b7"
   },
   "outputs": [],
   "source": [
    "X = poll_df[['New Covid Cases', 'Population Staying at Home',\n",
    "       'Population Not Staying at Home', 'Number of Trips', 'pm10_mean',\n",
    "       'pm25_mean', 'co_mean', 'no2_mean', 'o3_mean', 'so2_mean', 'press_mean',\n",
    "       'rh_mean', 'temp_mean', 'wind_mean']].values\n",
    "y = poll_df['AQI'].values"
   ]
  },
  {
   "cell_type": "markdown",
   "id": "caa297c2",
   "metadata": {
    "id": "caa297c2"
   },
   "source": [
    "## Regression Model Building Unbalanced Data or Original Data"
   ]
  },
  {
   "cell_type": "markdown",
   "id": "a85cf965",
   "metadata": {
    "id": "a85cf965"
   },
   "source": [
    "### Normalization and Scaling of Data"
   ]
  },
  {
   "cell_type": "code",
   "execution_count": 7,
   "id": "2e5f0be5",
   "metadata": {
    "executionInfo": {
     "elapsed": 2,
     "status": "ok",
     "timestamp": 1670780251806,
     "user": {
      "displayName": "DINESH VENNAPOOSA",
      "userId": "13127725035450374536"
     },
     "user_tz": 300
    },
    "id": "2e5f0be5"
   },
   "outputs": [],
   "source": [
    "sc_X = StandardScaler()\n",
    "sc_y = StandardScaler()"
   ]
  },
  {
   "cell_type": "code",
   "execution_count": 8,
   "id": "3323e5c2",
   "metadata": {
    "executionInfo": {
     "elapsed": 4,
     "status": "ok",
     "timestamp": 1670780252096,
     "user": {
      "displayName": "DINESH VENNAPOOSA",
      "userId": "13127725035450374536"
     },
     "user_tz": 300
    },
    "id": "3323e5c2"
   },
   "outputs": [],
   "source": [
    "X = sc_X.fit_transform(X)"
   ]
  },
  {
   "cell_type": "markdown",
   "id": "877cbbf9",
   "metadata": {
    "id": "877cbbf9"
   },
   "source": [
    "### Splitting the dataset into the Training set and Test set"
   ]
  },
  {
   "cell_type": "code",
   "execution_count": 9,
   "id": "0798e69a",
   "metadata": {
    "executionInfo": {
     "elapsed": 2,
     "status": "ok",
     "timestamp": 1670780252509,
     "user": {
      "displayName": "DINESH VENNAPOOSA",
      "userId": "13127725035450374536"
     },
     "user_tz": 300
    },
    "id": "0798e69a"
   },
   "outputs": [],
   "source": [
    "from sklearn.model_selection import train_test_split\n",
    "X_train, X_test, y_train, y_test = train_test_split(X, y, test_size = 0.2, random_state = 0)"
   ]
  },
  {
   "cell_type": "markdown",
   "id": "756c788a",
   "metadata": {
    "id": "756c788a"
   },
   "source": [
    "### Multilinear Regression"
   ]
  },
  {
   "cell_type": "markdown",
   "id": "c9bd612a",
   "metadata": {
    "id": "c9bd612a"
   },
   "source": [
    "#### Training the Multiple Linear Regression Model"
   ]
  },
  {
   "cell_type": "code",
   "execution_count": 10,
   "id": "64b28cc6",
   "metadata": {
    "colab": {
     "base_uri": "https://localhost:8080/"
    },
    "executionInfo": {
     "elapsed": 4,
     "status": "ok",
     "timestamp": 1670780253277,
     "user": {
      "displayName": "DINESH VENNAPOOSA",
      "userId": "13127725035450374536"
     },
     "user_tz": 300
    },
    "id": "64b28cc6",
    "outputId": "67e2e70a-4fa3-4258-eaa6-f253e2abe196"
   },
   "outputs": [
    {
     "data": {
      "text/plain": [
       "LinearRegression()"
      ]
     },
     "execution_count": 10,
     "metadata": {},
     "output_type": "execute_result"
    }
   ],
   "source": [
    "from sklearn.linear_model import LinearRegression\n",
    "regressor = LinearRegression()\n",
    "regressor.fit(X_train, y_train)"
   ]
  },
  {
   "cell_type": "markdown",
   "id": "69430156",
   "metadata": {
    "id": "69430156"
   },
   "source": [
    "#### Predicting the Test set results"
   ]
  },
  {
   "cell_type": "code",
   "execution_count": 11,
   "id": "ddd14099",
   "metadata": {
    "colab": {
     "base_uri": "https://localhost:8080/"
    },
    "executionInfo": {
     "elapsed": 2,
     "status": "ok",
     "timestamp": 1670780253400,
     "user": {
      "displayName": "DINESH VENNAPOOSA",
      "userId": "13127725035450374536"
     },
     "user_tz": 300
    },
    "id": "ddd14099",
    "outputId": "f01a3216-8509-4a47-8fa3-4fe32ea8d441"
   },
   "outputs": [
    {
     "name": "stdout",
     "output_type": "stream",
     "text": [
      "[[6.97 8.01]\n",
      " [5.27 5.56]\n",
      " [5.66 5.55]\n",
      " ...\n",
      " [7.06 6.97]\n",
      " [4.85 4.09]\n",
      " [4.53 4.98]]\n"
     ]
    }
   ],
   "source": [
    "y_pred = regressor.predict(X_test)\n",
    "np.set_printoptions(precision=2)\n",
    "print(np.concatenate((y_pred.reshape(len(y_pred),1), y_test.reshape(len(y_test),1)),1))"
   ]
  },
  {
   "cell_type": "markdown",
   "id": "47b108dd",
   "metadata": {
    "id": "47b108dd"
   },
   "source": [
    "#### Evaluating the Model Performance"
   ]
  },
  {
   "cell_type": "code",
   "execution_count": 12,
   "id": "dfe0fc3e",
   "metadata": {
    "colab": {
     "base_uri": "https://localhost:8080/"
    },
    "executionInfo": {
     "elapsed": 2,
     "status": "ok",
     "timestamp": 1670780254421,
     "user": {
      "displayName": "DINESH VENNAPOOSA",
      "userId": "13127725035450374536"
     },
     "user_tz": 300
    },
    "id": "dfe0fc3e",
    "outputId": "ccc02e13-ec69-4889-ae09-315aa421fb1a"
   },
   "outputs": [
    {
     "name": "stdout",
     "output_type": "stream",
     "text": [
      "MAE: 0.34554034767153985\n",
      "MSE: 0.20368481622451953\n",
      "RMSE: 0.451314542447415\n",
      "R squared value:  0.7265964894300025\n"
     ]
    }
   ],
   "source": [
    "from sklearn.metrics import r2_score\n",
    "\n",
    "print('MAE:', metrics.mean_absolute_error(y_test,y_pred))\n",
    "print('MSE:', metrics.mean_squared_error(y_test, y_pred))\n",
    "print('RMSE:', np.sqrt(metrics.mean_squared_error(y_test, y_pred)))\n",
    "print(\"R squared value: \",r2_score(y_test, y_pred))"
   ]
  },
  {
   "cell_type": "markdown",
   "id": "24fbf66d",
   "metadata": {
    "id": "24fbf66d"
   },
   "source": [
    "### Multiple linear Regression K fold cross validation and Grid search"
   ]
  },
  {
   "cell_type": "markdown",
   "id": "DEC2rkZX5WCD",
   "metadata": {
    "id": "DEC2rkZX5WCD"
   },
   "source": [
    "#### Training"
   ]
  },
  {
   "cell_type": "code",
   "execution_count": 13,
   "id": "0cdbb43e",
   "metadata": {
    "executionInfo": {
     "elapsed": 2,
     "status": "ok",
     "timestamp": 1670780254554,
     "user": {
      "displayName": "DINESH VENNAPOOSA",
      "userId": "13127725035450374536"
     },
     "user_tz": 300
    },
    "id": "0cdbb43e"
   },
   "outputs": [],
   "source": [
    "from sklearn.linear_model import LinearRegression\n",
    "regressor = LinearRegression()"
   ]
  },
  {
   "cell_type": "code",
   "execution_count": 14,
   "id": "2df1c9f5",
   "metadata": {
    "executionInfo": {
     "elapsed": 3,
     "status": "ok",
     "timestamp": 1670780254853,
     "user": {
      "displayName": "DINESH VENNAPOOSA",
      "userId": "13127725035450374536"
     },
     "user_tz": 300
    },
    "id": "2df1c9f5"
   },
   "outputs": [],
   "source": [
    "cv=cross_validate(regressor, X, y, cv=3)"
   ]
  },
  {
   "cell_type": "code",
   "execution_count": 15,
   "id": "f9b21fbc",
   "metadata": {
    "colab": {
     "base_uri": "https://localhost:8080/"
    },
    "executionInfo": {
     "elapsed": 7,
     "status": "ok",
     "timestamp": 1670780255591,
     "user": {
      "displayName": "DINESH VENNAPOOSA",
      "userId": "13127725035450374536"
     },
     "user_tz": 300
    },
    "id": "f9b21fbc",
    "outputId": "83b70e7d-fb54-41fb-afac-f3cd2fcc82e1"
   },
   "outputs": [
    {
     "name": "stdout",
     "output_type": "stream",
     "text": [
      "3 folds accuracy: [64.35 68.54 77.04]\n",
      "mean accuracy of 3 folds: 69.97864448561879 %\n"
     ]
    }
   ],
   "source": [
    "print('3 folds accuracy:',cv['test_score']*100)\n",
    "print('mean accuracy of 3 folds:',cv['test_score'].mean()*100,'%')"
   ]
  },
  {
   "cell_type": "markdown",
   "id": "gWah80oYQdE7",
   "metadata": {
    "id": "gWah80oYQdE7"
   },
   "source": [
    "#### Grid Search"
   ]
  },
  {
   "cell_type": "code",
   "execution_count": 16,
   "id": "97a37d6f",
   "metadata": {
    "executionInfo": {
     "elapsed": 2,
     "status": "ok",
     "timestamp": 1670780255692,
     "user": {
      "displayName": "DINESH VENNAPOOSA",
      "userId": "13127725035450374536"
     },
     "user_tz": 300
    },
    "id": "97a37d6f"
   },
   "outputs": [],
   "source": [
    "param_grid={'fit_intercept':[True,False], 'normalize':[True,False], 'copy_X':[True, False]}"
   ]
  },
  {
   "cell_type": "code",
   "execution_count": 17,
   "id": "9c9d96ff",
   "metadata": {
    "executionInfo": {
     "elapsed": 3,
     "status": "ok",
     "timestamp": 1670780255693,
     "user": {
      "displayName": "DINESH VENNAPOOSA",
      "userId": "13127725035450374536"
     },
     "user_tz": 300
    },
    "id": "9c9d96ff"
   },
   "outputs": [],
   "source": [
    "grid_search = GridSearchCV(estimator = regressor, param_grid = param_grid, \n",
    "                          cv = 3, n_jobs = -1, verbose = 2)"
   ]
  },
  {
   "cell_type": "code",
   "execution_count": 18,
   "id": "854a7ef4",
   "metadata": {
    "colab": {
     "base_uri": "https://localhost:8080/"
    },
    "executionInfo": {
     "elapsed": 1406,
     "status": "ok",
     "timestamp": 1670780257214,
     "user": {
      "displayName": "DINESH VENNAPOOSA",
      "userId": "13127725035450374536"
     },
     "user_tz": 300
    },
    "id": "854a7ef4",
    "outputId": "ee361dbd-6084-492b-b053-4a8121b2f28a"
   },
   "outputs": [
    {
     "name": "stdout",
     "output_type": "stream",
     "text": [
      "Fitting 3 folds for each of 8 candidates, totalling 24 fits\n"
     ]
    },
    {
     "name": "stderr",
     "output_type": "stream",
     "text": [
      "/usr/local/lib/python3.8/dist-packages/sklearn/linear_model/_base.py:141: FutureWarning: 'normalize' was deprecated in version 1.0 and will be removed in 1.2.\n",
      "If you wish to scale the data, use Pipeline with a StandardScaler in a preprocessing stage. To reproduce the previous behavior:\n",
      "\n",
      "from sklearn.pipeline import make_pipeline\n",
      "\n",
      "model = make_pipeline(StandardScaler(with_mean=False), LinearRegression())\n",
      "\n",
      "If you wish to pass a sample_weight parameter, you need to pass it as a fit parameter to each step of the pipeline as follows:\n",
      "\n",
      "kwargs = {s[0] + '__sample_weight': sample_weight for s in model.steps}\n",
      "model.fit(X, y, **kwargs)\n",
      "\n",
      "\n",
      "  warnings.warn(\n"
     ]
    },
    {
     "data": {
      "text/plain": [
       "GridSearchCV(cv=3, estimator=LinearRegression(), n_jobs=-1,\n",
       "             param_grid={'copy_X': [True, False],\n",
       "                         'fit_intercept': [True, False],\n",
       "                         'normalize': [True, False]},\n",
       "             verbose=2)"
      ]
     },
     "execution_count": 18,
     "metadata": {},
     "output_type": "execute_result"
    }
   ],
   "source": [
    "grid_search.fit(X_train, y_train)"
   ]
  },
  {
   "cell_type": "markdown",
   "id": "-YFx_CiD5ZjH",
   "metadata": {
    "id": "-YFx_CiD5ZjH"
   },
   "source": [
    "#### Prediction"
   ]
  },
  {
   "cell_type": "code",
   "execution_count": 19,
   "id": "fef66e17",
   "metadata": {
    "colab": {
     "base_uri": "https://localhost:8080/"
    },
    "executionInfo": {
     "elapsed": 11,
     "status": "ok",
     "timestamp": 1670780257215,
     "user": {
      "displayName": "DINESH VENNAPOOSA",
      "userId": "13127725035450374536"
     },
     "user_tz": 300
    },
    "id": "fef66e17",
    "outputId": "e718a412-cfa8-450f-99eb-ecc03dbbfd06"
   },
   "outputs": [
    {
     "name": "stdout",
     "output_type": "stream",
     "text": [
      "MAE: 0.34554034767153985\n",
      "MSE: 0.2036848162245195\n",
      "RMSE: 0.4513145424474149\n",
      "R squared value:  0.7265964894300027\n"
     ]
    }
   ],
   "source": [
    "from sklearn.metrics import r2_score\n",
    "y_pred = grid_search.predict(X_test)\n",
    "print('MAE:', metrics.mean_absolute_error(y_test,y_pred))\n",
    "print('MSE:', metrics.mean_squared_error(y_test, y_pred))\n",
    "print('RMSE:', np.sqrt(metrics.mean_squared_error(y_test, y_pred)))\n",
    "print(\"R squared value: \",r2_score(y_test, y_pred))"
   ]
  },
  {
   "cell_type": "markdown",
   "id": "EL-flCgA5dqH",
   "metadata": {
    "id": "EL-flCgA5dqH"
   },
   "source": [
    "#### Plotting Results"
   ]
  },
  {
   "cell_type": "code",
   "execution_count": 20,
   "id": "3945671d",
   "metadata": {
    "colab": {
     "base_uri": "https://localhost:8080/",
     "height": 367
    },
    "executionInfo": {
     "elapsed": 621,
     "status": "ok",
     "timestamp": 1670780257831,
     "user": {
      "displayName": "DINESH VENNAPOOSA",
      "userId": "13127725035450374536"
     },
     "user_tz": 300
    },
    "id": "3945671d",
    "outputId": "99157708-5cf8-439f-e8f0-6ad2913ef8d8"
   },
   "outputs": [
    {
     "data": {
      "text/plain": [
       "Text(0, 0.5, 'Predicted Values')"
      ]
     },
     "execution_count": 20,
     "metadata": {},
     "output_type": "execute_result"
    },
    {
     "data": {
      "image/png": "[encoded data removed]",
      "text/plain": [
       "<Figure size 576x360 with 1 Axes>"
      ]
     },
     "metadata": {
      "needs_background": "light"
     },
     "output_type": "display_data"
    }
   ],
   "source": [
    "import seaborn as sns\n",
    "plt.figure(figsize=(8,5))\n",
    "sns.regplot(x=y_test,y=y_pred,ci=None,color ='red');\n",
    "plt.title('Multiple Linear Regression with Grid Search')\n",
    "plt.xlabel('Actual Values')\n",
    "plt.ylabel('Predicted Values')"
   ]
  },
  {
   "cell_type": "code",
   "execution_count": 20,
   "id": "NH-NCmz1Q4Cz",
   "metadata": {
    "executionInfo": {
     "elapsed": 8,
     "status": "ok",
     "timestamp": 1670780257832,
     "user": {
      "displayName": "DINESH VENNAPOOSA",
      "userId": "13127725035450374536"
     },
     "user_tz": 300
    },
    "id": "NH-NCmz1Q4Cz"
   },
   "outputs": [],
   "source": []
  }
 ],
 "metadata": {
  "accelerator": "GPU",
  "colab": {
   "provenance": []
  },
  "gpuClass": "standard",
  "kernelspec": {
   "display_name": "Python 3 (ipykernel)",
   "language": "python",
   "name": "python3"
  },
  "language_info": {
   "codemirror_mode": {
    "name": "ipython",
    "version": 3
   },
   "file_extension": ".py",
   "mimetype": "text/x-python",
   "name": "python",
   "nbconvert_exporter": "python",
   "pygments_lexer": "ipython3",
   "version": "3.10.6"
  }
 },
 "nbformat": 4,
 "nbformat_minor": 5
}
