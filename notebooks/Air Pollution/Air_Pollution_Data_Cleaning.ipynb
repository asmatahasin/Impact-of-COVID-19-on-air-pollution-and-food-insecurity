{
 "cells": [
  {
   "cell_type": "markdown",
   "id": "fc121f93",
   "metadata": {},
   "source": [
    "### Data Cleaning"
   ]
  },
  {
   "cell_type": "markdown",
   "id": "23f4520b",
   "metadata": {},
   "source": [
    "#### Extracting Data from Database"
   ]
  },
  {
   "cell_type": "code",
   "execution_count": 168,
   "id": "9cf2a31b",
   "metadata": {},
   "outputs": [],
   "source": [
    "import MySQLdb\n",
    "import matplotlib.pyplot as plt\n",
    "\n",
    "#SQL Connection \n",
    "myvars = {}\n",
    "with open(\"divenna-mysql-password\") as myfile:\n",
    "    for line in myfile:\n",
    "        name, var = line.partition(\":\")[::2]\n",
    "        myvars[name.strip()] = var.strip()\n",
    "\n",
    "conn = MySQLdb.connect(host=\"localhost\", user=myvars['DB username'], passwd=myvars['DB password'], db=myvars['DB databasename'])\n",
    "cursor = conn.cursor()\n",
    "\n",
    "cursor.execute('SELECT * FROM new_cases_covid_air_pollution');\n",
    "rows = cursor.fetchall()"
   ]
  },
  {
   "cell_type": "code",
   "execution_count": 169,
   "id": "39dda005",
   "metadata": {},
   "outputs": [
    {
     "data": {
      "text/html": [
       "<div>\n",
       "<style scoped>\n",
       "    .dataframe tbody tr th:only-of-type {\n",
       "        vertical-align: middle;\n",
       "    }\n",
       "\n",
       "    .dataframe tbody tr th {\n",
       "        vertical-align: top;\n",
       "    }\n",
       "\n",
       "    .dataframe thead th {\n",
       "        text-align: right;\n",
       "    }\n",
       "</style>\n",
       "<table border=\"1\" class=\"dataframe\">\n",
       "  <thead>\n",
       "    <tr style=\"text-align: right;\">\n",
       "      <th></th>\n",
       "      <th>Date</th>\n",
       "      <th>State Name</th>\n",
       "      <th>New Covid Cases</th>\n",
       "      <th>Population Staying at Home</th>\n",
       "      <th>Population Not Staying at Home</th>\n",
       "      <th>Number of Trips</th>\n",
       "      <th>pm10_mean</th>\n",
       "      <th>pm25_mean</th>\n",
       "      <th>co_mean</th>\n",
       "      <th>no2_mean</th>\n",
       "      <th>o3_mean</th>\n",
       "      <th>so2_mean</th>\n",
       "      <th>press_mean</th>\n",
       "      <th>rh_mean</th>\n",
       "      <th>temp_mean</th>\n",
       "      <th>wind_mean</th>\n",
       "      <th>AQI</th>\n",
       "      <th>Category</th>\n",
       "    </tr>\n",
       "  </thead>\n",
       "  <tbody>\n",
       "    <tr>\n",
       "      <th>1</th>\n",
       "      <td>2020-01-01</td>\n",
       "      <td>Alabama</td>\n",
       "      <td>0.0</td>\n",
       "      <td>739308.0</td>\n",
       "      <td>2925370.0</td>\n",
       "      <td>10534674.5</td>\n",
       "      <td>12.5</td>\n",
       "      <td>8.225961538461538</td>\n",
       "      <td>0.29569833333333334</td>\n",
       "      <td>16.373918</td>\n",
       "      <td>0.0336765</td>\n",
       "      <td>0.9058586999999999</td>\n",
       "      <td>1000.6108335</td>\n",
       "      <td>50.48055566666667</td>\n",
       "      <td>48.43555533333333</td>\n",
       "      <td>92.36388883333332</td>\n",
       "      <td>36.666666666666664</td>\n",
       "      <td>Good</td>\n",
       "    </tr>\n",
       "    <tr>\n",
       "      <th>2</th>\n",
       "      <td>2020-01-01</td>\n",
       "      <td>California</td>\n",
       "      <td>0.0</td>\n",
       "      <td>1348187.0</td>\n",
       "      <td>4991812.0</td>\n",
       "      <td>21435209.5</td>\n",
       "      <td>17.615384615384617</td>\n",
       "      <td>11.933323307692309</td>\n",
       "      <td>0.4088139016393443</td>\n",
       "      <td>10.150139947368421</td>\n",
       "      <td>0.0222615375</td>\n",
       "      <td>0.5703462549019608</td>\n",
       "      <td>973.4697712352942</td>\n",
       "      <td>64.12796427835052</td>\n",
       "      <td>49.71022480921053</td>\n",
       "      <td>93.80996312891986</td>\n",
       "      <td>55.35849056603774</td>\n",
       "      <td>Moderate</td>\n",
       "    </tr>\n",
       "    <tr>\n",
       "      <th>3</th>\n",
       "      <td>2020-01-01</td>\n",
       "      <td>Colorado</td>\n",
       "      <td>0.0</td>\n",
       "      <td>586771.0</td>\n",
       "      <td>1985137.0</td>\n",
       "      <td>8867251.375</td>\n",
       "      <td>10.25</td>\n",
       "      <td>4.7855855405405405</td>\n",
       "      <td>0.3253724375</td>\n",
       "      <td>12.381217833333332</td>\n",
       "      <td>0.03829023333333333</td>\n",
       "      <td>1.1027434375</td>\n",
       "      <td>814.8075001999999</td>\n",
       "      <td>65.33611106666666</td>\n",
       "      <td>31.374999962962963</td>\n",
       "      <td>113.99857954545455</td>\n",
       "      <td>30.51851851851852</td>\n",
       "      <td>Good</td>\n",
       "    </tr>\n",
       "    <tr>\n",
       "      <th>4</th>\n",
       "      <td>2020-01-01</td>\n",
       "      <td>Connecticut</td>\n",
       "      <td>0.0</td>\n",
       "      <td>249491.0</td>\n",
       "      <td>951253.0</td>\n",
       "      <td>3862217.5</td>\n",
       "      <td>5.2</td>\n",
       "      <td>3.10625</td>\n",
       "      <td>0.19342766666666666</td>\n",
       "      <td>6.553260750000001</td>\n",
       "      <td>0.0240585</td>\n",
       "      <td>0.10579716666666666</td>\n",
       "      <td>991.923611</td>\n",
       "      <td>46.104166500000005</td>\n",
       "      <td>37.482142714285715</td>\n",
       "      <td>135.21060604545454</td>\n",
       "      <td>22.166666666666668</td>\n",
       "      <td>Good</td>\n",
       "    </tr>\n",
       "    <tr>\n",
       "      <th>5</th>\n",
       "      <td>2020-01-01</td>\n",
       "      <td>Florida</td>\n",
       "      <td>0.0</td>\n",
       "      <td>1347774.0</td>\n",
       "      <td>5176612.0</td>\n",
       "      <td>21064386.375</td>\n",
       "      <td>19.6</td>\n",
       "      <td>13.366013058823528</td>\n",
       "      <td>0.30917433333333333</td>\n",
       "      <td>11.0879167</td>\n",
       "      <td>0.030657800000000002</td>\n",
       "      <td>1.0205663157894738</td>\n",
       "      <td>1017.4791665</td>\n",
       "      <td>67.42708350000001</td>\n",
       "      <td>61.408333400000004</td>\n",
       "      <td>102.17430566666667</td>\n",
       "      <td>46.05128205128205</td>\n",
       "      <td>Good</td>\n",
       "    </tr>\n",
       "  </tbody>\n",
       "</table>\n",
       "</div>"
      ],
      "text/plain": [
       "         Date   State Name New Covid Cases Population Staying at Home  \\\n",
       "1  2020-01-01      Alabama             0.0                   739308.0   \n",
       "2  2020-01-01   California             0.0                  1348187.0   \n",
       "3  2020-01-01     Colorado             0.0                   586771.0   \n",
       "4  2020-01-01  Connecticut             0.0                   249491.0   \n",
       "5  2020-01-01      Florida             0.0                  1347774.0   \n",
       "\n",
       "  Population Not Staying at Home Number of Trips           pm10_mean  \\\n",
       "1                      2925370.0      10534674.5                12.5   \n",
       "2                      4991812.0      21435209.5  17.615384615384617   \n",
       "3                      1985137.0     8867251.375               10.25   \n",
       "4                       951253.0       3862217.5                 5.2   \n",
       "5                      5176612.0    21064386.375                19.6   \n",
       "\n",
       "            pm25_mean              co_mean            no2_mean  \\\n",
       "1   8.225961538461538  0.29569833333333334           16.373918   \n",
       "2  11.933323307692309   0.4088139016393443  10.150139947368421   \n",
       "3  4.7855855405405405         0.3253724375  12.381217833333332   \n",
       "4             3.10625  0.19342766666666666   6.553260750000001   \n",
       "5  13.366013058823528  0.30917433333333333          11.0879167   \n",
       "\n",
       "                o3_mean             so2_mean         press_mean  \\\n",
       "1             0.0336765   0.9058586999999999       1000.6108335   \n",
       "2          0.0222615375   0.5703462549019608  973.4697712352942   \n",
       "3   0.03829023333333333         1.1027434375  814.8075001999999   \n",
       "4             0.0240585  0.10579716666666666         991.923611   \n",
       "5  0.030657800000000002   1.0205663157894738       1017.4791665   \n",
       "\n",
       "              rh_mean           temp_mean           wind_mean  \\\n",
       "1   50.48055566666667   48.43555533333333   92.36388883333332   \n",
       "2   64.12796427835052   49.71022480921053   93.80996312891986   \n",
       "3   65.33611106666666  31.374999962962963  113.99857954545455   \n",
       "4  46.104166500000005  37.482142714285715  135.21060604545454   \n",
       "5   67.42708350000001  61.408333400000004  102.17430566666667   \n",
       "\n",
       "                  AQI  Category  \n",
       "1  36.666666666666664      Good  \n",
       "2   55.35849056603774  Moderate  \n",
       "3   30.51851851851852      Good  \n",
       "4  22.166666666666668      Good  \n",
       "5   46.05128205128205      Good  "
      ]
     },
     "execution_count": 169,
     "metadata": {},
     "output_type": "execute_result"
    }
   ],
   "source": [
    "import pandas as pd\n",
    "data = list(rows)\n",
    "poll_df = pd.DataFrame(data,columns = ['Date', 'State Name', 'New Covid Cases', 'Population Staying at Home',\n",
    "       'Population Not Staying at Home', 'Number of Trips', 'pm10_mean',\n",
    "       'pm25_mean', 'co_mean', 'no2_mean', 'o3_mean', 'so2_mean', 'press_mean',\n",
    "       'rh_mean', 'temp_mean', 'wind_mean', 'AQI', 'Category'])\n",
    "poll_df.drop(0,axis=0,inplace =True)\n",
    "poll_df.head()"
   ]
  },
  {
   "cell_type": "code",
   "execution_count": 1,
   "id": "242107a7",
   "metadata": {},
   "outputs": [
    {
     "data": {
      "text/plain": [
       "(23162, 18)"
      ]
     },
     "execution_count": 1,
     "metadata": {},
     "output_type": "execute_result"
    }
   ],
   "source": [
    "import pandas as pd\n",
    "poll_df = pd.read_csv('new_cases_covid_air_pollution.csv')\n",
    "poll_df.shape"
   ]
  },
  {
   "cell_type": "code",
   "execution_count": 2,
   "id": "5559d993",
   "metadata": {},
   "outputs": [
    {
     "data": {
      "text/plain": [
       "Index(['Date', 'State Name', 'New Covid Cases', 'Population Staying at Home',\n",
       "       'Population Not Staying at Home', 'Number of Trips', 'pm10_mean',\n",
       "       'pm25_mean', 'co_mean', 'no2_mean', 'o3_mean', 'so2_mean', 'press_mean',\n",
       "       'rh_mean', 'temp_mean', 'wind_mean', 'AQI', 'Category'],\n",
       "      dtype='object')"
      ]
     },
     "execution_count": 2,
     "metadata": {},
     "output_type": "execute_result"
    }
   ],
   "source": [
    "poll_df.columns"
   ]
  },
  {
   "cell_type": "code",
   "execution_count": 3,
   "id": "67e801b0",
   "metadata": {},
   "outputs": [
    {
     "data": {
      "text/plain": [
       "3749.0"
      ]
     },
     "execution_count": 3,
     "metadata": {},
     "output_type": "execute_result"
    }
   ],
   "source": [
    "poll_df['New Covid Cases'].max()"
   ]
  },
  {
   "cell_type": "markdown",
   "id": "1305bb68",
   "metadata": {},
   "source": [
    "#### Handling Missing Values"
   ]
  },
  {
   "cell_type": "code",
   "execution_count": 4,
   "id": "2469458a",
   "metadata": {},
   "outputs": [
    {
     "data": {
      "text/plain": [
       "Date                              0\n",
       "State Name                        0\n",
       "New Covid Cases                   0\n",
       "Population Staying at Home        0\n",
       "Population Not Staying at Home    0\n",
       "Number of Trips                   0\n",
       "pm10_mean                         0\n",
       "pm25_mean                         0\n",
       "co_mean                           0\n",
       "no2_mean                          0\n",
       "o3_mean                           0\n",
       "so2_mean                          0\n",
       "press_mean                        0\n",
       "rh_mean                           0\n",
       "temp_mean                         0\n",
       "wind_mean                         0\n",
       "AQI                               0\n",
       "Category                          0\n",
       "dtype: int64"
      ]
     },
     "execution_count": 4,
     "metadata": {},
     "output_type": "execute_result"
    }
   ],
   "source": [
    "#To find the number of `Nan` objects within the given series\n",
    "poll_df.isna().sum()"
   ]
  },
  {
   "cell_type": "markdown",
   "id": "2cc03be3",
   "metadata": {},
   "source": [
    "Data frame has zero missing values"
   ]
  },
  {
   "cell_type": "markdown",
   "id": "559c70c3",
   "metadata": {},
   "source": [
    "#### Handling Duplicates"
   ]
  },
  {
   "cell_type": "code",
   "execution_count": 5,
   "id": "5e1becec",
   "metadata": {},
   "outputs": [
    {
     "data": {
      "text/plain": [
       "(23162, 18)"
      ]
     },
     "execution_count": 5,
     "metadata": {},
     "output_type": "execute_result"
    }
   ],
   "source": [
    "poll_df.shape"
   ]
  },
  {
   "cell_type": "code",
   "execution_count": 6,
   "id": "33f592fe",
   "metadata": {
    "scrolled": true
   },
   "outputs": [
    {
     "data": {
      "text/plain": [
       "False    23162\n",
       "dtype: int64"
      ]
     },
     "execution_count": 6,
     "metadata": {},
     "output_type": "execute_result"
    }
   ],
   "source": [
    "poll_df.duplicated().value_counts()"
   ]
  },
  {
   "cell_type": "code",
   "execution_count": 7,
   "id": "a3466a20",
   "metadata": {},
   "outputs": [],
   "source": [
    "poll_df.drop_duplicates(inplace = True)"
   ]
  },
  {
   "cell_type": "code",
   "execution_count": 8,
   "id": "d1d4ee8c",
   "metadata": {
    "scrolled": true
   },
   "outputs": [
    {
     "data": {
      "text/plain": [
       "(23162, 18)"
      ]
     },
     "execution_count": 8,
     "metadata": {},
     "output_type": "execute_result"
    }
   ],
   "source": [
    "poll_df.shape"
   ]
  },
  {
   "cell_type": "markdown",
   "id": "4c2c441c",
   "metadata": {},
   "source": [
    "There are no duplicate instances present in the dataset"
   ]
  },
  {
   "cell_type": "markdown",
   "id": "9f48c219",
   "metadata": {},
   "source": [
    "#### Checking Datatypes"
   ]
  },
  {
   "cell_type": "code",
   "execution_count": 9,
   "id": "852a6a1e",
   "metadata": {},
   "outputs": [
    {
     "data": {
      "text/plain": [
       "Date                               object\n",
       "State Name                         object\n",
       "New Covid Cases                   float64\n",
       "Population Staying at Home        float64\n",
       "Population Not Staying at Home    float64\n",
       "Number of Trips                   float64\n",
       "pm10_mean                         float64\n",
       "pm25_mean                         float64\n",
       "co_mean                           float64\n",
       "no2_mean                          float64\n",
       "o3_mean                           float64\n",
       "so2_mean                          float64\n",
       "press_mean                        float64\n",
       "rh_mean                           float64\n",
       "temp_mean                         float64\n",
       "wind_mean                         float64\n",
       "AQI                               float64\n",
       "Category                           object\n",
       "dtype: object"
      ]
     },
     "execution_count": 9,
     "metadata": {},
     "output_type": "execute_result"
    }
   ],
   "source": [
    "poll_df.dtypes"
   ]
  },
  {
   "cell_type": "code",
   "execution_count": 10,
   "id": "0bf0f184",
   "metadata": {},
   "outputs": [],
   "source": [
    "# converting Datatypes to its appropriate types attribute from object to Date datatype\n",
    "poll_df[\"Date\"] =  pd.to_datetime(poll_df[\"Date\"], format=\"%Y/%m/%d\")\n",
    "columns = ['New Covid Cases', 'Population Staying at Home',\n",
    "       'Population Not Staying at Home', 'Number of Trips', 'pm10_mean',\n",
    "       'pm25_mean', 'co_mean', 'no2_mean', 'o3_mean', 'so2_mean', 'press_mean',\n",
    "       'rh_mean', 'temp_mean', 'wind_mean', 'AQI']\n",
    "for col_name in columns:\n",
    "    poll_df[col_name] = poll_df[col_name].astype(float)"
   ]
  },
  {
   "cell_type": "code",
   "execution_count": 11,
   "id": "6da2991a",
   "metadata": {
    "scrolled": true
   },
   "outputs": [
    {
     "data": {
      "text/plain": [
       "Date                              datetime64[ns]\n",
       "State Name                                object\n",
       "New Covid Cases                          float64\n",
       "Population Staying at Home               float64\n",
       "Population Not Staying at Home           float64\n",
       "Number of Trips                          float64\n",
       "pm10_mean                                float64\n",
       "pm25_mean                                float64\n",
       "co_mean                                  float64\n",
       "no2_mean                                 float64\n",
       "o3_mean                                  float64\n",
       "so2_mean                                 float64\n",
       "press_mean                               float64\n",
       "rh_mean                                  float64\n",
       "temp_mean                                float64\n",
       "wind_mean                                float64\n",
       "AQI                                      float64\n",
       "Category                                  object\n",
       "dtype: object"
      ]
     },
     "execution_count": 11,
     "metadata": {},
     "output_type": "execute_result"
    }
   ],
   "source": [
    "poll_df.dtypes"
   ]
  },
  {
   "cell_type": "markdown",
   "id": "bc677e6c",
   "metadata": {},
   "source": [
    "All values of columns are in the right datatype"
   ]
  },
  {
   "cell_type": "markdown",
   "id": "1672f51c",
   "metadata": {},
   "source": [
    "#### Fix structural errors"
   ]
  },
  {
   "cell_type": "code",
   "execution_count": 12,
   "id": "8fe7bbd8",
   "metadata": {},
   "outputs": [
    {
     "data": {
      "text/plain": [
       "array(['Alabama', 'California', 'Colorado', 'Connecticut', 'Florida',\n",
       "       'Georgia', 'Idaho', 'Illinois', 'Indiana', 'Iowa', 'Kentucky',\n",
       "       'Louisiana', 'Maine', 'Maryland', 'Massachusetts', 'Michigan',\n",
       "       'Missouri', 'Nevada', 'New Hampshire', 'New Mexico',\n",
       "       'North Carolina', 'North Dakota', 'Ohio', 'Oregon', 'Pennsylvania',\n",
       "       'Rhode Island', 'Tennessee', 'Utah', 'Vermont', 'Virginia',\n",
       "       'Washington', 'Wisconsin', 'Wyoming', 'New York', 'Texas',\n",
       "       'Arizona', 'New Jersey', 'Minnesota'], dtype=object)"
      ]
     },
     "execution_count": 12,
     "metadata": {},
     "output_type": "execute_result"
    }
   ],
   "source": [
    "poll_df['State Name'].unique()"
   ]
  },
  {
   "cell_type": "code",
   "execution_count": 13,
   "id": "021bf35b",
   "metadata": {},
   "outputs": [
    {
     "data": {
      "text/plain": [
       "array(['Good', 'Moderate'], dtype=object)"
      ]
     },
     "execution_count": 13,
     "metadata": {},
     "output_type": "execute_result"
    }
   ],
   "source": [
    "poll_df['Category'].unique()"
   ]
  },
  {
   "cell_type": "code",
   "execution_count": 14,
   "id": "af041d85",
   "metadata": {},
   "outputs": [
    {
     "data": {
      "text/plain": [
       "Good        20555\n",
       "Moderate     2607\n",
       "Name: Category, dtype: int64"
      ]
     },
     "execution_count": 14,
     "metadata": {},
     "output_type": "execute_result"
    }
   ],
   "source": [
    "poll_df['Category'].value_counts()"
   ]
  },
  {
   "cell_type": "markdown",
   "id": "ada4b279",
   "metadata": {},
   "source": [
    "We have seen for the categorical variables that there are no misspellings, incongruent naming conventions, improper capitalization, incorrect word use, etc."
   ]
  },
  {
   "cell_type": "code",
   "execution_count": 15,
   "id": "c0f86ba2",
   "metadata": {},
   "outputs": [],
   "source": [
    "try:\n",
    "    pd.to_datetime(poll_df['Date'], format=\"%Y/%m/%d\", errors='raise')\n",
    "    pass\n",
    "except ValueError:\n",
    "    print('ValueError')"
   ]
  },
  {
   "cell_type": "markdown",
   "id": "d471c6df",
   "metadata": {},
   "source": [
    "Since we don't have valueError, the Date columns values are also in the right format"
   ]
  },
  {
   "cell_type": "markdown",
   "id": "a744b0c1",
   "metadata": {},
   "source": [
    "#### Check for Data Outliers\n",
    "\n",
    "Below are some of the techniques of detecting outliers\n",
    "\n",
    "1. Boxplots\n",
    "2. Z-score\n",
    "3. Inter Quantile Range(IQR)\n",
    "\n",
    "Using pandas describe() to find outliers"
   ]
  },
  {
   "cell_type": "code",
   "execution_count": 67,
   "id": "794529b5",
   "metadata": {},
   "outputs": [
    {
     "data": {
      "text/html": [
       "<div>\n",
       "<style scoped>\n",
       "    .dataframe tbody tr th:only-of-type {\n",
       "        vertical-align: middle;\n",
       "    }\n",
       "\n",
       "    .dataframe tbody tr th {\n",
       "        vertical-align: top;\n",
       "    }\n",
       "\n",
       "    .dataframe thead th {\n",
       "        text-align: right;\n",
       "    }\n",
       "</style>\n",
       "<table border=\"1\" class=\"dataframe\">\n",
       "  <thead>\n",
       "    <tr style=\"text-align: right;\">\n",
       "      <th></th>\n",
       "      <th>New Covid Cases</th>\n",
       "      <th>Population Staying at Home</th>\n",
       "      <th>Population Not Staying at Home</th>\n",
       "      <th>Number of Trips</th>\n",
       "      <th>pm10_mean</th>\n",
       "      <th>pm25_mean</th>\n",
       "      <th>co_mean</th>\n",
       "      <th>no2_mean</th>\n",
       "      <th>o3_mean</th>\n",
       "      <th>so2_mean</th>\n",
       "      <th>press_mean</th>\n",
       "      <th>rh_mean</th>\n",
       "      <th>temp_mean</th>\n",
       "      <th>wind_mean</th>\n",
       "      <th>AQI</th>\n",
       "    </tr>\n",
       "  </thead>\n",
       "  <tbody>\n",
       "    <tr>\n",
       "      <th>count</th>\n",
       "      <td>23162.000000</td>\n",
       "      <td>2.316200e+04</td>\n",
       "      <td>2.316200e+04</td>\n",
       "      <td>2.316200e+04</td>\n",
       "      <td>23162.000000</td>\n",
       "      <td>23162.000000</td>\n",
       "      <td>23162.000000</td>\n",
       "      <td>23162.000000</td>\n",
       "      <td>23162.000000</td>\n",
       "      <td>23162.000000</td>\n",
       "      <td>23162.000000</td>\n",
       "      <td>23162.000000</td>\n",
       "      <td>23162.000000</td>\n",
       "      <td>23162.000000</td>\n",
       "      <td>23162.000000</td>\n",
       "    </tr>\n",
       "    <tr>\n",
       "      <th>mean</th>\n",
       "      <td>1260.956826</td>\n",
       "      <td>7.171461e+05</td>\n",
       "      <td>2.855854e+06</td>\n",
       "      <td>1.273283e+07</td>\n",
       "      <td>18.712872</td>\n",
       "      <td>7.582933</td>\n",
       "      <td>0.252216</td>\n",
       "      <td>7.960636</td>\n",
       "      <td>0.030712</td>\n",
       "      <td>0.546447</td>\n",
       "      <td>960.969699</td>\n",
       "      <td>63.484517</td>\n",
       "      <td>55.093322</td>\n",
       "      <td>98.423126</td>\n",
       "      <td>37.666734</td>\n",
       "    </tr>\n",
       "    <tr>\n",
       "      <th>std</th>\n",
       "      <td>1366.193127</td>\n",
       "      <td>4.404834e+05</td>\n",
       "      <td>1.811446e+06</td>\n",
       "      <td>8.078836e+06</td>\n",
       "      <td>10.036519</td>\n",
       "      <td>3.513880</td>\n",
       "      <td>0.109369</td>\n",
       "      <td>4.550092</td>\n",
       "      <td>0.008788</td>\n",
       "      <td>0.348988</td>\n",
       "      <td>55.458517</td>\n",
       "      <td>18.247240</td>\n",
       "      <td>18.077966</td>\n",
       "      <td>25.966636</td>\n",
       "      <td>10.668120</td>\n",
       "    </tr>\n",
       "    <tr>\n",
       "      <th>min</th>\n",
       "      <td>0.000000</td>\n",
       "      <td>8.136500e+04</td>\n",
       "      <td>3.293510e+05</td>\n",
       "      <td>9.222940e+05</td>\n",
       "      <td>0.500000</td>\n",
       "      <td>-0.162500</td>\n",
       "      <td>-0.046791</td>\n",
       "      <td>-0.578261</td>\n",
       "      <td>0.002236</td>\n",
       "      <td>-0.508303</td>\n",
       "      <td>703.649999</td>\n",
       "      <td>6.983333</td>\n",
       "      <td>1.062500</td>\n",
       "      <td>10.725000</td>\n",
       "      <td>7.750000</td>\n",
       "    </tr>\n",
       "    <tr>\n",
       "      <th>25%</th>\n",
       "      <td>97.000000</td>\n",
       "      <td>3.007390e+05</td>\n",
       "      <td>1.113335e+06</td>\n",
       "      <td>4.912191e+06</td>\n",
       "      <td>11.428571</td>\n",
       "      <td>5.031811</td>\n",
       "      <td>0.180214</td>\n",
       "      <td>4.485172</td>\n",
       "      <td>0.024397</td>\n",
       "      <td>0.269936</td>\n",
       "      <td>941.376339</td>\n",
       "      <td>51.541667</td>\n",
       "      <td>40.980208</td>\n",
       "      <td>83.729461</td>\n",
       "      <td>30.236842</td>\n",
       "    </tr>\n",
       "    <tr>\n",
       "      <th>50%</th>\n",
       "      <td>667.000000</td>\n",
       "      <td>6.655610e+05</td>\n",
       "      <td>2.862146e+06</td>\n",
       "      <td>1.203795e+07</td>\n",
       "      <td>16.400000</td>\n",
       "      <td>6.980619</td>\n",
       "      <td>0.233352</td>\n",
       "      <td>7.070964</td>\n",
       "      <td>0.030369</td>\n",
       "      <td>0.517069</td>\n",
       "      <td>983.514583</td>\n",
       "      <td>65.750000</td>\n",
       "      <td>56.061236</td>\n",
       "      <td>99.420982</td>\n",
       "      <td>36.807540</td>\n",
       "    </tr>\n",
       "    <tr>\n",
       "      <th>75%</th>\n",
       "      <td>2179.000000</td>\n",
       "      <td>1.080642e+06</td>\n",
       "      <td>4.142804e+06</td>\n",
       "      <td>1.965616e+07</td>\n",
       "      <td>23.991767</td>\n",
       "      <td>9.580076</td>\n",
       "      <td>0.309196</td>\n",
       "      <td>10.650378</td>\n",
       "      <td>0.036747</td>\n",
       "      <td>0.783753</td>\n",
       "      <td>998.843229</td>\n",
       "      <td>77.166667</td>\n",
       "      <td>70.539081</td>\n",
       "      <td>114.966146</td>\n",
       "      <td>43.836712</td>\n",
       "    </tr>\n",
       "    <tr>\n",
       "      <th>max</th>\n",
       "      <td>3749.000000</td>\n",
       "      <td>2.517364e+06</td>\n",
       "      <td>8.876193e+06</td>\n",
       "      <td>4.546693e+07</td>\n",
       "      <td>52.500000</td>\n",
       "      <td>18.000000</td>\n",
       "      <td>0.651145</td>\n",
       "      <td>22.745653</td>\n",
       "      <td>0.060434</td>\n",
       "      <td>2.139130</td>\n",
       "      <td>1048.744445</td>\n",
       "      <td>100.000000</td>\n",
       "      <td>99.263889</td>\n",
       "      <td>185.888889</td>\n",
       "      <td>73.000000</td>\n",
       "    </tr>\n",
       "  </tbody>\n",
       "</table>\n",
       "</div>"
      ],
      "text/plain": [
       "       New Covid Cases  Population Staying at Home  \\\n",
       "count     23162.000000                2.316200e+04   \n",
       "mean       1260.956826                7.171461e+05   \n",
       "std        1366.193127                4.404834e+05   \n",
       "min           0.000000                8.136500e+04   \n",
       "25%          97.000000                3.007390e+05   \n",
       "50%         667.000000                6.655610e+05   \n",
       "75%        2179.000000                1.080642e+06   \n",
       "max        3749.000000                2.517364e+06   \n",
       "\n",
       "       Population Not Staying at Home  Number of Trips     pm10_mean  \\\n",
       "count                    2.316200e+04     2.316200e+04  23162.000000   \n",
       "mean                     2.855854e+06     1.273283e+07     18.712872   \n",
       "std                      1.811446e+06     8.078836e+06     10.036519   \n",
       "min                      3.293510e+05     9.222940e+05      0.500000   \n",
       "25%                      1.113335e+06     4.912191e+06     11.428571   \n",
       "50%                      2.862146e+06     1.203795e+07     16.400000   \n",
       "75%                      4.142804e+06     1.965616e+07     23.991767   \n",
       "max                      8.876193e+06     4.546693e+07     52.500000   \n",
       "\n",
       "          pm25_mean       co_mean      no2_mean       o3_mean      so2_mean  \\\n",
       "count  23162.000000  23162.000000  23162.000000  23162.000000  23162.000000   \n",
       "mean       7.582933      0.252216      7.960636      0.030712      0.546447   \n",
       "std        3.513880      0.109369      4.550092      0.008788      0.348988   \n",
       "min       -0.162500     -0.046791     -0.578261      0.002236     -0.508303   \n",
       "25%        5.031811      0.180214      4.485172      0.024397      0.269936   \n",
       "50%        6.980619      0.233352      7.070964      0.030369      0.517069   \n",
       "75%        9.580076      0.309196     10.650378      0.036747      0.783753   \n",
       "max       18.000000      0.651145     22.745653      0.060434      2.139130   \n",
       "\n",
       "         press_mean       rh_mean     temp_mean     wind_mean           AQI  \n",
       "count  23162.000000  23162.000000  23162.000000  23162.000000  23162.000000  \n",
       "mean     960.969699     63.484517     55.093322     98.423126     37.666734  \n",
       "std       55.458517     18.247240     18.077966     25.966636     10.668120  \n",
       "min      703.649999      6.983333      1.062500     10.725000      7.750000  \n",
       "25%      941.376339     51.541667     40.980208     83.729461     30.236842  \n",
       "50%      983.514583     65.750000     56.061236     99.420982     36.807540  \n",
       "75%      998.843229     77.166667     70.539081    114.966146     43.836712  \n",
       "max     1048.744445    100.000000     99.263889    185.888889     73.000000  "
      ]
     },
     "execution_count": 67,
     "metadata": {},
     "output_type": "execute_result"
    }
   ],
   "source": [
    "poll_df.describe()"
   ]
  },
  {
   "cell_type": "code",
   "execution_count": 16,
   "id": "f69a15d5",
   "metadata": {},
   "outputs": [
    {
     "data": {
      "text/plain": [
       "Index(['Date', 'State Name', 'New Covid Cases', 'Population Staying at Home',\n",
       "       'Population Not Staying at Home', 'Number of Trips', 'pm10_mean',\n",
       "       'pm25_mean', 'co_mean', 'no2_mean', 'o3_mean', 'so2_mean', 'press_mean',\n",
       "       'rh_mean', 'temp_mean', 'wind_mean', 'AQI', 'Category'],\n",
       "      dtype='object')"
      ]
     },
     "execution_count": 16,
     "metadata": {},
     "output_type": "execute_result"
    }
   ],
   "source": [
    "poll_df.columns"
   ]
  },
  {
   "cell_type": "markdown",
   "id": "3b36ad1d",
   "metadata": {},
   "source": [
    "#### Detecting outliers using Boxplot:"
   ]
  },
  {
   "cell_type": "code",
   "execution_count": 69,
   "id": "96279a52",
   "metadata": {},
   "outputs": [
    {
     "data": {
      "image/png": "[encoded data removed]",
      "text/plain": [
       "<Figure size 1500x3000 with 15 Axes>"
      ]
     },
     "metadata": {},
     "output_type": "display_data"
    }
   ],
   "source": [
    "import seaborn as sns\n",
    "import matplotlib.pyplot as plt\n",
    "\n",
    "fig = plt.figure(figsize = (15, 30))\n",
    "\n",
    "plt.subplot(8,2, 1)\n",
    "plt.boxplot(poll_df['New Covid Cases'], vert=False)\n",
    "plt.title(\"Detecting outliers for Covid Cases using Boxplot\")\n",
    "plt.xlabel('Sample')\n",
    "\n",
    "\n",
    "plt.subplot(8,2,2)\n",
    "plt.boxplot(poll_df['Population Staying at Home'], vert=False)\n",
    "plt.title(\"Detecting outliers for 'Population Staying at Home' using Boxplot\")\n",
    "plt.xlabel('Sample')\n",
    "\n",
    "\n",
    "\n",
    "plt.subplot(8,2,3)\n",
    "plt.boxplot(poll_df['Population Not Staying at Home'], vert=False)\n",
    "plt.title(\"Detecting outliers for 'Population Not Staying at Home' using Boxplot\")\n",
    "plt.xlabel('Sample')\n",
    "\n",
    "\n",
    "plt.subplot(8,2,4)\n",
    "plt.boxplot(poll_df['Number of Trips'], vert=False)\n",
    "plt.title(\"Detecting outliers for 'Number of Trips' using Boxplot\")\n",
    "plt.xlabel('Sample')\n",
    "\n",
    "\n",
    "plt.subplot(8,2, 5)\n",
    "plt.boxplot(poll_df['pm10_mean'], vert=False)\n",
    "plt.title(\"Detecting outliers for pm10 using Boxplot\")\n",
    "plt.xlabel('Sample')\n",
    "\n",
    "\n",
    "plt.subplot(8,2,6)\n",
    "plt.boxplot(poll_df['pm25_mean'], vert=False)\n",
    "plt.title(\"Detecting outliers for pm2.5 using Boxplot\")\n",
    "plt.xlabel('Sample')\n",
    "\n",
    "\n",
    "\n",
    "plt.subplot(8,2,7)\n",
    "plt.boxplot(poll_df['co_mean'], vert=False)\n",
    "plt.title(\"Detecting outliers for co using Boxplot\")\n",
    "plt.xlabel('Sample')\n",
    "\n",
    "\n",
    "plt.subplot(8,2,8)\n",
    "plt.boxplot(poll_df['no2_mean'], vert=False)\n",
    "plt.title(\"Detecting outliers for no2 using Boxplot\")\n",
    "plt.xlabel('Sample')\n",
    "\n",
    "\n",
    "plt.subplot(8,2,9)\n",
    "plt.boxplot(poll_df['o3_mean'], vert=False)\n",
    "plt.title(\"Detecting outliers for o3 using Boxplot\")\n",
    "plt.xlabel('Sample')\n",
    "\n",
    "\n",
    "plt.subplot(8,2,10)\n",
    "plt.boxplot(poll_df['so2_mean'], vert=False)\n",
    "plt.title(\"Detecting outliers for so2 using Boxplot\")\n",
    "plt.xlabel('Sample')\n",
    "\n",
    "plt.subplot(8,2,11)\n",
    "plt.boxplot(poll_df['press_mean'], vert=False)\n",
    "plt.title(\"Detecting outliers for pressure using Boxplot\")\n",
    "plt.xlabel('Sample')\n",
    "\n",
    "plt.subplot(8,2,12)\n",
    "plt.boxplot(poll_df['rh_mean'], vert=False)\n",
    "plt.title(\"Detecting outliers for humidity using Boxplot\")\n",
    "plt.xlabel('Sample')\n",
    "\n",
    "plt.subplot(8,2,13)\n",
    "plt.boxplot(poll_df['temp_mean'], vert=False)\n",
    "plt.title(\"Detecting outliers for temperature using Boxplot\")\n",
    "plt.xlabel('Sample')\n",
    "\n",
    "plt.subplot(8,2,14)\n",
    "plt.boxplot(poll_df['wind_mean'], vert=False)\n",
    "plt.title(\"Detecting outliers for wind using Boxplot\")\n",
    "plt.xlabel('Sample')\n",
    "\n",
    "plt.subplot(8,2,15)\n",
    "plt.boxplot(poll_df['AQI'], vert=False)\n",
    "plt.title(\"Detecting outliers for AQI using Boxplot\")\n",
    "plt.xlabel('Sample')\n",
    "\n",
    "plt.show()\n"
   ]
  },
  {
   "cell_type": "markdown",
   "id": "024b20ed",
   "metadata": {},
   "source": [
    "#### Detecting outliers using IQR\n",
    "\n",
    "Criteria: Any data point whose Z-score falls out of 3rd standard deviation is an outlier."
   ]
  },
  {
   "cell_type": "code",
   "execution_count": 70,
   "id": "6b41191f",
   "metadata": {},
   "outputs": [],
   "source": [
    "import numpy as np\n",
    "\n",
    "def detect_outliers_iqr(data):\n",
    "    outliers =[]\n",
    "    data = sorted(data)\n",
    "    q1 = np.percentile(data, 25)\n",
    "    q3 = np.percentile(data, 75)\n",
    "    # print(q1, q3)\n",
    "    IQR = q3-q1\n",
    "    lwr_bound = q1-(1.5*IQR)\n",
    "    upr_bound = q3+(1.5*IQR)\n",
    "    # print(lwr_bound, upr_bound)\n",
    "    for i in data: \n",
    "        if (i<lwr_bound or i>upr_bound):\n",
    "            outliers.append(i)\n",
    "    return outliers\n"
   ]
  },
  {
   "cell_type": "code",
   "execution_count": 71,
   "id": "24ab2533",
   "metadata": {},
   "outputs": [
    {
     "name": "stdout",
     "output_type": "stream",
     "text": [
      "The number of outliers in the New Covid Cases column in percentage:    0.0\n",
      "The number of outliers in the Population Staying at Home column in percentage:    0.06476124686987307\n",
      "The number of outliers in the Population Not Staying at Home column in percentage:    0.12520507728175462\n",
      "The number of outliers in the Number of Trips column in percentage:    0.03885674812192384\n",
      "The number of outliers in the pm10_mean column in percentage:    3.082635351005958\n",
      "The number of outliers in the pm25_mean column in percentage:    2.383213884811329\n",
      "The number of outliers in the co_mean column in percentage:    3.1042224332959156\n",
      "The number of outliers in the no2_mean column in percentage:    1.5456350919609705\n",
      "The number of outliers in the o3_mean column in percentage:    0.4317416457991538\n",
      "The number of outliers in the so2_mean column in percentage:    0.29790173560141614\n",
      "The number of outliers in the press_mean column in percentage:    11.419566531387618\n",
      "The number of outliers in the rh_mean column in percentage:    0.2590449874794923\n",
      "The number of outliers in the temp_mean column in percentage:    0.0\n",
      "The number of outliers in the wind_mean column in percentage:    1.7701407477765305\n",
      "The number of outliers in the AQI column in percentage:    1.765823331318539\n"
     ]
    }
   ],
   "source": [
    "column_list = ['New Covid Cases', 'Population Staying at Home',\n",
    "               'Population Not Staying at Home', 'Number of Trips', 'pm10_mean',\n",
    "       'pm25_mean', 'co_mean', 'no2_mean', 'o3_mean', 'so2_mean', 'press_mean',\n",
    "       'rh_mean', 'temp_mean', 'wind_mean','AQI']\n",
    "\n",
    "for column in column_list:\n",
    "    print(f'The number of outliers in the {column} column in percentage:   ',(len(detect_outliers_iqr(poll_df[column]))/poll_df.shape[0])*100)"
   ]
  },
  {
   "cell_type": "code",
   "execution_count": 72,
   "id": "319441f2",
   "metadata": {},
   "outputs": [
    {
     "data": {
      "text/plain": [
       "Date                              0\n",
       "State Name                        0\n",
       "New Covid Cases                   0\n",
       "Population Staying at Home        0\n",
       "Population Not Staying at Home    0\n",
       "Number of Trips                   0\n",
       "pm10_mean                         0\n",
       "pm25_mean                         0\n",
       "co_mean                           0\n",
       "no2_mean                          0\n",
       "o3_mean                           0\n",
       "so2_mean                          0\n",
       "press_mean                        0\n",
       "rh_mean                           0\n",
       "temp_mean                         0\n",
       "wind_mean                         0\n",
       "AQI                               0\n",
       "Category                          0\n",
       "dtype: int64"
      ]
     },
     "execution_count": 72,
     "metadata": {},
     "output_type": "execute_result"
    }
   ],
   "source": [
    "poll_df.isna().sum()"
   ]
  },
  {
   "cell_type": "code",
   "execution_count": 73,
   "id": "d9ee5d07",
   "metadata": {},
   "outputs": [],
   "source": [
    "poll_df.reset_index(inplace=True)"
   ]
  },
  {
   "cell_type": "markdown",
   "id": "4ad347f2",
   "metadata": {},
   "source": [
    "#### Handling Outliers using flooring and capping method"
   ]
  },
  {
   "cell_type": "code",
   "execution_count": 74,
   "id": "42bc98ac",
   "metadata": {},
   "outputs": [],
   "source": [
    "def flooring_capping(series):\n",
    "    original_data = series\n",
    "    sorted_data = sorted(series)\n",
    "    q1 = np.percentile(sorted_data, 25)\n",
    "    q3 = np.percentile(sorted_data, 75)\n",
    "    # print(q1, q3)\n",
    "    IQR = q3-q1\n",
    "    lwr_bound = q1-(1.5*IQR)\n",
    "    upr_bound = q3+(1.5*IQR)\n",
    "    corrected_list = []\n",
    "    for i in original_data: \n",
    "        if i<lwr_bound:\n",
    "            corrected_list.append(lwr_bound)\n",
    "        elif i>upr_bound:\n",
    "            corrected_list.append(upr_bound)\n",
    "        else:\n",
    "            corrected_list.append(i)\n",
    "    return pd.Series(corrected_list)"
   ]
  },
  {
   "cell_type": "code",
   "execution_count": 75,
   "id": "00ac6d21",
   "metadata": {},
   "outputs": [],
   "source": [
    "for column in column_list:\n",
    "    poll_df[column] = flooring_capping(poll_df[column])"
   ]
  },
  {
   "cell_type": "markdown",
   "id": "e5e5fea2",
   "metadata": {},
   "source": [
    "#### Checking for outliers after handling it"
   ]
  },
  {
   "cell_type": "code",
   "execution_count": 76,
   "id": "2b35cc60",
   "metadata": {},
   "outputs": [
    {
     "name": "stdout",
     "output_type": "stream",
     "text": [
      "The number of outliers in the New Covid Cases column in percentage:    0.0\n",
      "The number of outliers in the Population Staying at Home column in percentage:    0.0\n",
      "The number of outliers in the Population Not Staying at Home column in percentage:    0.0\n",
      "The number of outliers in the Number of Trips column in percentage:    0.0\n",
      "The number of outliers in the pm10_mean column in percentage:    0.0\n",
      "The number of outliers in the pm25_mean column in percentage:    0.0\n",
      "The number of outliers in the co_mean column in percentage:    0.0\n",
      "The number of outliers in the no2_mean column in percentage:    0.0\n",
      "The number of outliers in the o3_mean column in percentage:    0.0\n",
      "The number of outliers in the so2_mean column in percentage:    0.0\n",
      "The number of outliers in the press_mean column in percentage:    0.0\n",
      "The number of outliers in the rh_mean column in percentage:    0.0\n",
      "The number of outliers in the temp_mean column in percentage:    0.0\n",
      "The number of outliers in the wind_mean column in percentage:    0.0\n",
      "The number of outliers in the AQI column in percentage:    0.0\n"
     ]
    }
   ],
   "source": [
    "for column in column_list:\n",
    "    print(f'The number of outliers in the {column} column in percentage:   ',(len(detect_outliers_iqr(poll_df[column]))/poll_df.shape[0])*100)"
   ]
  },
  {
   "cell_type": "code",
   "execution_count": 77,
   "id": "ee2a851f",
   "metadata": {},
   "outputs": [
    {
     "data": {
      "text/plain": [
       "index                             0\n",
       "Date                              0\n",
       "State Name                        0\n",
       "New Covid Cases                   0\n",
       "Population Staying at Home        0\n",
       "Population Not Staying at Home    0\n",
       "Number of Trips                   0\n",
       "pm10_mean                         0\n",
       "pm25_mean                         0\n",
       "co_mean                           0\n",
       "no2_mean                          0\n",
       "o3_mean                           0\n",
       "so2_mean                          0\n",
       "press_mean                        0\n",
       "rh_mean                           0\n",
       "temp_mean                         0\n",
       "wind_mean                         0\n",
       "AQI                               0\n",
       "Category                          0\n",
       "dtype: int64"
      ]
     },
     "execution_count": 77,
     "metadata": {},
     "output_type": "execute_result"
    }
   ],
   "source": [
    "poll_df.isna().sum()"
   ]
  },
  {
   "cell_type": "code",
   "execution_count": 80,
   "id": "d5dac2b7",
   "metadata": {},
   "outputs": [],
   "source": [
    "poll_df.drop(columns = ['index'],inplace = True)"
   ]
  },
  {
   "cell_type": "code",
   "execution_count": null,
   "id": "bc6b4a94",
   "metadata": {},
   "outputs": [],
   "source": []
  }
 ],
 "metadata": {
  "kernelspec": {
   "display_name": "Python 3 (ipykernel)",
   "language": "python",
   "name": "python3"
  },
  "language_info": {
   "codemirror_mode": {
    "name": "ipython",
    "version": 3
   },
   "file_extension": ".py",
   "mimetype": "text/x-python",
   "name": "python",
   "nbconvert_exporter": "python",
   "pygments_lexer": "ipython3",
   "version": "3.10.6"
  }
 },
 "nbformat": 4,
 "nbformat_minor": 5
}
